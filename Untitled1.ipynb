{
 "cells": [
  {
   "cell_type": "code",
   "execution_count": 1,
   "metadata": {
    "collapsed": false
   },
   "outputs": [
    {
     "name": "stderr",
     "output_type": "stream",
     "text": [
      "Using TensorFlow backend.\n"
     ]
    }
   ],
   "source": [
    "import numpy as np\n",
    "import pandas as pd\n",
    "import os\n",
    "import utils\n",
    "import pickle\n",
    "from gensim.models import word2vec\n",
    "from sklearn.preprocessing import MultiLabelBinarizer\n",
    "from scipy import sparse\n",
    "import tensorflow as tf"
   ]
  },
  {
   "cell_type": "code",
   "execution_count": 2,
   "metadata": {
    "collapsed": true
   },
   "outputs": [],
   "source": [
    "np.random.seed(7)"
   ]
  },
  {
   "cell_type": "code",
   "execution_count": 3,
   "metadata": {
    "collapsed": false
   },
   "outputs": [
    {
     "name": "stdout",
     "output_type": "stream",
     "text": [
      "On AWS instance\n",
      "/home/ec2-user/data\n"
     ]
    }
   ],
   "source": [
    "utils.data_directory()"
   ]
  },
  {
   "cell_type": "code",
   "execution_count": 4,
   "metadata": {
    "collapsed": true
   },
   "outputs": [],
   "source": [
    "def average_pooling(sentence, model):\n",
    "    matrix_pooling = list(map(lambda x: model[x], filter(lambda x: x in model.wv.vocab.keys(),sentence)))\n",
    "    return np.mean(matrix_pooling, axis=0)\n",
    "\n",
    "def max_pooling(sentence, model):\n",
    "    matrix_pooling = list(map(lambda x: model[x], filter(lambda x: x in model.wv.vocab.keys(),sentence)))\n",
    "    return np.max(matrix_pooling, axis=0)\n",
    "\n",
    "def items_to_latent(sentences, model, pooling_function=average_pooling):\n",
    "    latent_list = list(map(lambda x : pooling_function(x, model) ,sentences))\n",
    "    return np.array(latent_list)"
   ]
  },
  {
   "cell_type": "code",
   "execution_count": 5,
   "metadata": {
    "collapsed": true
   },
   "outputs": [],
   "source": [
    "# load corpus\n",
    "with open('w2v_corpus_order','rb') as f:\n",
    "    sentences = pickle.load(f)"
   ]
  },
  {
   "cell_type": "code",
   "execution_count": 6,
   "metadata": {
    "collapsed": true
   },
   "outputs": [],
   "source": [
    "model = word2vec.Word2Vec.load(\"test1.model\")"
   ]
  },
  {
   "cell_type": "markdown",
   "metadata": {},
   "source": [
    "## Process Data"
   ]
  },
  {
   "cell_type": "code",
   "execution_count": 7,
   "metadata": {
    "collapsed": true
   },
   "outputs": [],
   "source": [
    "order_products__prior = pd.read_csv(\"order_products__prior.csv\")\n",
    "order_products__train = pd.read_csv(\"order_products__train.csv\")\n",
    "order = pd.read_csv(\"orders.csv\")"
   ]
  },
  {
   "cell_type": "code",
   "execution_count": 8,
   "metadata": {
    "collapsed": true
   },
   "outputs": [],
   "source": [
    "order_products__prior = pd.merge(order_products__prior[[\"order_id\", \"product_id\", \"reordered\"]], \n",
    "                               order[[\"order_id\", \"user_id\",\"order_number\"]], on=\"order_id\")\n",
    "order_products__prior[\"product_id\"] = order_products__prior[\"product_id\"].astype(\"unicode\")\n",
    "\n",
    "order_products__train = pd.merge(order_products__train, order[[\"order_id\", \"user_id\",\"order_number\"]],\n",
    "                                 how=\"left\", on=\"order_id\")\n",
    "order_products__train[\"product_id\"] = order_products__train[\"product_id\"].astype(\"unicode\")"
   ]
  },
  {
   "cell_type": "code",
   "execution_count": 9,
   "metadata": {
    "collapsed": true
   },
   "outputs": [],
   "source": [
    "liste_user = order.ix[order[\"eval_set\"]==\"train\", \"user_id\"].unique()\n",
    "order_products__prior = order_products__prior[order_products__prior[\"user_id\"].isin(liste_user)]\n",
    "order_products__train = order_products__train[order_products__train[\"user_id\"].isin(liste_user)]"
   ]
  },
  {
   "cell_type": "code",
   "execution_count": 10,
   "metadata": {
    "collapsed": false
   },
   "outputs": [
    {
     "name": "stdout",
     "output_type": "stream",
     "text": [
      "131209\n",
      "131209\n"
     ]
    }
   ],
   "source": [
    "print(len(order_products__prior[\"user_id\"].unique()))\n",
    "print(len(order_products__train[\"user_id\"].unique()))"
   ]
  },
  {
   "cell_type": "code",
   "execution_count": 11,
   "metadata": {
    "collapsed": false
   },
   "outputs": [
    {
     "data": {
      "text/html": [
       "<div>\n",
       "<table border=\"1\" class=\"dataframe\">\n",
       "  <thead>\n",
       "    <tr style=\"text-align: right;\">\n",
       "      <th></th>\n",
       "      <th>order_id</th>\n",
       "      <th>product_id</th>\n",
       "      <th>reordered</th>\n",
       "      <th>user_id</th>\n",
       "      <th>order_number</th>\n",
       "    </tr>\n",
       "  </thead>\n",
       "  <tbody>\n",
       "    <tr>\n",
       "      <th>0</th>\n",
       "      <td>2</td>\n",
       "      <td>33120</td>\n",
       "      <td>1</td>\n",
       "      <td>202279</td>\n",
       "      <td>3</td>\n",
       "    </tr>\n",
       "    <tr>\n",
       "      <th>1</th>\n",
       "      <td>2</td>\n",
       "      <td>28985</td>\n",
       "      <td>1</td>\n",
       "      <td>202279</td>\n",
       "      <td>3</td>\n",
       "    </tr>\n",
       "    <tr>\n",
       "      <th>2</th>\n",
       "      <td>2</td>\n",
       "      <td>9327</td>\n",
       "      <td>0</td>\n",
       "      <td>202279</td>\n",
       "      <td>3</td>\n",
       "    </tr>\n",
       "    <tr>\n",
       "      <th>3</th>\n",
       "      <td>2</td>\n",
       "      <td>45918</td>\n",
       "      <td>1</td>\n",
       "      <td>202279</td>\n",
       "      <td>3</td>\n",
       "    </tr>\n",
       "    <tr>\n",
       "      <th>4</th>\n",
       "      <td>2</td>\n",
       "      <td>30035</td>\n",
       "      <td>0</td>\n",
       "      <td>202279</td>\n",
       "      <td>3</td>\n",
       "    </tr>\n",
       "  </tbody>\n",
       "</table>\n",
       "</div>"
      ],
      "text/plain": [
       "   order_id product_id  reordered  user_id  order_number\n",
       "0         2      33120          1   202279             3\n",
       "1         2      28985          1   202279             3\n",
       "2         2       9327          0   202279             3\n",
       "3         2      45918          1   202279             3\n",
       "4         2      30035          0   202279             3"
      ]
     },
     "execution_count": 11,
     "metadata": {},
     "output_type": "execute_result"
    }
   ],
   "source": [
    "order_products__prior.head()"
   ]
  },
  {
   "cell_type": "code",
   "execution_count": 12,
   "metadata": {
    "collapsed": false
   },
   "outputs": [
    {
     "data": {
      "text/html": [
       "<div>\n",
       "<table border=\"1\" class=\"dataframe\">\n",
       "  <thead>\n",
       "    <tr style=\"text-align: right;\">\n",
       "      <th></th>\n",
       "      <th>order_id</th>\n",
       "      <th>product_id</th>\n",
       "      <th>add_to_cart_order</th>\n",
       "      <th>reordered</th>\n",
       "      <th>user_id</th>\n",
       "      <th>order_number</th>\n",
       "    </tr>\n",
       "  </thead>\n",
       "  <tbody>\n",
       "    <tr>\n",
       "      <th>0</th>\n",
       "      <td>1</td>\n",
       "      <td>49302</td>\n",
       "      <td>1</td>\n",
       "      <td>1</td>\n",
       "      <td>112108</td>\n",
       "      <td>4</td>\n",
       "    </tr>\n",
       "    <tr>\n",
       "      <th>1</th>\n",
       "      <td>1</td>\n",
       "      <td>11109</td>\n",
       "      <td>2</td>\n",
       "      <td>1</td>\n",
       "      <td>112108</td>\n",
       "      <td>4</td>\n",
       "    </tr>\n",
       "    <tr>\n",
       "      <th>2</th>\n",
       "      <td>1</td>\n",
       "      <td>10246</td>\n",
       "      <td>3</td>\n",
       "      <td>0</td>\n",
       "      <td>112108</td>\n",
       "      <td>4</td>\n",
       "    </tr>\n",
       "    <tr>\n",
       "      <th>3</th>\n",
       "      <td>1</td>\n",
       "      <td>49683</td>\n",
       "      <td>4</td>\n",
       "      <td>0</td>\n",
       "      <td>112108</td>\n",
       "      <td>4</td>\n",
       "    </tr>\n",
       "    <tr>\n",
       "      <th>4</th>\n",
       "      <td>1</td>\n",
       "      <td>43633</td>\n",
       "      <td>5</td>\n",
       "      <td>1</td>\n",
       "      <td>112108</td>\n",
       "      <td>4</td>\n",
       "    </tr>\n",
       "  </tbody>\n",
       "</table>\n",
       "</div>"
      ],
      "text/plain": [
       "   order_id product_id  add_to_cart_order  reordered  user_id  order_number\n",
       "0         1      49302                  1          1   112108             4\n",
       "1         1      11109                  2          1   112108             4\n",
       "2         1      10246                  3          0   112108             4\n",
       "3         1      49683                  4          0   112108             4\n",
       "4         1      43633                  5          1   112108             4"
      ]
     },
     "execution_count": 12,
     "metadata": {},
     "output_type": "execute_result"
    }
   ],
   "source": [
    "order_products__train.head()"
   ]
  },
  {
   "cell_type": "code",
   "execution_count": 13,
   "metadata": {
    "collapsed": false
   },
   "outputs": [
    {
     "data": {
      "text/html": [
       "<div>\n",
       "<table border=\"1\" class=\"dataframe\">\n",
       "  <thead>\n",
       "    <tr style=\"text-align: right;\">\n",
       "      <th></th>\n",
       "      <th>user_id</th>\n",
       "      <th>order_number</th>\n",
       "      <th>product_id</th>\n",
       "      <th>reordered</th>\n",
       "    </tr>\n",
       "  </thead>\n",
       "  <tbody>\n",
       "    <tr>\n",
       "      <th>24076664</th>\n",
       "      <td>1</td>\n",
       "      <td>1</td>\n",
       "      <td>196</td>\n",
       "      <td>0</td>\n",
       "    </tr>\n",
       "    <tr>\n",
       "      <th>24076665</th>\n",
       "      <td>1</td>\n",
       "      <td>1</td>\n",
       "      <td>14084</td>\n",
       "      <td>0</td>\n",
       "    </tr>\n",
       "    <tr>\n",
       "      <th>24076666</th>\n",
       "      <td>1</td>\n",
       "      <td>1</td>\n",
       "      <td>12427</td>\n",
       "      <td>0</td>\n",
       "    </tr>\n",
       "    <tr>\n",
       "      <th>24076667</th>\n",
       "      <td>1</td>\n",
       "      <td>1</td>\n",
       "      <td>26088</td>\n",
       "      <td>0</td>\n",
       "    </tr>\n",
       "    <tr>\n",
       "      <th>24076668</th>\n",
       "      <td>1</td>\n",
       "      <td>1</td>\n",
       "      <td>26405</td>\n",
       "      <td>0</td>\n",
       "    </tr>\n",
       "  </tbody>\n",
       "</table>\n",
       "</div>"
      ],
      "text/plain": [
       "          user_id  order_number product_id  reordered\n",
       "24076664        1             1        196          0\n",
       "24076665        1             1      14084          0\n",
       "24076666        1             1      12427          0\n",
       "24076667        1             1      26088          0\n",
       "24076668        1             1      26405          0"
      ]
     },
     "execution_count": 13,
     "metadata": {},
     "output_type": "execute_result"
    }
   ],
   "source": [
    "order_products__prior = order_products__prior[[\"user_id\", \"order_number\",\"product_id\",\"reordered\"]]\n",
    "order_products__train = order_products__train[[\"user_id\", \"order_number\",\"product_id\",\"reordered\"]]\n",
    "df = pd.concat([order_products__prior, order_products__train])\n",
    "df = df.sort_values([\"user_id\",\"order_number\"])\n",
    "df.head()"
   ]
  },
  {
   "cell_type": "code",
   "execution_count": 14,
   "metadata": {
    "collapsed": false
   },
   "outputs": [
    {
     "name": "stdout",
     "output_type": "stream",
     "text": [
      "131209\n"
     ]
    }
   ],
   "source": [
    "del order_products__prior\n",
    "del order_products__train\n",
    "print(len(df[\"user_id\"].unique()))"
   ]
  },
  {
   "cell_type": "code",
   "execution_count": 15,
   "metadata": {
    "collapsed": false
   },
   "outputs": [
    {
     "data": {
      "text/html": [
       "<div>\n",
       "<table border=\"1\" class=\"dataframe\">\n",
       "  <thead>\n",
       "    <tr style=\"text-align: right;\">\n",
       "      <th></th>\n",
       "      <th>user_id</th>\n",
       "      <th>order_number</th>\n",
       "      <th>train</th>\n",
       "    </tr>\n",
       "  </thead>\n",
       "  <tbody>\n",
       "    <tr>\n",
       "      <th>0</th>\n",
       "      <td>1</td>\n",
       "      <td>1</td>\n",
       "      <td>[1.63034, -1.6842, 0.362723, -2.25177, -2.9475...</td>\n",
       "    </tr>\n",
       "    <tr>\n",
       "      <th>1</th>\n",
       "      <td>1</td>\n",
       "      <td>2</td>\n",
       "      <td>[3.24611, -1.18167, -0.153879, -2.62414, -3.15...</td>\n",
       "    </tr>\n",
       "    <tr>\n",
       "      <th>2</th>\n",
       "      <td>1</td>\n",
       "      <td>3</td>\n",
       "      <td>[2.82928, -1.96417, -0.976352, -2.04495, -1.63...</td>\n",
       "    </tr>\n",
       "    <tr>\n",
       "      <th>3</th>\n",
       "      <td>1</td>\n",
       "      <td>4</td>\n",
       "      <td>[3.77367, -2.18435, -0.602984, -2.14054, -2.85...</td>\n",
       "    </tr>\n",
       "    <tr>\n",
       "      <th>4</th>\n",
       "      <td>1</td>\n",
       "      <td>5</td>\n",
       "      <td>[2.6546, -1.4735, -0.565062, -1.81519, -2.0413...</td>\n",
       "    </tr>\n",
       "  </tbody>\n",
       "</table>\n",
       "</div>"
      ],
      "text/plain": [
       "   user_id  order_number                                              train\n",
       "0        1             1  [1.63034, -1.6842, 0.362723, -2.25177, -2.9475...\n",
       "1        1             2  [3.24611, -1.18167, -0.153879, -2.62414, -3.15...\n",
       "2        1             3  [2.82928, -1.96417, -0.976352, -2.04495, -1.63...\n",
       "3        1             4  [3.77367, -2.18435, -0.602984, -2.14054, -2.85...\n",
       "4        1             5  [2.6546, -1.4735, -0.565062, -1.81519, -2.0413..."
      ]
     },
     "execution_count": 15,
     "metadata": {},
     "output_type": "execute_result"
    }
   ],
   "source": [
    "df_x = df[df[\"user_id\"]==1].groupby([\"user_id\",\"order_number\"])[\"product_id\"].apply(\n",
    "    lambda order : average_pooling(order.tolist(), model))\n",
    "df_x = df_x.rename(\"train\")\n",
    "df_x = df_x.reset_index()\n",
    "df_x.head()"
   ]
  },
  {
   "cell_type": "code",
   "execution_count": 16,
   "metadata": {
    "collapsed": false
   },
   "outputs": [
    {
     "data": {
      "text/html": [
       "<div>\n",
       "<table border=\"1\" class=\"dataframe\">\n",
       "  <thead>\n",
       "    <tr style=\"text-align: right;\">\n",
       "      <th></th>\n",
       "      <th>user_id</th>\n",
       "      <th>order_number</th>\n",
       "      <th>label</th>\n",
       "    </tr>\n",
       "  </thead>\n",
       "  <tbody>\n",
       "    <tr>\n",
       "      <th>0</th>\n",
       "      <td>1</td>\n",
       "      <td>1</td>\n",
       "      <td>[196, 12427, 26088]</td>\n",
       "    </tr>\n",
       "    <tr>\n",
       "      <th>1</th>\n",
       "      <td>1</td>\n",
       "      <td>2</td>\n",
       "      <td>[196, 12427, 10258]</td>\n",
       "    </tr>\n",
       "    <tr>\n",
       "      <th>2</th>\n",
       "      <td>1</td>\n",
       "      <td>3</td>\n",
       "      <td>[196, 12427, 10258, 25133, 26405]</td>\n",
       "    </tr>\n",
       "    <tr>\n",
       "      <th>3</th>\n",
       "      <td>1</td>\n",
       "      <td>4</td>\n",
       "      <td>[196, 12427, 10258, 25133, 13176]</td>\n",
       "    </tr>\n",
       "    <tr>\n",
       "      <th>4</th>\n",
       "      <td>1</td>\n",
       "      <td>5</td>\n",
       "      <td>[196, 12427, 10258, 25133]</td>\n",
       "    </tr>\n",
       "  </tbody>\n",
       "</table>\n",
       "</div>"
      ],
      "text/plain": [
       "   user_id  order_number                              label\n",
       "0        1             1                [196, 12427, 26088]\n",
       "1        1             2                [196, 12427, 10258]\n",
       "2        1             3  [196, 12427, 10258, 25133, 26405]\n",
       "3        1             4  [196, 12427, 10258, 25133, 13176]\n",
       "4        1             5         [196, 12427, 10258, 25133]"
      ]
     },
     "execution_count": 16,
     "metadata": {},
     "output_type": "execute_result"
    }
   ],
   "source": [
    "df_y = df[(df[\"user_id\"]==1)&(df[\"reordered\"]==1)].groupby([\"user_id\",\"order_number\"])[\"product_id\"].apply(list)\n",
    "df_y = df_y.rename(\"label\")\n",
    "df_y = df_y.reset_index()\n",
    "df_y[\"order_number\"] = df_y[\"order_number\"]-1\n",
    "df_y.head()"
   ]
  },
  {
   "cell_type": "code",
   "execution_count": 17,
   "metadata": {
    "collapsed": true
   },
   "outputs": [],
   "source": [
    "df_one_user = pd.merge(df_x, df_y,  on=[\"user_id\", \"order_number\"])"
   ]
  },
  {
   "cell_type": "code",
   "execution_count": 18,
   "metadata": {
    "collapsed": false
   },
   "outputs": [
    {
     "data": {
      "text/html": [
       "<div>\n",
       "<table border=\"1\" class=\"dataframe\">\n",
       "  <thead>\n",
       "    <tr style=\"text-align: right;\">\n",
       "      <th></th>\n",
       "      <th>user_id</th>\n",
       "      <th>order_number</th>\n",
       "      <th>train</th>\n",
       "      <th>label</th>\n",
       "    </tr>\n",
       "  </thead>\n",
       "  <tbody>\n",
       "    <tr>\n",
       "      <th>0</th>\n",
       "      <td>1</td>\n",
       "      <td>1</td>\n",
       "      <td>[1.63034, -1.6842, 0.362723, -2.25177, -2.9475...</td>\n",
       "      <td>[196, 12427, 26088]</td>\n",
       "    </tr>\n",
       "    <tr>\n",
       "      <th>1</th>\n",
       "      <td>1</td>\n",
       "      <td>2</td>\n",
       "      <td>[3.24611, -1.18167, -0.153879, -2.62414, -3.15...</td>\n",
       "      <td>[196, 12427, 10258]</td>\n",
       "    </tr>\n",
       "    <tr>\n",
       "      <th>2</th>\n",
       "      <td>1</td>\n",
       "      <td>3</td>\n",
       "      <td>[2.82928, -1.96417, -0.976352, -2.04495, -1.63...</td>\n",
       "      <td>[196, 12427, 10258, 25133, 26405]</td>\n",
       "    </tr>\n",
       "    <tr>\n",
       "      <th>3</th>\n",
       "      <td>1</td>\n",
       "      <td>4</td>\n",
       "      <td>[3.77367, -2.18435, -0.602984, -2.14054, -2.85...</td>\n",
       "      <td>[196, 12427, 10258, 25133, 13176]</td>\n",
       "    </tr>\n",
       "    <tr>\n",
       "      <th>4</th>\n",
       "      <td>1</td>\n",
       "      <td>5</td>\n",
       "      <td>[2.6546, -1.4735, -0.565062, -1.81519, -2.0413...</td>\n",
       "      <td>[196, 12427, 10258, 25133]</td>\n",
       "    </tr>\n",
       "    <tr>\n",
       "      <th>5</th>\n",
       "      <td>1</td>\n",
       "      <td>6</td>\n",
       "      <td>[4.37876, -1.828, -0.917015, -2.35073, -2.1946...</td>\n",
       "      <td>[196, 10258, 12427, 25133, 13032]</td>\n",
       "    </tr>\n",
       "    <tr>\n",
       "      <th>6</th>\n",
       "      <td>1</td>\n",
       "      <td>7</td>\n",
       "      <td>[4.68682, -1.58539, -1.1854, -2.09141, -2.5066...</td>\n",
       "      <td>[12427, 196, 10258, 25133]</td>\n",
       "    </tr>\n",
       "    <tr>\n",
       "      <th>7</th>\n",
       "      <td>1</td>\n",
       "      <td>8</td>\n",
       "      <td>[4.16767, -2.07204, -1.09154, -2.25562, -3.201...</td>\n",
       "      <td>[49235, 46149, 25133, 196, 10258, 12427]</td>\n",
       "    </tr>\n",
       "    <tr>\n",
       "      <th>8</th>\n",
       "      <td>1</td>\n",
       "      <td>9</td>\n",
       "      <td>[4.16767, -2.07204, -1.09154, -2.25562, -3.201...</td>\n",
       "      <td>[196, 46149, 25133, 10258, 13032, 12427]</td>\n",
       "    </tr>\n",
       "    <tr>\n",
       "      <th>9</th>\n",
       "      <td>1</td>\n",
       "      <td>10</td>\n",
       "      <td>[3.84236, -2.05088, -1.02184, -2.50447, -3.328...</td>\n",
       "      <td>[196, 25133, 38928, 26405, 39657, 10258, 13032...</td>\n",
       "    </tr>\n",
       "  </tbody>\n",
       "</table>\n",
       "</div>"
      ],
      "text/plain": [
       "   user_id  order_number                                              train  \\\n",
       "0        1             1  [1.63034, -1.6842, 0.362723, -2.25177, -2.9475...   \n",
       "1        1             2  [3.24611, -1.18167, -0.153879, -2.62414, -3.15...   \n",
       "2        1             3  [2.82928, -1.96417, -0.976352, -2.04495, -1.63...   \n",
       "3        1             4  [3.77367, -2.18435, -0.602984, -2.14054, -2.85...   \n",
       "4        1             5  [2.6546, -1.4735, -0.565062, -1.81519, -2.0413...   \n",
       "5        1             6  [4.37876, -1.828, -0.917015, -2.35073, -2.1946...   \n",
       "6        1             7  [4.68682, -1.58539, -1.1854, -2.09141, -2.5066...   \n",
       "7        1             8  [4.16767, -2.07204, -1.09154, -2.25562, -3.201...   \n",
       "8        1             9  [4.16767, -2.07204, -1.09154, -2.25562, -3.201...   \n",
       "9        1            10  [3.84236, -2.05088, -1.02184, -2.50447, -3.328...   \n",
       "\n",
       "                                               label  \n",
       "0                                [196, 12427, 26088]  \n",
       "1                                [196, 12427, 10258]  \n",
       "2                  [196, 12427, 10258, 25133, 26405]  \n",
       "3                  [196, 12427, 10258, 25133, 13176]  \n",
       "4                         [196, 12427, 10258, 25133]  \n",
       "5                  [196, 10258, 12427, 25133, 13032]  \n",
       "6                         [12427, 196, 10258, 25133]  \n",
       "7           [49235, 46149, 25133, 196, 10258, 12427]  \n",
       "8           [196, 46149, 25133, 10258, 13032, 12427]  \n",
       "9  [196, 25133, 38928, 26405, 39657, 10258, 13032...  "
      ]
     },
     "execution_count": 18,
     "metadata": {},
     "output_type": "execute_result"
    }
   ],
   "source": [
    "df_one_user"
   ]
  },
  {
   "cell_type": "code",
   "execution_count": 19,
   "metadata": {
    "collapsed": false
   },
   "outputs": [
    {
     "name": "stdout",
     "output_type": "stream",
     "text": [
      "12\n"
     ]
    }
   ],
   "source": [
    "mlb =  MultiLabelBinarizer()\n",
    "mlb.fit(df_one_user[\"label\"])\n",
    "nb_classes = len(mlb.classes_)\n",
    "print(nb_classes)"
   ]
  },
  {
   "cell_type": "code",
   "execution_count": 20,
   "metadata": {
    "collapsed": false
   },
   "outputs": [],
   "source": [
    "y = mlb.transform(df_one_user[\"label\"])"
   ]
  },
  {
   "cell_type": "code",
   "execution_count": 21,
   "metadata": {
    "collapsed": false
   },
   "outputs": [
    {
     "name": "stdout",
     "output_type": "stream",
     "text": [
      "(10, 20)\n"
     ]
    }
   ],
   "source": [
    "X = np.zeros((df_one_user.shape[0],20))\n",
    "for i in range(df_one_user.shape[0]):\n",
    "    X[i] = df_one_user.ix[i, \"train\"]\n",
    "print(X.shape)"
   ]
  },
  {
   "cell_type": "code",
   "execution_count": 22,
   "metadata": {
    "collapsed": false
   },
   "outputs": [
    {
     "data": {
      "text/plain": [
       "(200,)"
      ]
     },
     "execution_count": 22,
     "metadata": {},
     "output_type": "execute_result"
    }
   ],
   "source": [
    "X.ravel().shape"
   ]
  },
  {
   "cell_type": "code",
   "execution_count": 23,
   "metadata": {
    "collapsed": false
   },
   "outputs": [
    {
     "data": {
      "text/plain": [
       "(120,)"
      ]
     },
     "execution_count": 23,
     "metadata": {},
     "output_type": "execute_result"
    }
   ],
   "source": [
    "y.ravel().shape"
   ]
  },
  {
   "cell_type": "code",
   "execution_count": 24,
   "metadata": {
    "collapsed": false
   },
   "outputs": [
    {
     "data": {
      "text/plain": [
       "array([[0, 1, 0, 0, 1, 0, 1, 0, 0, 0, 0, 0],\n",
       "       [1, 1, 0, 0, 1, 0, 0, 0, 0, 0, 0, 0],\n",
       "       [1, 1, 0, 0, 1, 1, 0, 1, 0, 0, 0, 0],\n",
       "       [1, 1, 0, 1, 1, 1, 0, 0, 0, 0, 0, 0],\n",
       "       [1, 1, 0, 0, 1, 1, 0, 0, 0, 0, 0, 0],\n",
       "       [1, 1, 1, 0, 1, 1, 0, 0, 0, 0, 0, 0],\n",
       "       [1, 1, 0, 0, 1, 1, 0, 0, 0, 0, 0, 0],\n",
       "       [1, 1, 0, 0, 1, 1, 0, 0, 0, 0, 1, 1],\n",
       "       [1, 1, 1, 0, 1, 1, 0, 0, 0, 0, 1, 0],\n",
       "       [1, 0, 1, 0, 1, 1, 1, 1, 1, 1, 1, 1]])"
      ]
     },
     "execution_count": 24,
     "metadata": {},
     "output_type": "execute_result"
    }
   ],
   "source": [
    "y"
   ]
  },
  {
   "cell_type": "markdown",
   "metadata": {},
   "source": [
    "## One user"
   ]
  },
  {
   "cell_type": "code",
   "execution_count": 48,
   "metadata": {
    "collapsed": true
   },
   "outputs": [],
   "source": [
    "num_epochs = 50\n",
    "total_series_length = 200\n",
    "truncated_backprop_length = 20\n",
    "state_size = 4\n",
    "num_classes = nb_classes\n",
    "batch_size = 1\n",
    "num_batches = total_series_length//batch_size//truncated_backprop_length"
   ]
  },
  {
   "cell_type": "code",
   "execution_count": 26,
   "metadata": {
    "collapsed": true
   },
   "outputs": [],
   "source": [
    "batchX_placeholder = tf.placeholder(tf.float32, [batch_size, truncated_backprop_length])\n",
    "batchY_placeholder = tf.placeholder(tf.int32, [batch_size, num_classes])\n",
    "\n",
    "init_state = tf.placeholder(tf.float32, [batch_size, state_size])"
   ]
  },
  {
   "cell_type": "code",
   "execution_count": 27,
   "metadata": {
    "collapsed": true
   },
   "outputs": [],
   "source": [
    "W2 = tf.Variable(np.random.rand(state_size, num_classes),dtype=tf.float32)\n",
    "b2 = tf.Variable(np.zeros((1,num_classes)), dtype=tf.float32)"
   ]
  },
  {
   "cell_type": "code",
   "execution_count": 28,
   "metadata": {
    "collapsed": false
   },
   "outputs": [],
   "source": [
    "inputs_series = tf.split( batchX_placeholder, truncated_backprop_length, 1)\n",
    "labels_series = tf.unstack(batchY_placeholder, axis=1)"
   ]
  },
  {
   "cell_type": "code",
   "execution_count": 29,
   "metadata": {
    "collapsed": false
   },
   "outputs": [],
   "source": [
    "cell = tf.contrib.rnn.BasicRNNCell(state_size)\n",
    "states_series, current_state = tf.contrib.rnn.static_rnn(cell, inputs_series, init_state)"
   ]
  },
  {
   "cell_type": "code",
   "execution_count": 30,
   "metadata": {
    "collapsed": false
   },
   "outputs": [],
   "source": [
    "logits_series = [tf.matmul(state, W2) + b2 for state in states_series] #Broadcasted addition\n",
    "predictions_series = [tf.nn.softmax(logits) for logits in logits_series]\n",
    "\n",
    "losses = [tf.nn.sparse_softmax_cross_entropy_with_logits(labels=labels, logits=logits)  for logits, labels in zip(logits_series,labels_series)]\n",
    "total_loss = tf.reduce_mean(losses)\n",
    "\n",
    "train_step = tf.train.AdagradOptimizer(0.3).minimize(total_loss)"
   ]
  },
  {
   "cell_type": "code",
   "execution_count": 31,
   "metadata": {
    "collapsed": true
   },
   "outputs": [],
   "source": [
    "x = X.ravel()\n",
    "y = y.ravel()"
   ]
  },
  {
   "cell_type": "code",
   "execution_count": 54,
   "metadata": {
    "collapsed": false,
    "scrolled": true
   },
   "outputs": [
    {
     "name": "stdout",
     "output_type": "stream",
     "text": [
      "New data, epoch 0\n",
      "0 20\n",
      "20 40\n",
      "40 60\n",
      "60 80\n",
      "80 100\n",
      "100 120\n",
      "120 140\n",
      "140 160\n",
      "160 180\n",
      "180 200\n",
      "New data, epoch 1\n",
      "0 20\n",
      "20 40\n",
      "40 60\n",
      "60 80\n",
      "80 100\n",
      "100 120\n",
      "120 140\n",
      "140 160\n",
      "160 180\n",
      "180 200\n",
      "New data, epoch 2\n",
      "0 20\n",
      "20 40\n",
      "40 60\n",
      "60 80\n",
      "80 100\n",
      "100 120\n",
      "120 140\n",
      "140 160\n",
      "160 180\n",
      "180 200\n",
      "New data, epoch 3\n",
      "0 20\n",
      "20 40\n",
      "40 60\n",
      "60 80\n",
      "80 100\n",
      "100 120\n",
      "120 140\n",
      "140 160\n",
      "160 180\n",
      "180 200\n",
      "New data, epoch 4\n",
      "0 20\n",
      "20 40\n",
      "40 60\n",
      "60 80\n",
      "80 100\n",
      "100 120\n",
      "120 140\n",
      "140 160\n",
      "160 180\n",
      "180 200\n",
      "New data, epoch 5\n",
      "0 20\n",
      "20 40\n",
      "40 60\n",
      "60 80\n",
      "80 100\n",
      "100 120\n",
      "120 140\n",
      "140 160\n",
      "160 180\n",
      "180 200\n",
      "New data, epoch 6\n",
      "0 20\n",
      "20 40\n",
      "40 60\n",
      "60 80\n",
      "80 100\n",
      "100 120\n",
      "120 140\n",
      "140 160\n",
      "160 180\n",
      "180 200\n",
      "New data, epoch 7\n",
      "0 20\n",
      "20 40\n",
      "40 60\n",
      "60 80\n",
      "80 100\n",
      "100 120\n",
      "120 140\n",
      "140 160\n",
      "160 180\n",
      "180 200\n",
      "New data, epoch 8\n",
      "0 20\n",
      "20 40\n",
      "40 60\n",
      "60 80\n",
      "80 100\n",
      "100 120\n",
      "120 140\n",
      "140 160\n",
      "160 180\n",
      "180 200\n",
      "New data, epoch 9\n",
      "0 20\n",
      "20 40\n",
      "40 60\n",
      "60 80\n",
      "80 100\n",
      "100 120\n",
      "120 140\n",
      "140 160\n",
      "160 180\n",
      "180 200\n",
      "New data, epoch 10\n",
      "0 20\n",
      "20 40\n",
      "40 60\n",
      "60 80\n",
      "80 100\n",
      "100 120\n",
      "120 140\n",
      "140 160\n",
      "160 180\n",
      "180 200\n",
      "New data, epoch 11\n",
      "0 20\n",
      "20 40\n",
      "40 60\n",
      "60 80\n",
      "80 100\n",
      "100 120\n",
      "120 140\n",
      "140 160\n",
      "160 180\n",
      "180 200\n",
      "New data, epoch 12\n",
      "0 20\n",
      "20 40\n",
      "40 60\n",
      "60 80\n",
      "80 100\n",
      "100 120\n",
      "120 140\n",
      "140 160\n",
      "160 180\n",
      "180 200\n",
      "New data, epoch 13\n",
      "0 20\n",
      "20 40\n",
      "40 60\n",
      "60 80\n",
      "80 100\n",
      "100 120\n",
      "120 140\n",
      "140 160\n",
      "160 180\n",
      "180 200\n",
      "New data, epoch 14\n",
      "0 20\n",
      "20 40\n",
      "40 60\n",
      "60 80\n",
      "80 100\n",
      "100 120\n",
      "120 140\n",
      "140 160\n",
      "160 180\n",
      "180 200\n",
      "New data, epoch 15\n",
      "0 20\n",
      "20 40\n",
      "40 60\n",
      "60 80\n",
      "80 100\n",
      "100 120\n",
      "120 140\n",
      "140 160\n",
      "160 180\n",
      "180 200\n",
      "New data, epoch 16\n",
      "0 20\n",
      "20 40\n",
      "40 60\n",
      "60 80\n",
      "80 100\n",
      "100 120\n",
      "120 140\n",
      "140 160\n",
      "160 180\n",
      "180 200\n",
      "New data, epoch 17\n",
      "0 20\n",
      "20 40\n",
      "40 60\n",
      "60 80\n",
      "80 100\n",
      "100 120\n",
      "120 140\n",
      "140 160\n",
      "160 180\n",
      "180 200\n",
      "New data, epoch 18\n",
      "0 20\n",
      "20 40\n",
      "40 60\n",
      "60 80\n",
      "80 100\n",
      "100 120\n",
      "120 140\n",
      "140 160\n",
      "160 180\n",
      "180 200\n",
      "New data, epoch 19\n",
      "0 20\n",
      "20 40\n",
      "40 60\n",
      "60 80\n",
      "80 100\n",
      "100 120\n",
      "120 140\n",
      "140 160\n",
      "160 180\n",
      "180 200\n",
      "New data, epoch 20\n",
      "0 20\n",
      "20 40\n",
      "40 60\n",
      "60 80\n",
      "80 100\n",
      "100 120\n",
      "120 140\n",
      "140 160\n",
      "160 180\n",
      "180 200\n",
      "New data, epoch 21\n",
      "0 20\n",
      "20 40\n",
      "40 60\n",
      "60 80\n",
      "80 100\n",
      "100 120\n",
      "120 140\n",
      "140 160\n",
      "160 180\n",
      "180 200\n",
      "New data, epoch 22\n",
      "0 20\n",
      "20 40\n",
      "40 60\n",
      "60 80\n",
      "80 100\n",
      "100 120\n",
      "120 140\n",
      "140 160\n",
      "160 180\n",
      "180 200\n",
      "New data, epoch 23\n",
      "0 20\n",
      "20 40\n",
      "40 60\n",
      "60 80\n",
      "80 100\n",
      "100 120\n",
      "120 140\n",
      "140 160\n",
      "160 180\n",
      "180 200\n",
      "New data, epoch 24\n",
      "0 20\n",
      "20 40\n",
      "40 60\n",
      "60 80\n",
      "80 100\n",
      "100 120\n",
      "120 140\n",
      "140 160\n",
      "160 180\n",
      "180 200\n",
      "New data, epoch 25\n",
      "0 20\n",
      "20 40\n",
      "40 60\n",
      "60 80\n",
      "80 100\n",
      "100 120\n",
      "120 140\n",
      "140 160\n",
      "160 180\n",
      "180 200\n",
      "New data, epoch 26\n",
      "0 20\n",
      "20 40\n",
      "40 60\n",
      "60 80\n",
      "80 100\n",
      "100 120\n",
      "120 140\n",
      "140 160\n",
      "160 180\n",
      "180 200\n",
      "New data, epoch 27\n",
      "0 20\n",
      "20 40\n",
      "40 60\n",
      "60 80\n",
      "80 100\n",
      "100 120\n",
      "120 140\n",
      "140 160\n",
      "160 180\n",
      "180 200\n",
      "New data, epoch 28\n",
      "0 20\n",
      "20 40\n",
      "40 60\n",
      "60 80\n",
      "80 100\n",
      "100 120\n",
      "120 140\n",
      "140 160\n",
      "160 180\n",
      "180 200\n",
      "New data, epoch 29\n",
      "0 20\n",
      "20 40\n",
      "40 60\n",
      "60 80\n",
      "80 100\n",
      "100 120\n",
      "120 140\n",
      "140 160\n",
      "160 180\n",
      "180 200\n",
      "New data, epoch 30\n",
      "0 20\n",
      "20 40\n",
      "40 60\n",
      "60 80\n",
      "80 100\n",
      "100 120\n",
      "120 140\n",
      "140 160\n",
      "160 180\n",
      "180 200\n",
      "New data, epoch 31\n",
      "0 20\n",
      "20 40\n",
      "40 60\n",
      "60 80\n",
      "80 100\n",
      "100 120\n",
      "120 140\n",
      "140 160\n",
      "160 180\n",
      "180 200\n",
      "New data, epoch 32\n",
      "0 20\n",
      "20 40\n",
      "40 60\n",
      "60 80\n",
      "80 100\n",
      "100 120\n",
      "120 140\n",
      "140 160\n",
      "160 180\n",
      "180 200\n",
      "New data, epoch 33\n",
      "0 20\n",
      "20 40\n",
      "40 60\n",
      "60 80\n",
      "80 100\n",
      "100 120\n",
      "120 140\n",
      "140 160\n",
      "160 180\n",
      "180 200\n",
      "New data, epoch 34\n",
      "0 20\n",
      "20 40\n",
      "40 60\n",
      "60 80\n",
      "80 100\n",
      "100 120\n",
      "120 140\n",
      "140 160\n",
      "160 180\n",
      "180 200\n",
      "New data, epoch 35\n",
      "0 20\n",
      "20 40\n",
      "40 60\n",
      "60 80\n",
      "80 100\n",
      "100 120\n",
      "120 140\n",
      "140 160\n",
      "160 180\n",
      "180 200\n",
      "New data, epoch 36\n",
      "0 20\n",
      "20 40\n",
      "40 60\n",
      "60 80\n",
      "80 100\n",
      "100 120\n",
      "120 140\n",
      "140 160\n",
      "160 180\n",
      "180 200\n",
      "New data, epoch 37\n",
      "0 20\n",
      "20 40\n",
      "40 60\n",
      "60 80\n",
      "80 100\n",
      "100 120\n",
      "120 140\n",
      "140 160\n",
      "160 180\n",
      "180 200\n",
      "New data, epoch 38\n",
      "0 20\n",
      "20 40\n",
      "40 60\n",
      "60 80\n",
      "80 100\n",
      "100 120\n",
      "120 140\n",
      "140 160\n",
      "160 180\n",
      "180 200\n",
      "New data, epoch 39\n",
      "0 20\n",
      "20 40\n",
      "40 60\n",
      "60 80\n",
      "80 100\n",
      "100 120\n",
      "120 140\n",
      "140 160\n",
      "160 180\n",
      "180 200\n",
      "New data, epoch 40\n",
      "0 20\n",
      "20 40\n",
      "40 60\n",
      "60 80\n",
      "80 100\n",
      "100 120\n",
      "120 140\n",
      "140 160\n",
      "160 180\n",
      "180 200\n",
      "New data, epoch 41\n",
      "0 20\n",
      "20 40\n",
      "40 60\n",
      "60 80\n",
      "80 100\n",
      "100 120\n",
      "120 140\n",
      "140 160\n",
      "160 180\n",
      "180 200\n",
      "New data, epoch 42\n",
      "0 20\n",
      "20 40\n",
      "40 60\n",
      "60 80\n",
      "80 100\n",
      "100 120\n",
      "120 140\n",
      "140 160\n",
      "160 180\n",
      "180 200\n",
      "New data, epoch 43\n",
      "0 20\n",
      "20 40\n",
      "40 60\n",
      "60 80\n",
      "80 100\n",
      "100 120\n",
      "120 140\n",
      "140 160\n",
      "160 180\n",
      "180 200\n",
      "New data, epoch 44\n",
      "0 20\n",
      "20 40\n",
      "40 60\n",
      "60 80\n",
      "80 100\n",
      "100 120\n",
      "120 140\n",
      "140 160\n",
      "160 180\n",
      "180 200\n",
      "New data, epoch 45\n",
      "0 20\n",
      "20 40\n",
      "40 60\n",
      "60 80\n",
      "80 100\n",
      "100 120\n",
      "120 140\n",
      "140 160\n",
      "160 180\n",
      "180 200\n",
      "New data, epoch 46\n",
      "0 20\n",
      "20 40\n",
      "40 60\n",
      "60 80\n",
      "80 100\n",
      "100 120\n",
      "120 140\n",
      "140 160\n",
      "160 180\n",
      "180 200\n",
      "New data, epoch 47\n",
      "0 20\n",
      "20 40\n",
      "40 60\n",
      "60 80\n",
      "80 100\n",
      "100 120\n",
      "120 140\n",
      "140 160\n",
      "160 180\n",
      "180 200\n",
      "New data, epoch 48\n",
      "0 20\n",
      "20 40\n",
      "40 60\n",
      "60 80\n",
      "80 100\n",
      "100 120\n",
      "120 140\n",
      "140 160\n",
      "160 180\n",
      "180 200\n",
      "New data, epoch 49\n",
      "0 20\n",
      "20 40\n",
      "40 60\n",
      "60 80\n",
      "80 100\n",
      "100 120\n",
      "120 140\n",
      "140 160\n",
      "160 180\n",
      "180 200\n"
     ]
    }
   ],
   "source": [
    "with tf.Session() as sess:\n",
    "    sess.run(tf.global_variables_initializer())\n",
    "    loss_list = []\n",
    "\n",
    "    for epoch_idx in range(num_epochs):\n",
    "        _current_state = np.zeros((batch_size, state_size))\n",
    "\n",
    "        print(\"New data, epoch\", epoch_idx)\n",
    "\n",
    "        for batch_idx in range(num_batches):\n",
    "            start_idx = batch_idx * truncated_backprop_length\n",
    "            end_idx = start_idx + truncated_backprop_length\n",
    "            start_idxx = batch_idx * num_classes\n",
    "            end_idxx = start_idxx + num_classes\n",
    "            print(start_idx, end_idx)\n",
    "            batchX = x[start_idx:end_idx].reshape(batch_size , truncated_backprop_length)\n",
    "            batchY = y[start_idxx:end_idxx].reshape(batch_size , num_classes )\n",
    "\n",
    "            _total_loss, _train_step, _current_state,_states_series, _predictions_series = sess.run(\n",
    "                [total_loss, train_step, current_state, states_series,predictions_series],\n",
    "                feed_dict={\n",
    "                    batchX_placeholder:batchX,\n",
    "                    batchY_placeholder:batchY,\n",
    "                    init_state:_current_state\n",
    "                })\n",
    "\n",
    "loss_list.append(_total_loss)"
   ]
  },
  {
   "cell_type": "code",
   "execution_count": 55,
   "metadata": {
    "collapsed": false
   },
   "outputs": [
    {
     "data": {
      "text/plain": [
       "[array([[-0.99939173, -0.89158797,  0.99954498, -0.81886262]], dtype=float32),\n",
       " array([[-0.09210306, -0.99773389,  0.01820691,  0.99999511]], dtype=float32),\n",
       " array([[-0.94816178, -0.89913541,  0.42694882,  0.99932736]], dtype=float32),\n",
       " array([[-0.8922053 , -0.99681824,  0.16975932,  0.9999994 ]], dtype=float32),\n",
       " array([[-0.78617752, -0.99579448, -0.48377296,  0.99999976]], dtype=float32),\n",
       " array([[-0.97294313, -0.88793933,  0.85003573,  0.99876207]], dtype=float32),\n",
       " array([[-0.96542019, -0.99832428,  0.81005549,  0.99999464]], dtype=float32),\n",
       " array([[-0.99741608, -0.99388397,  0.99645793,  0.99042022]], dtype=float32),\n",
       " array([[-0.99320966, -0.99799865,  0.98323792,  0.99972987]], dtype=float32),\n",
       " array([[-0.99769628, -0.99633044,  0.99705815,  0.99317819]], dtype=float32),\n",
       " array([[-0.83232194, -0.99966186, -0.30682284,  1.        ]], dtype=float32),\n",
       " array([[-0.98833346, -0.90586579,  0.96054006,  0.99290395]], dtype=float32),\n",
       " array([[-0.99477941, -0.99684733,  0.99061185,  0.99898529]], dtype=float32),\n",
       " array([[-0.99957258, -0.99114704,  0.99981505,  0.30964223]], dtype=float32),\n",
       " array([[-0.97753137, -0.99694455,  0.97437346,  0.9993313 ]], dtype=float32),\n",
       " array([[-0.94661063, -0.99928284,  0.5773288 ,  0.9999997 ]], dtype=float32),\n",
       " array([[-0.67538637, -0.99914062, -0.73191208,  1.        ]], dtype=float32),\n",
       " array([[-0.58604616, -0.93629134, -0.82833731,  0.9999994 ]], dtype=float32),\n",
       " array([[-0.99888605,  0.25722814,  0.99916953, -0.97790027]], dtype=float32),\n",
       " array([[ 0.72312057, -0.98822373, -0.3988224 ,  0.99999452]], dtype=float32)]"
      ]
     },
     "execution_count": 55,
     "metadata": {},
     "output_type": "execute_result"
    }
   ],
   "source": [
    "_states_series"
   ]
  },
  {
   "cell_type": "code",
   "execution_count": null,
   "metadata": {
    "collapsed": true
   },
   "outputs": [],
   "source": []
  }
 ],
 "metadata": {
  "anaconda-cloud": {},
  "kernelspec": {
   "display_name": "Python [default]",
   "language": "python",
   "name": "python3"
  },
  "language_info": {
   "codemirror_mode": {
    "name": "ipython",
    "version": 3
   },
   "file_extension": ".py",
   "mimetype": "text/x-python",
   "name": "python",
   "nbconvert_exporter": "python",
   "pygments_lexer": "ipython3",
   "version": "3.5.2"
  }
 },
 "nbformat": 4,
 "nbformat_minor": 1
}
