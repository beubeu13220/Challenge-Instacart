{
 "cells": [
  {
   "cell_type": "code",
   "execution_count": null,
   "metadata": {
    "collapsed": false
   },
   "outputs": [
    {
     "name": "stderr",
     "output_type": "stream",
     "text": [
      "Using TensorFlow backend.\n"
     ]
    }
   ],
   "source": [
    "import numpy as np\n",
    "import pandas as pd\n",
    "import os\n",
    "import utils\n",
    "import pickle\n",
    "from gensim.models import word2vec\n",
    "from sklearn.preprocessing import MultiLabelBinarizer\n",
    "from scipy import sparse\n",
    "import tensorflow as tf"
   ]
  },
  {
   "cell_type": "code",
   "execution_count": null,
   "metadata": {
    "collapsed": true
   },
   "outputs": [],
   "source": [
    "np.random.seed(7)"
   ]
  },
  {
   "cell_type": "code",
   "execution_count": null,
   "metadata": {
    "collapsed": false
   },
   "outputs": [],
   "source": [
    "utils.data_directory()"
   ]
  },
  {
   "cell_type": "code",
   "execution_count": null,
   "metadata": {
    "collapsed": true
   },
   "outputs": [],
   "source": [
    "def average_pooling(sentence, model):\n",
    "    matrix_pooling = list(map(lambda x: model[x], filter(lambda x: x in model.wv.vocab.keys(),sentence)))\n",
    "    return np.mean(matrix_pooling, axis=0)\n",
    "\n",
    "def max_pooling(sentence, model):\n",
    "    matrix_pooling = list(map(lambda x: model[x], filter(lambda x: x in model.wv.vocab.keys(),sentence)))\n",
    "    return np.max(matrix_pooling, axis=0)\n",
    "\n",
    "def items_to_latent(sentences, model, pooling_function=average_pooling):\n",
    "    latent_list = list(map(lambda x : pooling_function(x, model) ,sentences))\n",
    "    return np.array(latent_list)"
   ]
  },
  {
   "cell_type": "code",
   "execution_count": null,
   "metadata": {
    "collapsed": true
   },
   "outputs": [],
   "source": [
    "# load corpus\n",
    "with open('w2v_corpus_order','rb') as f:\n",
    "    sentences = pickle.load(f)"
   ]
  },
  {
   "cell_type": "code",
   "execution_count": null,
   "metadata": {
    "collapsed": true
   },
   "outputs": [],
   "source": [
    "model = word2vec.Word2Vec.load(\"test1.model\")"
   ]
  },
  {
   "cell_type": "markdown",
   "metadata": {},
   "source": [
    "## Process Data"
   ]
  },
  {
   "cell_type": "code",
   "execution_count": null,
   "metadata": {
    "collapsed": true
   },
   "outputs": [],
   "source": [
    "order_products__prior = pd.read_csv(\"order_products__prior.csv\")\n",
    "order_products__train = pd.read_csv(\"order_products__train.csv\")\n",
    "order = pd.read_csv(\"orders.csv\")"
   ]
  },
  {
   "cell_type": "code",
   "execution_count": null,
   "metadata": {
    "collapsed": true
   },
   "outputs": [],
   "source": [
    "order_products__prior = pd.merge(order_products__prior[[\"order_id\", \"product_id\", \"reordered\"]], \n",
    "                               order[[\"order_id\", \"user_id\",\"order_number\"]], on=\"order_id\")\n",
    "order_products__prior[\"product_id\"] = order_products__prior[\"product_id\"].astype(\"unicode\")\n",
    "\n",
    "order_products__train = pd.merge(order_products__train, order[[\"order_id\", \"user_id\",\"order_number\"]],\n",
    "                                 how=\"left\", on=\"order_id\")\n",
    "order_products__train[\"product_id\"] = order_products__train[\"product_id\"].astype(\"unicode\")"
   ]
  },
  {
   "cell_type": "code",
   "execution_count": null,
   "metadata": {
    "collapsed": true
   },
   "outputs": [],
   "source": [
    "liste_user = order.ix[order[\"eval_set\"]==\"train\", \"user_id\"].unique()\n",
    "order_products__prior = order_products__prior[order_products__prior[\"user_id\"].isin(liste_user)]\n",
    "order_products__train = order_products__train[order_products__train[\"user_id\"].isin(liste_user)]"
   ]
  },
  {
   "cell_type": "code",
   "execution_count": null,
   "metadata": {
    "collapsed": false
   },
   "outputs": [],
   "source": [
    "print(len(order_products__prior[\"user_id\"].unique()))\n",
    "print(len(order_products__train[\"user_id\"].unique()))"
   ]
  },
  {
   "cell_type": "code",
   "execution_count": null,
   "metadata": {
    "collapsed": false
   },
   "outputs": [],
   "source": [
    "order_products__prior.head()"
   ]
  },
  {
   "cell_type": "code",
   "execution_count": null,
   "metadata": {
    "collapsed": false
   },
   "outputs": [],
   "source": [
    "order_products__train.head()"
   ]
  },
  {
   "cell_type": "code",
   "execution_count": null,
   "metadata": {
    "collapsed": false
   },
   "outputs": [],
   "source": [
    "order_products__prior = order_products__prior[[\"user_id\", \"order_number\",\"product_id\",\"reordered\"]]\n",
    "order_products__train = order_products__train[[\"user_id\", \"order_number\",\"product_id\",\"reordered\"]]\n",
    "df = pd.concat([order_products__prior, order_products__train])\n",
    "df = df.sort_values([\"user_id\",\"order_number\"])\n",
    "df.head()"
   ]
  },
  {
   "cell_type": "code",
   "execution_count": null,
   "metadata": {
    "collapsed": false
   },
   "outputs": [],
   "source": [
    "del order_products__prior\n",
    "del order_products__train\n",
    "print(len(df[\"user_id\"].unique()))"
   ]
  },
  {
   "cell_type": "code",
   "execution_count": null,
   "metadata": {
    "collapsed": false
   },
   "outputs": [],
   "source": [
    "df_x = df[df[\"user_id\"]==1].groupby([\"user_id\",\"order_number\"])[\"product_id\"].apply(\n",
    "    lambda order : average_pooling(order.tolist(), model))\n",
    "df_x = df_x.rename(\"train\")\n",
    "df_x = df_x.reset_index()\n",
    "df_x.head()"
   ]
  },
  {
   "cell_type": "code",
   "execution_count": null,
   "metadata": {
    "collapsed": false
   },
   "outputs": [],
   "source": [
    "df_y = df[(df[\"user_id\"]==1)&(df[\"reordered\"]==1)].groupby([\"user_id\",\"order_number\"])[\"product_id\"].apply(list)\n",
    "df_y = df_y.rename(\"label\")\n",
    "df_y = df_y.reset_index()\n",
    "df_y[\"order_number\"] = df_y[\"order_number\"]-1\n",
    "df_y.head()"
   ]
  },
  {
   "cell_type": "code",
   "execution_count": null,
   "metadata": {
    "collapsed": true
   },
   "outputs": [],
   "source": [
    "df_one_user = pd.merge(df_x, df_y,  on=[\"user_id\", \"order_number\"])"
   ]
  },
  {
   "cell_type": "code",
   "execution_count": null,
   "metadata": {
    "collapsed": false
   },
   "outputs": [],
   "source": [
    "df_one_user"
   ]
  },
  {
   "cell_type": "code",
   "execution_count": null,
   "metadata": {
    "collapsed": false
   },
   "outputs": [],
   "source": [
    "mlb =  MultiLabelBinarizer()\n",
    "mlb.fit(df_one_user[\"label\"])\n",
    "nb_classes = len(mlb.classes_)\n",
    "print(nb_classes)"
   ]
  },
  {
   "cell_type": "code",
   "execution_count": null,
   "metadata": {
    "collapsed": false
   },
   "outputs": [],
   "source": [
    "y = mlb.transform(df_one_user[\"label\"])"
   ]
  },
  {
   "cell_type": "code",
   "execution_count": null,
   "metadata": {
    "collapsed": false
   },
   "outputs": [],
   "source": [
    "X = np.zeros((df_one_user.shape[0],20))\n",
    "for i in range(df_one_user.shape[0]):\n",
    "    X[i] = df_one_user.ix[i, \"train\"]\n",
    "print(X.shape)"
   ]
  },
  {
   "cell_type": "code",
   "execution_count": null,
   "metadata": {
    "collapsed": false
   },
   "outputs": [],
   "source": [
    "X.ravel().shape"
   ]
  },
  {
   "cell_type": "code",
   "execution_count": null,
   "metadata": {
    "collapsed": false
   },
   "outputs": [],
   "source": [
    "y.ravel().shape"
   ]
  },
  {
   "cell_type": "markdown",
   "metadata": {},
   "source": [
    "## One user"
   ]
  },
  {
   "cell_type": "code",
   "execution_count": null,
   "metadata": {
    "collapsed": true
   },
   "outputs": [],
   "source": [
    "num_epochs = 3\n",
    "total_series_length = 200\n",
    "truncated_backprop_length = 10\n",
    "state_size = 4\n",
    "num_classes = nb_classes\n",
    "batch_size = 3\n",
    "num_batches = total_series_length//batch_size//truncated_backprop_length"
   ]
  },
  {
   "cell_type": "code",
   "execution_count": null,
   "metadata": {
    "collapsed": true
   },
   "outputs": [],
   "source": [
    "batchX_placeholder = tf.placeholder(tf.float32, [batch_size, truncated_backprop_length])\n",
    "batchY_placeholder = tf.placeholder(tf.int32, [batch_size, truncated_backprop_length])\n",
    "\n",
    "init_state = tf.placeholder(tf.float32, [batch_size, state_size])"
   ]
  },
  {
   "cell_type": "code",
   "execution_count": null,
   "metadata": {
    "collapsed": true
   },
   "outputs": [],
   "source": [
    "W2 = tf.Variable(np.random.rand(state_size, num_classes),dtype=tf.float32)\n",
    "b2 = tf.Variable(np.zeros((1,num_classes)), dtype=tf.float32)"
   ]
  },
  {
   "cell_type": "code",
   "execution_count": null,
   "metadata": {
    "collapsed": false
   },
   "outputs": [],
   "source": [
    "inputs_series = tf.split( batchX_placeholder, truncated_backprop_length, 1)\n",
    "labels_series = tf.unpack(batchY_placeholder, axis=1)"
   ]
  },
  {
   "cell_type": "code",
   "execution_count": null,
   "metadata": {
    "collapsed": false
   },
   "outputs": [],
   "source": [
    "cell = tf.nn.rnn_cell.BasicRNNCell(state_size)\n",
    "states_series, current_state = tf.nn.rnn(cell, inputs_series, init_state)"
   ]
  },
  {
   "cell_type": "code",
   "execution_count": null,
   "metadata": {
    "collapsed": true
   },
   "outputs": [],
   "source": [
    "logits_series = [tf.matmul(state, W2) + b2 for state in states_series] #Broadcasted addition\n",
    "predictions_series = [tf.nn.softmax(logits) for logits in logits_series]\n",
    "\n",
    "losses = [tf.nn.sparse_softmax_cross_entropy_with_logits(logits, labels) for logits, labels in zip(logits_series,labels_series)]\n",
    "total_loss = tf.reduce_mean(losses)\n",
    "\n",
    "train_step = tf.train.AdagradOptimizer(0.3).minimize(total_loss)"
   ]
  }
 ],
 "metadata": {
  "anaconda-cloud": {},
  "kernelspec": {
   "display_name": "Python [default]",
   "language": "python",
   "name": "python3"
  },
  "language_info": {
   "codemirror_mode": {
    "name": "ipython",
    "version": 3
   },
   "file_extension": ".py",
   "mimetype": "text/x-python",
   "name": "python",
   "nbconvert_exporter": "python",
   "pygments_lexer": "ipython3",
   "version": "3.5.2"
  }
 },
 "nbformat": 4,
 "nbformat_minor": 1
}
