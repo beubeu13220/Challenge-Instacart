{
 "cells": [
  {
   "cell_type": "code",
   "execution_count": 11,
   "metadata": {
    "collapsed": false
   },
   "outputs": [],
   "source": [
    "import os\n",
    "import pandas as pd \n",
    "import numpy as np\n",
    "from gensim.models import word2vec\n",
    "from gensim.models import Doc2Vec, doc2vec\n",
    "import matplotlib.pyplot as plt\n",
    "import seaborn as sns\n",
    "import logging\n",
    "from gensim.similarities.index import AnnoyIndexer\n",
    "import utils\n",
    "import time \n",
    "from collections import Counter\n",
    "import multiprocessing\n",
    "import pickle\n",
    "import random\n",
    "%matplotlib inline"
   ]
  },
  {
   "cell_type": "code",
   "execution_count": 2,
   "metadata": {
    "collapsed": false
   },
   "outputs": [],
   "source": [
    "logging.basicConfig(format='%(asctime)s : %(levelname)s : %(message)s', level=logging.INFO)"
   ]
  },
  {
   "cell_type": "code",
   "execution_count": 3,
   "metadata": {
    "collapsed": false
   },
   "outputs": [
    {
     "name": "stdout",
     "output_type": "stream",
     "text": [
      "On AWS instance\n",
      "/home/ec2-user/data\n"
     ]
    }
   ],
   "source": [
    "utils.data_directory()"
   ]
  },
  {
   "cell_type": "code",
   "execution_count": 4,
   "metadata": {
    "collapsed": true
   },
   "outputs": [],
   "source": [
    "aisles = pd.read_csv(\"aisles.csv\")\n",
    "departements = pd.read_csv(\"departments.csv\")\n",
    "order_products__prior = pd.read_csv(\"order_products__prior.csv\")\n",
    "order_products__train = pd.read_csv(\"order_products__train.csv\")\n",
    "order = pd.read_csv(\"orders.csv\")\n",
    "products = pd.read_csv(\"products.csv\")\n",
    "sample_submission = pd.read_csv(\"sample_submission.csv\")"
   ]
  },
  {
   "cell_type": "code",
   "execution_count": 5,
   "metadata": {
    "collapsed": false
   },
   "outputs": [
    {
     "data": {
      "text/html": [
       "<div>\n",
       "<table border=\"1\" class=\"dataframe\">\n",
       "  <thead>\n",
       "    <tr style=\"text-align: right;\">\n",
       "      <th></th>\n",
       "      <th>aisle_id</th>\n",
       "      <th>aisle</th>\n",
       "    </tr>\n",
       "  </thead>\n",
       "  <tbody>\n",
       "    <tr>\n",
       "      <th>0</th>\n",
       "      <td>1</td>\n",
       "      <td>prepared soups salads</td>\n",
       "    </tr>\n",
       "    <tr>\n",
       "      <th>1</th>\n",
       "      <td>2</td>\n",
       "      <td>specialty cheeses</td>\n",
       "    </tr>\n",
       "    <tr>\n",
       "      <th>2</th>\n",
       "      <td>3</td>\n",
       "      <td>energy granola bars</td>\n",
       "    </tr>\n",
       "    <tr>\n",
       "      <th>3</th>\n",
       "      <td>4</td>\n",
       "      <td>instant foods</td>\n",
       "    </tr>\n",
       "    <tr>\n",
       "      <th>4</th>\n",
       "      <td>5</td>\n",
       "      <td>marinades meat preparation</td>\n",
       "    </tr>\n",
       "  </tbody>\n",
       "</table>\n",
       "</div>"
      ],
      "text/plain": [
       "   aisle_id                       aisle\n",
       "0         1       prepared soups salads\n",
       "1         2           specialty cheeses\n",
       "2         3         energy granola bars\n",
       "3         4               instant foods\n",
       "4         5  marinades meat preparation"
      ]
     },
     "execution_count": 5,
     "metadata": {},
     "output_type": "execute_result"
    }
   ],
   "source": [
    "aisles.head()"
   ]
  },
  {
   "cell_type": "code",
   "execution_count": 6,
   "metadata": {
    "collapsed": false
   },
   "outputs": [
    {
     "data": {
      "text/html": [
       "<div>\n",
       "<table border=\"1\" class=\"dataframe\">\n",
       "  <thead>\n",
       "    <tr style=\"text-align: right;\">\n",
       "      <th></th>\n",
       "      <th>department_id</th>\n",
       "      <th>department</th>\n",
       "    </tr>\n",
       "  </thead>\n",
       "  <tbody>\n",
       "    <tr>\n",
       "      <th>0</th>\n",
       "      <td>1</td>\n",
       "      <td>frozen</td>\n",
       "    </tr>\n",
       "    <tr>\n",
       "      <th>1</th>\n",
       "      <td>2</td>\n",
       "      <td>other</td>\n",
       "    </tr>\n",
       "    <tr>\n",
       "      <th>2</th>\n",
       "      <td>3</td>\n",
       "      <td>bakery</td>\n",
       "    </tr>\n",
       "    <tr>\n",
       "      <th>3</th>\n",
       "      <td>4</td>\n",
       "      <td>produce</td>\n",
       "    </tr>\n",
       "    <tr>\n",
       "      <th>4</th>\n",
       "      <td>5</td>\n",
       "      <td>alcohol</td>\n",
       "    </tr>\n",
       "  </tbody>\n",
       "</table>\n",
       "</div>"
      ],
      "text/plain": [
       "   department_id department\n",
       "0              1     frozen\n",
       "1              2      other\n",
       "2              3     bakery\n",
       "3              4    produce\n",
       "4              5    alcohol"
      ]
     },
     "execution_count": 6,
     "metadata": {},
     "output_type": "execute_result"
    }
   ],
   "source": [
    "departements.head()"
   ]
  },
  {
   "cell_type": "code",
   "execution_count": 7,
   "metadata": {
    "collapsed": false
   },
   "outputs": [
    {
     "data": {
      "text/html": [
       "<div>\n",
       "<table border=\"1\" class=\"dataframe\">\n",
       "  <thead>\n",
       "    <tr style=\"text-align: right;\">\n",
       "      <th></th>\n",
       "      <th>product_id</th>\n",
       "      <th>product_name</th>\n",
       "      <th>aisle_id</th>\n",
       "      <th>department_id</th>\n",
       "    </tr>\n",
       "  </thead>\n",
       "  <tbody>\n",
       "    <tr>\n",
       "      <th>0</th>\n",
       "      <td>1</td>\n",
       "      <td>Chocolate Sandwich Cookies</td>\n",
       "      <td>61</td>\n",
       "      <td>19</td>\n",
       "    </tr>\n",
       "    <tr>\n",
       "      <th>1</th>\n",
       "      <td>2</td>\n",
       "      <td>All-Seasons Salt</td>\n",
       "      <td>104</td>\n",
       "      <td>13</td>\n",
       "    </tr>\n",
       "    <tr>\n",
       "      <th>2</th>\n",
       "      <td>3</td>\n",
       "      <td>Robust Golden Unsweetened Oolong Tea</td>\n",
       "      <td>94</td>\n",
       "      <td>7</td>\n",
       "    </tr>\n",
       "    <tr>\n",
       "      <th>3</th>\n",
       "      <td>4</td>\n",
       "      <td>Smart Ones Classic Favorites Mini Rigatoni Wit...</td>\n",
       "      <td>38</td>\n",
       "      <td>1</td>\n",
       "    </tr>\n",
       "    <tr>\n",
       "      <th>4</th>\n",
       "      <td>5</td>\n",
       "      <td>Green Chile Anytime Sauce</td>\n",
       "      <td>5</td>\n",
       "      <td>13</td>\n",
       "    </tr>\n",
       "  </tbody>\n",
       "</table>\n",
       "</div>"
      ],
      "text/plain": [
       "   product_id                                       product_name  aisle_id  \\\n",
       "0           1                         Chocolate Sandwich Cookies        61   \n",
       "1           2                                   All-Seasons Salt       104   \n",
       "2           3               Robust Golden Unsweetened Oolong Tea        94   \n",
       "3           4  Smart Ones Classic Favorites Mini Rigatoni Wit...        38   \n",
       "4           5                          Green Chile Anytime Sauce         5   \n",
       "\n",
       "   department_id  \n",
       "0             19  \n",
       "1             13  \n",
       "2              7  \n",
       "3              1  \n",
       "4             13  "
      ]
     },
     "execution_count": 7,
     "metadata": {},
     "output_type": "execute_result"
    }
   ],
   "source": [
    "products.head()"
   ]
  },
  {
   "cell_type": "code",
   "execution_count": 25,
   "metadata": {
    "collapsed": true
   },
   "outputs": [],
   "source": [
    "# Créer un corpus à partir de order_prior"
   ]
  },
  {
   "cell_type": "markdown",
   "metadata": {},
   "source": [
    "** From Word Embeddings to Item Recommendation ** (Makbule Gulcin Ozso)  \n",
    "*Extrait 1*  \n",
    "In  other  words,  the  sentences  used  in  Word2Vec  can\n",
    "be  mapped  into  past  preferences  of  users  in  recommenda-\n",
    "tion  process  and  the  words  in  Word2Vec  to  individual  items\n",
    "used  in  recommendation  process.  Second,  the  purpose  of  the\n",
    "Word2Vec  techniques  and  the  recommendation  process  are\n",
    "similar.  Word2Vec  model  aims  to  predict  the  words  based\n",
    "on  the  observed  words,  which  can  be  mapped  to  predicting\n",
    "the items to be recommended based on already preferred/used\n",
    "items.  \n",
    "*Extrait 2*  \n",
    "In  this  work,  inspiring  from  [10],  the  item  lists  are  used\n",
    "together with the users as the input to Word2Vec techniques,\n",
    "i.e. not only list of items, but list of user and the items preferred\n",
    "by this user is given as input to the Word2Vec techniques."
   ]
  },
  {
   "cell_type": "code",
   "execution_count": 8,
   "metadata": {
    "collapsed": false
   },
   "outputs": [
    {
     "data": {
      "text/html": [
       "<div>\n",
       "<table border=\"1\" class=\"dataframe\">\n",
       "  <thead>\n",
       "    <tr style=\"text-align: right;\">\n",
       "      <th></th>\n",
       "      <th>order_id</th>\n",
       "      <th>product_id</th>\n",
       "      <th>add_to_cart_order</th>\n",
       "      <th>reordered</th>\n",
       "    </tr>\n",
       "  </thead>\n",
       "  <tbody>\n",
       "    <tr>\n",
       "      <th>0</th>\n",
       "      <td>2</td>\n",
       "      <td>33120</td>\n",
       "      <td>1</td>\n",
       "      <td>1</td>\n",
       "    </tr>\n",
       "    <tr>\n",
       "      <th>1</th>\n",
       "      <td>2</td>\n",
       "      <td>28985</td>\n",
       "      <td>2</td>\n",
       "      <td>1</td>\n",
       "    </tr>\n",
       "    <tr>\n",
       "      <th>2</th>\n",
       "      <td>2</td>\n",
       "      <td>9327</td>\n",
       "      <td>3</td>\n",
       "      <td>0</td>\n",
       "    </tr>\n",
       "    <tr>\n",
       "      <th>3</th>\n",
       "      <td>2</td>\n",
       "      <td>45918</td>\n",
       "      <td>4</td>\n",
       "      <td>1</td>\n",
       "    </tr>\n",
       "    <tr>\n",
       "      <th>4</th>\n",
       "      <td>2</td>\n",
       "      <td>30035</td>\n",
       "      <td>5</td>\n",
       "      <td>0</td>\n",
       "    </tr>\n",
       "  </tbody>\n",
       "</table>\n",
       "</div>"
      ],
      "text/plain": [
       "   order_id  product_id  add_to_cart_order  reordered\n",
       "0         2       33120                  1          1\n",
       "1         2       28985                  2          1\n",
       "2         2        9327                  3          0\n",
       "3         2       45918                  4          1\n",
       "4         2       30035                  5          0"
      ]
     },
     "execution_count": 8,
     "metadata": {},
     "output_type": "execute_result"
    }
   ],
   "source": [
    "order_products__prior.head()"
   ]
  },
  {
   "cell_type": "code",
   "execution_count": 9,
   "metadata": {
    "collapsed": false
   },
   "outputs": [
    {
     "data": {
      "text/plain": [
       "(32434489, 4)"
      ]
     },
     "execution_count": 9,
     "metadata": {},
     "output_type": "execute_result"
    }
   ],
   "source": [
    "order_products__prior.shape"
   ]
  },
  {
   "cell_type": "code",
   "execution_count": 10,
   "metadata": {
    "collapsed": false
   },
   "outputs": [
    {
     "data": {
      "text/html": [
       "<div>\n",
       "<table border=\"1\" class=\"dataframe\">\n",
       "  <thead>\n",
       "    <tr style=\"text-align: right;\">\n",
       "      <th></th>\n",
       "      <th>order_id</th>\n",
       "      <th>user_id</th>\n",
       "      <th>eval_set</th>\n",
       "      <th>order_number</th>\n",
       "      <th>order_dow</th>\n",
       "      <th>order_hour_of_day</th>\n",
       "      <th>days_since_prior_order</th>\n",
       "    </tr>\n",
       "  </thead>\n",
       "  <tbody>\n",
       "    <tr>\n",
       "      <th>0</th>\n",
       "      <td>2539329</td>\n",
       "      <td>1</td>\n",
       "      <td>prior</td>\n",
       "      <td>1</td>\n",
       "      <td>2</td>\n",
       "      <td>8</td>\n",
       "      <td>NaN</td>\n",
       "    </tr>\n",
       "    <tr>\n",
       "      <th>1</th>\n",
       "      <td>2398795</td>\n",
       "      <td>1</td>\n",
       "      <td>prior</td>\n",
       "      <td>2</td>\n",
       "      <td>3</td>\n",
       "      <td>7</td>\n",
       "      <td>15.0</td>\n",
       "    </tr>\n",
       "    <tr>\n",
       "      <th>2</th>\n",
       "      <td>473747</td>\n",
       "      <td>1</td>\n",
       "      <td>prior</td>\n",
       "      <td>3</td>\n",
       "      <td>3</td>\n",
       "      <td>12</td>\n",
       "      <td>21.0</td>\n",
       "    </tr>\n",
       "    <tr>\n",
       "      <th>3</th>\n",
       "      <td>2254736</td>\n",
       "      <td>1</td>\n",
       "      <td>prior</td>\n",
       "      <td>4</td>\n",
       "      <td>4</td>\n",
       "      <td>7</td>\n",
       "      <td>29.0</td>\n",
       "    </tr>\n",
       "    <tr>\n",
       "      <th>4</th>\n",
       "      <td>431534</td>\n",
       "      <td>1</td>\n",
       "      <td>prior</td>\n",
       "      <td>5</td>\n",
       "      <td>4</td>\n",
       "      <td>15</td>\n",
       "      <td>28.0</td>\n",
       "    </tr>\n",
       "  </tbody>\n",
       "</table>\n",
       "</div>"
      ],
      "text/plain": [
       "   order_id  user_id eval_set  order_number  order_dow  order_hour_of_day  \\\n",
       "0   2539329        1    prior             1          2                  8   \n",
       "1   2398795        1    prior             2          3                  7   \n",
       "2    473747        1    prior             3          3                 12   \n",
       "3   2254736        1    prior             4          4                  7   \n",
       "4    431534        1    prior             5          4                 15   \n",
       "\n",
       "   days_since_prior_order  \n",
       "0                     NaN  \n",
       "1                    15.0  \n",
       "2                    21.0  \n",
       "3                    29.0  \n",
       "4                    28.0  "
      ]
     },
     "execution_count": 10,
     "metadata": {},
     "output_type": "execute_result"
    }
   ],
   "source": [
    "order.head()"
   ]
  },
  {
   "cell_type": "markdown",
   "metadata": {},
   "source": [
    "### Training Word2Vec"
   ]
  },
  {
   "cell_type": "code",
   "execution_count": 23,
   "metadata": {
    "collapsed": true
   },
   "outputs": [],
   "source": [
    "merge_order_product = pd.merge(order_products__prior[[\"order_id\", \"product_id\", \"reordered\"]], \n",
    "                               order[[\"order_id\", \"user_id\"]], on=\"order_id\")\n",
    "merge_order_product = merge_order_product[merge_order_product[\"reordered\"]==1]"
   ]
  },
  {
   "cell_type": "code",
   "execution_count": 24,
   "metadata": {
    "collapsed": false
   },
   "outputs": [
    {
     "data": {
      "text/html": [
       "<div>\n",
       "<table border=\"1\" class=\"dataframe\">\n",
       "  <thead>\n",
       "    <tr style=\"text-align: right;\">\n",
       "      <th></th>\n",
       "      <th>order_id</th>\n",
       "      <th>product_id</th>\n",
       "      <th>reordered</th>\n",
       "      <th>user_id</th>\n",
       "    </tr>\n",
       "  </thead>\n",
       "  <tbody>\n",
       "    <tr>\n",
       "      <th>0</th>\n",
       "      <td>2</td>\n",
       "      <td>33120</td>\n",
       "      <td>1</td>\n",
       "      <td>202279</td>\n",
       "    </tr>\n",
       "    <tr>\n",
       "      <th>1</th>\n",
       "      <td>2</td>\n",
       "      <td>28985</td>\n",
       "      <td>1</td>\n",
       "      <td>202279</td>\n",
       "    </tr>\n",
       "    <tr>\n",
       "      <th>3</th>\n",
       "      <td>2</td>\n",
       "      <td>45918</td>\n",
       "      <td>1</td>\n",
       "      <td>202279</td>\n",
       "    </tr>\n",
       "    <tr>\n",
       "      <th>5</th>\n",
       "      <td>2</td>\n",
       "      <td>17794</td>\n",
       "      <td>1</td>\n",
       "      <td>202279</td>\n",
       "    </tr>\n",
       "    <tr>\n",
       "      <th>6</th>\n",
       "      <td>2</td>\n",
       "      <td>40141</td>\n",
       "      <td>1</td>\n",
       "      <td>202279</td>\n",
       "    </tr>\n",
       "  </tbody>\n",
       "</table>\n",
       "</div>"
      ],
      "text/plain": [
       "   order_id  product_id  reordered  user_id\n",
       "0         2       33120          1   202279\n",
       "1         2       28985          1   202279\n",
       "3         2       45918          1   202279\n",
       "5         2       17794          1   202279\n",
       "6         2       40141          1   202279"
      ]
     },
     "execution_count": 24,
     "metadata": {},
     "output_type": "execute_result"
    }
   ],
   "source": [
    "merge_order_product.head()"
   ]
  },
  {
   "cell_type": "code",
   "execution_count": 29,
   "metadata": {
    "collapsed": false
   },
   "outputs": [
    {
     "data": {
      "text/plain": [
       "count    203164.000000\n",
       "mean         94.143332\n",
       "std         159.172463\n",
       "min           1.000000\n",
       "25%          11.000000\n",
       "50%          34.000000\n",
       "75%         103.000000\n",
       "max        3275.000000\n",
       "Name: reordered, dtype: float64"
      ]
     },
     "execution_count": 29,
     "metadata": {},
     "output_type": "execute_result"
    }
   ],
   "source": [
    "merge_order_product.groupby([\"user_id\"])[\"reordered\"].count().describe()"
   ]
  },
  {
   "cell_type": "code",
   "execution_count": 31,
   "metadata": {
    "collapsed": false
   },
   "outputs": [
    {
     "data": {
      "text/plain": [
       "count    2.826361e+06\n",
       "mean     6.767195e+00\n",
       "std      5.769478e+00\n",
       "min      1.000000e+00\n",
       "25%      3.000000e+00\n",
       "50%      5.000000e+00\n",
       "75%      9.000000e+00\n",
       "max      1.300000e+02\n",
       "Name: product_id, dtype: float64"
      ]
     },
     "execution_count": 31,
     "metadata": {},
     "output_type": "execute_result"
    }
   ],
   "source": [
    "merge_order_product.groupby([\"user_id\", \"order_id\"])[\"product_id\"].count().describe()"
   ]
  },
  {
   "cell_type": "code",
   "execution_count": 27,
   "metadata": {
    "collapsed": false
   },
   "outputs": [
    {
     "data": {
      "text/plain": [
       "<matplotlib.axes._subplots.AxesSubplot at 0x7fa038d130f0>"
      ]
     },
     "execution_count": 27,
     "metadata": {},
     "output_type": "execute_result"
    },
    {
     "data": {
      "image/png": "[encoded data removed]",
      "text/plain": [
       "<matplotlib.figure.Figure at 0x7fa038d1c748>"
      ]
     },
     "metadata": {},
     "output_type": "display_data"
    }
   ],
   "source": [
    "merge_order_product.groupby([\"order_id\"])[\"reordered\"].count().hist(bins=10)"
   ]
  },
  {
   "cell_type": "code",
   "execution_count": 8,
   "metadata": {
    "collapsed": true
   },
   "outputs": [],
   "source": [
    "# Avant de creer la les deux liste on doit modifier les user_id\n",
    "# car les user_id sont dans le même espace que les products_id \n",
    "#merge_order_product[\"user_id\"] = merge_order_product[\"user_id\"].map(lambda x : \"u\"+str(x))\n",
    "# Créer une liste de user et une liste de produit puis on concat les deux liste\n",
    "#liste_user = merge_order_product[\"user_id\"].tolist()\n",
    "#liste_product = merge_order_product[\"product_id\"].astype(str).tolist()\n",
    "#corpus = list(zip(liste_user, liste_product))\n",
    "# on supprime les deux listes pour ne pas occuper de la mémoire\n",
    "#del liste_user\n",
    "#del liste_product"
   ]
  },
  {
   "cell_type": "code",
   "execution_count": 9,
   "metadata": {
    "collapsed": true
   },
   "outputs": [],
   "source": [
    "liste_user = np.unique(merge_order_product[\"user_id\"].tolist())"
   ]
  },
  {
   "cell_type": "code",
   "execution_count": 20,
   "metadata": {
    "collapsed": false
   },
   "outputs": [],
   "source": [
    "n_user = len(liste_user)\n",
    "thress = int(n_user*0.80)\n",
    "random.shuffle(liste_user)\n",
    "train_user = liste_user[:thress]\n",
    "test_user = liste_user[thress:]"
   ]
  },
  {
   "cell_type": "code",
   "execution_count": null,
   "metadata": {
    "collapsed": true
   },
   "outputs": [],
   "source": [
    "def words_for_user(uid):\n",
    "    sequence = merge_order_product[merge_order_product[\"user_id\"]==uid].groupby([\"order_id\"])[\"product_id\"].apply(list)\n",
    "    return sequence.reset_index()[\"product_id\"].tolist()"
   ]
  },
  {
   "cell_type": "code",
   "execution_count": null,
   "metadata": {
    "collapsed": true
   },
   "outputs": [],
   "source": [
    "def get_liste(user):\n",
    "    pattern = []\n",
    "    for uid in user:\n",
    "        pattern.append(words_for_user[])"
   ]
  },
  {
   "cell_type": "code",
   "execution_count": null,
   "metadata": {
    "collapsed": true
   },
   "outputs": [],
   "source": [
    "train_pattern = []\n",
    "for user in n_u"
   ]
  },
  {
   "cell_type": "code",
   "execution_count": 19,
   "metadata": {
    "collapsed": false,
    "scrolled": true
   },
   "outputs": [],
   "source": [
    "#outfile = \"test1\"\n",
    "#model.save(outfile + '.model')\n",
    "#model.wv.save_word2vec_format(outfile + '.model.bin', binary=True)\n",
    "#model.wv.save_word2vec_format(outfile + '.model.txt', binary=False)\n",
    "# load model \n",
    "#model = word2vec.Word2Vec.load(\"test1.model\")"
   ]
  },
  {
   "cell_type": "markdown",
   "metadata": {},
   "source": [
    "### DOc2Vec"
   ]
  },
  {
   "cell_type": "code",
   "execution_count": 16,
   "metadata": {
    "collapsed": true
   },
   "outputs": [],
   "source": [
    "#def append_to_sequences(i):\n",
    "#    global merge_order_product, liste_unique_user, len_liste_unique_user\n",
    "#    user_id = liste_unique_user.pop(0)\n",
    "#    if (i/ len_liste_unique_user)%0.1==0 :\n",
    "#        print(\"% avancement : \", i/len_liste_unique_user)\n",
    "#    prd_user_list = merge_order_product.ix[merge_order_product[\"user_id\"]==user_id, \"product_id\"].astype(str).tolist()\n",
    "#    return doc2vec.LabeledSentence(words=prd_user_list, tags=user_id )\n",
    "# Pour l'instant dans la sentence on mets les mots en dupkey\n",
    "#liste_unique_user = list(np.unique(merge_order_product[\"user_id\"]))\n",
    "#len_liste_unique_user = len(liste_unique_user)\n",
    "#print(\"nb user :\", len_liste_unique_user)\n",
    "#pool = multiprocessing.Pool(processes=3)\n",
    "#result = pool.map_async(append_to_sequences, np.arange(len_liste_unique_user))\n",
    "#pool.close()\n",
    "#pool.join()\n",
    "#sentences = result.get()"
   ]
  },
  {
   "cell_type": "code",
   "execution_count": 41,
   "metadata": {
    "collapsed": false
   },
   "outputs": [],
   "source": [
    "#merge_order_product = pd.merge(order_products__prior[[\"order_id\", \"product_id\"]], \n",
    "                               #order[[\"order_id\", \"user_id\"]], on=\"order_id\")\n",
    "#merge_order_product[\"product_id\"] = merge_order_product[\"product_id\"].astype(\"unicode\")"
   ]
  },
  {
   "cell_type": "code",
   "execution_count": 4,
   "metadata": {
    "collapsed": false
   },
   "outputs": [],
   "source": [
    "#def words_for_user(uid):\n",
    "#    return merge_order_product.ix[merge_order_product[\"user_id\"]==uid, \"product_id\"].tolist()\n",
    "\n",
    "#liste_unique_user = list(np.unique(merge_order_product[\"user_id\"]))\n",
    "#print(\"nb unique user :\", len(liste_unique_user))"
   ]
  },
  {
   "cell_type": "code",
   "execution_count": 5,
   "metadata": {
    "collapsed": false
   },
   "outputs": [],
   "source": [
    "#start_time = time.time()\n",
    "#sentences = [doc2vec.TaggedDocument(words=words_for_user(uid), tags=[uid]) for uid in liste_unique_user]\n",
    "#print(\"--- %s seconds ---\" % (time.time() - start_time))\n",
    "\n",
    "#with open('TaggedDocument', 'wb') as fp:\n",
    "#    pickle.dump(sentences, fp)\n",
    "    \n",
    "#print(\"List saved\")"
   ]
  },
  {
   "cell_type": "code",
   "execution_count": 4,
   "metadata": {
    "collapsed": false
   },
   "outputs": [],
   "source": [
    "with open('TaggedDocument','rb') as f:\n",
    "    sentences = pickle.load(f)"
   ]
  },
  {
   "cell_type": "code",
   "execution_count": 11,
   "metadata": {
    "collapsed": false,
    "scrolled": true
   },
   "outputs": [
    {
     "name": "stderr",
     "output_type": "stream",
     "text": [
      "2017-05-29 15:48:11,798 : WARNING : consider setting layer size to a multiple of 4 for greater performance\n",
      "2017-05-29 15:48:11,800 : INFO : collecting all words and their counts\n",
      "2017-05-29 15:48:11,800 : INFO : PROGRESS: at example #0, processed 0 words (0/s), 0 word types, 0 tags\n",
      "2017-05-29 15:48:12,156 : INFO : PROGRESS: at example #10000, processed 1544933 words (4350525/s), 35257 word types, 10000 tags\n",
      "2017-05-29 15:48:13,167 : INFO : PROGRESS: at example #20000, processed 3112655 words (1552568/s), 41184 word types, 20000 tags\n",
      "2017-05-29 15:48:13,530 : INFO : PROGRESS: at example #30000, processed 4703585 words (4393932/s), 44010 word types, 30000 tags\n",
      "2017-05-29 15:48:13,894 : INFO : PROGRESS: at example #40000, processed 6280523 words (4344704/s), 45719 word types, 40000 tags\n",
      "2017-05-29 15:48:14,269 : INFO : PROGRESS: at example #50000, processed 7882635 words (4280765/s), 46877 word types, 50000 tags\n",
      "2017-05-29 15:48:14,635 : INFO : PROGRESS: at example #60000, processed 9447187 words (4288566/s), 47611 word types, 60000 tags\n",
      "2017-05-29 15:48:15,010 : INFO : PROGRESS: at example #70000, processed 11053144 words (4293494/s), 48164 word types, 70000 tags\n",
      "2017-05-29 15:48:15,388 : INFO : PROGRESS: at example #80000, processed 12644071 words (4213364/s), 48604 word types, 80000 tags\n",
      "2017-05-29 15:48:15,764 : INFO : PROGRESS: at example #90000, processed 14217866 words (4196161/s), 48898 word types, 90000 tags\n",
      "2017-05-29 15:48:16,139 : INFO : PROGRESS: at example #100000, processed 15806355 words (4246707/s), 49096 word types, 100000 tags\n",
      "2017-05-29 15:48:16,510 : INFO : PROGRESS: at example #110000, processed 17380178 words (4255426/s), 49249 word types, 110000 tags\n",
      "2017-05-29 15:48:16,899 : INFO : PROGRESS: at example #120000, processed 18953542 words (4050137/s), 49359 word types, 120000 tags\n",
      "2017-05-29 15:48:17,275 : INFO : PROGRESS: at example #130000, processed 20482013 words (4075215/s), 49447 word types, 130000 tags\n",
      "2017-05-29 15:48:17,651 : INFO : PROGRESS: at example #140000, processed 22040363 words (4161671/s), 49509 word types, 140000 tags\n",
      "2017-05-29 15:48:18,041 : INFO : PROGRESS: at example #150000, processed 23610399 words (4029541/s), 49559 word types, 150000 tags\n",
      "2017-05-29 15:48:18,440 : INFO : PROGRESS: at example #160000, processed 25202699 words (3997965/s), 49590 word types, 160000 tags\n",
      "2017-05-29 15:48:18,807 : INFO : PROGRESS: at example #170000, processed 26736893 words (4193788/s), 49614 word types, 170000 tags\n",
      "2017-05-29 15:48:19,195 : INFO : PROGRESS: at example #180000, processed 28323711 words (4104625/s), 49639 word types, 180000 tags\n",
      "2017-05-29 15:48:19,566 : INFO : PROGRESS: at example #190000, processed 29902869 words (4266120/s), 49657 word types, 190000 tags\n",
      "2017-05-29 15:48:19,933 : INFO : PROGRESS: at example #200000, processed 31477093 words (4293345/s), 49672 word types, 200000 tags\n",
      "2017-05-29 15:48:20,162 : INFO : collected 49677 word types and 206209 unique tags from a corpus of 206209 examples and 32434489 words\n",
      "2017-05-29 15:48:20,163 : INFO : Loading a fresh vocabulary\n",
      "2017-05-29 15:48:20,275 : INFO : min_count=5 retains 47618 unique words (95% of original 49677, drops 2059)\n",
      "2017-05-29 15:48:20,276 : INFO : min_count=5 leaves 32427935 word corpus (99% of original 32434489, drops 6554)\n",
      "2017-05-29 15:48:20,415 : INFO : deleting the raw counts dictionary of 49677 items\n",
      "2017-05-29 15:48:20,417 : INFO : sample=0.001 downsamples 19 most-common words\n",
      "2017-05-29 15:48:20,418 : INFO : downsampling leaves estimated 31161960 word corpus (96.1% of prior 32427935)\n",
      "2017-05-29 15:48:20,419 : INFO : estimated required memory for 47618 words and 15 dimensions: 83137500 bytes\n",
      "2017-05-29 15:48:20,575 : INFO : resetting layer weights\n"
     ]
    }
   ],
   "source": [
    "# Dbow\n",
    "Docmodel = Doc2Vec(dm=0, dbow_words=1, window=3 ,alpha=.025, min_alpha=.025, size=15, min_count=5, iter=15)\n",
    "Docmodel.build_vocab(sentences)"
   ]
  },
  {
   "cell_type": "code",
   "execution_count": 13,
   "metadata": {
    "collapsed": false
   },
   "outputs": [
    {
     "data": {
      "text/plain": [
       "array([-0.02107297, -0.02147795, -0.01243667, -0.00732688, -0.03083354,\n",
       "       -0.0193068 , -0.0272851 ,  0.01929094,  0.02472094, -0.02763489,\n",
       "       -0.0142976 , -0.01812672,  0.02923472,  0.00542323, -0.02279804], dtype=float32)"
      ]
     },
     "execution_count": 13,
     "metadata": {},
     "output_type": "execute_result"
    }
   ],
   "source": [
    "Docmodel[\"2\"]"
   ]
  },
  {
   "cell_type": "code",
   "execution_count": 14,
   "metadata": {
    "collapsed": false,
    "scrolled": true
   },
   "outputs": [
    {
     "name": "stderr",
     "output_type": "stream",
     "text": [
      "2017-05-29 15:48:40,592 : INFO : training model with 3 workers on 47618 vocabulary and 15 features, using sg=1 hs=0 sample=0.001 negative=5 window=3\n",
      "2017-05-29 15:48:40,593 : INFO : expecting 206209 sentences, matching count from corpus used for vocabulary survey\n",
      "2017-05-29 15:48:41,600 : INFO : PROGRESS: at 0.10% examples, 465278 words/s, in_qsize 6, out_qsize 0\n",
      "2017-05-29 15:48:42,615 : INFO : PROGRESS: at 0.21% examples, 479484 words/s, in_qsize 5, out_qsize 0\n",
      "2017-05-29 15:48:43,641 : INFO : PROGRESS: at 0.32% examples, 480369 words/s, in_qsize 5, out_qsize 0\n",
      "2017-05-29 15:48:44,660 : INFO : PROGRESS: at 0.42% examples, 481270 words/s, in_qsize 6, out_qsize 0\n",
      "2017-05-29 15:48:45,664 : INFO : PROGRESS: at 0.52% examples, 480841 words/s, in_qsize 6, out_qsize 0\n",
      "2017-05-29 15:48:46,684 : INFO : PROGRESS: at 0.63% examples, 479787 words/s, in_qsize 6, out_qsize 0\n",
      "2017-05-29 15:48:47,701 : INFO : PROGRESS: at 0.73% examples, 479270 words/s, in_qsize 5, out_qsize 0\n",
      "2017-05-29 15:48:48,722 : INFO : PROGRESS: at 0.83% examples, 479564 words/s, in_qsize 5, out_qsize 0\n",
      "2017-05-29 15:48:49,723 : INFO : PROGRESS: at 0.93% examples, 480779 words/s, in_qsize 6, out_qsize 0\n",
      "2017-05-29 15:48:50,753 : INFO : PROGRESS: at 1.04% examples, 480419 words/s, in_qsize 6, out_qsize 0\n",
      "2017-05-29 15:48:51,756 : INFO : PROGRESS: at 1.14% examples, 480678 words/s, in_qsize 5, out_qsize 0\n",
      "2017-05-29 15:48:52,764 : INFO : PROGRESS: at 1.25% examples, 482047 words/s, in_qsize 6, out_qsize 0\n",
      "2017-05-29 15:48:53,770 : INFO : PROGRESS: at 1.35% examples, 481988 words/s, in_qsize 6, out_qsize 0\n",
      "2017-05-29 15:48:54,791 : INFO : PROGRESS: at 1.45% examples, 481955 words/s, in_qsize 6, out_qsize 0\n",
      "2017-05-29 15:48:55,797 : INFO : PROGRESS: at 1.56% examples, 482522 words/s, in_qsize 6, out_qsize 0\n",
      "2017-05-29 15:48:56,829 : INFO : PROGRESS: at 1.66% examples, 482348 words/s, in_qsize 6, out_qsize 0\n",
      "2017-05-29 15:48:57,856 : INFO : PROGRESS: at 1.76% examples, 482683 words/s, in_qsize 6, out_qsize 0\n",
      "2017-05-29 15:48:58,858 : INFO : PROGRESS: at 1.87% examples, 482748 words/s, in_qsize 5, out_qsize 0\n",
      "2017-05-29 15:48:59,862 : INFO : PROGRESS: at 1.97% examples, 483184 words/s, in_qsize 5, out_qsize 0\n",
      "2017-05-29 15:49:00,909 : INFO : PROGRESS: at 2.09% examples, 482846 words/s, in_qsize 6, out_qsize 0\n",
      "2017-05-29 15:49:01,913 : INFO : PROGRESS: at 2.19% examples, 483648 words/s, in_qsize 6, out_qsize 0\n",
      "2017-05-29 15:49:02,942 : INFO : PROGRESS: at 2.29% examples, 483334 words/s, in_qsize 6, out_qsize 0\n",
      "2017-05-29 15:49:03,945 : INFO : PROGRESS: at 2.39% examples, 483483 words/s, in_qsize 5, out_qsize 0\n",
      "2017-05-29 15:49:04,957 : INFO : PROGRESS: at 2.49% examples, 483649 words/s, in_qsize 6, out_qsize 0\n",
      "2017-05-29 15:49:05,967 : INFO : PROGRESS: at 2.59% examples, 483724 words/s, in_qsize 6, out_qsize 0\n",
      "2017-05-29 15:49:06,979 : INFO : PROGRESS: at 2.70% examples, 483852 words/s, in_qsize 6, out_qsize 0\n",
      "2017-05-29 15:49:07,990 : INFO : PROGRESS: at 2.81% examples, 483991 words/s, in_qsize 6, out_qsize 0\n",
      "2017-05-29 15:49:09,001 : INFO : PROGRESS: at 2.91% examples, 484105 words/s, in_qsize 6, out_qsize 0\n",
      "2017-05-29 15:49:10,005 : INFO : PROGRESS: at 3.01% examples, 483955 words/s, in_qsize 6, out_qsize 0\n",
      "2017-05-29 15:49:11,016 : INFO : PROGRESS: at 3.11% examples, 483789 words/s, in_qsize 6, out_qsize 0\n",
      "2017-05-29 15:49:12,027 : INFO : PROGRESS: at 3.22% examples, 484211 words/s, in_qsize 6, out_qsize 0\n",
      "2017-05-29 15:49:13,059 : INFO : PROGRESS: at 3.32% examples, 484009 words/s, in_qsize 5, out_qsize 0\n",
      "2017-05-29 15:49:14,103 : INFO : PROGRESS: at 3.43% examples, 484144 words/s, in_qsize 6, out_qsize 0\n",
      "2017-05-29 15:49:15,109 : INFO : PROGRESS: at 3.54% examples, 484226 words/s, in_qsize 6, out_qsize 0\n",
      "2017-05-29 15:49:16,110 : INFO : PROGRESS: at 3.64% examples, 484396 words/s, in_qsize 6, out_qsize 0\n",
      "2017-05-29 15:49:17,120 : INFO : PROGRESS: at 3.74% examples, 483993 words/s, in_qsize 5, out_qsize 0\n",
      "2017-05-29 15:49:18,126 : INFO : PROGRESS: at 3.84% examples, 483910 words/s, in_qsize 5, out_qsize 0\n",
      "2017-05-29 15:49:19,139 : INFO : PROGRESS: at 3.95% examples, 483777 words/s, in_qsize 6, out_qsize 0\n",
      "2017-05-29 15:49:20,139 : INFO : PROGRESS: at 4.05% examples, 483760 words/s, in_qsize 6, out_qsize 0\n",
      "2017-05-29 15:49:21,141 : INFO : PROGRESS: at 4.16% examples, 483980 words/s, in_qsize 6, out_qsize 0\n",
      "2017-05-29 15:49:22,149 : INFO : PROGRESS: at 4.27% examples, 484060 words/s, in_qsize 6, out_qsize 0\n",
      "2017-05-29 15:49:23,178 : INFO : PROGRESS: at 4.38% examples, 483923 words/s, in_qsize 6, out_qsize 0\n",
      "2017-05-29 15:49:24,198 : INFO : PROGRESS: at 4.48% examples, 484123 words/s, in_qsize 6, out_qsize 0\n",
      "2017-05-29 15:49:25,212 : INFO : PROGRESS: at 4.59% examples, 484162 words/s, in_qsize 6, out_qsize 0\n",
      "2017-05-29 15:49:26,226 : INFO : PROGRESS: at 4.69% examples, 484199 words/s, in_qsize 6, out_qsize 0\n",
      "2017-05-29 15:49:27,239 : INFO : PROGRESS: at 4.79% examples, 484226 words/s, in_qsize 6, out_qsize 0\n",
      "2017-05-29 15:49:28,286 : INFO : PROGRESS: at 4.90% examples, 484134 words/s, in_qsize 5, out_qsize 0\n",
      "2017-05-29 15:49:29,287 : INFO : PROGRESS: at 5.00% examples, 484417 words/s, in_qsize 6, out_qsize 0\n",
      "2017-05-29 15:49:30,319 : INFO : PROGRESS: at 5.11% examples, 484279 words/s, in_qsize 5, out_qsize 0\n",
      "2017-05-29 15:49:31,324 : INFO : PROGRESS: at 5.22% examples, 484430 words/s, in_qsize 6, out_qsize 0\n",
      "2017-05-29 15:49:32,326 : INFO : PROGRESS: at 5.32% examples, 484603 words/s, in_qsize 5, out_qsize 0\n",
      "2017-05-29 15:49:33,366 : INFO : PROGRESS: at 5.43% examples, 484366 words/s, in_qsize 6, out_qsize 0\n",
      "2017-05-29 15:49:34,379 : INFO : PROGRESS: at 5.54% examples, 484234 words/s, in_qsize 6, out_qsize 0\n",
      "2017-05-29 15:49:35,385 : INFO : PROGRESS: at 5.64% examples, 484306 words/s, in_qsize 6, out_qsize 0\n",
      "2017-05-29 15:49:36,392 : INFO : PROGRESS: at 5.74% examples, 484342 words/s, in_qsize 5, out_qsize 0\n",
      "2017-05-29 15:49:37,392 : INFO : PROGRESS: at 5.84% examples, 484277 words/s, in_qsize 5, out_qsize 0\n",
      "2017-05-29 15:49:38,400 : INFO : PROGRESS: at 5.95% examples, 484321 words/s, in_qsize 6, out_qsize 0\n",
      "2017-05-29 15:49:39,407 : INFO : PROGRESS: at 6.05% examples, 484377 words/s, in_qsize 5, out_qsize 0\n",
      "2017-05-29 15:49:40,416 : INFO : PROGRESS: at 6.16% examples, 484547 words/s, in_qsize 6, out_qsize 0\n",
      "2017-05-29 15:49:41,442 : INFO : PROGRESS: at 6.26% examples, 484409 words/s, in_qsize 6, out_qsize 0\n",
      "2017-05-29 15:49:42,453 : INFO : PROGRESS: at 6.37% examples, 484612 words/s, in_qsize 5, out_qsize 0\n",
      "2017-05-29 15:49:43,489 : INFO : PROGRESS: at 6.47% examples, 484465 words/s, in_qsize 6, out_qsize 0\n",
      "2017-05-29 15:49:44,504 : INFO : PROGRESS: at 6.58% examples, 484658 words/s, in_qsize 5, out_qsize 0\n",
      "2017-05-29 15:49:45,525 : INFO : PROGRESS: at 6.69% examples, 484589 words/s, in_qsize 6, out_qsize 0\n",
      "2017-05-29 15:49:46,531 : INFO : PROGRESS: at 6.80% examples, 484669 words/s, in_qsize 6, out_qsize 0\n",
      "2017-05-29 15:49:47,544 : INFO : PROGRESS: at 6.90% examples, 484847 words/s, in_qsize 6, out_qsize 0\n",
      "2017-05-29 15:49:48,575 : INFO : PROGRESS: at 7.01% examples, 484763 words/s, in_qsize 6, out_qsize 0\n",
      "2017-05-29 15:49:49,613 : INFO : PROGRESS: at 7.12% examples, 484877 words/s, in_qsize 5, out_qsize 0\n",
      "2017-05-29 15:49:50,660 : INFO : PROGRESS: at 7.22% examples, 484921 words/s, in_qsize 6, out_qsize 0\n",
      "2017-05-29 15:49:51,708 : INFO : PROGRESS: at 7.34% examples, 485004 words/s, in_qsize 6, out_qsize 0\n",
      "2017-05-29 15:49:52,738 : INFO : PROGRESS: at 7.44% examples, 485152 words/s, in_qsize 5, out_qsize 0\n",
      "2017-05-29 15:49:53,781 : INFO : PROGRESS: at 7.55% examples, 485226 words/s, in_qsize 6, out_qsize 0\n",
      "2017-05-29 15:49:54,827 : INFO : PROGRESS: at 7.66% examples, 485263 words/s, in_qsize 6, out_qsize 0\n",
      "2017-05-29 15:49:55,877 : INFO : PROGRESS: at 7.76% examples, 485278 words/s, in_qsize 6, out_qsize 0\n",
      "2017-05-29 15:49:56,878 : INFO : PROGRESS: at 7.87% examples, 485370 words/s, in_qsize 5, out_qsize 0\n",
      "2017-05-29 15:49:57,884 : INFO : PROGRESS: at 7.98% examples, 485428 words/s, in_qsize 5, out_qsize 0\n",
      "2017-05-29 15:49:58,918 : INFO : PROGRESS: at 8.08% examples, 485317 words/s, in_qsize 6, out_qsize 0\n",
      "2017-05-29 15:49:59,928 : INFO : PROGRESS: at 8.18% examples, 485459 words/s, in_qsize 5, out_qsize 0\n",
      "2017-05-29 15:50:00,954 : INFO : PROGRESS: at 8.29% examples, 485427 words/s, in_qsize 6, out_qsize 0\n",
      "2017-05-29 15:50:01,962 : INFO : PROGRESS: at 8.39% examples, 485364 words/s, in_qsize 6, out_qsize 0\n",
      "2017-05-29 15:50:02,966 : INFO : PROGRESS: at 8.49% examples, 485422 words/s, in_qsize 6, out_qsize 0\n",
      "2017-05-29 15:50:03,968 : INFO : PROGRESS: at 8.60% examples, 485384 words/s, in_qsize 6, out_qsize 0\n",
      "2017-05-29 15:50:04,975 : INFO : PROGRESS: at 8.70% examples, 485298 words/s, in_qsize 6, out_qsize 0\n",
      "2017-05-29 15:50:05,982 : INFO : PROGRESS: at 8.81% examples, 485344 words/s, in_qsize 5, out_qsize 0\n",
      "2017-05-29 15:50:07,005 : INFO : PROGRESS: at 8.90% examples, 485165 words/s, in_qsize 6, out_qsize 0\n",
      "2017-05-29 15:50:08,014 : INFO : PROGRESS: at 9.00% examples, 485066 words/s, in_qsize 6, out_qsize 0\n",
      "2017-05-29 15:50:09,034 : INFO : PROGRESS: at 9.10% examples, 484899 words/s, in_qsize 6, out_qsize 0\n",
      "2017-05-29 15:50:10,044 : INFO : PROGRESS: at 9.21% examples, 484839 words/s, in_qsize 6, out_qsize 0\n",
      "2017-05-29 15:50:11,045 : INFO : PROGRESS: at 9.31% examples, 484774 words/s, in_qsize 6, out_qsize 0\n",
      "2017-05-29 15:50:12,053 : INFO : PROGRESS: at 9.41% examples, 484730 words/s, in_qsize 6, out_qsize 0\n",
      "2017-05-29 15:50:13,060 : INFO : PROGRESS: at 9.52% examples, 484773 words/s, in_qsize 6, out_qsize 0\n",
      "2017-05-29 15:50:14,064 : INFO : PROGRESS: at 9.62% examples, 484837 words/s, in_qsize 6, out_qsize 0\n",
      "2017-05-29 15:50:15,074 : INFO : PROGRESS: at 9.72% examples, 484864 words/s, in_qsize 5, out_qsize 0\n",
      "2017-05-29 15:50:16,100 : INFO : PROGRESS: at 9.83% examples, 484919 words/s, in_qsize 6, out_qsize 0\n",
      "2017-05-29 15:50:17,105 : INFO : PROGRESS: at 9.93% examples, 485076 words/s, in_qsize 5, out_qsize 0\n",
      "2017-05-29 15:50:18,138 : INFO : PROGRESS: at 10.04% examples, 484975 words/s, in_qsize 6, out_qsize 0\n",
      "2017-05-29 15:50:19,144 : INFO : PROGRESS: at 10.14% examples, 485024 words/s, in_qsize 5, out_qsize 0\n",
      "2017-05-29 15:50:20,145 : INFO : PROGRESS: at 10.24% examples, 485057 words/s, in_qsize 6, out_qsize 0\n",
      "2017-05-29 15:50:21,153 : INFO : PROGRESS: at 10.35% examples, 485092 words/s, in_qsize 6, out_qsize 0\n",
      "2017-05-29 15:50:22,172 : INFO : PROGRESS: at 10.45% examples, 485080 words/s, in_qsize 6, out_qsize 0\n",
      "2017-05-29 15:50:23,176 : INFO : PROGRESS: at 10.56% examples, 485149 words/s, in_qsize 5, out_qsize 0\n",
      "2017-05-29 15:50:24,219 : INFO : PROGRESS: at 10.67% examples, 485119 words/s, in_qsize 6, out_qsize 0\n",
      "2017-05-29 15:50:25,220 : INFO : PROGRESS: at 10.78% examples, 485290 words/s, in_qsize 5, out_qsize 0\n",
      "2017-05-29 15:50:26,252 : INFO : PROGRESS: at 10.89% examples, 485193 words/s, in_qsize 6, out_qsize 0\n",
      "2017-05-29 15:50:27,253 : INFO : PROGRESS: at 11.00% examples, 485359 words/s, in_qsize 5, out_qsize 0\n",
      "2017-05-29 15:50:28,282 : INFO : PROGRESS: at 11.10% examples, 485292 words/s, in_qsize 6, out_qsize 0\n",
      "2017-05-29 15:50:29,295 : INFO : PROGRESS: at 11.21% examples, 485383 words/s, in_qsize 5, out_qsize 0\n",
      "2017-05-29 15:50:30,297 : INFO : PROGRESS: at 11.31% examples, 485433 words/s, in_qsize 5, out_qsize 0\n",
      "2017-05-29 15:50:31,302 : INFO : PROGRESS: at 11.42% examples, 485474 words/s, in_qsize 6, out_qsize 0\n",
      "2017-05-29 15:50:32,302 : INFO : PROGRESS: at 11.52% examples, 485532 words/s, in_qsize 5, out_qsize 0\n",
      "2017-05-29 15:50:33,336 : INFO : PROGRESS: at 11.63% examples, 485529 words/s, in_qsize 6, out_qsize 0\n",
      "2017-05-29 15:50:34,336 : INFO : PROGRESS: at 11.73% examples, 485648 words/s, in_qsize 5, out_qsize 0\n",
      "2017-05-29 15:50:35,355 : INFO : PROGRESS: at 11.84% examples, 485640 words/s, in_qsize 6, out_qsize 0\n",
      "2017-05-29 15:50:36,357 : INFO : PROGRESS: at 11.94% examples, 485636 words/s, in_qsize 5, out_qsize 0\n",
      "2017-05-29 15:50:37,363 : INFO : PROGRESS: at 12.05% examples, 485742 words/s, in_qsize 5, out_qsize 0\n",
      "2017-05-29 15:50:38,401 : INFO : PROGRESS: at 12.16% examples, 485656 words/s, in_qsize 6, out_qsize 0\n",
      "2017-05-29 15:50:39,422 : INFO : PROGRESS: at 12.27% examples, 485775 words/s, in_qsize 6, out_qsize 0\n",
      "2017-05-29 15:50:40,424 : INFO : PROGRESS: at 12.37% examples, 485890 words/s, in_qsize 5, out_qsize 0\n",
      "2017-05-29 15:50:41,443 : INFO : PROGRESS: at 12.48% examples, 485841 words/s, in_qsize 6, out_qsize 0\n",
      "2017-05-29 15:50:42,446 : INFO : PROGRESS: at 12.58% examples, 485801 words/s, in_qsize 6, out_qsize 0\n",
      "2017-05-29 15:50:43,453 : INFO : PROGRESS: at 12.68% examples, 485887 words/s, in_qsize 5, out_qsize 0\n",
      "2017-05-29 15:50:44,475 : INFO : PROGRESS: at 12.79% examples, 485813 words/s, in_qsize 6, out_qsize 0\n",
      "2017-05-29 15:50:45,482 : INFO : PROGRESS: at 12.89% examples, 485905 words/s, in_qsize 5, out_qsize 0\n",
      "2017-05-29 15:50:46,502 : INFO : PROGRESS: at 13.00% examples, 485866 words/s, in_qsize 6, out_qsize 0\n",
      "2017-05-29 15:50:47,512 : INFO : PROGRESS: at 13.10% examples, 485895 words/s, in_qsize 5, out_qsize 0\n",
      "2017-05-29 15:50:48,538 : INFO : PROGRESS: at 13.21% examples, 485927 words/s, in_qsize 6, out_qsize 0\n",
      "2017-05-29 15:50:49,546 : INFO : PROGRESS: at 13.32% examples, 485948 words/s, in_qsize 6, out_qsize 0\n",
      "2017-05-29 15:50:50,559 : INFO : PROGRESS: at 13.43% examples, 486016 words/s, in_qsize 6, out_qsize 0\n",
      "2017-05-29 15:50:51,587 : INFO : PROGRESS: at 13.53% examples, 486029 words/s, in_qsize 6, out_qsize 0\n",
      "2017-05-29 15:50:52,611 : INFO : PROGRESS: at 13.64% examples, 486090 words/s, in_qsize 6, out_qsize 0\n",
      "2017-05-29 15:50:53,629 : INFO : PROGRESS: at 13.75% examples, 486067 words/s, in_qsize 5, out_qsize 0\n",
      "2017-05-29 15:50:54,674 : INFO : PROGRESS: at 13.86% examples, 486081 words/s, in_qsize 6, out_qsize 0\n",
      "2017-05-29 15:50:55,724 : INFO : PROGRESS: at 13.97% examples, 486098 words/s, in_qsize 6, out_qsize 0\n",
      "2017-05-29 15:50:56,765 : INFO : PROGRESS: at 14.07% examples, 486143 words/s, in_qsize 6, out_qsize 0\n",
      "2017-05-29 15:50:57,796 : INFO : PROGRESS: at 14.18% examples, 486212 words/s, in_qsize 6, out_qsize 0\n",
      "2017-05-29 15:50:58,797 : INFO : PROGRESS: at 14.28% examples, 486240 words/s, in_qsize 5, out_qsize 0\n",
      "2017-05-29 15:50:59,818 : INFO : PROGRESS: at 14.39% examples, 486277 words/s, in_qsize 6, out_qsize 0\n",
      "2017-05-29 15:51:00,829 : INFO : PROGRESS: at 14.50% examples, 486361 words/s, in_qsize 5, out_qsize 0\n",
      "2017-05-29 15:51:01,832 : INFO : PROGRESS: at 14.60% examples, 486323 words/s, in_qsize 6, out_qsize 0\n",
      "2017-05-29 15:51:02,849 : INFO : PROGRESS: at 14.70% examples, 486257 words/s, in_qsize 6, out_qsize 0\n",
      "2017-05-29 15:51:03,863 : INFO : PROGRESS: at 14.80% examples, 486178 words/s, in_qsize 6, out_qsize 0\n",
      "2017-05-29 15:51:04,865 : INFO : PROGRESS: at 14.90% examples, 486158 words/s, in_qsize 6, out_qsize 0\n",
      "2017-05-29 15:51:05,871 : INFO : PROGRESS: at 15.01% examples, 486199 words/s, in_qsize 6, out_qsize 0\n",
      "2017-05-29 15:51:06,871 : INFO : PROGRESS: at 15.11% examples, 486107 words/s, in_qsize 6, out_qsize 0\n",
      "2017-05-29 15:51:07,888 : INFO : PROGRESS: at 15.21% examples, 486038 words/s, in_qsize 5, out_qsize 0\n",
      "2017-05-29 15:51:08,893 : INFO : PROGRESS: at 15.31% examples, 486004 words/s, in_qsize 6, out_qsize 0\n",
      "2017-05-29 15:51:09,896 : INFO : PROGRESS: at 15.42% examples, 486021 words/s, in_qsize 6, out_qsize 0\n",
      "2017-05-29 15:51:10,900 : INFO : PROGRESS: at 15.52% examples, 485987 words/s, in_qsize 5, out_qsize 0\n",
      "2017-05-29 15:51:11,949 : INFO : PROGRESS: at 15.62% examples, 485923 words/s, in_qsize 6, out_qsize 0\n",
      "2017-05-29 15:51:12,985 : INFO : PROGRESS: at 15.73% examples, 485948 words/s, in_qsize 6, out_qsize 0\n",
      "2017-05-29 15:51:13,985 : INFO : PROGRESS: at 15.83% examples, 486057 words/s, in_qsize 5, out_qsize 0\n",
      "2017-05-29 15:51:14,996 : INFO : PROGRESS: at 15.94% examples, 486044 words/s, in_qsize 5, out_qsize 0\n",
      "2017-05-29 15:51:15,999 : INFO : PROGRESS: at 16.04% examples, 486026 words/s, in_qsize 5, out_qsize 0\n",
      "2017-05-29 15:51:17,011 : INFO : PROGRESS: at 16.15% examples, 486085 words/s, in_qsize 6, out_qsize 0\n",
      "2017-05-29 15:51:18,035 : INFO : PROGRESS: at 16.25% examples, 486059 words/s, in_qsize 5, out_qsize 0\n",
      "2017-05-29 15:51:19,053 : INFO : PROGRESS: at 16.36% examples, 486095 words/s, in_qsize 5, out_qsize 0\n",
      "2017-05-29 15:51:20,071 : INFO : PROGRESS: at 16.46% examples, 486151 words/s, in_qsize 6, out_qsize 0\n",
      "2017-05-29 15:51:21,075 : INFO : PROGRESS: at 16.57% examples, 486173 words/s, in_qsize 5, out_qsize 0\n",
      "2017-05-29 15:51:22,098 : INFO : PROGRESS: at 16.67% examples, 486200 words/s, in_qsize 5, out_qsize 0\n",
      "2017-05-29 15:51:23,114 : INFO : PROGRESS: at 16.78% examples, 486251 words/s, in_qsize 5, out_qsize 0\n",
      "2017-05-29 15:51:24,121 : INFO : PROGRESS: at 16.88% examples, 486249 words/s, in_qsize 5, out_qsize 0\n",
      "2017-05-29 15:51:25,132 : INFO : PROGRESS: at 16.98% examples, 486250 words/s, in_qsize 6, out_qsize 0\n",
      "2017-05-29 15:51:26,136 : INFO : PROGRESS: at 17.09% examples, 486222 words/s, in_qsize 5, out_qsize 0\n",
      "2017-05-29 15:51:27,142 : INFO : PROGRESS: at 17.19% examples, 486190 words/s, in_qsize 6, out_qsize 0\n",
      "2017-05-29 15:51:28,145 : INFO : PROGRESS: at 17.30% examples, 486176 words/s, in_qsize 6, out_qsize 0\n",
      "2017-05-29 15:51:29,147 : INFO : PROGRESS: at 17.40% examples, 486153 words/s, in_qsize 6, out_qsize 0\n",
      "2017-05-29 15:51:30,149 : INFO : PROGRESS: at 17.51% examples, 486069 words/s, in_qsize 6, out_qsize 0\n",
      "2017-05-29 15:51:31,157 : INFO : PROGRESS: at 17.62% examples, 486028 words/s, in_qsize 5, out_qsize 0\n",
      "2017-05-29 15:51:32,160 : INFO : PROGRESS: at 17.72% examples, 486001 words/s, in_qsize 6, out_qsize 0\n",
      "2017-05-29 15:51:33,162 : INFO : PROGRESS: at 17.82% examples, 485976 words/s, in_qsize 6, out_qsize 0\n",
      "2017-05-29 15:51:34,168 : INFO : PROGRESS: at 17.92% examples, 485946 words/s, in_qsize 6, out_qsize 0\n",
      "2017-05-29 15:51:35,171 : INFO : PROGRESS: at 18.02% examples, 485921 words/s, in_qsize 6, out_qsize 0\n",
      "2017-05-29 15:51:36,183 : INFO : PROGRESS: at 18.13% examples, 485921 words/s, in_qsize 6, out_qsize 0\n",
      "2017-05-29 15:51:37,187 : INFO : PROGRESS: at 18.23% examples, 485899 words/s, in_qsize 6, out_qsize 0\n",
      "2017-05-29 15:51:38,220 : INFO : PROGRESS: at 18.33% examples, 485819 words/s, in_qsize 6, out_qsize 0\n",
      "2017-05-29 15:51:39,234 : INFO : PROGRESS: at 18.44% examples, 485770 words/s, in_qsize 5, out_qsize 0\n",
      "2017-05-29 15:51:40,242 : INFO : PROGRESS: at 18.54% examples, 485746 words/s, in_qsize 6, out_qsize 0\n",
      "2017-05-29 15:51:41,268 : INFO : PROGRESS: at 18.64% examples, 485725 words/s, in_qsize 5, out_qsize 0\n",
      "2017-05-29 15:51:42,278 : INFO : PROGRESS: at 18.75% examples, 485785 words/s, in_qsize 6, out_qsize 0\n",
      "2017-05-29 15:51:43,297 : INFO : PROGRESS: at 18.86% examples, 485775 words/s, in_qsize 5, out_qsize 0\n",
      "2017-05-29 15:51:44,315 : INFO : PROGRESS: at 18.97% examples, 485808 words/s, in_qsize 6, out_qsize 0\n",
      "2017-05-29 15:51:45,320 : INFO : PROGRESS: at 19.07% examples, 485865 words/s, in_qsize 6, out_qsize 0\n",
      "2017-05-29 15:51:46,333 : INFO : PROGRESS: at 19.18% examples, 485859 words/s, in_qsize 6, out_qsize 0\n",
      "2017-05-29 15:51:47,347 : INFO : PROGRESS: at 19.28% examples, 485898 words/s, in_qsize 6, out_qsize 0\n",
      "2017-05-29 15:51:48,352 : INFO : PROGRESS: at 19.38% examples, 485913 words/s, in_qsize 5, out_qsize 0\n",
      "2017-05-29 15:51:49,360 : INFO : PROGRESS: at 19.49% examples, 485964 words/s, in_qsize 6, out_qsize 0\n",
      "2017-05-29 15:51:50,375 : INFO : PROGRESS: at 19.59% examples, 485941 words/s, in_qsize 5, out_qsize 0\n",
      "2017-05-29 15:51:51,377 : INFO : PROGRESS: at 19.70% examples, 485971 words/s, in_qsize 6, out_qsize 0\n",
      "2017-05-29 15:51:52,382 : INFO : PROGRESS: at 19.81% examples, 485992 words/s, in_qsize 6, out_qsize 0\n",
      "2017-05-29 15:51:53,417 : INFO : PROGRESS: at 19.91% examples, 485952 words/s, in_qsize 6, out_qsize 0\n",
      "2017-05-29 15:51:54,427 : INFO : PROGRESS: at 20.02% examples, 485995 words/s, in_qsize 6, out_qsize 0\n",
      "2017-05-29 15:51:55,449 : INFO : PROGRESS: at 20.13% examples, 485973 words/s, in_qsize 6, out_qsize 0\n",
      "2017-05-29 15:51:56,498 : INFO : PROGRESS: at 20.24% examples, 485990 words/s, in_qsize 6, out_qsize 0\n",
      "2017-05-29 15:51:57,539 : INFO : PROGRESS: at 20.35% examples, 486021 words/s, in_qsize 6, out_qsize 0\n",
      "2017-05-29 15:51:58,541 : INFO : PROGRESS: at 20.46% examples, 486101 words/s, in_qsize 5, out_qsize 0\n",
      "2017-05-29 15:51:59,569 : INFO : PROGRESS: at 20.56% examples, 486057 words/s, in_qsize 5, out_qsize 0\n",
      "2017-05-29 15:52:00,571 : INFO : PROGRESS: at 20.66% examples, 486046 words/s, in_qsize 6, out_qsize 0\n",
      "2017-05-29 15:52:01,613 : INFO : PROGRESS: at 20.76% examples, 486072 words/s, in_qsize 6, out_qsize 0\n",
      "2017-05-29 15:52:02,615 : INFO : PROGRESS: at 20.87% examples, 486095 words/s, in_qsize 6, out_qsize 0\n",
      "2017-05-29 15:52:03,650 : INFO : PROGRESS: at 20.98% examples, 486084 words/s, in_qsize 5, out_qsize 0\n",
      "2017-05-29 15:52:04,652 : INFO : PROGRESS: at 21.08% examples, 486107 words/s, in_qsize 5, out_qsize 0\n",
      "2017-05-29 15:52:05,691 : INFO : PROGRESS: at 21.19% examples, 486096 words/s, in_qsize 6, out_qsize 0\n",
      "2017-05-29 15:52:06,696 : INFO : PROGRESS: at 21.30% examples, 486159 words/s, in_qsize 6, out_qsize 0\n",
      "2017-05-29 15:52:07,724 : INFO : PROGRESS: at 21.40% examples, 486128 words/s, in_qsize 6, out_qsize 0\n",
      "2017-05-29 15:52:08,735 : INFO : PROGRESS: at 21.50% examples, 486175 words/s, in_qsize 6, out_qsize 0\n",
      "2017-05-29 15:52:09,740 : INFO : PROGRESS: at 21.61% examples, 486167 words/s, in_qsize 6, out_qsize 0\n",
      "2017-05-29 15:52:10,755 : INFO : PROGRESS: at 21.71% examples, 486166 words/s, in_qsize 6, out_qsize 0\n",
      "2017-05-29 15:52:11,763 : INFO : PROGRESS: at 21.81% examples, 486180 words/s, in_qsize 6, out_qsize 0\n",
      "2017-05-29 15:52:12,763 : INFO : PROGRESS: at 21.92% examples, 486161 words/s, in_qsize 5, out_qsize 0\n",
      "2017-05-29 15:52:13,773 : INFO : PROGRESS: at 22.03% examples, 486161 words/s, in_qsize 5, out_qsize 0\n",
      "2017-05-29 15:52:14,805 : INFO : PROGRESS: at 22.13% examples, 486162 words/s, in_qsize 6, out_qsize 0\n",
      "2017-05-29 15:52:15,821 : INFO : PROGRESS: at 22.23% examples, 486190 words/s, in_qsize 5, out_qsize 0\n",
      "2017-05-29 15:52:16,845 : INFO : PROGRESS: at 22.34% examples, 486201 words/s, in_qsize 6, out_qsize 0\n",
      "2017-05-29 15:52:17,885 : INFO : PROGRESS: at 22.44% examples, 486213 words/s, in_qsize 6, out_qsize 0\n",
      "2017-05-29 15:52:18,885 : INFO : PROGRESS: at 22.55% examples, 486246 words/s, in_qsize 5, out_qsize 0\n",
      "2017-05-29 15:52:19,886 : INFO : PROGRESS: at 22.65% examples, 486261 words/s, in_qsize 5, out_qsize 0\n",
      "2017-05-29 15:52:20,906 : INFO : PROGRESS: at 22.75% examples, 486255 words/s, in_qsize 6, out_qsize 0\n",
      "2017-05-29 15:52:21,909 : INFO : PROGRESS: at 22.86% examples, 486231 words/s, in_qsize 6, out_qsize 0\n",
      "2017-05-29 15:52:22,912 : INFO : PROGRESS: at 22.96% examples, 486256 words/s, in_qsize 6, out_qsize 0\n",
      "2017-05-29 15:52:23,938 : INFO : PROGRESS: at 23.07% examples, 486222 words/s, in_qsize 5, out_qsize 0\n",
      "2017-05-29 15:52:24,952 : INFO : PROGRESS: at 23.17% examples, 486261 words/s, in_qsize 6, out_qsize 0\n",
      "2017-05-29 15:52:25,984 : INFO : PROGRESS: at 23.27% examples, 486222 words/s, in_qsize 5, out_qsize 0\n",
      "2017-05-29 15:52:27,000 : INFO : PROGRESS: at 23.38% examples, 486257 words/s, in_qsize 6, out_qsize 0\n",
      "2017-05-29 15:52:28,007 : INFO : PROGRESS: at 23.49% examples, 486268 words/s, in_qsize 6, out_qsize 0\n",
      "2017-05-29 15:52:29,014 : INFO : PROGRESS: at 23.59% examples, 486304 words/s, in_qsize 6, out_qsize 0\n",
      "2017-05-29 15:52:30,016 : INFO : PROGRESS: at 23.69% examples, 486330 words/s, in_qsize 6, out_qsize 0\n",
      "2017-05-29 15:52:31,030 : INFO : PROGRESS: at 23.80% examples, 486327 words/s, in_qsize 6, out_qsize 0\n",
      "2017-05-29 15:52:32,058 : INFO : PROGRESS: at 23.91% examples, 486343 words/s, in_qsize 6, out_qsize 0\n",
      "2017-05-29 15:52:33,074 : INFO : PROGRESS: at 24.02% examples, 486341 words/s, in_qsize 6, out_qsize 0\n",
      "2017-05-29 15:52:34,079 : INFO : PROGRESS: at 24.13% examples, 486366 words/s, in_qsize 6, out_qsize 0\n",
      "2017-05-29 15:52:35,083 : INFO : PROGRESS: at 24.23% examples, 486373 words/s, in_qsize 5, out_qsize 0\n",
      "2017-05-29 15:52:36,094 : INFO : PROGRESS: at 24.34% examples, 486383 words/s, in_qsize 5, out_qsize 0\n",
      "2017-05-29 15:52:37,100 : INFO : PROGRESS: at 24.45% examples, 486394 words/s, in_qsize 5, out_qsize 0\n",
      "2017-05-29 15:52:38,119 : INFO : PROGRESS: at 24.55% examples, 486379 words/s, in_qsize 5, out_qsize 0\n",
      "2017-05-29 15:52:39,136 : INFO : PROGRESS: at 24.65% examples, 486410 words/s, in_qsize 6, out_qsize 0\n",
      "2017-05-29 15:52:40,147 : INFO : PROGRESS: at 24.76% examples, 486407 words/s, in_qsize 5, out_qsize 0\n",
      "2017-05-29 15:52:41,152 : INFO : PROGRESS: at 24.86% examples, 486427 words/s, in_qsize 6, out_qsize 0\n",
      "2017-05-29 15:52:42,178 : INFO : PROGRESS: at 24.97% examples, 486399 words/s, in_qsize 6, out_qsize 0\n",
      "2017-05-29 15:52:43,223 : INFO : PROGRESS: at 25.07% examples, 486399 words/s, in_qsize 6, out_qsize 0\n",
      "2017-05-29 15:52:44,237 : INFO : PROGRESS: at 25.18% examples, 486440 words/s, in_qsize 6, out_qsize 0\n",
      "2017-05-29 15:52:45,271 : INFO : PROGRESS: at 25.29% examples, 486409 words/s, in_qsize 6, out_qsize 0\n",
      "2017-05-29 15:52:46,272 : INFO : PROGRESS: at 25.40% examples, 486468 words/s, in_qsize 5, out_qsize 0\n",
      "2017-05-29 15:52:47,309 : INFO : PROGRESS: at 25.51% examples, 486422 words/s, in_qsize 5, out_qsize 0\n",
      "2017-05-29 15:52:48,337 : INFO : PROGRESS: at 25.61% examples, 486461 words/s, in_qsize 5, out_qsize 0\n",
      "2017-05-29 15:52:49,376 : INFO : PROGRESS: at 25.72% examples, 486478 words/s, in_qsize 5, out_qsize 0\n",
      "2017-05-29 15:52:50,410 : INFO : PROGRESS: at 25.83% examples, 486501 words/s, in_qsize 6, out_qsize 0\n",
      "2017-05-29 15:52:51,451 : INFO : PROGRESS: at 25.93% examples, 486519 words/s, in_qsize 5, out_qsize 0\n",
      "2017-05-29 15:52:52,458 : INFO : PROGRESS: at 26.04% examples, 486558 words/s, in_qsize 6, out_qsize 0\n",
      "2017-05-29 15:52:53,470 : INFO : PROGRESS: at 26.14% examples, 486542 words/s, in_qsize 6, out_qsize 0\n",
      "2017-05-29 15:52:54,487 : INFO : PROGRESS: at 26.25% examples, 486557 words/s, in_qsize 5, out_qsize 0\n",
      "2017-05-29 15:52:55,507 : INFO : PROGRESS: at 26.36% examples, 486577 words/s, in_qsize 5, out_qsize 0\n",
      "2017-05-29 15:52:56,521 : INFO : PROGRESS: at 26.46% examples, 486576 words/s, in_qsize 6, out_qsize 0\n",
      "2017-05-29 15:52:57,522 : INFO : PROGRESS: at 26.57% examples, 486607 words/s, in_qsize 6, out_qsize 0\n",
      "2017-05-29 15:52:58,540 : INFO : PROGRESS: at 26.68% examples, 486592 words/s, in_qsize 5, out_qsize 0\n",
      "2017-05-29 15:52:59,545 : INFO : PROGRESS: at 26.78% examples, 486600 words/s, in_qsize 5, out_qsize 0\n",
      "2017-05-29 15:53:00,547 : INFO : PROGRESS: at 26.89% examples, 486657 words/s, in_qsize 6, out_qsize 0\n",
      "2017-05-29 15:53:01,585 : INFO : PROGRESS: at 27.00% examples, 486619 words/s, in_qsize 6, out_qsize 0\n",
      "2017-05-29 15:53:02,599 : INFO : PROGRESS: at 27.10% examples, 486578 words/s, in_qsize 5, out_qsize 0\n",
      "2017-05-29 15:53:03,609 : INFO : PROGRESS: at 27.20% examples, 486540 words/s, in_qsize 5, out_qsize 0\n",
      "2017-05-29 15:53:04,627 : INFO : PROGRESS: at 27.31% examples, 486500 words/s, in_qsize 5, out_qsize 0\n",
      "2017-05-29 15:53:05,627 : INFO : PROGRESS: at 27.41% examples, 486523 words/s, in_qsize 5, out_qsize 0\n",
      "2017-05-29 15:53:06,655 : INFO : PROGRESS: at 27.51% examples, 486527 words/s, in_qsize 5, out_qsize 0\n",
      "2017-05-29 15:53:07,660 : INFO : PROGRESS: at 27.62% examples, 486568 words/s, in_qsize 5, out_qsize 0\n",
      "2017-05-29 15:53:08,688 : INFO : PROGRESS: at 27.72% examples, 486538 words/s, in_qsize 6, out_qsize 0\n",
      "2017-05-29 15:53:09,705 : INFO : PROGRESS: at 27.83% examples, 486571 words/s, in_qsize 6, out_qsize 0\n",
      "2017-05-29 15:53:10,726 : INFO : PROGRESS: at 27.94% examples, 486553 words/s, in_qsize 6, out_qsize 0\n",
      "2017-05-29 15:53:11,754 : INFO : PROGRESS: at 28.04% examples, 486564 words/s, in_qsize 6, out_qsize 0\n",
      "2017-05-29 15:53:12,774 : INFO : PROGRESS: at 28.14% examples, 486548 words/s, in_qsize 5, out_qsize 0\n",
      "2017-05-29 15:53:13,782 : INFO : PROGRESS: at 28.25% examples, 486561 words/s, in_qsize 5, out_qsize 0\n",
      "2017-05-29 15:53:14,816 : INFO : PROGRESS: at 28.35% examples, 486533 words/s, in_qsize 6, out_qsize 0\n",
      "2017-05-29 15:53:15,839 : INFO : PROGRESS: at 28.45% examples, 486547 words/s, in_qsize 5, out_qsize 0\n",
      "2017-05-29 15:53:16,857 : INFO : PROGRESS: at 28.57% examples, 486572 words/s, in_qsize 6, out_qsize 0\n",
      "2017-05-29 15:53:17,893 : INFO : PROGRESS: at 28.67% examples, 486528 words/s, in_qsize 6, out_qsize 0\n",
      "2017-05-29 15:53:18,894 : INFO : PROGRESS: at 28.78% examples, 486510 words/s, in_qsize 6, out_qsize 0\n",
      "2017-05-29 15:53:19,896 : INFO : PROGRESS: at 28.87% examples, 486523 words/s, in_qsize 6, out_qsize 0\n",
      "2017-05-29 15:53:20,901 : INFO : PROGRESS: at 28.98% examples, 486561 words/s, in_qsize 6, out_qsize 0\n",
      "2017-05-29 15:53:21,931 : INFO : PROGRESS: at 29.08% examples, 486518 words/s, in_qsize 6, out_qsize 0\n",
      "2017-05-29 15:53:22,970 : INFO : PROGRESS: at 29.19% examples, 486545 words/s, in_qsize 5, out_qsize 0\n",
      "2017-05-29 15:53:24,005 : INFO : PROGRESS: at 29.30% examples, 486560 words/s, in_qsize 6, out_qsize 0\n",
      "2017-05-29 15:53:25,005 : INFO : PROGRESS: at 29.40% examples, 486617 words/s, in_qsize 5, out_qsize 0\n",
      "2017-05-29 15:53:26,046 : INFO : PROGRESS: at 29.51% examples, 486569 words/s, in_qsize 6, out_qsize 0\n",
      "2017-05-29 15:53:27,050 : INFO : PROGRESS: at 29.61% examples, 486617 words/s, in_qsize 5, out_qsize 0\n",
      "2017-05-29 15:53:28,051 : INFO : PROGRESS: at 29.72% examples, 486600 words/s, in_qsize 5, out_qsize 0\n",
      "2017-05-29 15:53:29,055 : INFO : PROGRESS: at 29.82% examples, 486585 words/s, in_qsize 6, out_qsize 0\n",
      "2017-05-29 15:53:30,060 : INFO : PROGRESS: at 29.92% examples, 486597 words/s, in_qsize 6, out_qsize 0\n",
      "2017-05-29 15:53:31,073 : INFO : PROGRESS: at 30.02% examples, 486593 words/s, in_qsize 6, out_qsize 0\n",
      "2017-05-29 15:53:32,087 : INFO : PROGRESS: at 30.13% examples, 486590 words/s, in_qsize 6, out_qsize 0\n",
      "2017-05-29 15:53:33,094 : INFO : PROGRESS: at 30.23% examples, 486585 words/s, in_qsize 6, out_qsize 0\n",
      "2017-05-29 15:53:34,124 : INFO : PROGRESS: at 30.34% examples, 486590 words/s, in_qsize 6, out_qsize 0\n",
      "2017-05-29 15:53:35,134 : INFO : PROGRESS: at 30.44% examples, 486595 words/s, in_qsize 5, out_qsize 0\n",
      "2017-05-29 15:53:36,167 : INFO : PROGRESS: at 30.55% examples, 486596 words/s, in_qsize 6, out_qsize 0\n",
      "2017-05-29 15:53:37,180 : INFO : PROGRESS: at 30.66% examples, 486600 words/s, in_qsize 5, out_qsize 0\n",
      "2017-05-29 15:53:38,182 : INFO : PROGRESS: at 30.77% examples, 486620 words/s, in_qsize 6, out_qsize 0\n",
      "2017-05-29 15:53:39,197 : INFO : PROGRESS: at 30.87% examples, 486606 words/s, in_qsize 5, out_qsize 0\n",
      "2017-05-29 15:53:40,216 : INFO : PROGRESS: at 30.99% examples, 486603 words/s, in_qsize 6, out_qsize 0\n",
      "2017-05-29 15:53:41,218 : INFO : PROGRESS: at 31.09% examples, 486616 words/s, in_qsize 5, out_qsize 0\n",
      "2017-05-29 15:53:42,238 : INFO : PROGRESS: at 31.19% examples, 486634 words/s, in_qsize 5, out_qsize 0\n",
      "2017-05-29 15:53:43,247 : INFO : PROGRESS: at 31.30% examples, 486641 words/s, in_qsize 5, out_qsize 0\n",
      "2017-05-29 15:53:44,270 : INFO : PROGRESS: at 31.40% examples, 486648 words/s, in_qsize 6, out_qsize 0\n",
      "2017-05-29 15:53:45,271 : INFO : PROGRESS: at 31.51% examples, 486667 words/s, in_qsize 6, out_qsize 0\n",
      "2017-05-29 15:53:46,311 : INFO : PROGRESS: at 31.61% examples, 486654 words/s, in_qsize 6, out_qsize 0\n",
      "2017-05-29 15:53:47,318 : INFO : PROGRESS: at 31.72% examples, 486681 words/s, in_qsize 6, out_qsize 0\n",
      "2017-05-29 15:53:48,360 : INFO : PROGRESS: at 31.82% examples, 486639 words/s, in_qsize 6, out_qsize 0\n",
      "2017-05-29 15:53:49,369 : INFO : PROGRESS: at 31.93% examples, 486650 words/s, in_qsize 6, out_qsize 0\n",
      "2017-05-29 15:53:50,399 : INFO : PROGRESS: at 32.04% examples, 486652 words/s, in_qsize 6, out_qsize 0\n",
      "2017-05-29 15:53:51,408 : INFO : PROGRESS: at 32.15% examples, 486661 words/s, in_qsize 6, out_qsize 0\n",
      "2017-05-29 15:53:52,436 : INFO : PROGRESS: at 32.25% examples, 486666 words/s, in_qsize 5, out_qsize 0\n",
      "2017-05-29 15:53:53,455 : INFO : PROGRESS: at 32.36% examples, 486682 words/s, in_qsize 6, out_qsize 0\n",
      "2017-05-29 15:53:54,494 : INFO : PROGRESS: at 32.47% examples, 486687 words/s, in_qsize 6, out_qsize 0\n",
      "2017-05-29 15:53:55,501 : INFO : PROGRESS: at 32.57% examples, 486721 words/s, in_qsize 5, out_qsize 0\n",
      "2017-05-29 15:53:56,518 : INFO : PROGRESS: at 32.67% examples, 486702 words/s, in_qsize 6, out_qsize 0\n",
      "2017-05-29 15:53:57,553 : INFO : PROGRESS: at 32.78% examples, 486711 words/s, in_qsize 6, out_qsize 0\n",
      "2017-05-29 15:53:58,584 : INFO : PROGRESS: at 32.89% examples, 486739 words/s, in_qsize 5, out_qsize 0\n",
      "2017-05-29 15:53:59,616 : INFO : PROGRESS: at 33.00% examples, 486761 words/s, in_qsize 6, out_qsize 0\n",
      "2017-05-29 15:54:00,618 : INFO : PROGRESS: at 33.10% examples, 486785 words/s, in_qsize 5, out_qsize 0\n",
      "2017-05-29 15:54:01,658 : INFO : PROGRESS: at 33.21% examples, 486772 words/s, in_qsize 5, out_qsize 0\n",
      "2017-05-29 15:54:02,661 : INFO : PROGRESS: at 33.32% examples, 486814 words/s, in_qsize 6, out_qsize 0\n",
      "2017-05-29 15:54:03,688 : INFO : PROGRESS: at 33.43% examples, 486788 words/s, in_qsize 6, out_qsize 0\n",
      "2017-05-29 15:54:04,707 : INFO : PROGRESS: at 33.53% examples, 486777 words/s, in_qsize 5, out_qsize 0\n",
      "2017-05-29 15:54:05,710 : INFO : PROGRESS: at 33.64% examples, 486799 words/s, in_qsize 5, out_qsize 0\n",
      "2017-05-29 15:54:06,755 : INFO : PROGRESS: at 33.75% examples, 486777 words/s, in_qsize 6, out_qsize 1\n",
      "2017-05-29 15:54:07,796 : INFO : PROGRESS: at 33.86% examples, 486786 words/s, in_qsize 6, out_qsize 0\n",
      "2017-05-29 15:54:08,802 : INFO : PROGRESS: at 33.96% examples, 486827 words/s, in_qsize 6, out_qsize 0\n",
      "2017-05-29 15:54:09,841 : INFO : PROGRESS: at 34.07% examples, 486790 words/s, in_qsize 6, out_qsize 0\n",
      "2017-05-29 15:54:10,841 : INFO : PROGRESS: at 34.17% examples, 486831 words/s, in_qsize 5, out_qsize 0\n",
      "2017-05-29 15:54:11,859 : INFO : PROGRESS: at 34.28% examples, 486818 words/s, in_qsize 6, out_qsize 0\n",
      "2017-05-29 15:54:12,862 : INFO : PROGRESS: at 34.38% examples, 486829 words/s, in_qsize 6, out_qsize 0\n",
      "2017-05-29 15:54:13,882 : INFO : PROGRESS: at 34.48% examples, 486821 words/s, in_qsize 6, out_qsize 0\n",
      "2017-05-29 15:54:14,900 : INFO : PROGRESS: at 34.59% examples, 486811 words/s, in_qsize 5, out_qsize 1\n",
      "2017-05-29 15:54:15,924 : INFO : PROGRESS: at 34.70% examples, 486826 words/s, in_qsize 6, out_qsize 0\n",
      "2017-05-29 15:54:16,937 : INFO : PROGRESS: at 34.80% examples, 486819 words/s, in_qsize 6, out_qsize 0\n",
      "2017-05-29 15:54:17,946 : INFO : PROGRESS: at 34.90% examples, 486828 words/s, in_qsize 6, out_qsize 0\n",
      "2017-05-29 15:54:18,970 : INFO : PROGRESS: at 35.01% examples, 486816 words/s, in_qsize 6, out_qsize 0\n",
      "2017-05-29 15:54:19,981 : INFO : PROGRESS: at 35.11% examples, 486845 words/s, in_qsize 5, out_qsize 0\n",
      "2017-05-29 15:54:20,996 : INFO : PROGRESS: at 35.22% examples, 486843 words/s, in_qsize 5, out_qsize 0\n",
      "2017-05-29 15:54:22,008 : INFO : PROGRESS: at 35.32% examples, 486868 words/s, in_qsize 5, out_qsize 0\n",
      "2017-05-29 15:54:23,032 : INFO : PROGRESS: at 35.43% examples, 486846 words/s, in_qsize 6, out_qsize 0\n",
      "2017-05-29 15:54:24,076 : INFO : PROGRESS: at 35.54% examples, 486850 words/s, in_qsize 6, out_qsize 0\n",
      "2017-05-29 15:54:25,122 : INFO : PROGRESS: at 35.64% examples, 486853 words/s, in_qsize 5, out_qsize 0\n",
      "2017-05-29 15:54:26,152 : INFO : PROGRESS: at 35.75% examples, 486870 words/s, in_qsize 6, out_qsize 0\n",
      "2017-05-29 15:54:27,188 : INFO : PROGRESS: at 35.85% examples, 486896 words/s, in_qsize 6, out_qsize 0\n",
      "2017-05-29 15:54:28,225 : INFO : PROGRESS: at 35.96% examples, 486903 words/s, in_qsize 6, out_qsize 0\n",
      "2017-05-29 15:54:29,230 : INFO : PROGRESS: at 36.07% examples, 486943 words/s, in_qsize 6, out_qsize 0\n",
      "2017-05-29 15:54:30,254 : INFO : PROGRESS: at 36.17% examples, 486927 words/s, in_qsize 6, out_qsize 0\n",
      "2017-05-29 15:54:31,263 : INFO : PROGRESS: at 36.28% examples, 486957 words/s, in_qsize 5, out_qsize 0\n",
      "2017-05-29 15:54:32,274 : INFO : PROGRESS: at 36.39% examples, 486955 words/s, in_qsize 6, out_qsize 0\n",
      "2017-05-29 15:54:33,286 : INFO : PROGRESS: at 36.49% examples, 486958 words/s, in_qsize 5, out_qsize 0\n",
      "2017-05-29 15:54:34,310 : INFO : PROGRESS: at 36.59% examples, 486941 words/s, in_qsize 6, out_qsize 0\n",
      "2017-05-29 15:54:35,336 : INFO : PROGRESS: at 36.70% examples, 486944 words/s, in_qsize 6, out_qsize 0\n",
      "2017-05-29 15:54:36,348 : INFO : PROGRESS: at 36.80% examples, 486943 words/s, in_qsize 6, out_qsize 0\n",
      "2017-05-29 15:54:37,351 : INFO : PROGRESS: at 36.90% examples, 486946 words/s, in_qsize 6, out_qsize 0\n",
      "2017-05-29 15:54:38,374 : INFO : PROGRESS: at 37.01% examples, 486955 words/s, in_qsize 5, out_qsize 0\n",
      "2017-05-29 15:54:39,380 : INFO : PROGRESS: at 37.11% examples, 486966 words/s, in_qsize 6, out_qsize 0\n",
      "2017-05-29 15:54:40,412 : INFO : PROGRESS: at 37.22% examples, 486967 words/s, in_qsize 5, out_qsize 0\n",
      "2017-05-29 15:54:41,420 : INFO : PROGRESS: at 37.33% examples, 486973 words/s, in_qsize 6, out_qsize 0\n",
      "2017-05-29 15:54:42,448 : INFO : PROGRESS: at 37.44% examples, 486983 words/s, in_qsize 6, out_qsize 0\n",
      "2017-05-29 15:54:43,479 : INFO : PROGRESS: at 37.55% examples, 487002 words/s, in_qsize 5, out_qsize 0\n",
      "2017-05-29 15:54:44,501 : INFO : PROGRESS: at 37.67% examples, 487018 words/s, in_qsize 6, out_qsize 0\n",
      "2017-05-29 15:54:45,514 : INFO : PROGRESS: at 37.77% examples, 487016 words/s, in_qsize 6, out_qsize 0\n",
      "2017-05-29 15:54:46,516 : INFO : PROGRESS: at 37.87% examples, 487052 words/s, in_qsize 5, out_qsize 0\n",
      "2017-05-29 15:54:47,535 : INFO : PROGRESS: at 37.98% examples, 487041 words/s, in_qsize 5, out_qsize 0\n",
      "2017-05-29 15:54:48,540 : INFO : PROGRESS: at 38.08% examples, 487075 words/s, in_qsize 6, out_qsize 0\n",
      "2017-05-29 15:54:49,545 : INFO : PROGRESS: at 38.19% examples, 487056 words/s, in_qsize 5, out_qsize 0\n",
      "2017-05-29 15:54:50,567 : INFO : PROGRESS: at 38.29% examples, 487067 words/s, in_qsize 6, out_qsize 0\n",
      "2017-05-29 15:54:51,577 : INFO : PROGRESS: at 38.39% examples, 487061 words/s, in_qsize 5, out_qsize 0\n",
      "2017-05-29 15:54:52,578 : INFO : PROGRESS: at 38.50% examples, 487078 words/s, in_qsize 6, out_qsize 0\n",
      "2017-05-29 15:54:53,599 : INFO : PROGRESS: at 38.61% examples, 487073 words/s, in_qsize 5, out_qsize 0\n",
      "2017-05-29 15:54:54,599 : INFO : PROGRESS: at 38.72% examples, 487085 words/s, in_qsize 6, out_qsize 0\n",
      "2017-05-29 15:54:55,606 : INFO : PROGRESS: at 38.82% examples, 487093 words/s, in_qsize 6, out_qsize 0\n",
      "2017-05-29 15:54:56,626 : INFO : PROGRESS: at 38.92% examples, 487081 words/s, in_qsize 5, out_qsize 0\n",
      "2017-05-29 15:54:57,641 : INFO : PROGRESS: at 39.03% examples, 487100 words/s, in_qsize 5, out_qsize 0\n",
      "2017-05-29 15:54:58,655 : INFO : PROGRESS: at 39.14% examples, 487084 words/s, in_qsize 6, out_qsize 0\n",
      "2017-05-29 15:54:59,671 : INFO : PROGRESS: at 39.24% examples, 487100 words/s, in_qsize 6, out_qsize 0\n",
      "2017-05-29 15:55:00,673 : INFO : PROGRESS: at 39.34% examples, 487104 words/s, in_qsize 6, out_qsize 0\n",
      "2017-05-29 15:55:01,678 : INFO : PROGRESS: at 39.44% examples, 487098 words/s, in_qsize 6, out_qsize 0\n",
      "2017-05-29 15:55:02,718 : INFO : PROGRESS: at 39.55% examples, 487084 words/s, in_qsize 5, out_qsize 0\n",
      "2017-05-29 15:55:03,762 : INFO : PROGRESS: at 39.66% examples, 487086 words/s, in_qsize 6, out_qsize 0\n",
      "2017-05-29 15:55:04,773 : INFO : PROGRESS: at 39.77% examples, 487117 words/s, in_qsize 5, out_qsize 0\n",
      "2017-05-29 15:55:05,783 : INFO : PROGRESS: at 39.88% examples, 487120 words/s, in_qsize 6, out_qsize 0\n",
      "2017-05-29 15:55:06,791 : INFO : PROGRESS: at 39.98% examples, 487124 words/s, in_qsize 5, out_qsize 0\n",
      "2017-05-29 15:55:07,803 : INFO : PROGRESS: at 40.09% examples, 487121 words/s, in_qsize 5, out_qsize 0\n",
      "2017-05-29 15:55:08,821 : INFO : PROGRESS: at 40.20% examples, 487134 words/s, in_qsize 5, out_qsize 0\n",
      "2017-05-29 15:55:09,830 : INFO : PROGRESS: at 40.30% examples, 487144 words/s, in_qsize 6, out_qsize 0\n",
      "2017-05-29 15:55:10,832 : INFO : PROGRESS: at 40.41% examples, 487155 words/s, in_qsize 6, out_qsize 0\n",
      "2017-05-29 15:55:11,846 : INFO : PROGRESS: at 40.51% examples, 487148 words/s, in_qsize 5, out_qsize 0\n",
      "2017-05-29 15:55:12,856 : INFO : PROGRESS: at 40.62% examples, 487151 words/s, in_qsize 5, out_qsize 0\n",
      "2017-05-29 15:55:13,894 : INFO : PROGRESS: at 40.72% examples, 487121 words/s, in_qsize 6, out_qsize 0\n",
      "2017-05-29 15:55:14,898 : INFO : PROGRESS: at 40.82% examples, 487130 words/s, in_qsize 6, out_qsize 0\n",
      "2017-05-29 15:55:15,933 : INFO : PROGRESS: at 40.93% examples, 487118 words/s, in_qsize 6, out_qsize 0\n",
      "2017-05-29 15:55:16,936 : INFO : PROGRESS: at 41.04% examples, 487150 words/s, in_qsize 6, out_qsize 0\n",
      "2017-05-29 15:55:17,967 : INFO : PROGRESS: at 41.14% examples, 487129 words/s, in_qsize 5, out_qsize 0\n",
      "2017-05-29 15:55:18,987 : INFO : PROGRESS: at 41.25% examples, 487139 words/s, in_qsize 6, out_qsize 0\n",
      "2017-05-29 15:55:20,011 : INFO : PROGRESS: at 41.35% examples, 487127 words/s, in_qsize 5, out_qsize 0\n",
      "2017-05-29 15:55:21,040 : INFO : PROGRESS: at 41.46% examples, 487125 words/s, in_qsize 6, out_qsize 0\n",
      "2017-05-29 15:55:22,044 : INFO : PROGRESS: at 41.56% examples, 487138 words/s, in_qsize 6, out_qsize 0\n",
      "2017-05-29 15:55:23,048 : INFO : PROGRESS: at 41.66% examples, 487151 words/s, in_qsize 5, out_qsize 0\n",
      "2017-05-29 15:55:24,069 : INFO : PROGRESS: at 41.77% examples, 487138 words/s, in_qsize 6, out_qsize 0\n",
      "2017-05-29 15:55:25,098 : INFO : PROGRESS: at 41.88% examples, 487144 words/s, in_qsize 5, out_qsize 0\n",
      "2017-05-29 15:55:26,103 : INFO : PROGRESS: at 41.98% examples, 487151 words/s, in_qsize 6, out_qsize 0\n",
      "2017-05-29 15:55:27,133 : INFO : PROGRESS: at 42.09% examples, 487145 words/s, in_qsize 5, out_qsize 0\n",
      "2017-05-29 15:55:28,152 : INFO : PROGRESS: at 42.19% examples, 487157 words/s, in_qsize 6, out_qsize 0\n",
      "2017-05-29 15:55:29,176 : INFO : PROGRESS: at 42.30% examples, 487160 words/s, in_qsize 6, out_qsize 0\n",
      "2017-05-29 15:55:30,210 : INFO : PROGRESS: at 42.40% examples, 487170 words/s, in_qsize 5, out_qsize 0\n",
      "2017-05-29 15:55:31,213 : INFO : PROGRESS: at 42.51% examples, 487204 words/s, in_qsize 5, out_qsize 0\n",
      "2017-05-29 15:55:32,232 : INFO : PROGRESS: at 42.61% examples, 487185 words/s, in_qsize 6, out_qsize 0\n",
      "2017-05-29 15:55:33,240 : INFO : PROGRESS: at 42.71% examples, 487171 words/s, in_qsize 6, out_qsize 0\n",
      "2017-05-29 15:55:34,257 : INFO : PROGRESS: at 42.82% examples, 487186 words/s, in_qsize 6, out_qsize 0\n",
      "2017-05-29 15:55:35,280 : INFO : PROGRESS: at 42.93% examples, 487173 words/s, in_qsize 5, out_qsize 0\n",
      "2017-05-29 15:55:36,298 : INFO : PROGRESS: at 43.03% examples, 487184 words/s, in_qsize 5, out_qsize 0\n",
      "2017-05-29 15:55:37,299 : INFO : PROGRESS: at 43.13% examples, 487201 words/s, in_qsize 6, out_qsize 0\n",
      "2017-05-29 15:55:38,309 : INFO : PROGRESS: at 43.24% examples, 487199 words/s, in_qsize 6, out_qsize 0\n",
      "2017-05-29 15:55:39,323 : INFO : PROGRESS: at 43.34% examples, 487193 words/s, in_qsize 6, out_qsize 1\n",
      "2017-05-29 15:55:40,342 : INFO : PROGRESS: at 43.45% examples, 487209 words/s, in_qsize 6, out_qsize 0\n",
      "2017-05-29 15:55:41,358 : INFO : PROGRESS: at 43.55% examples, 487218 words/s, in_qsize 5, out_qsize 0\n",
      "2017-05-29 15:55:42,394 : INFO : PROGRESS: at 43.66% examples, 487232 words/s, in_qsize 6, out_qsize 0\n",
      "2017-05-29 15:55:43,400 : INFO : PROGRESS: at 43.77% examples, 487261 words/s, in_qsize 5, out_qsize 0\n",
      "2017-05-29 15:55:44,438 : INFO : PROGRESS: at 43.87% examples, 487233 words/s, in_qsize 5, out_qsize 0\n",
      "2017-05-29 15:55:45,488 : INFO : PROGRESS: at 43.99% examples, 487235 words/s, in_qsize 5, out_qsize 0\n",
      "2017-05-29 15:55:46,494 : INFO : PROGRESS: at 44.10% examples, 487267 words/s, in_qsize 6, out_qsize 0\n",
      "2017-05-29 15:55:47,520 : INFO : PROGRESS: at 44.20% examples, 487246 words/s, in_qsize 6, out_qsize 0\n",
      "2017-05-29 15:55:48,522 : INFO : PROGRESS: at 44.31% examples, 487258 words/s, in_qsize 6, out_qsize 0\n",
      "2017-05-29 15:55:49,544 : INFO : PROGRESS: at 44.42% examples, 487266 words/s, in_qsize 5, out_qsize 0\n",
      "2017-05-29 15:55:50,568 : INFO : PROGRESS: at 44.52% examples, 487272 words/s, in_qsize 5, out_qsize 0\n",
      "2017-05-29 15:55:51,580 : INFO : PROGRESS: at 44.63% examples, 487273 words/s, in_qsize 6, out_qsize 0\n",
      "2017-05-29 15:55:52,594 : INFO : PROGRESS: at 44.73% examples, 487286 words/s, in_qsize 5, out_qsize 0\n",
      "2017-05-29 15:55:53,603 : INFO : PROGRESS: at 44.84% examples, 487290 words/s, in_qsize 5, out_qsize 0\n",
      "2017-05-29 15:55:54,614 : INFO : PROGRESS: at 44.94% examples, 487289 words/s, in_qsize 5, out_qsize 0\n",
      "2017-05-29 15:55:55,627 : INFO : PROGRESS: at 45.05% examples, 487300 words/s, in_qsize 5, out_qsize 0\n",
      "2017-05-29 15:55:56,636 : INFO : PROGRESS: at 45.15% examples, 487305 words/s, in_qsize 6, out_qsize 0\n",
      "2017-05-29 15:55:57,647 : INFO : PROGRESS: at 45.26% examples, 487311 words/s, in_qsize 6, out_qsize 0\n",
      "2017-05-29 15:55:58,655 : INFO : PROGRESS: at 45.37% examples, 487313 words/s, in_qsize 6, out_qsize 0\n",
      "2017-05-29 15:55:59,657 : INFO : PROGRESS: at 45.48% examples, 487327 words/s, in_qsize 6, out_qsize 0\n",
      "2017-05-29 15:56:00,676 : INFO : PROGRESS: at 45.58% examples, 487338 words/s, in_qsize 6, out_qsize 0\n",
      "2017-05-29 15:56:01,682 : INFO : PROGRESS: at 45.68% examples, 487341 words/s, in_qsize 6, out_qsize 0\n",
      "2017-05-29 15:56:02,686 : INFO : PROGRESS: at 45.79% examples, 487340 words/s, in_qsize 5, out_qsize 0\n",
      "2017-05-29 15:56:03,688 : INFO : PROGRESS: at 45.89% examples, 487348 words/s, in_qsize 6, out_qsize 0\n",
      "2017-05-29 15:56:04,694 : INFO : PROGRESS: at 45.99% examples, 487341 words/s, in_qsize 6, out_qsize 0\n",
      "2017-05-29 15:56:05,696 : INFO : PROGRESS: at 46.10% examples, 487363 words/s, in_qsize 5, out_qsize 0\n",
      "2017-05-29 15:56:06,705 : INFO : PROGRESS: at 46.21% examples, 487365 words/s, in_qsize 6, out_qsize 0\n",
      "2017-05-29 15:56:07,706 : INFO : PROGRESS: at 46.31% examples, 487366 words/s, in_qsize 6, out_qsize 0\n",
      "2017-05-29 15:56:08,718 : INFO : PROGRESS: at 46.41% examples, 487371 words/s, in_qsize 6, out_qsize 0\n",
      "2017-05-29 15:56:09,719 : INFO : PROGRESS: at 46.52% examples, 487383 words/s, in_qsize 6, out_qsize 0\n",
      "2017-05-29 15:56:10,755 : INFO : PROGRESS: at 46.63% examples, 487354 words/s, in_qsize 5, out_qsize 0\n",
      "2017-05-29 15:56:11,756 : INFO : PROGRESS: at 46.74% examples, 487385 words/s, in_qsize 6, out_qsize 0\n",
      "2017-05-29 15:56:12,778 : INFO : PROGRESS: at 46.84% examples, 487371 words/s, in_qsize 6, out_qsize 0\n",
      "2017-05-29 15:56:13,781 : INFO : PROGRESS: at 46.95% examples, 487384 words/s, in_qsize 6, out_qsize 0\n",
      "2017-05-29 15:56:14,794 : INFO : PROGRESS: at 47.05% examples, 487382 words/s, in_qsize 5, out_qsize 0\n",
      "2017-05-29 15:56:15,815 : INFO : PROGRESS: at 47.16% examples, 487371 words/s, in_qsize 6, out_qsize 0\n",
      "2017-05-29 15:56:16,830 : INFO : PROGRESS: at 47.26% examples, 487362 words/s, in_qsize 5, out_qsize 0\n",
      "2017-05-29 15:56:17,836 : INFO : PROGRESS: at 47.37% examples, 487352 words/s, in_qsize 6, out_qsize 0\n",
      "2017-05-29 15:56:18,838 : INFO : PROGRESS: at 47.46% examples, 487361 words/s, in_qsize 5, out_qsize 0\n",
      "2017-05-29 15:56:19,838 : INFO : PROGRESS: at 47.57% examples, 487369 words/s, in_qsize 6, out_qsize 0\n",
      "2017-05-29 15:56:20,861 : INFO : PROGRESS: at 47.67% examples, 487355 words/s, in_qsize 5, out_qsize 0\n",
      "2017-05-29 15:56:21,867 : INFO : PROGRESS: at 47.78% examples, 487360 words/s, in_qsize 5, out_qsize 0\n",
      "2017-05-29 15:56:22,904 : INFO : PROGRESS: at 47.89% examples, 487352 words/s, in_qsize 6, out_qsize 0\n",
      "2017-05-29 15:56:23,919 : INFO : PROGRESS: at 47.99% examples, 487370 words/s, in_qsize 6, out_qsize 0\n",
      "2017-05-29 15:56:24,927 : INFO : PROGRESS: at 48.09% examples, 487373 words/s, in_qsize 5, out_qsize 0\n",
      "2017-05-29 15:56:25,944 : INFO : PROGRESS: at 48.20% examples, 487384 words/s, in_qsize 5, out_qsize 0\n",
      "2017-05-29 15:56:26,954 : INFO : PROGRESS: at 48.30% examples, 487390 words/s, in_qsize 5, out_qsize 0\n",
      "2017-05-29 15:56:27,957 : INFO : PROGRESS: at 48.41% examples, 487400 words/s, in_qsize 5, out_qsize 0\n",
      "2017-05-29 15:56:28,967 : INFO : PROGRESS: at 48.51% examples, 487405 words/s, in_qsize 6, out_qsize 0\n",
      "2017-05-29 15:56:29,979 : INFO : PROGRESS: at 48.62% examples, 487422 words/s, in_qsize 6, out_qsize 0\n",
      "2017-05-29 15:56:30,987 : INFO : PROGRESS: at 48.73% examples, 487421 words/s, in_qsize 6, out_qsize 0\n",
      "2017-05-29 15:56:31,988 : INFO : PROGRESS: at 48.83% examples, 487426 words/s, in_qsize 6, out_qsize 0\n",
      "2017-05-29 15:56:33,012 : INFO : PROGRESS: at 48.93% examples, 487429 words/s, in_qsize 6, out_qsize 0\n",
      "2017-05-29 15:56:34,015 : INFO : PROGRESS: at 49.04% examples, 487449 words/s, in_qsize 5, out_qsize 0\n",
      "2017-05-29 15:56:35,049 : INFO : PROGRESS: at 49.14% examples, 487426 words/s, in_qsize 6, out_qsize 0\n",
      "2017-05-29 15:56:36,081 : INFO : PROGRESS: at 49.25% examples, 487439 words/s, in_qsize 5, out_qsize 0\n",
      "2017-05-29 15:56:37,101 : INFO : PROGRESS: at 49.35% examples, 487451 words/s, in_qsize 5, out_qsize 0\n",
      "2017-05-29 15:56:38,117 : INFO : PROGRESS: at 49.46% examples, 487445 words/s, in_qsize 5, out_qsize 0\n",
      "2017-05-29 15:56:39,166 : INFO : PROGRESS: at 49.57% examples, 487445 words/s, in_qsize 6, out_qsize 0\n",
      "2017-05-29 15:56:40,201 : INFO : PROGRESS: at 49.68% examples, 487458 words/s, in_qsize 5, out_qsize 0\n",
      "2017-05-29 15:56:41,202 : INFO : PROGRESS: at 49.78% examples, 487469 words/s, in_qsize 6, out_qsize 0\n",
      "2017-05-29 15:56:42,212 : INFO : PROGRESS: at 49.88% examples, 487490 words/s, in_qsize 6, out_qsize 0\n",
      "2017-05-29 15:56:43,231 : INFO : PROGRESS: at 49.99% examples, 487483 words/s, in_qsize 6, out_qsize 0\n",
      "2017-05-29 15:56:44,239 : INFO : PROGRESS: at 50.09% examples, 487482 words/s, in_qsize 5, out_qsize 0\n",
      "2017-05-29 15:56:45,256 : INFO : PROGRESS: at 50.20% examples, 487489 words/s, in_qsize 6, out_qsize 0\n",
      "2017-05-29 15:56:46,259 : INFO : PROGRESS: at 50.30% examples, 487493 words/s, in_qsize 5, out_qsize 0\n",
      "2017-05-29 15:56:47,274 : INFO : PROGRESS: at 50.41% examples, 487509 words/s, in_qsize 6, out_qsize 0\n",
      "2017-05-29 15:56:48,295 : INFO : PROGRESS: at 50.51% examples, 487500 words/s, in_qsize 6, out_qsize 0\n",
      "2017-05-29 15:56:49,295 : INFO : PROGRESS: at 50.62% examples, 487514 words/s, in_qsize 6, out_qsize 0\n",
      "2017-05-29 15:56:50,297 : INFO : PROGRESS: at 50.73% examples, 487525 words/s, in_qsize 5, out_qsize 0\n",
      "2017-05-29 15:56:51,325 : INFO : PROGRESS: at 50.84% examples, 487506 words/s, in_qsize 6, out_qsize 0\n",
      "2017-05-29 15:56:52,325 : INFO : PROGRESS: at 50.95% examples, 487516 words/s, in_qsize 5, out_qsize 0\n",
      "2017-05-29 15:56:53,351 : INFO : PROGRESS: at 51.05% examples, 487518 words/s, in_qsize 6, out_qsize 0\n",
      "2017-05-29 15:56:54,355 : INFO : PROGRESS: at 51.16% examples, 487523 words/s, in_qsize 6, out_qsize 0\n",
      "2017-05-29 15:56:55,379 : INFO : PROGRESS: at 51.26% examples, 487531 words/s, in_qsize 6, out_qsize 0\n",
      "2017-05-29 15:56:56,387 : INFO : PROGRESS: at 51.37% examples, 487532 words/s, in_qsize 5, out_qsize 1\n",
      "2017-05-29 15:56:57,388 : INFO : PROGRESS: at 51.47% examples, 487540 words/s, in_qsize 5, out_qsize 0\n",
      "2017-05-29 15:56:58,397 : INFO : PROGRESS: at 51.57% examples, 487524 words/s, in_qsize 5, out_qsize 0\n",
      "2017-05-29 15:56:59,412 : INFO : PROGRESS: at 51.68% examples, 487530 words/s, in_qsize 6, out_qsize 0\n",
      "2017-05-29 15:57:00,428 : INFO : PROGRESS: at 51.78% examples, 487525 words/s, in_qsize 6, out_qsize 0\n",
      "2017-05-29 15:57:01,430 : INFO : PROGRESS: at 51.89% examples, 487538 words/s, in_qsize 5, out_qsize 0\n",
      "2017-05-29 15:57:02,437 : INFO : PROGRESS: at 52.00% examples, 487545 words/s, in_qsize 6, out_qsize 0\n",
      "2017-05-29 15:57:03,438 : INFO : PROGRESS: at 52.10% examples, 487534 words/s, in_qsize 6, out_qsize 0\n",
      "2017-05-29 15:57:04,455 : INFO : PROGRESS: at 52.21% examples, 487528 words/s, in_qsize 5, out_qsize 0\n",
      "2017-05-29 15:57:05,472 : INFO : PROGRESS: at 52.31% examples, 487537 words/s, in_qsize 5, out_qsize 0\n",
      "2017-05-29 15:57:06,478 : INFO : PROGRESS: at 52.42% examples, 487553 words/s, in_qsize 6, out_qsize 0\n",
      "2017-05-29 15:57:07,493 : INFO : PROGRESS: at 52.52% examples, 487547 words/s, in_qsize 5, out_qsize 0\n",
      "2017-05-29 15:57:08,507 : INFO : PROGRESS: at 52.63% examples, 487574 words/s, in_qsize 6, out_qsize 0\n",
      "2017-05-29 15:57:09,516 : INFO : PROGRESS: at 52.73% examples, 487573 words/s, in_qsize 5, out_qsize 0\n",
      "2017-05-29 15:57:10,527 : INFO : PROGRESS: at 52.84% examples, 487587 words/s, in_qsize 5, out_qsize 0\n",
      "2017-05-29 15:57:11,529 : INFO : PROGRESS: at 52.94% examples, 487585 words/s, in_qsize 6, out_qsize 0\n",
      "2017-05-29 15:57:12,540 : INFO : PROGRESS: at 53.05% examples, 487587 words/s, in_qsize 6, out_qsize 0\n",
      "2017-05-29 15:57:13,566 : INFO : PROGRESS: at 53.15% examples, 487573 words/s, in_qsize 6, out_qsize 0\n",
      "2017-05-29 15:57:14,571 : INFO : PROGRESS: at 53.26% examples, 487581 words/s, in_qsize 5, out_qsize 0\n",
      "2017-05-29 15:57:15,597 : INFO : PROGRESS: at 53.37% examples, 487561 words/s, in_qsize 5, out_qsize 0\n",
      "2017-05-29 15:57:16,611 : INFO : PROGRESS: at 53.48% examples, 487557 words/s, in_qsize 5, out_qsize 0\n",
      "2017-05-29 15:57:17,634 : INFO : PROGRESS: at 53.58% examples, 487568 words/s, in_qsize 6, out_qsize 0\n",
      "2017-05-29 15:57:18,654 : INFO : PROGRESS: at 53.69% examples, 487558 words/s, in_qsize 6, out_qsize 0\n",
      "2017-05-29 15:57:19,658 : INFO : PROGRESS: at 53.79% examples, 487566 words/s, in_qsize 6, out_qsize 0\n",
      "2017-05-29 15:57:20,687 : INFO : PROGRESS: at 53.90% examples, 487564 words/s, in_qsize 5, out_qsize 0\n",
      "2017-05-29 15:57:21,692 : INFO : PROGRESS: at 54.01% examples, 487592 words/s, in_qsize 6, out_qsize 0\n",
      "2017-05-29 15:57:22,714 : INFO : PROGRESS: at 54.10% examples, 487579 words/s, in_qsize 5, out_qsize 0\n",
      "2017-05-29 15:57:23,752 : INFO : PROGRESS: at 54.21% examples, 487589 words/s, in_qsize 5, out_qsize 0\n",
      "2017-05-29 15:57:24,760 : INFO : PROGRESS: at 54.32% examples, 487607 words/s, in_qsize 6, out_qsize 0\n",
      "2017-05-29 15:57:25,768 : INFO : PROGRESS: at 54.42% examples, 487607 words/s, in_qsize 6, out_qsize 0\n",
      "2017-05-29 15:57:26,772 : INFO : PROGRESS: at 54.53% examples, 487613 words/s, in_qsize 6, out_qsize 0\n",
      "2017-05-29 15:57:27,807 : INFO : PROGRESS: at 54.64% examples, 487609 words/s, in_qsize 6, out_qsize 0\n",
      "2017-05-29 15:57:28,816 : INFO : PROGRESS: at 54.74% examples, 487629 words/s, in_qsize 5, out_qsize 0\n",
      "2017-05-29 15:57:29,829 : INFO : PROGRESS: at 54.84% examples, 487625 words/s, in_qsize 5, out_qsize 0\n",
      "2017-05-29 15:57:30,840 : INFO : PROGRESS: at 54.95% examples, 487631 words/s, in_qsize 6, out_qsize 0\n",
      "2017-05-29 15:57:31,859 : INFO : PROGRESS: at 55.05% examples, 487625 words/s, in_qsize 5, out_qsize 0\n",
      "2017-05-29 15:57:32,863 : INFO : PROGRESS: at 55.15% examples, 487628 words/s, in_qsize 6, out_qsize 0\n",
      "2017-05-29 15:57:33,898 : INFO : PROGRESS: at 55.27% examples, 487624 words/s, in_qsize 5, out_qsize 0\n",
      "2017-05-29 15:57:34,916 : INFO : PROGRESS: at 55.38% examples, 487631 words/s, in_qsize 5, out_qsize 0\n",
      "2017-05-29 15:57:35,927 : INFO : PROGRESS: at 55.48% examples, 487632 words/s, in_qsize 6, out_qsize 0\n",
      "2017-05-29 15:57:36,929 : INFO : PROGRESS: at 55.58% examples, 487653 words/s, in_qsize 5, out_qsize 0\n",
      "2017-05-29 15:57:37,955 : INFO : PROGRESS: at 55.68% examples, 487629 words/s, in_qsize 5, out_qsize 0\n",
      "2017-05-29 15:57:39,009 : INFO : PROGRESS: at 55.79% examples, 487624 words/s, in_qsize 6, out_qsize 0\n",
      "2017-05-29 15:57:40,048 : INFO : PROGRESS: at 55.90% examples, 487633 words/s, in_qsize 5, out_qsize 0\n",
      "2017-05-29 15:57:41,056 : INFO : PROGRESS: at 56.00% examples, 487650 words/s, in_qsize 6, out_qsize 0\n",
      "2017-05-29 15:57:42,080 : INFO : PROGRESS: at 56.11% examples, 487639 words/s, in_qsize 5, out_qsize 0\n",
      "2017-05-29 15:57:43,121 : INFO : PROGRESS: at 56.22% examples, 487644 words/s, in_qsize 6, out_qsize 0\n",
      "2017-05-29 15:57:44,156 : INFO : PROGRESS: at 56.32% examples, 487657 words/s, in_qsize 6, out_qsize 0\n",
      "2017-05-29 15:57:45,166 : INFO : PROGRESS: at 56.43% examples, 487676 words/s, in_qsize 5, out_qsize 0\n",
      "2017-05-29 15:57:46,168 : INFO : PROGRESS: at 56.53% examples, 487682 words/s, in_qsize 6, out_qsize 0\n",
      "2017-05-29 15:57:47,193 : INFO : PROGRESS: at 56.64% examples, 487669 words/s, in_qsize 5, out_qsize 0\n",
      "2017-05-29 15:57:48,237 : INFO : PROGRESS: at 56.74% examples, 487671 words/s, in_qsize 5, out_qsize 0\n",
      "2017-05-29 15:57:49,244 : INFO : PROGRESS: at 56.85% examples, 487685 words/s, in_qsize 6, out_qsize 0\n",
      "2017-05-29 15:57:50,246 : INFO : PROGRESS: at 56.95% examples, 487691 words/s, in_qsize 6, out_qsize 0\n",
      "2017-05-29 15:57:51,274 : INFO : PROGRESS: at 57.06% examples, 487693 words/s, in_qsize 6, out_qsize 0\n",
      "2017-05-29 15:57:52,279 : INFO : PROGRESS: at 57.17% examples, 487715 words/s, in_qsize 5, out_qsize 0\n",
      "2017-05-29 15:57:53,311 : INFO : PROGRESS: at 57.27% examples, 487701 words/s, in_qsize 6, out_qsize 0\n",
      "2017-05-29 15:57:54,312 : INFO : PROGRESS: at 57.38% examples, 487710 words/s, in_qsize 6, out_qsize 0\n",
      "2017-05-29 15:57:55,352 : INFO : PROGRESS: at 57.49% examples, 487702 words/s, in_qsize 6, out_qsize 0\n",
      "2017-05-29 15:57:56,353 : INFO : PROGRESS: at 57.60% examples, 487723 words/s, in_qsize 5, out_qsize 0\n",
      "2017-05-29 15:57:57,372 : INFO : PROGRESS: at 57.71% examples, 487714 words/s, in_qsize 6, out_qsize 0\n",
      "2017-05-29 15:57:58,376 : INFO : PROGRESS: at 57.81% examples, 487720 words/s, in_qsize 6, out_qsize 0\n",
      "2017-05-29 15:57:59,396 : INFO : PROGRESS: at 57.92% examples, 487729 words/s, in_qsize 6, out_qsize 0\n",
      "2017-05-29 15:58:00,401 : INFO : PROGRESS: at 58.02% examples, 487734 words/s, in_qsize 6, out_qsize 0\n",
      "2017-05-29 15:58:01,409 : INFO : PROGRESS: at 58.13% examples, 487734 words/s, in_qsize 6, out_qsize 0\n",
      "2017-05-29 15:58:02,446 : INFO : PROGRESS: at 58.23% examples, 487729 words/s, in_qsize 5, out_qsize 0\n",
      "2017-05-29 15:58:03,448 : INFO : PROGRESS: at 58.34% examples, 487745 words/s, in_qsize 6, out_qsize 0\n",
      "2017-05-29 15:58:04,479 : INFO : PROGRESS: at 58.44% examples, 487728 words/s, in_qsize 6, out_qsize 0\n",
      "2017-05-29 15:58:05,480 : INFO : PROGRESS: at 58.55% examples, 487740 words/s, in_qsize 5, out_qsize 0\n",
      "2017-05-29 15:58:06,482 : INFO : PROGRESS: at 58.66% examples, 487749 words/s, in_qsize 5, out_qsize 0\n",
      "2017-05-29 15:58:07,513 : INFO : PROGRESS: at 58.76% examples, 487728 words/s, in_qsize 6, out_qsize 0\n",
      "2017-05-29 15:58:08,529 : INFO : PROGRESS: at 58.87% examples, 487741 words/s, in_qsize 5, out_qsize 0\n",
      "2017-05-29 15:58:09,541 : INFO : PROGRESS: at 58.98% examples, 487736 words/s, in_qsize 5, out_qsize 0\n",
      "2017-05-29 15:58:10,560 : INFO : PROGRESS: at 59.08% examples, 487739 words/s, in_qsize 6, out_qsize 0\n",
      "2017-05-29 15:58:11,569 : INFO : PROGRESS: at 59.19% examples, 487755 words/s, in_qsize 6, out_qsize 0\n",
      "2017-05-29 15:58:12,601 : INFO : PROGRESS: at 59.29% examples, 487748 words/s, in_qsize 6, out_qsize 0\n",
      "2017-05-29 15:58:13,617 : INFO : PROGRESS: at 59.40% examples, 487757 words/s, in_qsize 6, out_qsize 0\n",
      "2017-05-29 15:58:14,627 : INFO : PROGRESS: at 59.50% examples, 487753 words/s, in_qsize 5, out_qsize 0\n",
      "2017-05-29 15:58:15,658 : INFO : PROGRESS: at 59.61% examples, 487742 words/s, in_qsize 5, out_qsize 0\n",
      "2017-05-29 15:58:16,659 : INFO : PROGRESS: at 59.71% examples, 487753 words/s, in_qsize 5, out_qsize 0\n",
      "2017-05-29 15:58:17,668 : INFO : PROGRESS: at 59.82% examples, 487754 words/s, in_qsize 5, out_qsize 0\n",
      "2017-05-29 15:58:18,691 : INFO : PROGRESS: at 59.93% examples, 487746 words/s, in_qsize 6, out_qsize 0\n",
      "2017-05-29 15:58:19,713 : INFO : PROGRESS: at 60.03% examples, 487748 words/s, in_qsize 6, out_qsize 0\n",
      "2017-05-29 15:58:20,723 : INFO : PROGRESS: at 60.14% examples, 487747 words/s, in_qsize 5, out_qsize 0\n",
      "2017-05-29 15:58:21,738 : INFO : PROGRESS: at 60.25% examples, 487763 words/s, in_qsize 6, out_qsize 0\n",
      "2017-05-29 15:58:22,764 : INFO : PROGRESS: at 60.36% examples, 487767 words/s, in_qsize 6, out_qsize 0\n",
      "2017-05-29 15:58:23,788 : INFO : PROGRESS: at 60.46% examples, 487771 words/s, in_qsize 6, out_qsize 0\n",
      "2017-05-29 15:58:24,794 : INFO : PROGRESS: at 60.57% examples, 487788 words/s, in_qsize 5, out_qsize 0\n",
      "2017-05-29 15:58:25,815 : INFO : PROGRESS: at 60.68% examples, 487783 words/s, in_qsize 6, out_qsize 0\n",
      "2017-05-29 15:58:26,846 : INFO : PROGRESS: at 60.78% examples, 487796 words/s, in_qsize 6, out_qsize 0\n",
      "2017-05-29 15:58:27,880 : INFO : PROGRESS: at 60.89% examples, 487806 words/s, in_qsize 5, out_qsize 0\n",
      "2017-05-29 15:58:28,905 : INFO : PROGRESS: at 61.00% examples, 487824 words/s, in_qsize 5, out_qsize 0\n",
      "2017-05-29 15:58:29,937 : INFO : PROGRESS: at 61.10% examples, 487837 words/s, in_qsize 6, out_qsize 0\n",
      "2017-05-29 15:58:30,951 : INFO : PROGRESS: at 61.21% examples, 487851 words/s, in_qsize 6, out_qsize 0\n",
      "2017-05-29 15:58:31,953 : INFO : PROGRESS: at 61.32% examples, 487857 words/s, in_qsize 6, out_qsize 1\n",
      "2017-05-29 15:58:32,985 : INFO : PROGRESS: at 61.42% examples, 487855 words/s, in_qsize 5, out_qsize 0\n",
      "2017-05-29 15:58:34,031 : INFO : PROGRESS: at 61.53% examples, 487855 words/s, in_qsize 5, out_qsize 0\n",
      "2017-05-29 15:58:35,035 : INFO : PROGRESS: at 61.63% examples, 487864 words/s, in_qsize 5, out_qsize 0\n",
      "2017-05-29 15:58:36,046 : INFO : PROGRESS: at 61.73% examples, 487849 words/s, in_qsize 6, out_qsize 0\n",
      "2017-05-29 15:58:37,053 : INFO : PROGRESS: at 61.84% examples, 487852 words/s, in_qsize 6, out_qsize 0\n",
      "2017-05-29 15:58:38,075 : INFO : PROGRESS: at 61.95% examples, 487842 words/s, in_qsize 6, out_qsize 0\n",
      "2017-05-29 15:58:39,093 : INFO : PROGRESS: at 62.06% examples, 487848 words/s, in_qsize 6, out_qsize 0\n",
      "2017-05-29 15:58:40,103 : INFO : PROGRESS: at 62.16% examples, 487847 words/s, in_qsize 6, out_qsize 0\n",
      "2017-05-29 15:58:41,106 : INFO : PROGRESS: at 62.26% examples, 487848 words/s, in_qsize 6, out_qsize 0\n",
      "2017-05-29 15:58:42,133 : INFO : PROGRESS: at 62.36% examples, 487844 words/s, in_qsize 5, out_qsize 0\n",
      "2017-05-29 15:58:43,173 : INFO : PROGRESS: at 62.47% examples, 487850 words/s, in_qsize 6, out_qsize 0\n",
      "2017-05-29 15:58:44,202 : INFO : PROGRESS: at 62.57% examples, 487862 words/s, in_qsize 6, out_qsize 0\n",
      "2017-05-29 15:58:45,224 : INFO : PROGRESS: at 62.68% examples, 487870 words/s, in_qsize 6, out_qsize 0\n",
      "2017-05-29 15:58:46,239 : INFO : PROGRESS: at 62.79% examples, 487864 words/s, in_qsize 6, out_qsize 0\n",
      "2017-05-29 15:58:47,253 : INFO : PROGRESS: at 62.89% examples, 487876 words/s, in_qsize 6, out_qsize 0\n",
      "2017-05-29 15:58:48,262 : INFO : PROGRESS: at 62.99% examples, 487861 words/s, in_qsize 6, out_qsize 0\n",
      "2017-05-29 15:58:49,268 : INFO : PROGRESS: at 63.10% examples, 487850 words/s, in_qsize 6, out_qsize 0\n",
      "2017-05-29 15:58:50,269 : INFO : PROGRESS: at 63.20% examples, 487841 words/s, in_qsize 6, out_qsize 0\n",
      "2017-05-29 15:58:51,284 : INFO : PROGRESS: at 63.30% examples, 487853 words/s, in_qsize 5, out_qsize 0\n",
      "2017-05-29 15:58:52,295 : INFO : PROGRESS: at 63.41% examples, 487849 words/s, in_qsize 6, out_qsize 0\n",
      "2017-05-29 15:58:53,299 : INFO : PROGRESS: at 63.51% examples, 487866 words/s, in_qsize 6, out_qsize 0\n",
      "2017-05-29 15:58:54,318 : INFO : PROGRESS: at 63.62% examples, 487872 words/s, in_qsize 6, out_qsize 0\n",
      "2017-05-29 15:58:55,322 : INFO : PROGRESS: at 63.73% examples, 487891 words/s, in_qsize 5, out_qsize 0\n",
      "2017-05-29 15:58:56,342 : INFO : PROGRESS: at 63.83% examples, 487884 words/s, in_qsize 6, out_qsize 0\n",
      "2017-05-29 15:58:57,348 : INFO : PROGRESS: at 63.94% examples, 487906 words/s, in_qsize 6, out_qsize 0\n",
      "2017-05-29 15:58:58,387 : INFO : PROGRESS: at 64.05% examples, 487885 words/s, in_qsize 5, out_qsize 0\n",
      "2017-05-29 15:58:59,428 : INFO : PROGRESS: at 64.16% examples, 487892 words/s, in_qsize 6, out_qsize 0\n",
      "2017-05-29 15:59:00,475 : INFO : PROGRESS: at 64.27% examples, 487889 words/s, in_qsize 6, out_qsize 0\n",
      "2017-05-29 15:59:01,481 : INFO : PROGRESS: at 64.38% examples, 487907 words/s, in_qsize 6, out_qsize 0\n",
      "2017-05-29 15:59:02,504 : INFO : PROGRESS: at 64.48% examples, 487897 words/s, in_qsize 6, out_qsize 0\n",
      "2017-05-29 15:59:03,506 : INFO : PROGRESS: at 64.59% examples, 487903 words/s, in_qsize 6, out_qsize 0\n",
      "2017-05-29 15:59:04,508 : INFO : PROGRESS: at 64.69% examples, 487909 words/s, in_qsize 5, out_qsize 0\n",
      "2017-05-29 15:59:05,533 : INFO : PROGRESS: at 64.80% examples, 487896 words/s, in_qsize 6, out_qsize 0\n",
      "2017-05-29 15:59:06,540 : INFO : PROGRESS: at 64.90% examples, 487899 words/s, in_qsize 5, out_qsize 0\n",
      "2017-05-29 15:59:07,548 : INFO : PROGRESS: at 65.00% examples, 487909 words/s, in_qsize 6, out_qsize 0\n",
      "2017-05-29 15:59:08,556 : INFO : PROGRESS: at 65.11% examples, 487911 words/s, in_qsize 6, out_qsize 0\n",
      "2017-05-29 15:59:09,571 : INFO : PROGRESS: at 65.22% examples, 487925 words/s, in_qsize 6, out_qsize 0\n",
      "2017-05-29 15:59:10,592 : INFO : PROGRESS: at 65.33% examples, 487919 words/s, in_qsize 5, out_qsize 0\n",
      "2017-05-29 15:59:11,594 : INFO : PROGRESS: at 65.44% examples, 487939 words/s, in_qsize 6, out_qsize 0\n",
      "2017-05-29 15:59:12,633 : INFO : PROGRESS: at 65.54% examples, 487916 words/s, in_qsize 6, out_qsize 0\n",
      "2017-05-29 15:59:13,642 : INFO : PROGRESS: at 65.65% examples, 487929 words/s, in_qsize 6, out_qsize 0\n",
      "2017-05-29 15:59:14,643 : INFO : PROGRESS: at 65.75% examples, 487930 words/s, in_qsize 6, out_qsize 0\n",
      "2017-05-29 15:59:15,653 : INFO : PROGRESS: at 65.85% examples, 487928 words/s, in_qsize 6, out_qsize 0\n",
      "2017-05-29 15:59:16,664 : INFO : PROGRESS: at 65.96% examples, 487937 words/s, in_qsize 6, out_qsize 0\n",
      "2017-05-29 15:59:17,680 : INFO : PROGRESS: at 66.06% examples, 487945 words/s, in_qsize 6, out_qsize 0\n",
      "2017-05-29 15:59:18,718 : INFO : PROGRESS: at 66.17% examples, 487935 words/s, in_qsize 5, out_qsize 0\n",
      "2017-05-29 15:59:19,748 : INFO : PROGRESS: at 66.28% examples, 487939 words/s, in_qsize 6, out_qsize 0\n",
      "2017-05-29 15:59:20,764 : INFO : PROGRESS: at 66.38% examples, 487937 words/s, in_qsize 5, out_qsize 0\n",
      "2017-05-29 15:59:21,798 : INFO : PROGRESS: at 66.49% examples, 487934 words/s, in_qsize 5, out_qsize 0\n",
      "2017-05-29 15:59:22,811 : INFO : PROGRESS: at 66.60% examples, 487948 words/s, in_qsize 5, out_qsize 0\n",
      "2017-05-29 15:59:23,821 : INFO : PROGRESS: at 66.71% examples, 487945 words/s, in_qsize 5, out_qsize 0\n",
      "2017-05-29 15:59:24,835 : INFO : PROGRESS: at 66.82% examples, 487956 words/s, in_qsize 6, out_qsize 0\n",
      "2017-05-29 15:59:25,839 : INFO : PROGRESS: at 66.92% examples, 487963 words/s, in_qsize 5, out_qsize 0\n",
      "2017-05-29 15:59:26,843 : INFO : PROGRESS: at 67.03% examples, 487967 words/s, in_qsize 6, out_qsize 0\n",
      "2017-05-29 15:59:27,851 : INFO : PROGRESS: at 67.13% examples, 487969 words/s, in_qsize 6, out_qsize 0\n",
      "2017-05-29 15:59:28,873 : INFO : PROGRESS: at 67.24% examples, 487972 words/s, in_qsize 5, out_qsize 0\n",
      "2017-05-29 15:59:29,874 : INFO : PROGRESS: at 67.34% examples, 487968 words/s, in_qsize 6, out_qsize 0\n",
      "2017-05-29 15:59:30,881 : INFO : PROGRESS: at 67.44% examples, 487968 words/s, in_qsize 6, out_qsize 0\n",
      "2017-05-29 15:59:31,902 : INFO : PROGRESS: at 67.55% examples, 487974 words/s, in_qsize 6, out_qsize 0\n",
      "2017-05-29 15:59:32,910 : INFO : PROGRESS: at 67.66% examples, 487973 words/s, in_qsize 6, out_qsize 0\n",
      "2017-05-29 15:59:33,931 : INFO : PROGRESS: at 67.76% examples, 487977 words/s, in_qsize 6, out_qsize 0\n",
      "2017-05-29 15:59:34,935 : INFO : PROGRESS: at 67.86% examples, 487981 words/s, in_qsize 6, out_qsize 0\n",
      "2017-05-29 15:59:35,941 : INFO : PROGRESS: at 67.97% examples, 487984 words/s, in_qsize 6, out_qsize 0\n",
      "2017-05-29 15:59:36,955 : INFO : PROGRESS: at 68.07% examples, 487982 words/s, in_qsize 6, out_qsize 0\n",
      "2017-05-29 15:59:37,962 : INFO : PROGRESS: at 68.18% examples, 487997 words/s, in_qsize 6, out_qsize 0\n",
      "2017-05-29 15:59:38,968 : INFO : PROGRESS: at 68.28% examples, 488004 words/s, in_qsize 6, out_qsize 0\n",
      "2017-05-29 15:59:39,992 : INFO : PROGRESS: at 68.39% examples, 487995 words/s, in_qsize 6, out_qsize 0\n",
      "2017-05-29 15:59:41,034 : INFO : PROGRESS: at 68.49% examples, 487999 words/s, in_qsize 5, out_qsize 0\n",
      "2017-05-29 15:59:42,038 : INFO : PROGRESS: at 68.60% examples, 488019 words/s, in_qsize 5, out_qsize 0\n",
      "2017-05-29 15:59:43,073 : INFO : PROGRESS: at 68.71% examples, 487997 words/s, in_qsize 6, out_qsize 0\n",
      "2017-05-29 15:59:44,104 : INFO : PROGRESS: at 68.82% examples, 488009 words/s, in_qsize 6, out_qsize 0\n",
      "2017-05-29 15:59:45,121 : INFO : PROGRESS: at 68.92% examples, 488028 words/s, in_qsize 6, out_qsize 0\n",
      "2017-05-29 15:59:46,133 : INFO : PROGRESS: at 69.02% examples, 488021 words/s, in_qsize 5, out_qsize 0\n",
      "2017-05-29 15:59:47,174 : INFO : PROGRESS: at 69.13% examples, 488025 words/s, in_qsize 6, out_qsize 0\n",
      "2017-05-29 15:59:48,196 : INFO : PROGRESS: at 69.23% examples, 488041 words/s, in_qsize 5, out_qsize 0\n",
      "2017-05-29 15:59:49,205 : INFO : PROGRESS: at 69.34% examples, 488043 words/s, in_qsize 6, out_qsize 0\n",
      "2017-05-29 15:59:50,214 : INFO : PROGRESS: at 69.44% examples, 488043 words/s, in_qsize 5, out_qsize 0\n",
      "2017-05-29 15:59:51,234 : INFO : PROGRESS: at 69.55% examples, 488033 words/s, in_qsize 5, out_qsize 0\n",
      "2017-05-29 15:59:52,244 : INFO : PROGRESS: at 69.65% examples, 488050 words/s, in_qsize 6, out_qsize 0\n",
      "2017-05-29 15:59:53,251 : INFO : PROGRESS: at 69.76% examples, 488051 words/s, in_qsize 6, out_qsize 0\n",
      "2017-05-29 15:59:54,258 : INFO : PROGRESS: at 69.86% examples, 488052 words/s, in_qsize 6, out_qsize 0\n",
      "2017-05-29 15:59:55,271 : INFO : PROGRESS: at 69.97% examples, 488050 words/s, in_qsize 6, out_qsize 0\n",
      "2017-05-29 15:59:56,290 : INFO : PROGRESS: at 70.07% examples, 488056 words/s, in_qsize 6, out_qsize 0\n",
      "2017-05-29 15:59:57,305 : INFO : PROGRESS: at 70.18% examples, 488062 words/s, in_qsize 6, out_qsize 0\n",
      "2017-05-29 15:59:58,320 : INFO : PROGRESS: at 70.28% examples, 488056 words/s, in_qsize 6, out_qsize 0\n",
      "2017-05-29 15:59:59,354 : INFO : PROGRESS: at 70.39% examples, 488052 words/s, in_qsize 6, out_qsize 0\n",
      "2017-05-29 16:00:00,374 : INFO : PROGRESS: at 70.49% examples, 488059 words/s, in_qsize 5, out_qsize 0\n",
      "2017-05-29 16:00:01,404 : INFO : PROGRESS: at 70.60% examples, 488047 words/s, in_qsize 6, out_qsize 0\n",
      "2017-05-29 16:00:02,405 : INFO : PROGRESS: at 70.71% examples, 488041 words/s, in_qsize 6, out_qsize 0\n",
      "2017-05-29 16:00:03,408 : INFO : PROGRESS: at 70.82% examples, 488047 words/s, in_qsize 6, out_qsize 0\n",
      "2017-05-29 16:00:04,453 : INFO : PROGRESS: at 70.93% examples, 488032 words/s, in_qsize 6, out_qsize 0\n",
      "2017-05-29 16:00:05,458 : INFO : PROGRESS: at 71.03% examples, 488034 words/s, in_qsize 5, out_qsize 0\n",
      "2017-05-29 16:00:06,467 : INFO : PROGRESS: at 71.14% examples, 488022 words/s, in_qsize 6, out_qsize 0\n",
      "2017-05-29 16:00:07,497 : INFO : PROGRESS: at 71.24% examples, 488007 words/s, in_qsize 5, out_qsize 0\n",
      "2017-05-29 16:00:08,519 : INFO : PROGRESS: at 71.34% examples, 487985 words/s, in_qsize 5, out_qsize 0\n",
      "2017-05-29 16:00:09,532 : INFO : PROGRESS: at 71.44% examples, 487968 words/s, in_qsize 5, out_qsize 0\n",
      "2017-05-29 16:00:10,533 : INFO : PROGRESS: at 71.54% examples, 487947 words/s, in_qsize 6, out_qsize 0\n",
      "2017-05-29 16:00:11,548 : INFO : PROGRESS: at 71.64% examples, 487927 words/s, in_qsize 6, out_qsize 0\n",
      "2017-05-29 16:00:12,567 : INFO : PROGRESS: at 71.75% examples, 487903 words/s, in_qsize 6, out_qsize 0\n",
      "2017-05-29 16:00:13,589 : INFO : PROGRESS: at 71.85% examples, 487911 words/s, in_qsize 6, out_qsize 0\n",
      "2017-05-29 16:00:14,602 : INFO : PROGRESS: at 71.96% examples, 487911 words/s, in_qsize 5, out_qsize 0\n",
      "2017-05-29 16:00:15,605 : INFO : PROGRESS: at 72.07% examples, 487929 words/s, in_qsize 6, out_qsize 0\n",
      "2017-05-29 16:00:16,623 : INFO : PROGRESS: at 72.18% examples, 487924 words/s, in_qsize 6, out_qsize 0\n",
      "2017-05-29 16:00:17,628 : INFO : PROGRESS: at 72.28% examples, 487938 words/s, in_qsize 6, out_qsize 0\n",
      "2017-05-29 16:00:18,643 : INFO : PROGRESS: at 72.39% examples, 487931 words/s, in_qsize 6, out_qsize 0\n",
      "2017-05-29 16:00:19,651 : INFO : PROGRESS: at 72.49% examples, 487928 words/s, in_qsize 6, out_qsize 0\n",
      "2017-05-29 16:00:20,669 : INFO : PROGRESS: at 72.59% examples, 487936 words/s, in_qsize 6, out_qsize 0\n",
      "2017-05-29 16:00:21,671 : INFO : PROGRESS: at 72.70% examples, 487951 words/s, in_qsize 6, out_qsize 0\n",
      "2017-05-29 16:00:22,684 : INFO : PROGRESS: at 72.80% examples, 487943 words/s, in_qsize 6, out_qsize 0\n",
      "2017-05-29 16:00:23,688 : INFO : PROGRESS: at 72.91% examples, 487956 words/s, in_qsize 6, out_qsize 0\n",
      "2017-05-29 16:00:24,701 : INFO : PROGRESS: at 73.01% examples, 487953 words/s, in_qsize 6, out_qsize 0\n",
      "2017-05-29 16:00:25,703 : INFO : PROGRESS: at 73.12% examples, 487960 words/s, in_qsize 5, out_qsize 0\n",
      "2017-05-29 16:00:26,711 : INFO : PROGRESS: at 73.23% examples, 487963 words/s, in_qsize 6, out_qsize 0\n",
      "2017-05-29 16:00:27,731 : INFO : PROGRESS: at 73.34% examples, 487968 words/s, in_qsize 5, out_qsize 0\n",
      "2017-05-29 16:00:28,731 : INFO : PROGRESS: at 73.45% examples, 487987 words/s, in_qsize 6, out_qsize 0\n",
      "2017-05-29 16:00:29,763 : INFO : PROGRESS: at 73.55% examples, 487983 words/s, in_qsize 6, out_qsize 0\n",
      "2017-05-29 16:00:30,771 : INFO : PROGRESS: at 73.66% examples, 488002 words/s, in_qsize 6, out_qsize 0\n",
      "2017-05-29 16:00:31,781 : INFO : PROGRESS: at 73.77% examples, 488001 words/s, in_qsize 6, out_qsize 0\n",
      "2017-05-29 16:00:32,783 : INFO : PROGRESS: at 73.87% examples, 488017 words/s, in_qsize 6, out_qsize 0\n",
      "2017-05-29 16:00:33,806 : INFO : PROGRESS: at 73.98% examples, 488010 words/s, in_qsize 5, out_qsize 0\n",
      "2017-05-29 16:00:34,821 : INFO : PROGRESS: at 74.08% examples, 488020 words/s, in_qsize 6, out_qsize 0\n",
      "2017-05-29 16:00:35,824 : INFO : PROGRESS: at 74.18% examples, 488023 words/s, in_qsize 6, out_qsize 0\n",
      "2017-05-29 16:00:36,835 : INFO : PROGRESS: at 74.29% examples, 488019 words/s, in_qsize 6, out_qsize 0\n",
      "2017-05-29 16:00:37,843 : INFO : PROGRESS: at 74.39% examples, 488033 words/s, in_qsize 5, out_qsize 0\n",
      "2017-05-29 16:00:38,858 : INFO : PROGRESS: at 74.50% examples, 488030 words/s, in_qsize 5, out_qsize 0\n",
      "2017-05-29 16:00:39,866 : INFO : PROGRESS: at 74.61% examples, 488031 words/s, in_qsize 6, out_qsize 0\n",
      "2017-05-29 16:00:40,883 : INFO : PROGRESS: at 74.71% examples, 488041 words/s, in_qsize 5, out_qsize 0\n",
      "2017-05-29 16:00:41,897 : INFO : PROGRESS: at 74.81% examples, 488036 words/s, in_qsize 6, out_qsize 0\n",
      "2017-05-29 16:00:42,900 : INFO : PROGRESS: at 74.92% examples, 488057 words/s, in_qsize 6, out_qsize 0\n",
      "2017-05-29 16:00:43,924 : INFO : PROGRESS: at 75.02% examples, 488050 words/s, in_qsize 5, out_qsize 0\n",
      "2017-05-29 16:00:44,960 : INFO : PROGRESS: at 75.13% examples, 488057 words/s, in_qsize 5, out_qsize 0\n",
      "2017-05-29 16:00:45,996 : INFO : PROGRESS: at 75.24% examples, 488064 words/s, in_qsize 6, out_qsize 0\n",
      "2017-05-29 16:00:47,005 : INFO : PROGRESS: at 75.35% examples, 488077 words/s, in_qsize 5, out_qsize 0\n",
      "2017-05-29 16:00:48,013 : INFO : PROGRESS: at 75.46% examples, 488077 words/s, in_qsize 5, out_qsize 0\n",
      "2017-05-29 16:00:49,021 : INFO : PROGRESS: at 75.56% examples, 488088 words/s, in_qsize 6, out_qsize 0\n",
      "2017-05-29 16:00:50,033 : INFO : PROGRESS: at 75.66% examples, 488083 words/s, in_qsize 5, out_qsize 0\n",
      "2017-05-29 16:00:51,043 : INFO : PROGRESS: at 75.76% examples, 488065 words/s, in_qsize 6, out_qsize 0\n",
      "2017-05-29 16:00:52,056 : INFO : PROGRESS: at 75.86% examples, 488064 words/s, in_qsize 5, out_qsize 0\n",
      "2017-05-29 16:00:53,056 : INFO : PROGRESS: at 75.96% examples, 488065 words/s, in_qsize 5, out_qsize 0\n",
      "2017-05-29 16:00:54,060 : INFO : PROGRESS: at 76.07% examples, 488057 words/s, in_qsize 6, out_qsize 0\n",
      "2017-05-29 16:00:55,071 : INFO : PROGRESS: at 76.17% examples, 488057 words/s, in_qsize 5, out_qsize 0\n",
      "2017-05-29 16:00:56,081 : INFO : PROGRESS: at 76.28% examples, 488068 words/s, in_qsize 5, out_qsize 0\n",
      "2017-05-29 16:00:57,096 : INFO : PROGRESS: at 76.38% examples, 488051 words/s, in_qsize 5, out_qsize 0\n",
      "2017-05-29 16:00:58,099 : INFO : PROGRESS: at 76.48% examples, 488057 words/s, in_qsize 6, out_qsize 0\n",
      "2017-05-29 16:00:59,100 : INFO : PROGRESS: at 76.59% examples, 488062 words/s, in_qsize 6, out_qsize 0\n",
      "2017-05-29 16:01:00,140 : INFO : PROGRESS: at 76.69% examples, 488041 words/s, in_qsize 6, out_qsize 0\n",
      "2017-05-29 16:01:01,141 : INFO : PROGRESS: at 76.80% examples, 488059 words/s, in_qsize 6, out_qsize 0\n",
      "2017-05-29 16:01:02,166 : INFO : PROGRESS: at 76.90% examples, 488043 words/s, in_qsize 5, out_qsize 0\n",
      "2017-05-29 16:01:03,192 : INFO : PROGRESS: at 77.00% examples, 488032 words/s, in_qsize 5, out_qsize 0\n",
      "2017-05-29 16:01:04,194 : INFO : PROGRESS: at 77.11% examples, 488025 words/s, in_qsize 6, out_qsize 0\n",
      "2017-05-29 16:01:05,202 : INFO : PROGRESS: at 77.21% examples, 488015 words/s, in_qsize 6, out_qsize 0\n",
      "2017-05-29 16:01:06,209 : INFO : PROGRESS: at 77.32% examples, 488005 words/s, in_qsize 6, out_qsize 0\n",
      "2017-05-29 16:01:07,232 : INFO : PROGRESS: at 77.42% examples, 487985 words/s, in_qsize 6, out_qsize 0\n",
      "2017-05-29 16:01:08,236 : INFO : PROGRESS: at 77.53% examples, 487986 words/s, in_qsize 5, out_qsize 0\n",
      "2017-05-29 16:01:09,248 : INFO : PROGRESS: at 77.64% examples, 487959 words/s, in_qsize 5, out_qsize 0\n",
      "2017-05-29 16:01:10,258 : INFO : PROGRESS: at 77.74% examples, 487947 words/s, in_qsize 5, out_qsize 0\n",
      "2017-05-29 16:01:11,272 : INFO : PROGRESS: at 77.85% examples, 487956 words/s, in_qsize 6, out_qsize 0\n",
      "2017-05-29 16:01:12,301 : INFO : PROGRESS: at 77.95% examples, 487945 words/s, in_qsize 6, out_qsize 0\n",
      "2017-05-29 16:01:13,334 : INFO : PROGRESS: at 78.06% examples, 487952 words/s, in_qsize 6, out_qsize 0\n",
      "2017-05-29 16:01:14,371 : INFO : PROGRESS: at 78.17% examples, 487960 words/s, in_qsize 6, out_qsize 0\n",
      "2017-05-29 16:01:15,376 : INFO : PROGRESS: at 78.27% examples, 487962 words/s, in_qsize 6, out_qsize 0\n",
      "2017-05-29 16:01:16,389 : INFO : PROGRESS: at 78.38% examples, 487968 words/s, in_qsize 5, out_qsize 0\n",
      "2017-05-29 16:01:17,397 : INFO : PROGRESS: at 78.48% examples, 487970 words/s, in_qsize 6, out_qsize 0\n",
      "2017-05-29 16:01:18,430 : INFO : PROGRESS: at 78.59% examples, 487971 words/s, in_qsize 5, out_qsize 0\n",
      "2017-05-29 16:01:19,431 : INFO : PROGRESS: at 78.70% examples, 487976 words/s, in_qsize 6, out_qsize 0\n",
      "2017-05-29 16:01:20,459 : INFO : PROGRESS: at 78.81% examples, 487978 words/s, in_qsize 6, out_qsize 0\n",
      "2017-05-29 16:01:21,462 : INFO : PROGRESS: at 78.91% examples, 487982 words/s, in_qsize 6, out_qsize 0\n",
      "2017-05-29 16:01:22,478 : INFO : PROGRESS: at 79.01% examples, 487989 words/s, in_qsize 5, out_qsize 0\n",
      "2017-05-29 16:01:23,482 : INFO : PROGRESS: at 79.12% examples, 488000 words/s, in_qsize 5, out_qsize 0\n",
      "2017-05-29 16:01:24,489 : INFO : PROGRESS: at 79.23% examples, 488001 words/s, in_qsize 6, out_qsize 0\n",
      "2017-05-29 16:01:25,508 : INFO : PROGRESS: at 79.33% examples, 487988 words/s, in_qsize 6, out_qsize 0\n",
      "2017-05-29 16:01:26,522 : INFO : PROGRESS: at 79.43% examples, 487992 words/s, in_qsize 6, out_qsize 0\n",
      "2017-05-29 16:01:27,532 : INFO : PROGRESS: at 79.54% examples, 487978 words/s, in_qsize 5, out_qsize 0\n",
      "2017-05-29 16:01:28,536 : INFO : PROGRESS: at 79.64% examples, 487966 words/s, in_qsize 6, out_qsize 0\n",
      "2017-05-29 16:01:29,544 : INFO : PROGRESS: at 79.74% examples, 487957 words/s, in_qsize 6, out_qsize 0\n",
      "2017-05-29 16:01:30,555 : INFO : PROGRESS: at 79.85% examples, 487956 words/s, in_qsize 6, out_qsize 0\n",
      "2017-05-29 16:01:31,557 : INFO : PROGRESS: at 79.94% examples, 487852 words/s, in_qsize 6, out_qsize 0\n",
      "2017-05-29 16:01:32,589 : INFO : PROGRESS: at 80.02% examples, 487713 words/s, in_qsize 6, out_qsize 0\n",
      "2017-05-29 16:01:33,620 : INFO : PROGRESS: at 80.11% examples, 487578 words/s, in_qsize 5, out_qsize 0\n",
      "2017-05-29 16:01:34,630 : INFO : PROGRESS: at 80.19% examples, 487454 words/s, in_qsize 6, out_qsize 0\n",
      "2017-05-29 16:01:35,635 : INFO : PROGRESS: at 80.27% examples, 487313 words/s, in_qsize 6, out_qsize 0\n",
      "2017-05-29 16:01:36,675 : INFO : PROGRESS: at 80.36% examples, 487174 words/s, in_qsize 6, out_qsize 0\n",
      "2017-05-29 16:01:37,721 : INFO : PROGRESS: at 80.44% examples, 487031 words/s, in_qsize 6, out_qsize 0\n",
      "2017-05-29 16:01:38,759 : INFO : PROGRESS: at 80.53% examples, 486890 words/s, in_qsize 5, out_qsize 0\n",
      "2017-05-29 16:01:39,800 : INFO : PROGRESS: at 80.61% examples, 486751 words/s, in_qsize 5, out_qsize 0\n",
      "2017-05-29 16:01:40,832 : INFO : PROGRESS: at 80.70% examples, 486619 words/s, in_qsize 5, out_qsize 0\n",
      "2017-05-29 16:01:41,851 : INFO : PROGRESS: at 80.78% examples, 486493 words/s, in_qsize 5, out_qsize 0\n",
      "2017-05-29 16:01:42,864 : INFO : PROGRESS: at 80.86% examples, 486371 words/s, in_qsize 5, out_qsize 0\n",
      "2017-05-29 16:01:43,884 : INFO : PROGRESS: at 80.95% examples, 486242 words/s, in_qsize 5, out_qsize 0\n",
      "2017-05-29 16:01:44,914 : INFO : PROGRESS: at 81.03% examples, 486111 words/s, in_qsize 5, out_qsize 0\n",
      "2017-05-29 16:01:45,931 : INFO : PROGRESS: at 81.11% examples, 485978 words/s, in_qsize 6, out_qsize 0\n",
      "2017-05-29 16:01:46,940 : INFO : PROGRESS: at 81.20% examples, 485859 words/s, in_qsize 5, out_qsize 0\n",
      "2017-05-29 16:01:47,973 : INFO : PROGRESS: at 81.29% examples, 485728 words/s, in_qsize 6, out_qsize 0\n",
      "2017-05-29 16:01:48,998 : INFO : PROGRESS: at 81.37% examples, 485603 words/s, in_qsize 5, out_qsize 0\n",
      "2017-05-29 16:01:50,014 : INFO : PROGRESS: at 81.45% examples, 485479 words/s, in_qsize 5, out_qsize 0\n",
      "2017-05-29 16:01:51,049 : INFO : PROGRESS: at 81.53% examples, 485347 words/s, in_qsize 6, out_qsize 0\n",
      "2017-05-29 16:01:52,073 : INFO : PROGRESS: at 81.62% examples, 485226 words/s, in_qsize 6, out_qsize 0\n",
      "2017-05-29 16:01:53,100 : INFO : PROGRESS: at 81.70% examples, 485101 words/s, in_qsize 5, out_qsize 0\n",
      "2017-05-29 16:01:54,113 : INFO : PROGRESS: at 81.78% examples, 484982 words/s, in_qsize 5, out_qsize 0\n",
      "2017-05-29 16:01:55,138 : INFO : PROGRESS: at 81.87% examples, 484857 words/s, in_qsize 5, out_qsize 0\n",
      "2017-05-29 16:01:56,157 : INFO : PROGRESS: at 81.96% examples, 484737 words/s, in_qsize 6, out_qsize 0\n",
      "2017-05-29 16:01:57,177 : INFO : PROGRESS: at 82.04% examples, 484612 words/s, in_qsize 5, out_qsize 0\n",
      "2017-05-29 16:01:58,196 : INFO : PROGRESS: at 82.13% examples, 484492 words/s, in_qsize 6, out_qsize 0\n",
      "2017-05-29 16:01:59,224 : INFO : PROGRESS: at 82.21% examples, 484365 words/s, in_qsize 6, out_qsize 0\n",
      "2017-05-29 16:02:00,243 : INFO : PROGRESS: at 82.29% examples, 484244 words/s, in_qsize 5, out_qsize 0\n",
      "2017-05-29 16:02:01,251 : INFO : PROGRESS: at 82.37% examples, 484125 words/s, in_qsize 5, out_qsize 0\n",
      "2017-05-29 16:02:02,273 : INFO : PROGRESS: at 82.46% examples, 484005 words/s, in_qsize 5, out_qsize 0\n",
      "2017-05-29 16:02:03,288 : INFO : PROGRESS: at 82.54% examples, 483890 words/s, in_qsize 5, out_qsize 0\n",
      "2017-05-29 16:02:04,292 : INFO : PROGRESS: at 82.62% examples, 483764 words/s, in_qsize 5, out_qsize 0\n",
      "2017-05-29 16:02:05,318 : INFO : PROGRESS: at 82.71% examples, 483643 words/s, in_qsize 6, out_qsize 0\n",
      "2017-05-29 16:02:06,330 : INFO : PROGRESS: at 82.79% examples, 483530 words/s, in_qsize 6, out_qsize 0\n",
      "2017-05-29 16:02:07,334 : INFO : PROGRESS: at 82.87% examples, 483409 words/s, in_qsize 6, out_qsize 0\n",
      "2017-05-29 16:02:08,338 : INFO : PROGRESS: at 82.95% examples, 483289 words/s, in_qsize 5, out_qsize 1\n",
      "2017-05-29 16:02:09,360 : INFO : PROGRESS: at 83.04% examples, 483170 words/s, in_qsize 5, out_qsize 0\n",
      "2017-05-29 16:02:10,364 : INFO : PROGRESS: at 83.12% examples, 483051 words/s, in_qsize 5, out_qsize 0\n",
      "2017-05-29 16:02:11,386 : INFO : PROGRESS: at 83.20% examples, 482932 words/s, in_qsize 6, out_qsize 0\n",
      "2017-05-29 16:02:12,388 : INFO : PROGRESS: at 83.28% examples, 482815 words/s, in_qsize 5, out_qsize 0\n",
      "2017-05-29 16:02:13,421 : INFO : PROGRESS: at 83.37% examples, 482691 words/s, in_qsize 6, out_qsize 0\n",
      "2017-05-29 16:02:14,455 : INFO : PROGRESS: at 83.45% examples, 482566 words/s, in_qsize 6, out_qsize 0\n",
      "2017-05-29 16:02:15,477 : INFO : PROGRESS: at 83.54% examples, 482446 words/s, in_qsize 6, out_qsize 0\n",
      "2017-05-29 16:02:16,483 : INFO : PROGRESS: at 83.62% examples, 482336 words/s, in_qsize 5, out_qsize 0\n",
      "2017-05-29 16:02:17,510 : INFO : PROGRESS: at 83.71% examples, 482218 words/s, in_qsize 6, out_qsize 0\n",
      "2017-05-29 16:02:18,526 : INFO : PROGRESS: at 83.79% examples, 482106 words/s, in_qsize 6, out_qsize 0\n",
      "2017-05-29 16:02:19,565 : INFO : PROGRESS: at 83.88% examples, 481981 words/s, in_qsize 6, out_qsize 0\n",
      "2017-05-29 16:02:20,598 : INFO : PROGRESS: at 83.96% examples, 481861 words/s, in_qsize 6, out_qsize 0\n",
      "2017-05-29 16:02:21,615 : INFO : PROGRESS: at 84.05% examples, 481750 words/s, in_qsize 5, out_qsize 0\n",
      "2017-05-29 16:02:22,620 : INFO : PROGRESS: at 84.14% examples, 481634 words/s, in_qsize 5, out_qsize 0\n",
      "2017-05-29 16:02:23,646 : INFO : PROGRESS: at 84.22% examples, 481514 words/s, in_qsize 6, out_qsize 0\n",
      "2017-05-29 16:02:24,669 : INFO : PROGRESS: at 84.31% examples, 481401 words/s, in_qsize 6, out_qsize 0\n",
      "2017-05-29 16:02:25,686 : INFO : PROGRESS: at 84.39% examples, 481277 words/s, in_qsize 6, out_qsize 0\n",
      "2017-05-29 16:02:26,709 : INFO : PROGRESS: at 84.48% examples, 481163 words/s, in_qsize 5, out_qsize 0\n",
      "2017-05-29 16:02:27,746 : INFO : PROGRESS: at 84.56% examples, 481040 words/s, in_qsize 5, out_qsize 0\n",
      "2017-05-29 16:02:28,764 : INFO : PROGRESS: at 84.64% examples, 480930 words/s, in_qsize 5, out_qsize 0\n",
      "2017-05-29 16:02:29,799 : INFO : PROGRESS: at 84.73% examples, 480807 words/s, in_qsize 6, out_qsize 0\n",
      "2017-05-29 16:02:30,824 : INFO : PROGRESS: at 84.81% examples, 480693 words/s, in_qsize 6, out_qsize 0\n",
      "2017-05-29 16:02:31,840 : INFO : PROGRESS: at 84.90% examples, 480585 words/s, in_qsize 6, out_qsize 0\n",
      "2017-05-29 16:02:32,846 : INFO : PROGRESS: at 84.98% examples, 480480 words/s, in_qsize 6, out_qsize 0\n",
      "2017-05-29 16:02:33,848 : INFO : PROGRESS: at 85.06% examples, 480366 words/s, in_qsize 6, out_qsize 0\n",
      "2017-05-29 16:02:34,853 : INFO : PROGRESS: at 85.14% examples, 480254 words/s, in_qsize 6, out_qsize 0\n",
      "2017-05-29 16:02:35,864 : INFO : PROGRESS: at 85.23% examples, 480151 words/s, in_qsize 6, out_qsize 0\n",
      "2017-05-29 16:02:36,889 : INFO : PROGRESS: at 85.32% examples, 480040 words/s, in_qsize 6, out_qsize 0\n",
      "2017-05-29 16:02:37,907 : INFO : PROGRESS: at 85.40% examples, 479931 words/s, in_qsize 6, out_qsize 0\n",
      "2017-05-29 16:02:38,932 : INFO : PROGRESS: at 85.49% examples, 479820 words/s, in_qsize 5, out_qsize 0\n",
      "2017-05-29 16:02:39,933 : INFO : PROGRESS: at 85.57% examples, 479709 words/s, in_qsize 5, out_qsize 0\n",
      "2017-05-29 16:02:40,944 : INFO : PROGRESS: at 85.65% examples, 479593 words/s, in_qsize 6, out_qsize 0\n",
      "2017-05-29 16:02:41,956 : INFO : PROGRESS: at 85.74% examples, 479485 words/s, in_qsize 5, out_qsize 0\n",
      "2017-05-29 16:02:42,958 : INFO : PROGRESS: at 85.82% examples, 479385 words/s, in_qsize 5, out_qsize 0\n",
      "2017-05-29 16:02:43,989 : INFO : PROGRESS: at 85.90% examples, 479270 words/s, in_qsize 5, out_qsize 0\n",
      "2017-05-29 16:02:45,003 : INFO : PROGRESS: at 85.99% examples, 479163 words/s, in_qsize 5, out_qsize 0\n",
      "2017-05-29 16:02:46,014 : INFO : PROGRESS: at 86.07% examples, 479058 words/s, in_qsize 5, out_qsize 0\n",
      "2017-05-29 16:02:47,025 : INFO : PROGRESS: at 86.15% examples, 478943 words/s, in_qsize 5, out_qsize 0\n",
      "2017-05-29 16:02:48,049 : INFO : PROGRESS: at 86.24% examples, 478830 words/s, in_qsize 6, out_qsize 0\n",
      "2017-05-29 16:02:49,062 : INFO : PROGRESS: at 86.32% examples, 478725 words/s, in_qsize 5, out_qsize 0\n",
      "2017-05-29 16:02:50,100 : INFO : PROGRESS: at 86.41% examples, 478611 words/s, in_qsize 6, out_qsize 0\n",
      "2017-05-29 16:02:51,111 : INFO : PROGRESS: at 86.49% examples, 478510 words/s, in_qsize 5, out_qsize 0\n",
      "2017-05-29 16:02:52,149 : INFO : PROGRESS: at 86.58% examples, 478396 words/s, in_qsize 6, out_qsize 0\n",
      "2017-05-29 16:02:53,170 : INFO : PROGRESS: at 86.67% examples, 478289 words/s, in_qsize 6, out_qsize 0\n",
      "2017-05-29 16:02:54,196 : INFO : PROGRESS: at 86.75% examples, 478179 words/s, in_qsize 6, out_qsize 0\n",
      "2017-05-29 16:02:55,215 : INFO : PROGRESS: at 86.84% examples, 478073 words/s, in_qsize 5, out_qsize 0\n",
      "2017-05-29 16:02:56,241 : INFO : PROGRESS: at 86.92% examples, 477967 words/s, in_qsize 6, out_qsize 0\n",
      "2017-05-29 16:02:57,253 : INFO : PROGRESS: at 87.01% examples, 477868 words/s, in_qsize 5, out_qsize 0\n",
      "2017-05-29 16:02:58,277 : INFO : PROGRESS: at 87.09% examples, 477761 words/s, in_qsize 6, out_qsize 1\n",
      "2017-05-29 16:02:59,296 : INFO : PROGRESS: at 87.18% examples, 477656 words/s, in_qsize 6, out_qsize 0\n",
      "2017-05-29 16:03:00,317 : INFO : PROGRESS: at 87.26% examples, 477550 words/s, in_qsize 5, out_qsize 0\n",
      "2017-05-29 16:03:01,349 : INFO : PROGRESS: at 87.35% examples, 477443 words/s, in_qsize 5, out_qsize 0\n",
      "2017-05-29 16:03:02,352 : INFO : PROGRESS: at 87.43% examples, 477349 words/s, in_qsize 6, out_qsize 0\n",
      "2017-05-29 16:03:03,378 : INFO : PROGRESS: at 87.51% examples, 477241 words/s, in_qsize 5, out_qsize 0\n",
      "2017-05-29 16:03:04,388 : INFO : PROGRESS: at 87.60% examples, 477142 words/s, in_qsize 6, out_qsize 0\n",
      "2017-05-29 16:03:05,406 : INFO : PROGRESS: at 87.68% examples, 477038 words/s, in_qsize 5, out_qsize 0\n",
      "2017-05-29 16:03:06,419 : INFO : PROGRESS: at 87.76% examples, 476931 words/s, in_qsize 6, out_qsize 0\n",
      "2017-05-29 16:03:07,447 : INFO : PROGRESS: at 87.85% examples, 476824 words/s, in_qsize 6, out_qsize 0\n",
      "2017-05-29 16:03:08,482 : INFO : PROGRESS: at 87.93% examples, 476713 words/s, in_qsize 6, out_qsize 0\n",
      "2017-05-29 16:03:09,494 : INFO : PROGRESS: at 88.02% examples, 476617 words/s, in_qsize 5, out_qsize 0\n",
      "2017-05-29 16:03:10,520 : INFO : PROGRESS: at 88.10% examples, 476513 words/s, in_qsize 6, out_qsize 0\n",
      "2017-05-29 16:03:11,538 : INFO : PROGRESS: at 88.18% examples, 476412 words/s, in_qsize 6, out_qsize 0\n",
      "2017-05-29 16:03:12,570 : INFO : PROGRESS: at 88.27% examples, 476307 words/s, in_qsize 6, out_qsize 0\n",
      "2017-05-29 16:03:13,613 : INFO : PROGRESS: at 88.35% examples, 476196 words/s, in_qsize 6, out_qsize 0\n",
      "2017-05-29 16:03:14,620 : INFO : PROGRESS: at 88.43% examples, 476100 words/s, in_qsize 6, out_qsize 0\n",
      "2017-05-29 16:03:15,622 : INFO : PROGRESS: at 88.52% examples, 476002 words/s, in_qsize 6, out_qsize 0\n",
      "2017-05-29 16:03:16,656 : INFO : PROGRESS: at 88.61% examples, 475893 words/s, in_qsize 6, out_qsize 0\n",
      "2017-05-29 16:03:17,687 : INFO : PROGRESS: at 88.69% examples, 475785 words/s, in_qsize 6, out_qsize 0\n",
      "2017-05-29 16:03:18,702 : INFO : PROGRESS: at 88.77% examples, 475667 words/s, in_qsize 6, out_qsize 0\n",
      "2017-05-29 16:03:19,731 : INFO : PROGRESS: at 88.85% examples, 475561 words/s, in_qsize 5, out_qsize 0\n",
      "2017-05-29 16:03:20,761 : INFO : PROGRESS: at 88.93% examples, 475454 words/s, in_qsize 5, out_qsize 0\n",
      "2017-05-29 16:03:21,776 : INFO : PROGRESS: at 89.02% examples, 475354 words/s, in_qsize 6, out_qsize 0\n",
      "2017-05-29 16:03:22,795 : INFO : PROGRESS: at 89.10% examples, 475256 words/s, in_qsize 5, out_qsize 0\n",
      "2017-05-29 16:03:23,809 : INFO : PROGRESS: at 89.18% examples, 475151 words/s, in_qsize 5, out_qsize 0\n",
      "2017-05-29 16:03:24,816 : INFO : PROGRESS: at 89.26% examples, 475056 words/s, in_qsize 6, out_qsize 0\n",
      "2017-05-29 16:03:25,866 : INFO : PROGRESS: at 89.35% examples, 474943 words/s, in_qsize 5, out_qsize 0\n",
      "2017-05-29 16:03:26,880 : INFO : PROGRESS: at 89.43% examples, 474849 words/s, in_qsize 5, out_qsize 0\n",
      "2017-05-29 16:03:27,898 : INFO : PROGRESS: at 89.52% examples, 474752 words/s, in_qsize 6, out_qsize 0\n",
      "2017-05-29 16:03:28,902 : INFO : PROGRESS: at 89.60% examples, 474654 words/s, in_qsize 6, out_qsize 0\n",
      "2017-05-29 16:03:29,921 : INFO : PROGRESS: at 89.68% examples, 474545 words/s, in_qsize 6, out_qsize 0\n",
      "2017-05-29 16:03:30,948 : INFO : PROGRESS: at 89.76% examples, 474445 words/s, in_qsize 5, out_qsize 0\n",
      "2017-05-29 16:03:31,962 : INFO : PROGRESS: at 89.85% examples, 474352 words/s, in_qsize 6, out_qsize 0\n",
      "2017-05-29 16:03:32,972 : INFO : PROGRESS: at 89.93% examples, 474251 words/s, in_qsize 6, out_qsize 0\n",
      "2017-05-29 16:03:33,988 : INFO : PROGRESS: at 90.01% examples, 474155 words/s, in_qsize 6, out_qsize 0\n",
      "2017-05-29 16:03:35,001 : INFO : PROGRESS: at 90.10% examples, 474063 words/s, in_qsize 6, out_qsize 0\n",
      "2017-05-29 16:03:36,021 : INFO : PROGRESS: at 90.18% examples, 473974 words/s, in_qsize 5, out_qsize 0\n",
      "2017-05-29 16:03:37,045 : INFO : PROGRESS: at 90.27% examples, 473877 words/s, in_qsize 5, out_qsize 0\n",
      "2017-05-29 16:03:38,049 : INFO : PROGRESS: at 90.35% examples, 473780 words/s, in_qsize 6, out_qsize 0\n",
      "2017-05-29 16:03:39,056 : INFO : PROGRESS: at 90.43% examples, 473691 words/s, in_qsize 6, out_qsize 0\n",
      "2017-05-29 16:03:40,071 : INFO : PROGRESS: at 90.52% examples, 473599 words/s, in_qsize 6, out_qsize 0\n",
      "2017-05-29 16:03:41,072 : INFO : PROGRESS: at 90.60% examples, 473496 words/s, in_qsize 5, out_qsize 0\n",
      "2017-05-29 16:03:42,099 : INFO : PROGRESS: at 90.69% examples, 473398 words/s, in_qsize 6, out_qsize 0\n",
      "2017-05-29 16:03:43,107 : INFO : PROGRESS: at 90.78% examples, 473311 words/s, in_qsize 6, out_qsize 0\n",
      "2017-05-29 16:03:44,129 : INFO : PROGRESS: at 90.86% examples, 473215 words/s, in_qsize 6, out_qsize 0\n",
      "2017-05-29 16:03:45,143 : INFO : PROGRESS: at 90.95% examples, 473124 words/s, in_qsize 6, out_qsize 0\n",
      "2017-05-29 16:03:46,155 : INFO : PROGRESS: at 91.04% examples, 473034 words/s, in_qsize 5, out_qsize 0\n",
      "2017-05-29 16:03:47,171 : INFO : PROGRESS: at 91.12% examples, 472943 words/s, in_qsize 5, out_qsize 0\n",
      "2017-05-29 16:03:48,193 : INFO : PROGRESS: at 91.20% examples, 472839 words/s, in_qsize 5, out_qsize 0\n",
      "2017-05-29 16:03:49,220 : INFO : PROGRESS: at 91.29% examples, 472753 words/s, in_qsize 5, out_qsize 0\n",
      "2017-05-29 16:03:50,251 : INFO : PROGRESS: at 91.37% examples, 472653 words/s, in_qsize 6, out_qsize 0\n",
      "2017-05-29 16:03:51,271 : INFO : PROGRESS: at 91.46% examples, 472560 words/s, in_qsize 5, out_qsize 0\n",
      "2017-05-29 16:03:52,273 : INFO : PROGRESS: at 91.54% examples, 472477 words/s, in_qsize 6, out_qsize 0\n",
      "2017-05-29 16:03:53,282 : INFO : PROGRESS: at 91.62% examples, 472380 words/s, in_qsize 6, out_qsize 0\n",
      "2017-05-29 16:03:54,296 : INFO : PROGRESS: at 91.71% examples, 472288 words/s, in_qsize 5, out_qsize 0\n",
      "2017-05-29 16:03:55,304 : INFO : PROGRESS: at 91.79% examples, 472192 words/s, in_qsize 5, out_qsize 0\n",
      "2017-05-29 16:03:56,327 : INFO : PROGRESS: at 91.87% examples, 472101 words/s, in_qsize 6, out_qsize 0\n",
      "2017-05-29 16:03:57,361 : INFO : PROGRESS: at 91.96% examples, 472005 words/s, in_qsize 5, out_qsize 0\n",
      "2017-05-29 16:03:58,371 : INFO : PROGRESS: at 92.05% examples, 471918 words/s, in_qsize 6, out_qsize 0\n",
      "2017-05-29 16:03:59,371 : INFO : PROGRESS: at 92.13% examples, 471819 words/s, in_qsize 6, out_qsize 0\n",
      "2017-05-29 16:04:00,393 : INFO : PROGRESS: at 92.22% examples, 471725 words/s, in_qsize 6, out_qsize 0\n",
      "2017-05-29 16:04:01,414 : INFO : PROGRESS: at 92.30% examples, 471634 words/s, in_qsize 5, out_qsize 0\n",
      "2017-05-29 16:04:02,424 : INFO : PROGRESS: at 92.38% examples, 471546 words/s, in_qsize 5, out_qsize 0\n",
      "2017-05-29 16:04:03,429 : INFO : PROGRESS: at 92.47% examples, 471461 words/s, in_qsize 5, out_qsize 0\n",
      "2017-05-29 16:04:04,455 : INFO : PROGRESS: at 92.55% examples, 471369 words/s, in_qsize 5, out_qsize 0\n",
      "2017-05-29 16:04:05,468 : INFO : PROGRESS: at 92.63% examples, 471268 words/s, in_qsize 6, out_qsize 0\n",
      "2017-05-29 16:04:06,472 : INFO : PROGRESS: at 92.71% examples, 471187 words/s, in_qsize 5, out_qsize 0\n",
      "2017-05-29 16:04:07,491 : INFO : PROGRESS: at 92.80% examples, 471093 words/s, in_qsize 6, out_qsize 0\n",
      "2017-05-29 16:04:08,497 : INFO : PROGRESS: at 92.88% examples, 471008 words/s, in_qsize 6, out_qsize 0\n",
      "2017-05-29 16:04:09,502 : INFO : PROGRESS: at 92.96% examples, 470915 words/s, in_qsize 5, out_qsize 0\n",
      "2017-05-29 16:04:10,519 : INFO : PROGRESS: at 93.05% examples, 470830 words/s, in_qsize 5, out_qsize 0\n",
      "2017-05-29 16:04:11,524 : INFO : PROGRESS: at 93.13% examples, 470738 words/s, in_qsize 6, out_qsize 0\n",
      "2017-05-29 16:04:12,525 : INFO : PROGRESS: at 93.22% examples, 470652 words/s, in_qsize 6, out_qsize 0\n",
      "2017-05-29 16:04:13,533 : INFO : PROGRESS: at 93.30% examples, 470569 words/s, in_qsize 6, out_qsize 0\n",
      "2017-05-29 16:04:14,542 : INFO : PROGRESS: at 93.39% examples, 470476 words/s, in_qsize 6, out_qsize 0\n",
      "2017-05-29 16:04:15,578 : INFO : PROGRESS: at 93.48% examples, 470379 words/s, in_qsize 5, out_qsize 0\n",
      "2017-05-29 16:04:16,602 : INFO : PROGRESS: at 93.56% examples, 470291 words/s, in_qsize 6, out_qsize 0\n",
      "2017-05-29 16:04:17,652 : INFO : PROGRESS: at 93.64% examples, 470191 words/s, in_qsize 5, out_qsize 0\n",
      "2017-05-29 16:04:18,677 : INFO : PROGRESS: at 93.73% examples, 470100 words/s, in_qsize 5, out_qsize 0\n",
      "2017-05-29 16:04:19,694 : INFO : PROGRESS: at 93.81% examples, 470014 words/s, in_qsize 6, out_qsize 0\n",
      "2017-05-29 16:04:20,734 : INFO : PROGRESS: at 93.90% examples, 469917 words/s, in_qsize 6, out_qsize 0\n",
      "2017-05-29 16:04:21,768 : INFO : PROGRESS: at 93.98% examples, 469826 words/s, in_qsize 5, out_qsize 0\n",
      "2017-05-29 16:04:22,784 : INFO : PROGRESS: at 94.07% examples, 469741 words/s, in_qsize 6, out_qsize 0\n",
      "2017-05-29 16:04:23,798 : INFO : PROGRESS: at 94.15% examples, 469658 words/s, in_qsize 6, out_qsize 0\n",
      "2017-05-29 16:04:24,802 : INFO : PROGRESS: at 94.23% examples, 469578 words/s, in_qsize 6, out_qsize 0\n",
      "2017-05-29 16:04:25,806 : INFO : PROGRESS: at 94.32% examples, 469490 words/s, in_qsize 6, out_qsize 0\n",
      "2017-05-29 16:04:26,829 : INFO : PROGRESS: at 94.40% examples, 469401 words/s, in_qsize 5, out_qsize 0\n",
      "2017-05-29 16:04:27,846 : INFO : PROGRESS: at 94.48% examples, 469319 words/s, in_qsize 6, out_qsize 0\n",
      "2017-05-29 16:04:28,864 : INFO : PROGRESS: at 94.57% examples, 469233 words/s, in_qsize 6, out_qsize 0\n",
      "2017-05-29 16:04:29,885 : INFO : PROGRESS: at 94.66% examples, 469149 words/s, in_qsize 6, out_qsize 0\n",
      "2017-05-29 16:04:30,898 : INFO : PROGRESS: at 94.74% examples, 469068 words/s, in_qsize 6, out_qsize 0\n",
      "2017-05-29 16:04:31,918 : INFO : PROGRESS: at 94.82% examples, 468983 words/s, in_qsize 5, out_qsize 0\n",
      "2017-05-29 16:04:32,949 : INFO : PROGRESS: at 94.90% examples, 468894 words/s, in_qsize 6, out_qsize 0\n",
      "2017-05-29 16:04:33,972 : INFO : PROGRESS: at 94.99% examples, 468809 words/s, in_qsize 6, out_qsize 0\n",
      "2017-05-29 16:04:35,004 : INFO : PROGRESS: at 95.07% examples, 468730 words/s, in_qsize 6, out_qsize 0\n",
      "2017-05-29 16:04:36,025 : INFO : PROGRESS: at 95.15% examples, 468645 words/s, in_qsize 6, out_qsize 0\n",
      "2017-05-29 16:04:37,045 : INFO : PROGRESS: at 95.25% examples, 468562 words/s, in_qsize 5, out_qsize 0\n",
      "2017-05-29 16:04:38,055 : INFO : PROGRESS: at 95.33% examples, 468482 words/s, in_qsize 6, out_qsize 0\n",
      "2017-05-29 16:04:39,065 : INFO : PROGRESS: at 95.41% examples, 468392 words/s, in_qsize 5, out_qsize 0\n",
      "2017-05-29 16:04:40,088 : INFO : PROGRESS: at 95.50% examples, 468306 words/s, in_qsize 6, out_qsize 0\n",
      "2017-05-29 16:04:41,119 : INFO : PROGRESS: at 95.58% examples, 468218 words/s, in_qsize 6, out_qsize 0\n",
      "2017-05-29 16:04:42,129 : INFO : PROGRESS: at 95.66% examples, 468138 words/s, in_qsize 6, out_qsize 0\n",
      "2017-05-29 16:04:43,136 : INFO : PROGRESS: at 95.74% examples, 468068 words/s, in_qsize 5, out_qsize 0\n",
      "2017-05-29 16:04:44,141 : INFO : PROGRESS: at 95.83% examples, 467983 words/s, in_qsize 5, out_qsize 0\n",
      "2017-05-29 16:04:45,146 : INFO : PROGRESS: at 95.91% examples, 467906 words/s, in_qsize 6, out_qsize 0\n",
      "2017-05-29 16:04:46,158 : INFO : PROGRESS: at 95.99% examples, 467827 words/s, in_qsize 6, out_qsize 0\n",
      "2017-05-29 16:04:47,168 : INFO : PROGRESS: at 96.08% examples, 467751 words/s, in_qsize 5, out_qsize 0\n",
      "2017-05-29 16:04:48,190 : INFO : PROGRESS: at 96.16% examples, 467668 words/s, in_qsize 6, out_qsize 0\n",
      "2017-05-29 16:04:49,223 : INFO : PROGRESS: at 96.25% examples, 467580 words/s, in_qsize 5, out_qsize 0\n",
      "2017-05-29 16:04:50,230 : INFO : PROGRESS: at 96.33% examples, 467504 words/s, in_qsize 5, out_qsize 0\n",
      "2017-05-29 16:04:51,247 : INFO : PROGRESS: at 96.41% examples, 467415 words/s, in_qsize 6, out_qsize 0\n",
      "2017-05-29 16:04:52,265 : INFO : PROGRESS: at 96.49% examples, 467335 words/s, in_qsize 6, out_qsize 0\n",
      "2017-05-29 16:04:53,286 : INFO : PROGRESS: at 96.58% examples, 467254 words/s, in_qsize 5, out_qsize 0\n",
      "2017-05-29 16:04:54,286 : INFO : PROGRESS: at 96.66% examples, 467174 words/s, in_qsize 6, out_qsize 0\n",
      "2017-05-29 16:04:55,295 : INFO : PROGRESS: at 96.74% examples, 467096 words/s, in_qsize 5, out_qsize 0\n",
      "2017-05-29 16:04:56,295 : INFO : PROGRESS: at 96.83% examples, 467015 words/s, in_qsize 6, out_qsize 0\n",
      "2017-05-29 16:04:57,308 : INFO : PROGRESS: at 96.91% examples, 466935 words/s, in_qsize 5, out_qsize 0\n",
      "2017-05-29 16:04:58,317 : INFO : PROGRESS: at 96.99% examples, 466850 words/s, in_qsize 5, out_qsize 0\n",
      "2017-05-29 16:04:59,336 : INFO : PROGRESS: at 97.08% examples, 466771 words/s, in_qsize 6, out_qsize 0\n",
      "2017-05-29 16:05:00,368 : INFO : PROGRESS: at 97.16% examples, 466686 words/s, in_qsize 6, out_qsize 0\n",
      "2017-05-29 16:05:01,373 : INFO : PROGRESS: at 97.25% examples, 466605 words/s, in_qsize 6, out_qsize 0\n",
      "2017-05-29 16:05:02,406 : INFO : PROGRESS: at 97.33% examples, 466511 words/s, in_qsize 5, out_qsize 0\n",
      "2017-05-29 16:05:03,428 : INFO : PROGRESS: at 97.42% examples, 466422 words/s, in_qsize 6, out_qsize 0\n",
      "2017-05-29 16:05:04,448 : INFO : PROGRESS: at 97.51% examples, 466342 words/s, in_qsize 5, out_qsize 0\n",
      "2017-05-29 16:05:05,467 : INFO : PROGRESS: at 97.59% examples, 466263 words/s, in_qsize 6, out_qsize 0\n",
      "2017-05-29 16:05:06,490 : INFO : PROGRESS: at 97.68% examples, 466182 words/s, in_qsize 5, out_qsize 0\n",
      "2017-05-29 16:05:07,506 : INFO : PROGRESS: at 97.76% examples, 466107 words/s, in_qsize 6, out_qsize 0\n",
      "2017-05-29 16:05:08,537 : INFO : PROGRESS: at 97.85% examples, 466022 words/s, in_qsize 5, out_qsize 0\n",
      "2017-05-29 16:05:09,538 : INFO : PROGRESS: at 97.93% examples, 465944 words/s, in_qsize 6, out_qsize 0\n",
      "2017-05-29 16:05:10,549 : INFO : PROGRESS: at 98.01% examples, 465870 words/s, in_qsize 6, out_qsize 0\n",
      "2017-05-29 16:05:11,557 : INFO : PROGRESS: at 98.09% examples, 465796 words/s, in_qsize 6, out_qsize 0\n",
      "2017-05-29 16:05:12,575 : INFO : PROGRESS: at 98.18% examples, 465710 words/s, in_qsize 6, out_qsize 0\n",
      "2017-05-29 16:05:13,587 : INFO : PROGRESS: at 98.26% examples, 465626 words/s, in_qsize 6, out_qsize 0\n",
      "2017-05-29 16:05:14,587 : INFO : PROGRESS: at 98.34% examples, 465545 words/s, in_qsize 6, out_qsize 0\n",
      "2017-05-29 16:05:15,628 : INFO : PROGRESS: at 98.43% examples, 465457 words/s, in_qsize 6, out_qsize 0\n",
      "2017-05-29 16:05:16,634 : INFO : PROGRESS: at 98.51% examples, 465389 words/s, in_qsize 6, out_qsize 0\n",
      "2017-05-29 16:05:17,657 : INFO : PROGRESS: at 98.60% examples, 465312 words/s, in_qsize 5, out_qsize 0\n",
      "2017-05-29 16:05:18,689 : INFO : PROGRESS: at 98.68% examples, 465230 words/s, in_qsize 5, out_qsize 0\n",
      "2017-05-29 16:05:19,696 : INFO : PROGRESS: at 98.77% examples, 465150 words/s, in_qsize 6, out_qsize 0\n",
      "2017-05-29 16:05:20,705 : INFO : PROGRESS: at 98.85% examples, 465069 words/s, in_qsize 6, out_qsize 0\n",
      "2017-05-29 16:05:21,729 : INFO : PROGRESS: at 98.94% examples, 464990 words/s, in_qsize 6, out_qsize 0\n",
      "2017-05-29 16:05:22,744 : INFO : PROGRESS: at 99.02% examples, 464916 words/s, in_qsize 5, out_qsize 0\n",
      "2017-05-29 16:05:23,756 : INFO : PROGRESS: at 99.10% examples, 464840 words/s, in_qsize 6, out_qsize 0\n",
      "2017-05-29 16:05:24,757 : INFO : PROGRESS: at 99.19% examples, 464771 words/s, in_qsize 6, out_qsize 0\n",
      "2017-05-29 16:05:25,781 : INFO : PROGRESS: at 99.27% examples, 464692 words/s, in_qsize 5, out_qsize 0\n",
      "2017-05-29 16:05:26,786 : INFO : PROGRESS: at 99.35% examples, 464621 words/s, in_qsize 6, out_qsize 0\n",
      "2017-05-29 16:05:27,787 : INFO : PROGRESS: at 99.43% examples, 464550 words/s, in_qsize 6, out_qsize 0\n",
      "2017-05-29 16:05:28,789 : INFO : PROGRESS: at 99.52% examples, 464483 words/s, in_qsize 6, out_qsize 0\n",
      "2017-05-29 16:05:29,795 : INFO : PROGRESS: at 99.60% examples, 464392 words/s, in_qsize 6, out_qsize 0\n",
      "2017-05-29 16:05:30,813 : INFO : PROGRESS: at 99.68% examples, 464318 words/s, in_qsize 6, out_qsize 0\n",
      "2017-05-29 16:05:31,832 : INFO : PROGRESS: at 99.77% examples, 464245 words/s, in_qsize 5, out_qsize 0\n",
      "2017-05-29 16:05:32,835 : INFO : PROGRESS: at 99.86% examples, 464168 words/s, in_qsize 5, out_qsize 0\n",
      "2017-05-29 16:05:33,856 : INFO : PROGRESS: at 99.94% examples, 464095 words/s, in_qsize 6, out_qsize 0\n",
      "2017-05-29 16:05:34,513 : INFO : worker thread finished; awaiting finish of 2 more threads\n",
      "2017-05-29 16:05:34,527 : INFO : worker thread finished; awaiting finish of 1 more threads\n",
      "2017-05-29 16:05:34,532 : INFO : worker thread finished; awaiting finish of 0 more threads\n",
      "2017-05-29 16:05:34,533 : INFO : training on 486517335 raw words (470519436 effective words) took 1013.9s, 464052 effective words/s\n"
     ]
    },
    {
     "data": {
      "text/plain": [
       "470519436"
      ]
     },
     "execution_count": 14,
     "metadata": {},
     "output_type": "execute_result"
    }
   ],
   "source": [
    "Docmodel.train(sentences)"
   ]
  },
  {
   "cell_type": "code",
   "execution_count": 15,
   "metadata": {
    "collapsed": false
   },
   "outputs": [
    {
     "data": {
      "text/plain": [
       "array([-0.16094998, -0.07092436, -0.43022168,  0.82583451,  0.98526913,\n",
       "        0.36985263,  0.48807546,  1.00439715, -0.15126184, -0.03166531,\n",
       "        0.04133964,  0.05147157,  0.31162372, -0.39223349, -0.66802967], dtype=float32)"
      ]
     },
     "execution_count": 15,
     "metadata": {},
     "output_type": "execute_result"
    }
   ],
   "source": [
    "Docmodel[\"2\"]"
   ]
  },
  {
   "cell_type": "code",
   "execution_count": 16,
   "metadata": {
    "collapsed": true
   },
   "outputs": [],
   "source": [
    "#outfile = \"test2\"\n",
    "#Docmodel.save(outfile + '.model')\n",
    "#Docmodel.wv.save_word2vec_format(outfile + '.model.bin', binary=True)\n",
    "#Docmodel.wv.save_word2vec_format(outfile + '.model.txt', binary=False)"
   ]
  },
  {
   "cell_type": "code",
   "execution_count": 5,
   "metadata": {
    "collapsed": false
   },
   "outputs": [
    {
     "name": "stderr",
     "output_type": "stream",
     "text": [
      "2017-05-29 18:59:26,468 : INFO : loading Doc2Vec object from test2.model\n",
      "2017-05-29 18:59:29,161 : INFO : loading wv recursively from test2.model.wv.* with mmap=None\n",
      "2017-05-29 18:59:29,164 : INFO : setting ignored attribute syn0norm to None\n",
      "2017-05-29 18:59:29,164 : INFO : loading docvecs recursively from test2.model.docvecs.* with mmap=None\n",
      "2017-05-29 18:59:29,165 : INFO : loading doctag_syn0norm from test2.model.docvecs.doctag_syn0norm.npy with mmap=None\n",
      "2017-05-29 18:59:30,336 : INFO : loading doctag_syn0 from test2.model.docvecs.doctag_syn0.npy with mmap=None\n",
      "2017-05-29 18:59:31,511 : INFO : setting ignored attribute cum_table to None\n",
      "2017-05-29 18:59:31,512 : INFO : loaded test2.model\n"
     ]
    }
   ],
   "source": [
    "Docmodel = Doc2Vec.load(\"test2.model\")"
   ]
  },
  {
   "cell_type": "code",
   "execution_count": 9,
   "metadata": {
    "collapsed": false
   },
   "outputs": [
    {
     "name": "stdout",
     "output_type": "stream",
     "text": [
      "Nombre de user :  206209\n"
     ]
    }
   ],
   "source": [
    "print(\"Nombre de user : \", len(sentences))"
   ]
  },
  {
   "cell_type": "code",
   "execution_count": 72,
   "metadata": {
    "collapsed": false
   },
   "outputs": [
    {
     "name": "stdout",
     "output_type": "stream",
     "text": [
      "Nb tag(user) :  206209\n"
     ]
    }
   ],
   "source": [
    "print(\"Nb tag(user) : \", len(Docmodel.docvecs))"
   ]
  },
  {
   "cell_type": "markdown",
   "metadata": {},
   "source": [
    "* Obtenir les similarité sans indexer "
   ]
  },
  {
   "cell_type": "code",
   "execution_count": 20,
   "metadata": {
    "collapsed": false
   },
   "outputs": [
    {
     "data": {
      "text/plain": [
       "[(31, 1.0),\n",
       " (177743, 0.9242640137672424),\n",
       " (97983, 0.920072078704834),\n",
       " (37825, 0.9199916124343872),\n",
       " (86277, 0.9153571128845215)]"
      ]
     },
     "execution_count": 20,
     "metadata": {},
     "output_type": "execute_result"
    }
   ],
   "source": [
    "# Similarité user\n",
    "vector = Docmodel.docvecs[30]\n",
    "Docmodel.docvecs.most_similar([vector], topn=5)"
   ]
  },
  {
   "cell_type": "code",
   "execution_count": 22,
   "metadata": {
    "collapsed": false
   },
   "outputs": [
    {
     "data": {
      "text/plain": [
       "[('2', 1.0),\n",
       " ('12864', 0.9421048760414124),\n",
       " ('39973', 0.9287629127502441),\n",
       " ('24506', 0.9186358451843262),\n",
       " ('10993', 0.9180311560630798),\n",
       " ('29323', 0.914823055267334)]"
      ]
     },
     "execution_count": 22,
     "metadata": {},
     "output_type": "execute_result"
    }
   ],
   "source": [
    "vector = Docmodel[\"2\"]\n",
    "Docmodel.most_similar([vector], topn=6)"
   ]
  },
  {
   "cell_type": "code",
   "execution_count": 25,
   "metadata": {
    "collapsed": false
   },
   "outputs": [],
   "source": [
    "def similarity_user(model, uid, n=5):\n",
    "    \"\"\"\n",
    "    we take a user_id and we return the best n-user\n",
    "    return a list of similiarity user\n",
    "    \"\"\"\n",
    "    vector_user = model.docvecs[uid]\n",
    "    user_similarity_list = model.docvecs.most_similar([vector], topn=n+1)[1:]\n",
    "    return list(map(lambda x: x[0], user_similarity_list))\n",
    "\n",
    "def similarity_product(model, product_id, n=5):\n",
    "    \"\"\"\n",
    "    We take product_id\n",
    "    we return a list of similarity product\n",
    "    \"\"\"\n",
    "    vector_product = model[product_id]\n",
    "    product_similarity_list = model.most_similar([vector], topn=n+1)[1:]\n",
    "    return list(map(lambda x: x[0], product_similarity_list))\n",
    "\n",
    "def similarity_user_product(model, nid,n=5):\n",
    "    \"\"\"\n",
    "    We gie an user_id (or product id)\n",
    "    and we return the n similarity product_id (user_id)\n",
    "    If mode ⁼ 1 : product_id -> user_id\n",
    "    If mode = 0 : user_id -> product_id\n",
    "    \"\"\"   \n",
    "    if isinstance(nid, str):\n",
    "        vector = model[nid]\n",
    "        similarity_list = model.docvecs.most_similar([vector], topn=n) \n",
    "    else :\n",
    "        vector = model.docvecs[int(nid)]\n",
    "        similarity_list = model.most_similar([vector], topn=n)\n",
    "    return list(map(lambda x: x[0], similarity_list)) "
   ]
  },
  {
   "cell_type": "code",
   "execution_count": 51,
   "metadata": {
    "collapsed": false
   },
   "outputs": [],
   "source": [
    "# tags 21\n",
    "dict_item = Counter(sentences[20].words)"
   ]
  },
  {
   "cell_type": "code",
   "execution_count": 45,
   "metadata": {
    "collapsed": false
   },
   "outputs": [],
   "source": [
    "vector = Docmodel.docvecs[20]\n",
    "#Docmodel.docvecs.most_similar([vector], topn=5)"
   ]
  },
  {
   "cell_type": "code",
   "execution_count": 12,
   "metadata": {
    "collapsed": false
   },
   "outputs": [
    {
     "data": {
      "text/html": [
       "<div>\n",
       "<table border=\"1\" class=\"dataframe\">\n",
       "  <thead>\n",
       "    <tr style=\"text-align: right;\">\n",
       "      <th></th>\n",
       "      <th>order_id</th>\n",
       "      <th>product_id</th>\n",
       "      <th>add_to_cart_order</th>\n",
       "      <th>reordered</th>\n",
       "      <th>user_id</th>\n",
       "    </tr>\n",
       "  </thead>\n",
       "  <tbody>\n",
       "    <tr>\n",
       "      <th>753553</th>\n",
       "      <td>1854765</td>\n",
       "      <td>25740</td>\n",
       "      <td>1</td>\n",
       "      <td>1</td>\n",
       "      <td>21</td>\n",
       "    </tr>\n",
       "    <tr>\n",
       "      <th>753554</th>\n",
       "      <td>1854765</td>\n",
       "      <td>12683</td>\n",
       "      <td>2</td>\n",
       "      <td>1</td>\n",
       "      <td>21</td>\n",
       "    </tr>\n",
       "    <tr>\n",
       "      <th>753555</th>\n",
       "      <td>1854765</td>\n",
       "      <td>44632</td>\n",
       "      <td>3</td>\n",
       "      <td>1</td>\n",
       "      <td>21</td>\n",
       "    </tr>\n",
       "    <tr>\n",
       "      <th>753556</th>\n",
       "      <td>1854765</td>\n",
       "      <td>10957</td>\n",
       "      <td>4</td>\n",
       "      <td>1</td>\n",
       "      <td>21</td>\n",
       "    </tr>\n",
       "    <tr>\n",
       "      <th>753557</th>\n",
       "      <td>1854765</td>\n",
       "      <td>32645</td>\n",
       "      <td>5</td>\n",
       "      <td>1</td>\n",
       "      <td>21</td>\n",
       "    </tr>\n",
       "    <tr>\n",
       "      <th>753558</th>\n",
       "      <td>1854765</td>\n",
       "      <td>16615</td>\n",
       "      <td>6</td>\n",
       "      <td>0</td>\n",
       "      <td>21</td>\n",
       "    </tr>\n",
       "  </tbody>\n",
       "</table>\n",
       "</div>"
      ],
      "text/plain": [
       "        order_id product_id  add_to_cart_order  reordered  user_id\n",
       "753553   1854765      25740                  1          1       21\n",
       "753554   1854765      12683                  2          1       21\n",
       "753555   1854765      44632                  3          1       21\n",
       "753556   1854765      10957                  4          1       21\n",
       "753557   1854765      32645                  5          1       21\n",
       "753558   1854765      16615                  6          0       21"
      ]
     },
     "execution_count": 12,
     "metadata": {},
     "output_type": "execute_result"
    }
   ],
   "source": [
    "order_products__train[order_products__train[\"user_id\"]==21]"
   ]
  },
  {
   "cell_type": "markdown",
   "metadata": {},
   "source": [
    "### Apply Annoy Indexer"
   ]
  },
  {
   "cell_type": "code",
   "execution_count": 32,
   "metadata": {
    "collapsed": true
   },
   "outputs": [],
   "source": [
    "# Si le nom de modèle exist on le load sinon on train puis save\n",
    "fname = \"test_annoy\"\n",
    "if os.path.exists(fname):\n",
    "    annoy_index2 = AnnoyIndexer()\n",
    "    annoy_index2.load(fname)\n",
    "    annoy_index2.model = model\n",
    "else :\n",
    "    annoy_index = AnnoyIndexer(model,100)\n",
    "    annoy_index.save(fname)"
   ]
  },
  {
   "cell_type": "code",
   "execution_count": 33,
   "metadata": {
    "collapsed": false
   },
   "outputs": [
    {
     "name": "stdout",
     "output_type": "stream",
     "text": [
      "('u28985', 1.0)\n",
      "('u135911', 0.8248109370470047)\n",
      "('u39223', 0.8218446522951126)\n",
      "('u89559', 0.8161105960607529)\n",
      "('u78040', 0.8141410201787949)\n"
     ]
    }
   ],
   "source": [
    "vector = model[\"u28985\"]\n",
    "approximate_neighbors = model.most_similar([vector], topn=5, indexer=annoy_index2)\n",
    "for neighbor in approximate_neighbors:\n",
    "    print(neighbor)"
   ]
  },
  {
   "cell_type": "markdown",
   "metadata": {},
   "source": [
    "### Train table"
   ]
  },
  {
   "cell_type": "code",
   "execution_count": 7,
   "metadata": {
    "collapsed": false
   },
   "outputs": [
    {
     "data": {
      "text/html": [
       "<div>\n",
       "<table border=\"1\" class=\"dataframe\">\n",
       "  <thead>\n",
       "    <tr style=\"text-align: right;\">\n",
       "      <th></th>\n",
       "      <th>order_id</th>\n",
       "      <th>product_id</th>\n",
       "      <th>add_to_cart_order</th>\n",
       "      <th>reordered</th>\n",
       "      <th>user_id</th>\n",
       "    </tr>\n",
       "  </thead>\n",
       "  <tbody>\n",
       "    <tr>\n",
       "      <th>0</th>\n",
       "      <td>1</td>\n",
       "      <td>49302</td>\n",
       "      <td>1</td>\n",
       "      <td>1</td>\n",
       "      <td>112108</td>\n",
       "    </tr>\n",
       "    <tr>\n",
       "      <th>1</th>\n",
       "      <td>1</td>\n",
       "      <td>11109</td>\n",
       "      <td>2</td>\n",
       "      <td>1</td>\n",
       "      <td>112108</td>\n",
       "    </tr>\n",
       "    <tr>\n",
       "      <th>2</th>\n",
       "      <td>1</td>\n",
       "      <td>10246</td>\n",
       "      <td>3</td>\n",
       "      <td>0</td>\n",
       "      <td>112108</td>\n",
       "    </tr>\n",
       "    <tr>\n",
       "      <th>3</th>\n",
       "      <td>1</td>\n",
       "      <td>49683</td>\n",
       "      <td>4</td>\n",
       "      <td>0</td>\n",
       "      <td>112108</td>\n",
       "    </tr>\n",
       "    <tr>\n",
       "      <th>4</th>\n",
       "      <td>1</td>\n",
       "      <td>43633</td>\n",
       "      <td>5</td>\n",
       "      <td>1</td>\n",
       "      <td>112108</td>\n",
       "    </tr>\n",
       "  </tbody>\n",
       "</table>\n",
       "</div>"
      ],
      "text/plain": [
       "   order_id product_id  add_to_cart_order  reordered  user_id\n",
       "0         1      49302                  1          1   112108\n",
       "1         1      11109                  2          1   112108\n",
       "2         1      10246                  3          0   112108\n",
       "3         1      49683                  4          0   112108\n",
       "4         1      43633                  5          1   112108"
      ]
     },
     "execution_count": 7,
     "metadata": {},
     "output_type": "execute_result"
    }
   ],
   "source": [
    "order_products__train = pd.merge(order_products__train, order[[\"order_id\", \"user_id\"]],how=\"left\", on=\"order_id\")\n",
    "order_products__train[\"product_id\"] = order_products__train[\"product_id\"].astype(\"unicode\")\n",
    "order_products__train.head()"
   ]
  },
  {
   "cell_type": "code",
   "execution_count": 12,
   "metadata": {
    "collapsed": true
   },
   "outputs": [],
   "source": [
    "# On veut prédire les items que l'on RE commande donc on peut trier la table sur les reordered\n",
    "order_products__train = order_products__train[order_products__train[\"reordered\"]==1]"
   ]
  },
  {
   "cell_type": "code",
   "execution_count": 31,
   "metadata": {
    "collapsed": false
   },
   "outputs": [
    {
     "data": {
      "text/html": [
       "<div>\n",
       "<table border=\"1\" class=\"dataframe\">\n",
       "  <thead>\n",
       "    <tr style=\"text-align: right;\">\n",
       "      <th></th>\n",
       "      <th>order_id</th>\n",
       "      <th>product_id</th>\n",
       "      <th>add_to_cart_order</th>\n",
       "      <th>reordered</th>\n",
       "      <th>user_id</th>\n",
       "    </tr>\n",
       "  </thead>\n",
       "  <tbody>\n",
       "    <tr>\n",
       "      <th>0</th>\n",
       "      <td>1</td>\n",
       "      <td>49302</td>\n",
       "      <td>1</td>\n",
       "      <td>1</td>\n",
       "      <td>112108</td>\n",
       "    </tr>\n",
       "    <tr>\n",
       "      <th>1</th>\n",
       "      <td>1</td>\n",
       "      <td>11109</td>\n",
       "      <td>2</td>\n",
       "      <td>1</td>\n",
       "      <td>112108</td>\n",
       "    </tr>\n",
       "    <tr>\n",
       "      <th>2</th>\n",
       "      <td>1</td>\n",
       "      <td>10246</td>\n",
       "      <td>3</td>\n",
       "      <td>0</td>\n",
       "      <td>112108</td>\n",
       "    </tr>\n",
       "    <tr>\n",
       "      <th>3</th>\n",
       "      <td>1</td>\n",
       "      <td>49683</td>\n",
       "      <td>4</td>\n",
       "      <td>0</td>\n",
       "      <td>112108</td>\n",
       "    </tr>\n",
       "    <tr>\n",
       "      <th>4</th>\n",
       "      <td>1</td>\n",
       "      <td>43633</td>\n",
       "      <td>5</td>\n",
       "      <td>1</td>\n",
       "      <td>112108</td>\n",
       "    </tr>\n",
       "    <tr>\n",
       "      <th>5</th>\n",
       "      <td>1</td>\n",
       "      <td>13176</td>\n",
       "      <td>6</td>\n",
       "      <td>0</td>\n",
       "      <td>112108</td>\n",
       "    </tr>\n",
       "    <tr>\n",
       "      <th>6</th>\n",
       "      <td>1</td>\n",
       "      <td>47209</td>\n",
       "      <td>7</td>\n",
       "      <td>0</td>\n",
       "      <td>112108</td>\n",
       "    </tr>\n",
       "  </tbody>\n",
       "</table>\n",
       "</div>"
      ],
      "text/plain": [
       "   order_id product_id  add_to_cart_order  reordered  user_id\n",
       "0         1      49302                  1          1   112108\n",
       "1         1      11109                  2          1   112108\n",
       "2         1      10246                  3          0   112108\n",
       "3         1      49683                  4          0   112108\n",
       "4         1      43633                  5          1   112108\n",
       "5         1      13176                  6          0   112108\n",
       "6         1      47209                  7          0   112108"
      ]
     },
     "execution_count": 31,
     "metadata": {},
     "output_type": "execute_result"
    }
   ],
   "source": [
    "order_products__train.head(7)"
   ]
  },
  {
   "cell_type": "markdown",
   "metadata": {},
   "source": [
    "### Recommandation by k-nearest items \n",
    "\n",
    "For this purpose, the cosine similarity between the target user and item vectors are calculated and the most similar k items to the target user are found. The collected top-k items are recommended to the target use."
   ]
  },
  {
   "cell_type": "code",
   "execution_count": 90,
   "metadata": {
    "collapsed": false
   },
   "outputs": [
    {
     "data": {
      "text/plain": [
       "[(4, 1.0),\n",
       " (28518, 0.7082605957984924),\n",
       " (142572, 0.7053355574607849),\n",
       " (51889, 0.688294529914856),\n",
       " (75372, 0.6846442818641663),\n",
       " (160372, 0.6779074668884277),\n",
       " (160298, 0.6697469353675842),\n",
       " (102073, 0.6665793061256409),\n",
       " (25601, 0.6630001068115234),\n",
       " (7094, 0.6625559329986572)]"
      ]
     },
     "execution_count": 90,
     "metadata": {},
     "output_type": "execute_result"
    }
   ],
   "source": [
    "Docmodel.docvecs.most_similar([Docmodel.docvecs[3]])"
   ]
  },
  {
   "cell_type": "code",
   "execution_count": 91,
   "metadata": {
    "collapsed": false
   },
   "outputs": [
    {
     "data": {
      "text/plain": [
       "[('33899', 0.6927183866500854),\n",
       " ('46238', 0.648114800453186),\n",
       " ('46985', 0.6439578533172607),\n",
       " ('11955', 0.6421973705291748),\n",
       " ('28440', 0.6227453351020813),\n",
       " ('5660', 0.6222561597824097),\n",
       " ('46186', 0.6201191544532776),\n",
       " ('2066', 0.6197457313537598),\n",
       " ('10576', 0.615534782409668),\n",
       " ('47768', 0.6154682636260986)]"
      ]
     },
     "execution_count": 91,
     "metadata": {},
     "output_type": "execute_result"
    }
   ],
   "source": [
    "Docmodel.most_similar([Docmodel.docvecs[3]], topn=10)"
   ]
  },
  {
   "cell_type": "code",
   "execution_count": 94,
   "metadata": {
    "collapsed": false
   },
   "outputs": [
    {
     "data": {
      "text/plain": [
       "['22199',\n",
       " '25146',\n",
       " '1200',\n",
       " '17769',\n",
       " '43704',\n",
       " '37646',\n",
       " '11865',\n",
       " '35469',\n",
       " '19057',\n",
       " '42329',\n",
       " '7160',\n",
       " '26576',\n",
       " '25623',\n",
       " '21573',\n",
       " '36606',\n",
       " '7350',\n",
       " '35469',\n",
       " '2707']"
      ]
     },
     "execution_count": 94,
     "metadata": {},
     "output_type": "execute_result"
    }
   ],
   "source": [
    "sentences[3][0]"
   ]
  },
  {
   "cell_type": "markdown",
   "metadata": {
    "collapsed": true
   },
   "source": [
    "### Recommendation by N-nearest users "
   ]
  },
  {
   "cell_type": "markdown",
   "metadata": {},
   "source": [
    "Similar to the traditional\n",
    "approach,  in  NN  approach,  first  the  top-N  neighbors  are\n",
    "decided  using  the  similarity  among  the  user  vector  represen-\n",
    "tations.  Then  the  items  that  are  previously  used/preferred  by\n",
    "the  top-N  neighbors  are  collected.  Summing  up  the  votes  of\n",
    "neighbors,  the  top-k  items  to  recommend  are  decided"
   ]
  },
  {
   "cell_type": "code",
   "execution_count": 32,
   "metadata": {
    "collapsed": true
   },
   "outputs": [],
   "source": [
    "# test su un user_id 112108\n",
    "uid_test = 112108"
   ]
  },
  {
   "cell_type": "code",
   "execution_count": 34,
   "metadata": {
    "collapsed": false
   },
   "outputs": [],
   "source": [
    "id_similarity = similarity_user(Docmodel, uid_test, 5)"
   ]
  },
  {
   "cell_type": "code",
   "execution_count": 39,
   "metadata": {
    "collapsed": false
   },
   "outputs": [
    {
     "name": "stdout",
     "output_type": "stream",
     "text": [
      "206107\n",
      "73268\n",
      "119338\n",
      "52286\n",
      "71345\n"
     ]
    }
   ],
   "source": [
    "dico = []\n",
    "for uid in id_similarity:\n",
    "    print(uid)\n",
    "    product = similarity_user_product(Docmodel, uid, 5)\n",
    "    dico.extend(product)"
   ]
  },
  {
   "cell_type": "code",
   "execution_count": 31,
   "metadata": {
    "collapsed": false
   },
   "outputs": [
    {
     "data": {
      "text/plain": [
       "int"
      ]
     },
     "execution_count": 31,
     "metadata": {},
     "output_type": "execute_result"
    }
   ],
   "source": [
    "def N_nearest_users(user_id, n_user, n_product):\n",
    "    id_similarity = similarity_user(Docmodel, user_id, n_product)\n",
    "    return pass\n"
   ]
  },
  {
   "cell_type": "code",
   "execution_count": null,
   "metadata": {
    "collapsed": true
   },
   "outputs": [],
   "source": []
  }
 ],
 "metadata": {
  "anaconda-cloud": {},
  "kernelspec": {
   "display_name": "Python [conda root]",
   "language": "python",
   "name": "conda-root-py"
  },
  "language_info": {
   "codemirror_mode": {
    "name": "ipython",
    "version": 3
   },
   "file_extension": ".py",
   "mimetype": "text/x-python",
   "name": "python",
   "nbconvert_exporter": "python",
   "pygments_lexer": "ipython3",
   "version": "3.5.2"
  }
 },
 "nbformat": 4,
 "nbformat_minor": 2
}
