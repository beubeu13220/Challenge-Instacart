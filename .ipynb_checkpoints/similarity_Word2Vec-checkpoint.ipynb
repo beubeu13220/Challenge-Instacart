{
 "cells": [
  {
   "cell_type": "code",
   "execution_count": 161,
   "metadata": {
    "collapsed": false
   },
   "outputs": [],
   "source": [
    "import os\n",
    "import pandas as pd \n",
    "import numpy as np\n",
    "from gensim.models import word2vec\n",
    "from gensim.models import Doc2Vec, doc2vec\n",
    "import matplotlib.pyplot as plt\n",
    "import seaborn as sns\n",
    "import logging\n",
    "from gensim.similarities.index import AnnoyIndexer\n",
    "import utils\n",
    "import time \n",
    "from collections import Counter\n",
    "import multiprocessing\n",
    "import operator\n",
    "import pickle\n",
    "import random\n",
    "from sklearn.ensemble import ExtraTreesClassifier\n",
    "%matplotlib inline"
   ]
  },
  {
   "cell_type": "code",
   "execution_count": 2,
   "metadata": {
    "collapsed": false
   },
   "outputs": [],
   "source": [
    "logging.basicConfig(format='%(asctime)s : %(levelname)s : %(message)s', level=logging.INFO)"
   ]
  },
  {
   "cell_type": "code",
   "execution_count": 3,
   "metadata": {
    "collapsed": false
   },
   "outputs": [
    {
     "name": "stdout",
     "output_type": "stream",
     "text": [
      "On AWS instance\n",
      "/home/ec2-user/data\n"
     ]
    }
   ],
   "source": [
    "utils.data_directory()"
   ]
  },
  {
   "cell_type": "code",
   "execution_count": 4,
   "metadata": {
    "collapsed": true
   },
   "outputs": [],
   "source": [
    "aisles = pd.read_csv(\"aisles.csv\")\n",
    "departements = pd.read_csv(\"departments.csv\")\n",
    "order_products__prior = pd.read_csv(\"order_products__prior.csv\")\n",
    "order_products__train = pd.read_csv(\"order_products__train.csv\")\n",
    "order = pd.read_csv(\"orders.csv\")\n",
    "products = pd.read_csv(\"products.csv\")\n",
    "sample_submission = pd.read_csv(\"sample_submission.csv\")"
   ]
  },
  {
   "cell_type": "code",
   "execution_count": 5,
   "metadata": {
    "collapsed": false
   },
   "outputs": [
    {
     "data": {
      "text/html": [
       "<div>\n",
       "<table border=\"1\" class=\"dataframe\">\n",
       "  <thead>\n",
       "    <tr style=\"text-align: right;\">\n",
       "      <th></th>\n",
       "      <th>aisle_id</th>\n",
       "      <th>aisle</th>\n",
       "    </tr>\n",
       "  </thead>\n",
       "  <tbody>\n",
       "    <tr>\n",
       "      <th>0</th>\n",
       "      <td>1</td>\n",
       "      <td>prepared soups salads</td>\n",
       "    </tr>\n",
       "    <tr>\n",
       "      <th>1</th>\n",
       "      <td>2</td>\n",
       "      <td>specialty cheeses</td>\n",
       "    </tr>\n",
       "    <tr>\n",
       "      <th>2</th>\n",
       "      <td>3</td>\n",
       "      <td>energy granola bars</td>\n",
       "    </tr>\n",
       "    <tr>\n",
       "      <th>3</th>\n",
       "      <td>4</td>\n",
       "      <td>instant foods</td>\n",
       "    </tr>\n",
       "    <tr>\n",
       "      <th>4</th>\n",
       "      <td>5</td>\n",
       "      <td>marinades meat preparation</td>\n",
       "    </tr>\n",
       "  </tbody>\n",
       "</table>\n",
       "</div>"
      ],
      "text/plain": [
       "   aisle_id                       aisle\n",
       "0         1       prepared soups salads\n",
       "1         2           specialty cheeses\n",
       "2         3         energy granola bars\n",
       "3         4               instant foods\n",
       "4         5  marinades meat preparation"
      ]
     },
     "execution_count": 5,
     "metadata": {},
     "output_type": "execute_result"
    }
   ],
   "source": [
    "aisles.head()"
   ]
  },
  {
   "cell_type": "code",
   "execution_count": 6,
   "metadata": {
    "collapsed": false
   },
   "outputs": [
    {
     "data": {
      "text/html": [
       "<div>\n",
       "<table border=\"1\" class=\"dataframe\">\n",
       "  <thead>\n",
       "    <tr style=\"text-align: right;\">\n",
       "      <th></th>\n",
       "      <th>department_id</th>\n",
       "      <th>department</th>\n",
       "    </tr>\n",
       "  </thead>\n",
       "  <tbody>\n",
       "    <tr>\n",
       "      <th>0</th>\n",
       "      <td>1</td>\n",
       "      <td>frozen</td>\n",
       "    </tr>\n",
       "    <tr>\n",
       "      <th>1</th>\n",
       "      <td>2</td>\n",
       "      <td>other</td>\n",
       "    </tr>\n",
       "    <tr>\n",
       "      <th>2</th>\n",
       "      <td>3</td>\n",
       "      <td>bakery</td>\n",
       "    </tr>\n",
       "    <tr>\n",
       "      <th>3</th>\n",
       "      <td>4</td>\n",
       "      <td>produce</td>\n",
       "    </tr>\n",
       "    <tr>\n",
       "      <th>4</th>\n",
       "      <td>5</td>\n",
       "      <td>alcohol</td>\n",
       "    </tr>\n",
       "  </tbody>\n",
       "</table>\n",
       "</div>"
      ],
      "text/plain": [
       "   department_id department\n",
       "0              1     frozen\n",
       "1              2      other\n",
       "2              3     bakery\n",
       "3              4    produce\n",
       "4              5    alcohol"
      ]
     },
     "execution_count": 6,
     "metadata": {},
     "output_type": "execute_result"
    }
   ],
   "source": [
    "departements.head()"
   ]
  },
  {
   "cell_type": "code",
   "execution_count": 7,
   "metadata": {
    "collapsed": false
   },
   "outputs": [
    {
     "data": {
      "text/html": [
       "<div>\n",
       "<table border=\"1\" class=\"dataframe\">\n",
       "  <thead>\n",
       "    <tr style=\"text-align: right;\">\n",
       "      <th></th>\n",
       "      <th>product_id</th>\n",
       "      <th>product_name</th>\n",
       "      <th>aisle_id</th>\n",
       "      <th>department_id</th>\n",
       "    </tr>\n",
       "  </thead>\n",
       "  <tbody>\n",
       "    <tr>\n",
       "      <th>0</th>\n",
       "      <td>1</td>\n",
       "      <td>Chocolate Sandwich Cookies</td>\n",
       "      <td>61</td>\n",
       "      <td>19</td>\n",
       "    </tr>\n",
       "    <tr>\n",
       "      <th>1</th>\n",
       "      <td>2</td>\n",
       "      <td>All-Seasons Salt</td>\n",
       "      <td>104</td>\n",
       "      <td>13</td>\n",
       "    </tr>\n",
       "    <tr>\n",
       "      <th>2</th>\n",
       "      <td>3</td>\n",
       "      <td>Robust Golden Unsweetened Oolong Tea</td>\n",
       "      <td>94</td>\n",
       "      <td>7</td>\n",
       "    </tr>\n",
       "    <tr>\n",
       "      <th>3</th>\n",
       "      <td>4</td>\n",
       "      <td>Smart Ones Classic Favorites Mini Rigatoni Wit...</td>\n",
       "      <td>38</td>\n",
       "      <td>1</td>\n",
       "    </tr>\n",
       "    <tr>\n",
       "      <th>4</th>\n",
       "      <td>5</td>\n",
       "      <td>Green Chile Anytime Sauce</td>\n",
       "      <td>5</td>\n",
       "      <td>13</td>\n",
       "    </tr>\n",
       "  </tbody>\n",
       "</table>\n",
       "</div>"
      ],
      "text/plain": [
       "   product_id                                       product_name  aisle_id  \\\n",
       "0           1                         Chocolate Sandwich Cookies        61   \n",
       "1           2                                   All-Seasons Salt       104   \n",
       "2           3               Robust Golden Unsweetened Oolong Tea        94   \n",
       "3           4  Smart Ones Classic Favorites Mini Rigatoni Wit...        38   \n",
       "4           5                          Green Chile Anytime Sauce         5   \n",
       "\n",
       "   department_id  \n",
       "0             19  \n",
       "1             13  \n",
       "2              7  \n",
       "3              1  \n",
       "4             13  "
      ]
     },
     "execution_count": 7,
     "metadata": {},
     "output_type": "execute_result"
    }
   ],
   "source": [
    "products.head()"
   ]
  },
  {
   "cell_type": "code",
   "execution_count": 25,
   "metadata": {
    "collapsed": true
   },
   "outputs": [],
   "source": [
    "# Créer un corpus à partir de order_prior"
   ]
  },
  {
   "cell_type": "markdown",
   "metadata": {},
   "source": [
    "** From Word Embeddings to Item Recommendation ** (Makbule Gulcin Ozso)  \n",
    "*Extrait 1*  \n",
    "In  other  words,  the  sentences  used  in  Word2Vec  can\n",
    "be  mapped  into  past  preferences  of  users  in  recommenda-\n",
    "tion  process  and  the  words  in  Word2Vec  to  individual  items\n",
    "used  in  recommendation  process.  Second,  the  purpose  of  the\n",
    "Word2Vec  techniques  and  the  recommendation  process  are\n",
    "similar.  Word2Vec  model  aims  to  predict  the  words  based\n",
    "on  the  observed  words,  which  can  be  mapped  to  predicting\n",
    "the items to be recommended based on already preferred/used\n",
    "items.  \n",
    "*Extrait 2*  \n",
    "In  this  work,  inspiring  from  [10],  the  item  lists  are  used\n",
    "together with the users as the input to Word2Vec techniques,\n",
    "i.e. not only list of items, but list of user and the items preferred\n",
    "by this user is given as input to the Word2Vec techniques."
   ]
  },
  {
   "cell_type": "code",
   "execution_count": 8,
   "metadata": {
    "collapsed": false
   },
   "outputs": [
    {
     "data": {
      "text/html": [
       "<div>\n",
       "<table border=\"1\" class=\"dataframe\">\n",
       "  <thead>\n",
       "    <tr style=\"text-align: right;\">\n",
       "      <th></th>\n",
       "      <th>order_id</th>\n",
       "      <th>product_id</th>\n",
       "      <th>add_to_cart_order</th>\n",
       "      <th>reordered</th>\n",
       "    </tr>\n",
       "  </thead>\n",
       "  <tbody>\n",
       "    <tr>\n",
       "      <th>0</th>\n",
       "      <td>2</td>\n",
       "      <td>33120</td>\n",
       "      <td>1</td>\n",
       "      <td>1</td>\n",
       "    </tr>\n",
       "    <tr>\n",
       "      <th>1</th>\n",
       "      <td>2</td>\n",
       "      <td>28985</td>\n",
       "      <td>2</td>\n",
       "      <td>1</td>\n",
       "    </tr>\n",
       "    <tr>\n",
       "      <th>2</th>\n",
       "      <td>2</td>\n",
       "      <td>9327</td>\n",
       "      <td>3</td>\n",
       "      <td>0</td>\n",
       "    </tr>\n",
       "    <tr>\n",
       "      <th>3</th>\n",
       "      <td>2</td>\n",
       "      <td>45918</td>\n",
       "      <td>4</td>\n",
       "      <td>1</td>\n",
       "    </tr>\n",
       "    <tr>\n",
       "      <th>4</th>\n",
       "      <td>2</td>\n",
       "      <td>30035</td>\n",
       "      <td>5</td>\n",
       "      <td>0</td>\n",
       "    </tr>\n",
       "  </tbody>\n",
       "</table>\n",
       "</div>"
      ],
      "text/plain": [
       "   order_id  product_id  add_to_cart_order  reordered\n",
       "0         2       33120                  1          1\n",
       "1         2       28985                  2          1\n",
       "2         2        9327                  3          0\n",
       "3         2       45918                  4          1\n",
       "4         2       30035                  5          0"
      ]
     },
     "execution_count": 8,
     "metadata": {},
     "output_type": "execute_result"
    }
   ],
   "source": [
    "order_products__prior.head()"
   ]
  },
  {
   "cell_type": "code",
   "execution_count": 9,
   "metadata": {
    "collapsed": false
   },
   "outputs": [
    {
     "data": {
      "text/plain": [
       "(32434489, 4)"
      ]
     },
     "execution_count": 9,
     "metadata": {},
     "output_type": "execute_result"
    }
   ],
   "source": [
    "order_products__prior.shape"
   ]
  },
  {
   "cell_type": "code",
   "execution_count": 10,
   "metadata": {
    "collapsed": false
   },
   "outputs": [
    {
     "data": {
      "text/html": [
       "<div>\n",
       "<table border=\"1\" class=\"dataframe\">\n",
       "  <thead>\n",
       "    <tr style=\"text-align: right;\">\n",
       "      <th></th>\n",
       "      <th>order_id</th>\n",
       "      <th>user_id</th>\n",
       "      <th>eval_set</th>\n",
       "      <th>order_number</th>\n",
       "      <th>order_dow</th>\n",
       "      <th>order_hour_of_day</th>\n",
       "      <th>days_since_prior_order</th>\n",
       "    </tr>\n",
       "  </thead>\n",
       "  <tbody>\n",
       "    <tr>\n",
       "      <th>0</th>\n",
       "      <td>2539329</td>\n",
       "      <td>1</td>\n",
       "      <td>prior</td>\n",
       "      <td>1</td>\n",
       "      <td>2</td>\n",
       "      <td>8</td>\n",
       "      <td>NaN</td>\n",
       "    </tr>\n",
       "    <tr>\n",
       "      <th>1</th>\n",
       "      <td>2398795</td>\n",
       "      <td>1</td>\n",
       "      <td>prior</td>\n",
       "      <td>2</td>\n",
       "      <td>3</td>\n",
       "      <td>7</td>\n",
       "      <td>15.0</td>\n",
       "    </tr>\n",
       "    <tr>\n",
       "      <th>2</th>\n",
       "      <td>473747</td>\n",
       "      <td>1</td>\n",
       "      <td>prior</td>\n",
       "      <td>3</td>\n",
       "      <td>3</td>\n",
       "      <td>12</td>\n",
       "      <td>21.0</td>\n",
       "    </tr>\n",
       "    <tr>\n",
       "      <th>3</th>\n",
       "      <td>2254736</td>\n",
       "      <td>1</td>\n",
       "      <td>prior</td>\n",
       "      <td>4</td>\n",
       "      <td>4</td>\n",
       "      <td>7</td>\n",
       "      <td>29.0</td>\n",
       "    </tr>\n",
       "    <tr>\n",
       "      <th>4</th>\n",
       "      <td>431534</td>\n",
       "      <td>1</td>\n",
       "      <td>prior</td>\n",
       "      <td>5</td>\n",
       "      <td>4</td>\n",
       "      <td>15</td>\n",
       "      <td>28.0</td>\n",
       "    </tr>\n",
       "  </tbody>\n",
       "</table>\n",
       "</div>"
      ],
      "text/plain": [
       "   order_id  user_id eval_set  order_number  order_dow  order_hour_of_day  \\\n",
       "0   2539329        1    prior             1          2                  8   \n",
       "1   2398795        1    prior             2          3                  7   \n",
       "2    473747        1    prior             3          3                 12   \n",
       "3   2254736        1    prior             4          4                  7   \n",
       "4    431534        1    prior             5          4                 15   \n",
       "\n",
       "   days_since_prior_order  \n",
       "0                     NaN  \n",
       "1                    15.0  \n",
       "2                    21.0  \n",
       "3                    29.0  \n",
       "4                    28.0  "
      ]
     },
     "execution_count": 10,
     "metadata": {},
     "output_type": "execute_result"
    }
   ],
   "source": [
    "order.head()"
   ]
  },
  {
   "cell_type": "markdown",
   "metadata": {},
   "source": [
    "### Training Word2Vec"
   ]
  },
  {
   "cell_type": "code",
   "execution_count": 6,
   "metadata": {
    "collapsed": true
   },
   "outputs": [],
   "source": [
    "merge_order_product = pd.merge(order_products__prior[[\"order_id\", \"product_id\", \"reordered\"]], \n",
    "                               order[[\"order_id\", \"user_id\"]], on=\"order_id\")\n",
    "merge_order_product = merge_order_product[merge_order_product[\"reordered\"]==1]"
   ]
  },
  {
   "cell_type": "code",
   "execution_count": 59,
   "metadata": {
    "collapsed": true
   },
   "outputs": [],
   "source": [
    "order_products__train = pd.merge(order_products__train, order[[\"order_id\", \"user_id\"]],how=\"left\", on=\"order_id\")\n",
    "order_products__train[\"product_id\"] = order_products__train[\"product_id\"].astype(\"unicode\")\n",
    "order_products__train = order_products__train[order_products__train[\"reordered\"]==1]"
   ]
  },
  {
   "cell_type": "code",
   "execution_count": 7,
   "metadata": {
    "collapsed": false
   },
   "outputs": [
    {
     "data": {
      "text/html": [
       "<div>\n",
       "<table border=\"1\" class=\"dataframe\">\n",
       "  <thead>\n",
       "    <tr style=\"text-align: right;\">\n",
       "      <th></th>\n",
       "      <th>order_id</th>\n",
       "      <th>product_id</th>\n",
       "      <th>reordered</th>\n",
       "      <th>user_id</th>\n",
       "    </tr>\n",
       "  </thead>\n",
       "  <tbody>\n",
       "    <tr>\n",
       "      <th>0</th>\n",
       "      <td>2</td>\n",
       "      <td>33120</td>\n",
       "      <td>1</td>\n",
       "      <td>202279</td>\n",
       "    </tr>\n",
       "    <tr>\n",
       "      <th>1</th>\n",
       "      <td>2</td>\n",
       "      <td>28985</td>\n",
       "      <td>1</td>\n",
       "      <td>202279</td>\n",
       "    </tr>\n",
       "    <tr>\n",
       "      <th>3</th>\n",
       "      <td>2</td>\n",
       "      <td>45918</td>\n",
       "      <td>1</td>\n",
       "      <td>202279</td>\n",
       "    </tr>\n",
       "    <tr>\n",
       "      <th>5</th>\n",
       "      <td>2</td>\n",
       "      <td>17794</td>\n",
       "      <td>1</td>\n",
       "      <td>202279</td>\n",
       "    </tr>\n",
       "    <tr>\n",
       "      <th>6</th>\n",
       "      <td>2</td>\n",
       "      <td>40141</td>\n",
       "      <td>1</td>\n",
       "      <td>202279</td>\n",
       "    </tr>\n",
       "  </tbody>\n",
       "</table>\n",
       "</div>"
      ],
      "text/plain": [
       "   order_id  product_id  reordered  user_id\n",
       "0         2       33120          1   202279\n",
       "1         2       28985          1   202279\n",
       "3         2       45918          1   202279\n",
       "5         2       17794          1   202279\n",
       "6         2       40141          1   202279"
      ]
     },
     "execution_count": 7,
     "metadata": {},
     "output_type": "execute_result"
    }
   ],
   "source": [
    "merge_order_product.head()"
   ]
  },
  {
   "cell_type": "code",
   "execution_count": 8,
   "metadata": {
    "collapsed": false
   },
   "outputs": [
    {
     "data": {
      "text/plain": [
       "count    203164.000000\n",
       "mean         94.143332\n",
       "std         159.172463\n",
       "min           1.000000\n",
       "25%          11.000000\n",
       "50%          34.000000\n",
       "75%         103.000000\n",
       "max        3275.000000\n",
       "Name: reordered, dtype: float64"
      ]
     },
     "execution_count": 8,
     "metadata": {},
     "output_type": "execute_result"
    }
   ],
   "source": [
    "merge_order_product.groupby([\"user_id\"])[\"reordered\"].count().describe()"
   ]
  },
  {
   "cell_type": "code",
   "execution_count": 9,
   "metadata": {
    "collapsed": false
   },
   "outputs": [
    {
     "data": {
      "text/plain": [
       "count    2.826361e+06\n",
       "mean     6.767195e+00\n",
       "std      5.769478e+00\n",
       "min      1.000000e+00\n",
       "25%      3.000000e+00\n",
       "50%      5.000000e+00\n",
       "75%      9.000000e+00\n",
       "max      1.300000e+02\n",
       "Name: product_id, dtype: float64"
      ]
     },
     "execution_count": 9,
     "metadata": {},
     "output_type": "execute_result"
    }
   ],
   "source": [
    "merge_order_product.groupby([\"user_id\", \"order_id\"])[\"product_id\"].count().describe()"
   ]
  },
  {
   "cell_type": "code",
   "execution_count": 27,
   "metadata": {
    "collapsed": false
   },
   "outputs": [
    {
     "data": {
      "text/plain": [
       "<matplotlib.axes._subplots.AxesSubplot at 0x7fa038d130f0>"
      ]
     },
     "execution_count": 27,
     "metadata": {},
     "output_type": "execute_result"
    },
    {
     "data": {
      "image/png": "[encoded data removed]",
      "text/plain": [
       "<matplotlib.figure.Figure at 0x7fa038d1c748>"
      ]
     },
     "metadata": {},
     "output_type": "display_data"
    }
   ],
   "source": [
    "merge_order_product.groupby([\"order_id\"])[\"reordered\"].count().hist(bins=10)"
   ]
  },
  {
   "cell_type": "code",
   "execution_count": 8,
   "metadata": {
    "collapsed": true
   },
   "outputs": [],
   "source": [
    "# Avant de creer la les deux liste on doit modifier les user_id\n",
    "# car les user_id sont dans le même espace que les products_id \n",
    "#merge_order_product[\"user_id\"] = merge_order_product[\"user_id\"].map(lambda x : \"u\"+str(x))\n",
    "# Créer une liste de user et une liste de produit puis on concat les deux liste\n",
    "#liste_user = merge_order_product[\"user_id\"].tolist()\n",
    "#liste_product = merge_order_product[\"product_id\"].astype(str).tolist()\n",
    "#corpus = list(zip(liste_user, liste_product))\n",
    "# on supprime les deux listes pour ne pas occuper de la mémoire\n",
    "#del liste_user\n",
    "#del liste_product"
   ]
  },
  {
   "cell_type": "code",
   "execution_count": 97,
   "metadata": {
    "collapsed": true
   },
   "outputs": [],
   "source": [
    "with open('w2v_test','rb') as f:\n",
    "    sentences_test = pickle.load(f)\n",
    "with open('w2v_train','rb') as f:\n",
    "    sentences_train = pickle.load(f)   \n",
    "with open('w2v_label_test','rb') as f:\n",
    "    label_test = pickle.load(f) "
   ]
  },
  {
   "cell_type": "code",
   "execution_count": 12,
   "metadata": {
    "collapsed": false,
    "scrolled": true
   },
   "outputs": [
    {
     "name": "stderr",
     "output_type": "stream",
     "text": [
      "2017-05-30 19:11:47,787 : WARNING : consider setting layer size to a multiple of 4 for greater performance\n",
      "2017-05-30 19:11:47,788 : INFO : collecting all words and their counts\n",
      "2017-05-30 19:11:47,789 : INFO : PROGRESS: at sentence #0, processed 0 words, keeping 0 word types\n",
      "2017-05-30 19:11:47,990 : INFO : PROGRESS: at sentence #10000, processed 991827 words, keeping 23342 word types\n",
      "2017-05-30 19:11:48,197 : INFO : PROGRESS: at sentence #20000, processed 1987256 words, keeping 29153 word types\n",
      "2017-05-30 19:11:48,409 : INFO : PROGRESS: at sentence #30000, processed 2997055 words, keeping 32606 word types\n",
      "2017-05-30 19:11:48,623 : INFO : PROGRESS: at sentence #40000, processed 3997476 words, keeping 34967 word types\n",
      "2017-05-30 19:11:48,837 : INFO : PROGRESS: at sentence #50000, processed 4991414 words, keeping 36683 word types\n",
      "2017-05-30 19:11:49,046 : INFO : PROGRESS: at sentence #60000, processed 5978101 words, keeping 37990 word types\n",
      "2017-05-30 19:11:49,255 : INFO : PROGRESS: at sentence #70000, processed 6959069 words, keeping 39114 word types\n",
      "2017-05-30 19:11:49,470 : INFO : PROGRESS: at sentence #80000, processed 7957740 words, keeping 40094 word types\n",
      "2017-05-30 19:11:49,682 : INFO : PROGRESS: at sentence #90000, processed 8936586 words, keeping 40904 word types\n",
      "2017-05-30 19:11:49,891 : INFO : PROGRESS: at sentence #100000, processed 9921677 words, keeping 41602 word types\n",
      "2017-05-30 19:11:49,998 : INFO : collected 41930 word types from a corpus of 10414923 raw words and 104967 sentences\n",
      "2017-05-30 19:11:49,999 : INFO : Loading a fresh vocabulary\n",
      "2017-05-30 19:11:50,348 : INFO : min_count=5 retains 31749 unique words (75% of original 41930, drops 10181)\n",
      "2017-05-30 19:11:50,349 : INFO : min_count=5 leaves 10392957 word corpus (99% of original 10414923, drops 21966)\n",
      "2017-05-30 19:11:50,449 : INFO : deleting the raw counts dictionary of 41930 items\n",
      "2017-05-30 19:11:50,452 : INFO : sample=0.0001 downsamples 605 most-common words\n",
      "2017-05-30 19:11:50,452 : INFO : downsampling leaves estimated 7230051 word corpus (69.6% of prior 10392957)\n",
      "2017-05-30 19:11:50,453 : INFO : estimated required memory for 31749 words and 15 dimensions: 19684380 bytes\n",
      "2017-05-30 19:11:50,576 : INFO : resetting layer weights\n",
      "2017-05-30 19:11:51,015 : INFO : training model with 1 workers on 31749 vocabulary and 15 features, using sg=0 hs=0 sample=0.0001 negative=20 window=3\n",
      "2017-05-30 19:11:51,016 : INFO : expecting 104967 sentences, matching count from corpus used for vocabulary survey\n",
      "2017-05-30 19:11:52,044 : INFO : PROGRESS: at 0.21% examples, 227175 words/s, in_qsize 1, out_qsize 0\n",
      "2017-05-30 19:11:53,062 : INFO : PROGRESS: at 0.42% examples, 227255 words/s, in_qsize 1, out_qsize 0\n",
      "2017-05-30 19:11:54,082 : INFO : PROGRESS: at 0.64% examples, 227071 words/s, in_qsize 2, out_qsize 0\n",
      "2017-05-30 19:11:55,101 : INFO : PROGRESS: at 0.85% examples, 226726 words/s, in_qsize 1, out_qsize 0\n",
      "2017-05-30 19:11:56,105 : INFO : PROGRESS: at 1.06% examples, 226430 words/s, in_qsize 1, out_qsize 0\n",
      "2017-05-30 19:11:57,124 : INFO : PROGRESS: at 1.27% examples, 226414 words/s, in_qsize 1, out_qsize 0\n",
      "2017-05-30 19:11:58,144 : INFO : PROGRESS: at 1.48% examples, 226544 words/s, in_qsize 1, out_qsize 0\n",
      "2017-05-30 19:11:59,153 : INFO : PROGRESS: at 1.69% examples, 226577 words/s, in_qsize 1, out_qsize 0\n",
      "2017-05-30 19:12:00,160 : INFO : PROGRESS: at 1.90% examples, 226668 words/s, in_qsize 1, out_qsize 0\n",
      "2017-05-30 19:12:01,190 : INFO : PROGRESS: at 2.12% examples, 226484 words/s, in_qsize 1, out_qsize 0\n",
      "2017-05-30 19:12:02,191 : INFO : PROGRESS: at 2.32% examples, 226528 words/s, in_qsize 1, out_qsize 0\n",
      "2017-05-30 19:12:03,200 : INFO : PROGRESS: at 2.53% examples, 226745 words/s, in_qsize 1, out_qsize 0\n",
      "2017-05-30 19:12:04,224 : INFO : PROGRESS: at 2.75% examples, 226780 words/s, in_qsize 1, out_qsize 0\n",
      "2017-05-30 19:12:05,242 : INFO : PROGRESS: at 2.96% examples, 226842 words/s, in_qsize 2, out_qsize 0\n",
      "2017-05-30 19:12:06,268 : INFO : PROGRESS: at 3.17% examples, 226943 words/s, in_qsize 1, out_qsize 0\n",
      "2017-05-30 19:12:07,286 : INFO : PROGRESS: at 3.39% examples, 226947 words/s, in_qsize 1, out_qsize 0\n",
      "2017-05-30 19:12:08,301 : INFO : PROGRESS: at 3.60% examples, 227016 words/s, in_qsize 1, out_qsize 0\n",
      "2017-05-30 19:12:09,316 : INFO : PROGRESS: at 3.82% examples, 227087 words/s, in_qsize 2, out_qsize 0\n",
      "2017-05-30 19:12:10,342 : INFO : PROGRESS: at 4.03% examples, 227191 words/s, in_qsize 1, out_qsize 0\n",
      "2017-05-30 19:12:11,356 : INFO : PROGRESS: at 4.25% examples, 227247 words/s, in_qsize 1, out_qsize 0\n",
      "2017-05-30 19:12:12,366 : INFO : PROGRESS: at 4.47% examples, 227376 words/s, in_qsize 1, out_qsize 0\n",
      "2017-05-30 19:12:13,378 : INFO : PROGRESS: at 4.68% examples, 227478 words/s, in_qsize 1, out_qsize 0\n",
      "2017-05-30 19:12:14,381 : INFO : PROGRESS: at 4.90% examples, 227595 words/s, in_qsize 2, out_qsize 0\n",
      "2017-05-30 19:12:15,396 : INFO : PROGRESS: at 5.11% examples, 227671 words/s, in_qsize 1, out_qsize 0\n",
      "2017-05-30 19:12:16,404 : INFO : PROGRESS: at 5.31% examples, 227789 words/s, in_qsize 1, out_qsize 0\n",
      "2017-05-30 19:12:17,414 : INFO : PROGRESS: at 5.53% examples, 227815 words/s, in_qsize 1, out_qsize 0\n",
      "2017-05-30 19:12:18,427 : INFO : PROGRESS: at 5.75% examples, 227856 words/s, in_qsize 1, out_qsize 0\n",
      "2017-05-30 19:12:19,446 : INFO : PROGRESS: at 5.97% examples, 227878 words/s, in_qsize 1, out_qsize 0\n",
      "2017-05-30 19:12:20,460 : INFO : PROGRESS: at 6.19% examples, 227906 words/s, in_qsize 1, out_qsize 0\n",
      "2017-05-30 19:12:21,472 : INFO : PROGRESS: at 6.40% examples, 227974 words/s, in_qsize 1, out_qsize 0\n",
      "2017-05-30 19:12:22,481 : INFO : PROGRESS: at 6.62% examples, 228038 words/s, in_qsize 1, out_qsize 0\n",
      "2017-05-30 19:12:23,498 : INFO : PROGRESS: at 6.83% examples, 228089 words/s, in_qsize 1, out_qsize 0\n",
      "2017-05-30 19:12:24,512 : INFO : PROGRESS: at 7.04% examples, 228119 words/s, in_qsize 2, out_qsize 0\n",
      "2017-05-30 19:12:25,520 : INFO : PROGRESS: at 7.26% examples, 228126 words/s, in_qsize 1, out_qsize 0\n",
      "2017-05-30 19:12:26,528 : INFO : PROGRESS: at 7.46% examples, 228139 words/s, in_qsize 1, out_qsize 0\n",
      "2017-05-30 19:12:27,533 : INFO : PROGRESS: at 7.68% examples, 228180 words/s, in_qsize 1, out_qsize 0\n",
      "2017-05-30 19:12:28,541 : INFO : PROGRESS: at 7.90% examples, 228220 words/s, in_qsize 1, out_qsize 0\n",
      "2017-05-30 19:12:29,554 : INFO : PROGRESS: at 8.11% examples, 228272 words/s, in_qsize 1, out_qsize 0\n",
      "2017-05-30 19:12:30,581 : INFO : PROGRESS: at 8.32% examples, 228309 words/s, in_qsize 1, out_qsize 0\n",
      "2017-05-30 19:12:31,584 : INFO : PROGRESS: at 8.53% examples, 228312 words/s, in_qsize 1, out_qsize 0\n",
      "2017-05-30 19:12:32,593 : INFO : PROGRESS: at 8.75% examples, 228343 words/s, in_qsize 1, out_qsize 0\n",
      "2017-05-30 19:12:33,606 : INFO : PROGRESS: at 8.96% examples, 228377 words/s, in_qsize 1, out_qsize 0\n",
      "2017-05-30 19:12:34,625 : INFO : PROGRESS: at 9.17% examples, 228368 words/s, in_qsize 2, out_qsize 0\n",
      "2017-05-30 19:12:35,633 : INFO : PROGRESS: at 9.39% examples, 228429 words/s, in_qsize 1, out_qsize 0\n",
      "2017-05-30 19:12:36,639 : INFO : PROGRESS: at 9.60% examples, 228479 words/s, in_qsize 1, out_qsize 0\n",
      "2017-05-30 19:12:37,649 : INFO : PROGRESS: at 9.80% examples, 228548 words/s, in_qsize 1, out_qsize 0\n",
      "2017-05-30 19:12:38,656 : INFO : PROGRESS: at 10.02% examples, 228580 words/s, in_qsize 1, out_qsize 0\n",
      "2017-05-30 19:12:39,659 : INFO : PROGRESS: at 10.24% examples, 228628 words/s, in_qsize 2, out_qsize 0\n",
      "2017-05-30 19:12:40,674 : INFO : PROGRESS: at 10.45% examples, 228616 words/s, in_qsize 1, out_qsize 0\n",
      "2017-05-30 19:12:41,691 : INFO : PROGRESS: at 10.67% examples, 228653 words/s, in_qsize 1, out_qsize 0\n",
      "2017-05-30 19:12:42,704 : INFO : PROGRESS: at 10.89% examples, 228662 words/s, in_qsize 1, out_qsize 0\n",
      "2017-05-30 19:12:43,712 : INFO : PROGRESS: at 11.10% examples, 228695 words/s, in_qsize 1, out_qsize 0\n",
      "2017-05-30 19:12:44,726 : INFO : PROGRESS: at 11.31% examples, 228705 words/s, in_qsize 1, out_qsize 0\n",
      "2017-05-30 19:12:45,728 : INFO : PROGRESS: at 11.53% examples, 228705 words/s, in_qsize 1, out_qsize 0\n",
      "2017-05-30 19:12:46,750 : INFO : PROGRESS: at 11.74% examples, 228707 words/s, in_qsize 1, out_qsize 0\n",
      "2017-05-30 19:12:47,757 : INFO : PROGRESS: at 11.94% examples, 228732 words/s, in_qsize 1, out_qsize 0\n",
      "2017-05-30 19:12:48,769 : INFO : PROGRESS: at 12.16% examples, 228734 words/s, in_qsize 1, out_qsize 0\n",
      "2017-05-30 19:12:49,779 : INFO : PROGRESS: at 12.39% examples, 228739 words/s, in_qsize 1, out_qsize 0\n",
      "2017-05-30 19:12:50,796 : INFO : PROGRESS: at 12.61% examples, 228742 words/s, in_qsize 1, out_qsize 0\n",
      "2017-05-30 19:12:51,800 : INFO : PROGRESS: at 12.82% examples, 228763 words/s, in_qsize 1, out_qsize 0\n",
      "2017-05-30 19:12:52,814 : INFO : PROGRESS: at 13.03% examples, 228781 words/s, in_qsize 2, out_qsize 0\n",
      "2017-05-30 19:12:53,830 : INFO : PROGRESS: at 13.25% examples, 228799 words/s, in_qsize 1, out_qsize 0\n",
      "2017-05-30 19:12:54,837 : INFO : PROGRESS: at 13.46% examples, 228831 words/s, in_qsize 1, out_qsize 0\n",
      "2017-05-30 19:12:55,850 : INFO : PROGRESS: at 13.67% examples, 228827 words/s, in_qsize 2, out_qsize 0\n",
      "2017-05-30 19:12:56,864 : INFO : PROGRESS: at 13.89% examples, 228804 words/s, in_qsize 1, out_qsize 0\n",
      "2017-05-30 19:12:57,876 : INFO : PROGRESS: at 14.10% examples, 228797 words/s, in_qsize 1, out_qsize 0\n",
      "2017-05-30 19:12:58,886 : INFO : PROGRESS: at 14.31% examples, 228789 words/s, in_qsize 1, out_qsize 0\n",
      "2017-05-30 19:12:59,894 : INFO : PROGRESS: at 14.53% examples, 228804 words/s, in_qsize 2, out_qsize 0\n",
      "2017-05-30 19:13:00,918 : INFO : PROGRESS: at 14.74% examples, 228813 words/s, in_qsize 1, out_qsize 0\n",
      "2017-05-30 19:13:01,919 : INFO : PROGRESS: at 14.95% examples, 228814 words/s, in_qsize 1, out_qsize 0\n",
      "2017-05-30 19:13:02,945 : INFO : PROGRESS: at 15.17% examples, 228814 words/s, in_qsize 1, out_qsize 0\n",
      "2017-05-30 19:13:03,955 : INFO : PROGRESS: at 15.39% examples, 228816 words/s, in_qsize 1, out_qsize 0\n",
      "2017-05-30 19:13:04,973 : INFO : PROGRESS: at 15.59% examples, 228813 words/s, in_qsize 1, out_qsize 0\n",
      "2017-05-30 19:13:05,984 : INFO : PROGRESS: at 15.80% examples, 228824 words/s, in_qsize 1, out_qsize 0\n",
      "2017-05-30 19:13:06,998 : INFO : PROGRESS: at 16.02% examples, 228829 words/s, in_qsize 2, out_qsize 0\n",
      "2017-05-30 19:13:08,017 : INFO : PROGRESS: at 16.23% examples, 228824 words/s, in_qsize 1, out_qsize 0\n",
      "2017-05-30 19:13:09,038 : INFO : PROGRESS: at 16.44% examples, 228821 words/s, in_qsize 1, out_qsize 0\n",
      "2017-05-30 19:13:10,066 : INFO : PROGRESS: at 16.66% examples, 228790 words/s, in_qsize 1, out_qsize 0\n",
      "2017-05-30 19:13:11,079 : INFO : PROGRESS: at 16.87% examples, 228787 words/s, in_qsize 1, out_qsize 0\n",
      "2017-05-30 19:13:12,098 : INFO : PROGRESS: at 17.09% examples, 228772 words/s, in_qsize 1, out_qsize 0\n",
      "2017-05-30 19:13:13,122 : INFO : PROGRESS: at 17.31% examples, 228767 words/s, in_qsize 1, out_qsize 0\n",
      "2017-05-30 19:13:14,136 : INFO : PROGRESS: at 17.52% examples, 228749 words/s, in_qsize 2, out_qsize 0\n",
      "2017-05-30 19:13:15,152 : INFO : PROGRESS: at 17.74% examples, 228751 words/s, in_qsize 1, out_qsize 0\n",
      "2017-05-30 19:13:16,165 : INFO : PROGRESS: at 17.95% examples, 228760 words/s, in_qsize 1, out_qsize 0\n",
      "2017-05-30 19:13:17,166 : INFO : PROGRESS: at 18.17% examples, 228766 words/s, in_qsize 1, out_qsize 0\n",
      "2017-05-30 19:13:18,174 : INFO : PROGRESS: at 18.38% examples, 228798 words/s, in_qsize 2, out_qsize 0\n",
      "2017-05-30 19:13:19,190 : INFO : PROGRESS: at 18.58% examples, 228795 words/s, in_qsize 1, out_qsize 0\n",
      "2017-05-30 19:13:20,205 : INFO : PROGRESS: at 18.79% examples, 228791 words/s, in_qsize 1, out_qsize 0\n",
      "2017-05-30 19:13:21,215 : INFO : PROGRESS: at 19.02% examples, 228793 words/s, in_qsize 1, out_qsize 0\n",
      "2017-05-30 19:13:22,227 : INFO : PROGRESS: at 19.24% examples, 228811 words/s, in_qsize 1, out_qsize 0\n",
      "2017-05-30 19:13:23,230 : INFO : PROGRESS: at 19.45% examples, 228831 words/s, in_qsize 1, out_qsize 0\n",
      "2017-05-30 19:13:24,233 : INFO : PROGRESS: at 19.67% examples, 228851 words/s, in_qsize 1, out_qsize 0\n",
      "2017-05-30 19:13:25,252 : INFO : PROGRESS: at 19.89% examples, 228867 words/s, in_qsize 1, out_qsize 0\n",
      "2017-05-30 19:13:26,254 : INFO : PROGRESS: at 20.09% examples, 228893 words/s, in_qsize 1, out_qsize 0\n",
      "2017-05-30 19:13:27,262 : INFO : PROGRESS: at 20.31% examples, 228912 words/s, in_qsize 1, out_qsize 0\n",
      "2017-05-30 19:13:28,266 : INFO : PROGRESS: at 20.53% examples, 228913 words/s, in_qsize 1, out_qsize 0\n",
      "2017-05-30 19:13:29,272 : INFO : PROGRESS: at 20.74% examples, 228919 words/s, in_qsize 1, out_qsize 0\n",
      "2017-05-30 19:13:30,283 : INFO : PROGRESS: at 20.95% examples, 228915 words/s, in_qsize 1, out_qsize 0\n",
      "2017-05-30 19:13:31,297 : INFO : PROGRESS: at 21.17% examples, 228913 words/s, in_qsize 1, out_qsize 0\n",
      "2017-05-30 19:13:32,317 : INFO : PROGRESS: at 21.38% examples, 228923 words/s, in_qsize 1, out_qsize 0\n",
      "2017-05-30 19:13:33,341 : INFO : PROGRESS: at 21.59% examples, 228944 words/s, in_qsize 1, out_qsize 0\n",
      "2017-05-30 19:13:34,359 : INFO : PROGRESS: at 21.81% examples, 228970 words/s, in_qsize 1, out_qsize 0\n",
      "2017-05-30 19:13:35,364 : INFO : PROGRESS: at 22.03% examples, 228976 words/s, in_qsize 1, out_qsize 0\n",
      "2017-05-30 19:13:36,373 : INFO : PROGRESS: at 22.23% examples, 228986 words/s, in_qsize 1, out_qsize 0\n",
      "2017-05-30 19:13:37,378 : INFO : PROGRESS: at 22.44% examples, 229002 words/s, in_qsize 1, out_qsize 0\n",
      "2017-05-30 19:13:38,383 : INFO : PROGRESS: at 22.66% examples, 229027 words/s, in_qsize 1, out_qsize 0\n",
      "2017-05-30 19:13:39,393 : INFO : PROGRESS: at 22.87% examples, 229036 words/s, in_qsize 1, out_qsize 0\n",
      "2017-05-30 19:13:40,409 : INFO : PROGRESS: at 23.08% examples, 229040 words/s, in_qsize 1, out_qsize 0\n",
      "2017-05-30 19:13:41,422 : INFO : PROGRESS: at 23.30% examples, 229042 words/s, in_qsize 1, out_qsize 0\n",
      "2017-05-30 19:13:42,431 : INFO : PROGRESS: at 23.51% examples, 229048 words/s, in_qsize 1, out_qsize 0\n",
      "2017-05-30 19:13:43,440 : INFO : PROGRESS: at 23.73% examples, 229060 words/s, in_qsize 1, out_qsize 0\n",
      "2017-05-30 19:13:44,460 : INFO : PROGRESS: at 23.95% examples, 229070 words/s, in_qsize 1, out_qsize 0\n",
      "2017-05-30 19:13:45,489 : INFO : PROGRESS: at 24.17% examples, 229082 words/s, in_qsize 2, out_qsize 0\n",
      "2017-05-30 19:13:46,506 : INFO : PROGRESS: at 24.39% examples, 229084 words/s, in_qsize 1, out_qsize 0\n",
      "2017-05-30 19:13:47,515 : INFO : PROGRESS: at 24.60% examples, 229089 words/s, in_qsize 1, out_qsize 0\n",
      "2017-05-30 19:13:48,545 : INFO : PROGRESS: at 24.82% examples, 229101 words/s, in_qsize 1, out_qsize 0\n",
      "2017-05-30 19:13:49,568 : INFO : PROGRESS: at 25.04% examples, 229092 words/s, in_qsize 2, out_qsize 0\n",
      "2017-05-30 19:13:50,582 : INFO : PROGRESS: at 25.23% examples, 229096 words/s, in_qsize 1, out_qsize 0\n",
      "2017-05-30 19:13:51,593 : INFO : PROGRESS: at 25.45% examples, 229091 words/s, in_qsize 1, out_qsize 0\n",
      "2017-05-30 19:13:52,598 : INFO : PROGRESS: at 25.68% examples, 229095 words/s, in_qsize 1, out_qsize 0\n",
      "2017-05-30 19:13:53,608 : INFO : PROGRESS: at 25.89% examples, 229115 words/s, in_qsize 1, out_qsize 0\n",
      "2017-05-30 19:13:54,608 : INFO : PROGRESS: at 26.11% examples, 229134 words/s, in_qsize 1, out_qsize 0\n",
      "2017-05-30 19:13:55,609 : INFO : PROGRESS: at 26.32% examples, 229146 words/s, in_qsize 1, out_qsize 0\n",
      "2017-05-30 19:13:56,626 : INFO : PROGRESS: at 26.54% examples, 229162 words/s, in_qsize 1, out_qsize 0\n",
      "2017-05-30 19:13:57,655 : INFO : PROGRESS: at 26.75% examples, 229181 words/s, in_qsize 1, out_qsize 0\n",
      "2017-05-30 19:13:58,657 : INFO : PROGRESS: at 26.97% examples, 229205 words/s, in_qsize 1, out_qsize 0\n",
      "2017-05-30 19:13:59,686 : INFO : PROGRESS: at 27.19% examples, 229220 words/s, in_qsize 1, out_qsize 0\n",
      "2017-05-30 19:14:00,691 : INFO : PROGRESS: at 27.40% examples, 229225 words/s, in_qsize 2, out_qsize 0\n",
      "2017-05-30 19:14:01,702 : INFO : PROGRESS: at 27.62% examples, 229219 words/s, in_qsize 1, out_qsize 0\n",
      "2017-05-30 19:14:02,713 : INFO : PROGRESS: at 27.83% examples, 229219 words/s, in_qsize 1, out_qsize 0\n",
      "2017-05-30 19:14:03,735 : INFO : PROGRESS: at 28.05% examples, 229218 words/s, in_qsize 1, out_qsize 0\n",
      "2017-05-30 19:14:04,758 : INFO : PROGRESS: at 28.26% examples, 229231 words/s, in_qsize 2, out_qsize 0\n",
      "2017-05-30 19:14:05,784 : INFO : PROGRESS: at 28.48% examples, 229232 words/s, in_qsize 1, out_qsize 0\n",
      "2017-05-30 19:14:06,790 : INFO : PROGRESS: at 28.69% examples, 229234 words/s, in_qsize 1, out_qsize 0\n",
      "2017-05-30 19:14:07,797 : INFO : PROGRESS: at 28.90% examples, 229243 words/s, in_qsize 1, out_qsize 0\n",
      "2017-05-30 19:14:08,813 : INFO : PROGRESS: at 29.11% examples, 229235 words/s, in_qsize 1, out_qsize 0\n",
      "2017-05-30 19:14:09,822 : INFO : PROGRESS: at 29.32% examples, 229246 words/s, in_qsize 1, out_qsize 0\n",
      "2017-05-30 19:14:10,827 : INFO : PROGRESS: at 29.54% examples, 229256 words/s, in_qsize 1, out_qsize 0\n",
      "2017-05-30 19:14:11,843 : INFO : PROGRESS: at 29.75% examples, 229258 words/s, in_qsize 1, out_qsize 0\n",
      "2017-05-30 19:14:12,848 : INFO : PROGRESS: at 29.97% examples, 229272 words/s, in_qsize 1, out_qsize 0\n",
      "2017-05-30 19:14:13,856 : INFO : PROGRESS: at 30.18% examples, 229273 words/s, in_qsize 2, out_qsize 0\n",
      "2017-05-30 19:14:14,872 : INFO : PROGRESS: at 30.40% examples, 229271 words/s, in_qsize 1, out_qsize 0\n",
      "2017-05-30 19:14:15,892 : INFO : PROGRESS: at 30.61% examples, 229275 words/s, in_qsize 1, out_qsize 0\n",
      "2017-05-30 19:14:16,895 : INFO : PROGRESS: at 30.83% examples, 229273 words/s, in_qsize 1, out_qsize 0\n",
      "2017-05-30 19:14:17,905 : INFO : PROGRESS: at 31.05% examples, 229287 words/s, in_qsize 1, out_qsize 0\n",
      "2017-05-30 19:14:18,906 : INFO : PROGRESS: at 31.26% examples, 229300 words/s, in_qsize 1, out_qsize 0\n",
      "2017-05-30 19:14:19,929 : INFO : PROGRESS: at 31.48% examples, 229314 words/s, in_qsize 1, out_qsize 0\n",
      "2017-05-30 19:14:20,947 : INFO : PROGRESS: at 31.70% examples, 229317 words/s, in_qsize 1, out_qsize 0\n",
      "2017-05-30 19:14:21,958 : INFO : PROGRESS: at 31.89% examples, 229323 words/s, in_qsize 2, out_qsize 0\n",
      "2017-05-30 19:14:22,966 : INFO : PROGRESS: at 32.11% examples, 229325 words/s, in_qsize 1, out_qsize 0\n",
      "2017-05-30 19:14:23,971 : INFO : PROGRESS: at 32.34% examples, 229326 words/s, in_qsize 1, out_qsize 0\n",
      "2017-05-30 19:14:24,992 : INFO : PROGRESS: at 32.55% examples, 229325 words/s, in_qsize 1, out_qsize 0\n",
      "2017-05-30 19:14:26,003 : INFO : PROGRESS: at 32.77% examples, 229321 words/s, in_qsize 1, out_qsize 0\n",
      "2017-05-30 19:14:27,010 : INFO : PROGRESS: at 32.98% examples, 229322 words/s, in_qsize 2, out_qsize 0\n",
      "2017-05-30 19:14:28,025 : INFO : PROGRESS: at 33.20% examples, 229333 words/s, in_qsize 1, out_qsize 0\n",
      "2017-05-30 19:14:29,026 : INFO : PROGRESS: at 33.41% examples, 229340 words/s, in_qsize 1, out_qsize 0\n",
      "2017-05-30 19:14:30,029 : INFO : PROGRESS: at 33.62% examples, 229360 words/s, in_qsize 1, out_qsize 0\n",
      "2017-05-30 19:14:31,036 : INFO : PROGRESS: at 33.84% examples, 229361 words/s, in_qsize 1, out_qsize 0\n",
      "2017-05-30 19:14:32,064 : INFO : PROGRESS: at 34.06% examples, 229374 words/s, in_qsize 1, out_qsize 0\n",
      "2017-05-30 19:14:33,066 : INFO : PROGRESS: at 34.27% examples, 229382 words/s, in_qsize 1, out_qsize 0\n",
      "2017-05-30 19:14:34,077 : INFO : PROGRESS: at 34.49% examples, 229381 words/s, in_qsize 1, out_qsize 0\n",
      "2017-05-30 19:14:35,094 : INFO : PROGRESS: at 34.70% examples, 229386 words/s, in_qsize 1, out_qsize 0\n",
      "2017-05-30 19:14:36,119 : INFO : PROGRESS: at 34.92% examples, 229391 words/s, in_qsize 1, out_qsize 0\n",
      "2017-05-30 19:14:37,142 : INFO : PROGRESS: at 35.13% examples, 229402 words/s, in_qsize 1, out_qsize 0\n",
      "2017-05-30 19:14:38,165 : INFO : PROGRESS: at 35.35% examples, 229416 words/s, in_qsize 1, out_qsize 0\n",
      "2017-05-30 19:14:39,172 : INFO : PROGRESS: at 35.56% examples, 229426 words/s, in_qsize 2, out_qsize 0\n",
      "2017-05-30 19:14:40,174 : INFO : PROGRESS: at 35.77% examples, 229435 words/s, in_qsize 1, out_qsize 0\n",
      "2017-05-30 19:14:41,187 : INFO : PROGRESS: at 35.99% examples, 229437 words/s, in_qsize 2, out_qsize 0\n",
      "2017-05-30 19:14:42,196 : INFO : PROGRESS: at 36.20% examples, 229442 words/s, in_qsize 2, out_qsize 0\n",
      "2017-05-30 19:14:43,209 : INFO : PROGRESS: at 36.41% examples, 229445 words/s, in_qsize 1, out_qsize 0\n",
      "2017-05-30 19:14:44,213 : INFO : PROGRESS: at 36.63% examples, 229456 words/s, in_qsize 1, out_qsize 0\n",
      "2017-05-30 19:14:45,219 : INFO : PROGRESS: at 36.84% examples, 229464 words/s, in_qsize 1, out_qsize 0\n",
      "2017-05-30 19:14:46,233 : INFO : PROGRESS: at 37.06% examples, 229460 words/s, in_qsize 1, out_qsize 0\n",
      "2017-05-30 19:14:47,255 : INFO : PROGRESS: at 37.27% examples, 229462 words/s, in_qsize 1, out_qsize 0\n",
      "2017-05-30 19:14:48,262 : INFO : PROGRESS: at 37.49% examples, 229458 words/s, in_qsize 1, out_qsize 0\n",
      "2017-05-30 19:14:49,277 : INFO : PROGRESS: at 37.71% examples, 229462 words/s, in_qsize 1, out_qsize 0\n",
      "2017-05-30 19:14:50,284 : INFO : PROGRESS: at 37.92% examples, 229466 words/s, in_qsize 1, out_qsize 0\n",
      "2017-05-30 19:14:51,291 : INFO : PROGRESS: at 38.14% examples, 229455 words/s, in_qsize 1, out_qsize 0\n",
      "2017-05-30 19:14:52,305 : INFO : PROGRESS: at 38.35% examples, 229465 words/s, in_qsize 1, out_qsize 0\n",
      "2017-05-30 19:14:53,317 : INFO : PROGRESS: at 38.55% examples, 229468 words/s, in_qsize 1, out_qsize 0\n",
      "2017-05-30 19:14:54,346 : INFO : PROGRESS: at 38.77% examples, 229477 words/s, in_qsize 1, out_qsize 0\n",
      "2017-05-30 19:14:55,349 : INFO : PROGRESS: at 39.00% examples, 229481 words/s, in_qsize 1, out_qsize 0\n",
      "2017-05-30 19:14:56,359 : INFO : PROGRESS: at 39.21% examples, 229491 words/s, in_qsize 1, out_qsize 0\n",
      "2017-05-30 19:14:57,370 : INFO : PROGRESS: at 39.43% examples, 229489 words/s, in_qsize 1, out_qsize 0\n",
      "2017-05-30 19:14:58,371 : INFO : PROGRESS: at 39.65% examples, 229498 words/s, in_qsize 1, out_qsize 0\n",
      "2017-05-30 19:14:59,387 : INFO : PROGRESS: at 39.86% examples, 229502 words/s, in_qsize 1, out_qsize 0\n",
      "2017-05-30 19:15:00,415 : INFO : PROGRESS: at 40.08% examples, 229510 words/s, in_qsize 1, out_qsize 0\n",
      "2017-05-30 19:15:01,423 : INFO : PROGRESS: at 40.29% examples, 229519 words/s, in_qsize 1, out_qsize 0\n",
      "2017-05-30 19:15:02,433 : INFO : PROGRESS: at 40.51% examples, 229514 words/s, in_qsize 1, out_qsize 0\n",
      "2017-05-30 19:15:03,441 : INFO : PROGRESS: at 40.72% examples, 229511 words/s, in_qsize 1, out_qsize 0\n",
      "2017-05-30 19:15:04,452 : INFO : PROGRESS: at 40.93% examples, 229510 words/s, in_qsize 1, out_qsize 0\n",
      "2017-05-30 19:15:05,460 : INFO : PROGRESS: at 41.15% examples, 229512 words/s, in_qsize 2, out_qsize 0\n",
      "2017-05-30 19:15:06,479 : INFO : PROGRESS: at 41.36% examples, 229515 words/s, in_qsize 1, out_qsize 0\n",
      "2017-05-30 19:15:07,503 : INFO : PROGRESS: at 41.58% examples, 229517 words/s, in_qsize 1, out_qsize 0\n",
      "2017-05-30 19:15:08,530 : INFO : PROGRESS: at 41.80% examples, 229520 words/s, in_qsize 1, out_qsize 0\n",
      "2017-05-30 19:15:09,534 : INFO : PROGRESS: at 42.00% examples, 229517 words/s, in_qsize 1, out_qsize 0\n",
      "2017-05-30 19:15:10,544 : INFO : PROGRESS: at 42.21% examples, 229522 words/s, in_qsize 1, out_qsize 0\n",
      "2017-05-30 19:15:11,554 : INFO : PROGRESS: at 42.43% examples, 229524 words/s, in_qsize 1, out_qsize 0\n",
      "2017-05-30 19:15:12,554 : INFO : PROGRESS: at 42.64% examples, 229540 words/s, in_qsize 1, out_qsize 0\n",
      "2017-05-30 19:15:13,554 : INFO : PROGRESS: at 42.85% examples, 229551 words/s, in_qsize 2, out_qsize 0\n",
      "2017-05-30 19:15:14,560 : INFO : PROGRESS: at 43.07% examples, 229566 words/s, in_qsize 2, out_qsize 0\n",
      "2017-05-30 19:15:15,567 : INFO : PROGRESS: at 43.29% examples, 229574 words/s, in_qsize 1, out_qsize 0\n",
      "2017-05-30 19:15:16,592 : INFO : PROGRESS: at 43.50% examples, 229584 words/s, in_qsize 1, out_qsize 0\n",
      "2017-05-30 19:15:17,605 : INFO : PROGRESS: at 43.72% examples, 229580 words/s, in_qsize 1, out_qsize 0\n",
      "2017-05-30 19:15:18,626 : INFO : PROGRESS: at 43.93% examples, 229581 words/s, in_qsize 1, out_qsize 0\n",
      "2017-05-30 19:15:19,650 : INFO : PROGRESS: at 44.16% examples, 229590 words/s, in_qsize 1, out_qsize 0\n",
      "2017-05-30 19:15:20,665 : INFO : PROGRESS: at 44.37% examples, 229591 words/s, in_qsize 1, out_qsize 0\n",
      "2017-05-30 19:15:21,673 : INFO : PROGRESS: at 44.59% examples, 229595 words/s, in_qsize 1, out_qsize 0\n",
      "2017-05-30 19:15:22,699 : INFO : PROGRESS: at 44.81% examples, 229599 words/s, in_qsize 1, out_qsize 0\n",
      "2017-05-30 19:15:23,712 : INFO : PROGRESS: at 45.02% examples, 229605 words/s, in_qsize 1, out_qsize 0\n",
      "2017-05-30 19:15:24,741 : INFO : PROGRESS: at 45.22% examples, 229590 words/s, in_qsize 1, out_qsize 0\n",
      "2017-05-30 19:15:25,758 : INFO : PROGRESS: at 45.43% examples, 229576 words/s, in_qsize 1, out_qsize 0\n",
      "2017-05-30 19:15:26,777 : INFO : PROGRESS: at 45.66% examples, 229562 words/s, in_qsize 2, out_qsize 0\n",
      "2017-05-30 19:15:27,803 : INFO : PROGRESS: at 45.88% examples, 229554 words/s, in_qsize 1, out_qsize 0\n",
      "2017-05-30 19:15:28,810 : INFO : PROGRESS: at 46.10% examples, 229556 words/s, in_qsize 1, out_qsize 0\n",
      "2017-05-30 19:15:29,820 : INFO : PROGRESS: at 46.31% examples, 229553 words/s, in_qsize 1, out_qsize 0\n",
      "2017-05-30 19:15:30,841 : INFO : PROGRESS: at 46.53% examples, 229552 words/s, in_qsize 1, out_qsize 0\n",
      "2017-05-30 19:15:31,859 : INFO : PROGRESS: at 46.74% examples, 229539 words/s, in_qsize 1, out_qsize 0\n",
      "2017-05-30 19:15:32,876 : INFO : PROGRESS: at 46.95% examples, 229536 words/s, in_qsize 1, out_qsize 0\n",
      "2017-05-30 19:15:33,891 : INFO : PROGRESS: at 47.17% examples, 229528 words/s, in_qsize 2, out_qsize 0\n",
      "2017-05-30 19:15:34,892 : INFO : PROGRESS: at 47.38% examples, 229531 words/s, in_qsize 1, out_qsize 0\n",
      "2017-05-30 19:15:35,894 : INFO : PROGRESS: at 47.59% examples, 229538 words/s, in_qsize 1, out_qsize 0\n",
      "2017-05-30 19:15:36,896 : INFO : PROGRESS: at 47.81% examples, 229545 words/s, in_qsize 1, out_qsize 0\n",
      "2017-05-30 19:15:37,911 : INFO : PROGRESS: at 48.02% examples, 229552 words/s, in_qsize 2, out_qsize 0\n",
      "2017-05-30 19:15:38,929 : INFO : PROGRESS: at 48.24% examples, 229560 words/s, in_qsize 1, out_qsize 0\n",
      "2017-05-30 19:15:39,953 : INFO : PROGRESS: at 48.46% examples, 229569 words/s, in_qsize 1, out_qsize 0\n",
      "2017-05-30 19:15:40,975 : INFO : PROGRESS: at 48.67% examples, 229574 words/s, in_qsize 2, out_qsize 0\n",
      "2017-05-30 19:15:41,991 : INFO : PROGRESS: at 48.88% examples, 229573 words/s, in_qsize 1, out_qsize 0\n",
      "2017-05-30 19:15:43,001 : INFO : PROGRESS: at 49.09% examples, 229574 words/s, in_qsize 1, out_qsize 0\n",
      "2017-05-30 19:15:44,006 : INFO : PROGRESS: at 49.31% examples, 229580 words/s, in_qsize 1, out_qsize 0\n",
      "2017-05-30 19:15:45,017 : INFO : PROGRESS: at 49.52% examples, 229579 words/s, in_qsize 1, out_qsize 0\n",
      "2017-05-30 19:15:46,033 : INFO : PROGRESS: at 49.73% examples, 229583 words/s, in_qsize 1, out_qsize 0\n",
      "2017-05-30 19:15:47,037 : INFO : PROGRESS: at 49.95% examples, 229594 words/s, in_qsize 1, out_qsize 0\n",
      "2017-05-30 19:15:48,040 : INFO : PROGRESS: at 50.16% examples, 229594 words/s, in_qsize 1, out_qsize 0\n",
      "2017-05-30 19:15:49,050 : INFO : PROGRESS: at 50.38% examples, 229595 words/s, in_qsize 2, out_qsize 0\n",
      "2017-05-30 19:15:50,066 : INFO : PROGRESS: at 50.60% examples, 229601 words/s, in_qsize 1, out_qsize 0\n",
      "2017-05-30 19:15:51,069 : INFO : PROGRESS: at 50.81% examples, 229603 words/s, in_qsize 1, out_qsize 0\n",
      "2017-05-30 19:15:52,076 : INFO : PROGRESS: at 51.03% examples, 229608 words/s, in_qsize 1, out_qsize 0\n",
      "2017-05-30 19:15:53,089 : INFO : PROGRESS: at 51.24% examples, 229607 words/s, in_qsize 1, out_qsize 0\n",
      "2017-05-30 19:15:54,114 : INFO : PROGRESS: at 51.46% examples, 229609 words/s, in_qsize 1, out_qsize 0\n",
      "2017-05-30 19:15:55,125 : INFO : PROGRESS: at 51.67% examples, 229616 words/s, in_qsize 1, out_qsize 0\n",
      "2017-05-30 19:15:56,136 : INFO : PROGRESS: at 51.88% examples, 229620 words/s, in_qsize 1, out_qsize 0\n",
      "2017-05-30 19:15:57,142 : INFO : PROGRESS: at 52.09% examples, 229617 words/s, in_qsize 1, out_qsize 0\n",
      "2017-05-30 19:15:58,153 : INFO : PROGRESS: at 52.32% examples, 229612 words/s, in_qsize 2, out_qsize 0\n",
      "2017-05-30 19:15:59,167 : INFO : PROGRESS: at 52.53% examples, 229614 words/s, in_qsize 1, out_qsize 0\n",
      "2017-05-30 19:16:00,177 : INFO : PROGRESS: at 52.75% examples, 229611 words/s, in_qsize 1, out_qsize 0\n",
      "2017-05-30 19:16:01,189 : INFO : PROGRESS: at 52.97% examples, 229608 words/s, in_qsize 1, out_qsize 0\n",
      "2017-05-30 19:16:02,213 : INFO : PROGRESS: at 53.18% examples, 229606 words/s, in_qsize 1, out_qsize 0\n",
      "2017-05-30 19:16:03,217 : INFO : PROGRESS: at 53.39% examples, 229608 words/s, in_qsize 1, out_qsize 0\n",
      "2017-05-30 19:16:04,231 : INFO : PROGRESS: at 53.60% examples, 229608 words/s, in_qsize 1, out_qsize 0\n",
      "2017-05-30 19:16:05,242 : INFO : PROGRESS: at 53.82% examples, 229607 words/s, in_qsize 1, out_qsize 0\n",
      "2017-05-30 19:16:06,249 : INFO : PROGRESS: at 54.03% examples, 229606 words/s, in_qsize 1, out_qsize 0\n",
      "2017-05-30 19:16:07,258 : INFO : PROGRESS: at 54.25% examples, 229603 words/s, in_qsize 1, out_qsize 0\n",
      "2017-05-30 19:16:08,261 : INFO : PROGRESS: at 54.46% examples, 229607 words/s, in_qsize 1, out_qsize 0\n",
      "2017-05-30 19:16:09,275 : INFO : PROGRESS: at 54.67% examples, 229612 words/s, in_qsize 1, out_qsize 0\n",
      "2017-05-30 19:16:10,280 : INFO : PROGRESS: at 54.89% examples, 229609 words/s, in_qsize 1, out_qsize 0\n",
      "2017-05-30 19:16:11,303 : INFO : PROGRESS: at 55.10% examples, 229612 words/s, in_qsize 1, out_qsize 0\n",
      "2017-05-30 19:16:12,306 : INFO : PROGRESS: at 55.32% examples, 229612 words/s, in_qsize 1, out_qsize 0\n",
      "2017-05-30 19:16:13,316 : INFO : PROGRESS: at 55.52% examples, 229612 words/s, in_qsize 1, out_qsize 0\n",
      "2017-05-30 19:16:14,329 : INFO : PROGRESS: at 55.73% examples, 229612 words/s, in_qsize 2, out_qsize 0\n",
      "2017-05-30 19:16:15,341 : INFO : PROGRESS: at 55.95% examples, 229611 words/s, in_qsize 1, out_qsize 0\n",
      "2017-05-30 19:16:16,354 : INFO : PROGRESS: at 56.16% examples, 229606 words/s, in_qsize 1, out_qsize 0\n",
      "2017-05-30 19:16:17,375 : INFO : PROGRESS: at 56.37% examples, 229606 words/s, in_qsize 1, out_qsize 0\n",
      "2017-05-30 19:16:18,387 : INFO : PROGRESS: at 56.59% examples, 229609 words/s, in_qsize 1, out_qsize 0\n",
      "2017-05-30 19:16:19,415 : INFO : PROGRESS: at 56.81% examples, 229615 words/s, in_qsize 1, out_qsize 0\n",
      "2017-05-30 19:16:20,417 : INFO : PROGRESS: at 57.03% examples, 229621 words/s, in_qsize 1, out_qsize 0\n",
      "2017-05-30 19:16:21,438 : INFO : PROGRESS: at 57.24% examples, 229623 words/s, in_qsize 1, out_qsize 0\n",
      "2017-05-30 19:16:22,458 : INFO : PROGRESS: at 57.45% examples, 229612 words/s, in_qsize 1, out_qsize 0\n",
      "2017-05-30 19:16:23,478 : INFO : PROGRESS: at 57.67% examples, 229606 words/s, in_qsize 1, out_qsize 0\n",
      "2017-05-30 19:16:24,493 : INFO : PROGRESS: at 57.89% examples, 229603 words/s, in_qsize 2, out_qsize 0\n",
      "2017-05-30 19:16:25,501 : INFO : PROGRESS: at 58.10% examples, 229595 words/s, in_qsize 2, out_qsize 0\n",
      "2017-05-30 19:16:26,526 : INFO : PROGRESS: at 58.32% examples, 229590 words/s, in_qsize 1, out_qsize 0\n",
      "2017-05-30 19:16:27,539 : INFO : PROGRESS: at 58.52% examples, 229587 words/s, in_qsize 2, out_qsize 0\n",
      "2017-05-30 19:16:28,552 : INFO : PROGRESS: at 58.73% examples, 229585 words/s, in_qsize 1, out_qsize 0\n",
      "2017-05-30 19:16:29,553 : INFO : PROGRESS: at 58.95% examples, 229588 words/s, in_qsize 1, out_qsize 0\n",
      "2017-05-30 19:16:30,561 : INFO : PROGRESS: at 59.17% examples, 229593 words/s, in_qsize 1, out_qsize 0\n",
      "2017-05-30 19:16:31,567 : INFO : PROGRESS: at 59.39% examples, 229595 words/s, in_qsize 1, out_qsize 0\n",
      "2017-05-30 19:16:32,596 : INFO : PROGRESS: at 59.61% examples, 229603 words/s, in_qsize 1, out_qsize 0\n",
      "2017-05-30 19:16:33,613 : INFO : PROGRESS: at 59.83% examples, 229606 words/s, in_qsize 1, out_qsize 0\n",
      "2017-05-30 19:16:34,615 : INFO : PROGRESS: at 60.04% examples, 229609 words/s, in_qsize 1, out_qsize 0\n",
      "2017-05-30 19:16:35,623 : INFO : PROGRESS: at 60.25% examples, 229614 words/s, in_qsize 2, out_qsize 0\n",
      "2017-05-30 19:16:36,632 : INFO : PROGRESS: at 60.47% examples, 229613 words/s, in_qsize 1, out_qsize 0\n",
      "2017-05-30 19:16:37,638 : INFO : PROGRESS: at 60.68% examples, 229613 words/s, in_qsize 1, out_qsize 0\n",
      "2017-05-30 19:16:38,641 : INFO : PROGRESS: at 60.89% examples, 229617 words/s, in_qsize 2, out_qsize 0\n",
      "2017-05-30 19:16:39,652 : INFO : PROGRESS: at 61.11% examples, 229613 words/s, in_qsize 1, out_qsize 0\n",
      "2017-05-30 19:16:40,667 : INFO : PROGRESS: at 61.32% examples, 229613 words/s, in_qsize 1, out_qsize 0\n",
      "2017-05-30 19:16:41,675 : INFO : PROGRESS: at 61.53% examples, 229612 words/s, in_qsize 1, out_qsize 0\n",
      "2017-05-30 19:16:42,699 : INFO : PROGRESS: at 61.75% examples, 229615 words/s, in_qsize 1, out_qsize 0\n",
      "2017-05-30 19:16:43,704 : INFO : PROGRESS: at 61.96% examples, 229610 words/s, in_qsize 1, out_qsize 0\n",
      "2017-05-30 19:16:44,709 : INFO : PROGRESS: at 62.17% examples, 229617 words/s, in_qsize 1, out_qsize 0\n",
      "2017-05-30 19:16:45,720 : INFO : PROGRESS: at 62.38% examples, 229621 words/s, in_qsize 1, out_qsize 0\n",
      "2017-05-30 19:16:46,751 : INFO : PROGRESS: at 62.60% examples, 229624 words/s, in_qsize 2, out_qsize 0\n",
      "2017-05-30 19:16:47,767 : INFO : PROGRESS: at 62.82% examples, 229624 words/s, in_qsize 1, out_qsize 0\n",
      "2017-05-30 19:16:48,783 : INFO : PROGRESS: at 63.03% examples, 229622 words/s, in_qsize 1, out_qsize 0\n",
      "2017-05-30 19:16:49,797 : INFO : PROGRESS: at 63.25% examples, 229621 words/s, in_qsize 1, out_qsize 0\n",
      "2017-05-30 19:16:50,828 : INFO : PROGRESS: at 63.46% examples, 229626 words/s, in_qsize 1, out_qsize 0\n",
      "2017-05-30 19:16:51,839 : INFO : PROGRESS: at 63.68% examples, 229623 words/s, in_qsize 2, out_qsize 0\n",
      "2017-05-30 19:16:52,863 : INFO : PROGRESS: at 63.90% examples, 229621 words/s, in_qsize 1, out_qsize 0\n",
      "2017-05-30 19:16:53,869 : INFO : PROGRESS: at 64.11% examples, 229622 words/s, in_qsize 1, out_qsize 0\n",
      "2017-05-30 19:16:54,884 : INFO : PROGRESS: at 64.33% examples, 229620 words/s, in_qsize 1, out_qsize 0\n",
      "2017-05-30 19:16:55,897 : INFO : PROGRESS: at 64.55% examples, 229621 words/s, in_qsize 1, out_qsize 0\n",
      "2017-05-30 19:16:56,901 : INFO : PROGRESS: at 64.76% examples, 229619 words/s, in_qsize 1, out_qsize 0\n",
      "2017-05-30 19:16:57,923 : INFO : PROGRESS: at 64.97% examples, 229617 words/s, in_qsize 1, out_qsize 0\n",
      "2017-05-30 19:16:58,932 : INFO : PROGRESS: at 65.17% examples, 229615 words/s, in_qsize 1, out_qsize 0\n",
      "2017-05-30 19:16:59,933 : INFO : PROGRESS: at 65.38% examples, 229623 words/s, in_qsize 1, out_qsize 0\n",
      "2017-05-30 19:17:00,943 : INFO : PROGRESS: at 65.61% examples, 229617 words/s, in_qsize 2, out_qsize 0\n",
      "2017-05-30 19:17:01,959 : INFO : PROGRESS: at 65.83% examples, 229617 words/s, in_qsize 2, out_qsize 0\n",
      "2017-05-30 19:17:02,966 : INFO : PROGRESS: at 66.05% examples, 229616 words/s, in_qsize 2, out_qsize 0\n",
      "2017-05-30 19:17:03,982 : INFO : PROGRESS: at 66.26% examples, 229613 words/s, in_qsize 1, out_qsize 0\n",
      "2017-05-30 19:17:05,004 : INFO : PROGRESS: at 66.48% examples, 229610 words/s, in_qsize 1, out_qsize 0\n",
      "2017-05-30 19:17:06,010 : INFO : PROGRESS: at 66.69% examples, 229612 words/s, in_qsize 1, out_qsize 0\n",
      "2017-05-30 19:17:07,021 : INFO : PROGRESS: at 66.90% examples, 229615 words/s, in_qsize 1, out_qsize 0\n",
      "2017-05-30 19:17:08,031 : INFO : PROGRESS: at 67.11% examples, 229612 words/s, in_qsize 2, out_qsize 0\n",
      "2017-05-30 19:17:09,034 : INFO : PROGRESS: at 67.33% examples, 229611 words/s, in_qsize 1, out_qsize 0\n",
      "2017-05-30 19:17:10,038 : INFO : PROGRESS: at 67.54% examples, 229615 words/s, in_qsize 1, out_qsize 0\n",
      "2017-05-30 19:17:11,041 : INFO : PROGRESS: at 67.75% examples, 229620 words/s, in_qsize 1, out_qsize 0\n",
      "2017-05-30 19:17:12,046 : INFO : PROGRESS: at 67.97% examples, 229625 words/s, in_qsize 1, out_qsize 0\n",
      "2017-05-30 19:17:13,057 : INFO : PROGRESS: at 68.18% examples, 229623 words/s, in_qsize 1, out_qsize 0\n",
      "2017-05-30 19:17:14,083 : INFO : PROGRESS: at 68.40% examples, 229624 words/s, in_qsize 1, out_qsize 0\n",
      "2017-05-30 19:17:15,111 : INFO : PROGRESS: at 68.61% examples, 229625 words/s, in_qsize 1, out_qsize 0\n",
      "2017-05-30 19:17:16,121 : INFO : PROGRESS: at 68.82% examples, 229626 words/s, in_qsize 1, out_qsize 0\n",
      "2017-05-30 19:17:17,140 : INFO : PROGRESS: at 69.04% examples, 229628 words/s, in_qsize 1, out_qsize 0\n",
      "2017-05-30 19:17:18,163 : INFO : PROGRESS: at 69.26% examples, 229633 words/s, in_qsize 2, out_qsize 0\n",
      "2017-05-30 19:17:19,182 : INFO : PROGRESS: at 69.47% examples, 229633 words/s, in_qsize 1, out_qsize 0\n",
      "2017-05-30 19:17:20,200 : INFO : PROGRESS: at 69.68% examples, 229629 words/s, in_qsize 2, out_qsize 0\n",
      "2017-05-30 19:17:21,213 : INFO : PROGRESS: at 69.90% examples, 229630 words/s, in_qsize 2, out_qsize 0\n",
      "2017-05-30 19:17:22,237 : INFO : PROGRESS: at 70.12% examples, 229634 words/s, in_qsize 1, out_qsize 0\n",
      "2017-05-30 19:17:23,252 : INFO : PROGRESS: at 70.34% examples, 229633 words/s, in_qsize 1, out_qsize 0\n",
      "2017-05-30 19:17:24,265 : INFO : PROGRESS: at 70.55% examples, 229636 words/s, in_qsize 1, out_qsize 0\n",
      "2017-05-30 19:17:25,273 : INFO : PROGRESS: at 70.76% examples, 229637 words/s, in_qsize 1, out_qsize 0\n",
      "2017-05-30 19:17:26,285 : INFO : PROGRESS: at 70.98% examples, 229639 words/s, in_qsize 1, out_qsize 0\n",
      "2017-05-30 19:17:27,295 : INFO : PROGRESS: at 71.20% examples, 229640 words/s, in_qsize 1, out_qsize 0\n",
      "2017-05-30 19:17:28,322 : INFO : PROGRESS: at 71.42% examples, 229644 words/s, in_qsize 1, out_qsize 0\n",
      "2017-05-30 19:17:29,338 : INFO : PROGRESS: at 71.63% examples, 229645 words/s, in_qsize 1, out_qsize 0\n",
      "2017-05-30 19:17:30,342 : INFO : PROGRESS: at 71.83% examples, 229647 words/s, in_qsize 1, out_qsize 0\n",
      "2017-05-30 19:17:31,348 : INFO : PROGRESS: at 72.04% examples, 229648 words/s, in_qsize 1, out_qsize 0\n",
      "2017-05-30 19:17:32,355 : INFO : PROGRESS: at 72.27% examples, 229646 words/s, in_qsize 1, out_qsize 0\n",
      "2017-05-30 19:17:33,372 : INFO : PROGRESS: at 72.49% examples, 229646 words/s, in_qsize 1, out_qsize 0\n",
      "2017-05-30 19:17:34,386 : INFO : PROGRESS: at 72.71% examples, 229641 words/s, in_qsize 1, out_qsize 0\n",
      "2017-05-30 19:17:35,398 : INFO : PROGRESS: at 72.92% examples, 229640 words/s, in_qsize 1, out_qsize 0\n",
      "2017-05-30 19:17:36,419 : INFO : PROGRESS: at 73.14% examples, 229639 words/s, in_qsize 2, out_qsize 0\n",
      "2017-05-30 19:17:37,428 : INFO : PROGRESS: at 73.35% examples, 229638 words/s, in_qsize 1, out_qsize 0\n",
      "2017-05-30 19:17:38,440 : INFO : PROGRESS: at 73.56% examples, 229640 words/s, in_qsize 1, out_qsize 0\n",
      "2017-05-30 19:17:39,445 : INFO : PROGRESS: at 73.78% examples, 229641 words/s, in_qsize 1, out_qsize 0\n",
      "2017-05-30 19:17:40,446 : INFO : PROGRESS: at 73.99% examples, 229641 words/s, in_qsize 1, out_qsize 0\n",
      "2017-05-30 19:17:41,451 : INFO : PROGRESS: at 74.20% examples, 229644 words/s, in_qsize 1, out_qsize 0\n",
      "2017-05-30 19:17:42,459 : INFO : PROGRESS: at 74.41% examples, 229645 words/s, in_qsize 1, out_qsize 0\n",
      "2017-05-30 19:17:43,467 : INFO : PROGRESS: at 74.63% examples, 229646 words/s, in_qsize 1, out_qsize 0\n",
      "2017-05-30 19:17:44,484 : INFO : PROGRESS: at 74.84% examples, 229641 words/s, in_qsize 1, out_qsize 0\n",
      "2017-05-30 19:17:45,507 : INFO : PROGRESS: at 75.05% examples, 229643 words/s, in_qsize 1, out_qsize 0\n",
      "2017-05-30 19:17:46,510 : INFO : PROGRESS: at 75.27% examples, 229640 words/s, in_qsize 1, out_qsize 0\n",
      "2017-05-30 19:17:47,516 : INFO : PROGRESS: at 75.48% examples, 229643 words/s, in_qsize 1, out_qsize 0\n",
      "2017-05-30 19:17:48,538 : INFO : PROGRESS: at 75.69% examples, 229642 words/s, in_qsize 1, out_qsize 0\n",
      "2017-05-30 19:17:49,567 : INFO : PROGRESS: at 75.91% examples, 229644 words/s, in_qsize 1, out_qsize 0\n",
      "2017-05-30 19:17:50,583 : INFO : PROGRESS: at 76.13% examples, 229646 words/s, in_qsize 1, out_qsize 0\n",
      "2017-05-30 19:17:51,584 : INFO : PROGRESS: at 76.34% examples, 229651 words/s, in_qsize 1, out_qsize 0\n",
      "2017-05-30 19:17:52,601 : INFO : PROGRESS: at 76.55% examples, 229652 words/s, in_qsize 1, out_qsize 0\n",
      "2017-05-30 19:17:53,601 : INFO : PROGRESS: at 76.76% examples, 229652 words/s, in_qsize 2, out_qsize 0\n",
      "2017-05-30 19:17:54,615 : INFO : PROGRESS: at 76.98% examples, 229652 words/s, in_qsize 1, out_qsize 0\n",
      "2017-05-30 19:17:55,636 : INFO : PROGRESS: at 77.20% examples, 229646 words/s, in_qsize 1, out_qsize 0\n",
      "2017-05-30 19:17:56,656 : INFO : PROGRESS: at 77.41% examples, 229645 words/s, in_qsize 1, out_qsize 0\n",
      "2017-05-30 19:17:57,672 : INFO : PROGRESS: at 77.63% examples, 229643 words/s, in_qsize 1, out_qsize 0\n",
      "2017-05-30 19:17:58,680 : INFO : PROGRESS: at 77.85% examples, 229645 words/s, in_qsize 1, out_qsize 0\n",
      "2017-05-30 19:17:59,683 : INFO : PROGRESS: at 78.06% examples, 229645 words/s, in_qsize 1, out_qsize 0\n",
      "2017-05-30 19:18:00,703 : INFO : PROGRESS: at 78.27% examples, 229640 words/s, in_qsize 1, out_qsize 0\n",
      "2017-05-30 19:18:01,714 : INFO : PROGRESS: at 78.48% examples, 229639 words/s, in_qsize 1, out_qsize 0\n",
      "2017-05-30 19:18:02,739 : INFO : PROGRESS: at 78.69% examples, 229633 words/s, in_qsize 1, out_qsize 0\n",
      "2017-05-30 19:18:03,744 : INFO : PROGRESS: at 78.90% examples, 229632 words/s, in_qsize 1, out_qsize 0\n",
      "2017-05-30 19:18:04,757 : INFO : PROGRESS: at 79.13% examples, 229632 words/s, in_qsize 1, out_qsize 0\n",
      "2017-05-30 19:18:05,768 : INFO : PROGRESS: at 79.35% examples, 229631 words/s, in_qsize 1, out_qsize 0\n",
      "2017-05-30 19:18:06,777 : INFO : PROGRESS: at 79.57% examples, 229632 words/s, in_qsize 1, out_qsize 0\n",
      "2017-05-30 19:18:07,790 : INFO : PROGRESS: at 79.78% examples, 229632 words/s, in_qsize 1, out_qsize 0\n",
      "2017-05-30 19:18:08,796 : INFO : PROGRESS: at 79.99% examples, 229632 words/s, in_qsize 1, out_qsize 0\n",
      "2017-05-30 19:18:09,819 : INFO : PROGRESS: at 80.20% examples, 229631 words/s, in_qsize 1, out_qsize 0\n",
      "2017-05-30 19:18:10,821 : INFO : PROGRESS: at 80.42% examples, 229635 words/s, in_qsize 1, out_qsize 0\n",
      "2017-05-30 19:18:11,848 : INFO : PROGRESS: at 80.64% examples, 229638 words/s, in_qsize 1, out_qsize 0\n",
      "2017-05-30 19:18:12,877 : INFO : PROGRESS: at 80.86% examples, 229642 words/s, in_qsize 1, out_qsize 0\n",
      "2017-05-30 19:18:13,889 : INFO : PROGRESS: at 81.07% examples, 229641 words/s, in_qsize 2, out_qsize 0\n",
      "2017-05-30 19:18:14,892 : INFO : PROGRESS: at 81.29% examples, 229643 words/s, in_qsize 1, out_qsize 0\n",
      "2017-05-30 19:18:15,905 : INFO : PROGRESS: at 81.49% examples, 229642 words/s, in_qsize 1, out_qsize 0\n",
      "2017-05-30 19:18:16,935 : INFO : PROGRESS: at 81.71% examples, 229643 words/s, in_qsize 1, out_qsize 0\n",
      "2017-05-30 19:18:17,961 : INFO : PROGRESS: at 81.93% examples, 229641 words/s, in_qsize 1, out_qsize 0\n",
      "2017-05-30 19:18:18,978 : INFO : PROGRESS: at 82.14% examples, 229638 words/s, in_qsize 1, out_qsize 0\n",
      "2017-05-30 19:18:19,995 : INFO : PROGRESS: at 82.35% examples, 229640 words/s, in_qsize 1, out_qsize 0\n",
      "2017-05-30 19:18:21,018 : INFO : PROGRESS: at 82.57% examples, 229643 words/s, in_qsize 1, out_qsize 0\n",
      "2017-05-30 19:18:22,031 : INFO : PROGRESS: at 82.79% examples, 229647 words/s, in_qsize 2, out_qsize 0\n",
      "2017-05-30 19:18:23,035 : INFO : PROGRESS: at 83.00% examples, 229649 words/s, in_qsize 1, out_qsize 0\n",
      "2017-05-30 19:18:24,050 : INFO : PROGRESS: at 83.21% examples, 229652 words/s, in_qsize 1, out_qsize 0\n",
      "2017-05-30 19:18:25,055 : INFO : PROGRESS: at 83.43% examples, 229652 words/s, in_qsize 1, out_qsize 0\n",
      "2017-05-30 19:18:26,075 : INFO : PROGRESS: at 83.64% examples, 229648 words/s, in_qsize 2, out_qsize 0\n",
      "2017-05-30 19:18:27,098 : INFO : PROGRESS: at 83.86% examples, 229641 words/s, in_qsize 1, out_qsize 0\n",
      "2017-05-30 19:18:28,100 : INFO : PROGRESS: at 84.06% examples, 229633 words/s, in_qsize 1, out_qsize 0\n",
      "2017-05-30 19:18:29,114 : INFO : PROGRESS: at 84.28% examples, 229631 words/s, in_qsize 1, out_qsize 0\n",
      "2017-05-30 19:18:30,130 : INFO : PROGRESS: at 84.50% examples, 229630 words/s, in_qsize 1, out_qsize 0\n",
      "2017-05-30 19:18:31,138 : INFO : PROGRESS: at 84.71% examples, 229626 words/s, in_qsize 1, out_qsize 0\n",
      "2017-05-30 19:18:32,159 : INFO : PROGRESS: at 84.93% examples, 229622 words/s, in_qsize 1, out_qsize 0\n",
      "2017-05-30 19:18:33,164 : INFO : PROGRESS: at 85.14% examples, 229625 words/s, in_qsize 1, out_qsize 0\n",
      "2017-05-30 19:18:34,176 : INFO : PROGRESS: at 85.34% examples, 229625 words/s, in_qsize 1, out_qsize 0\n",
      "2017-05-30 19:18:35,178 : INFO : PROGRESS: at 85.56% examples, 229627 words/s, in_qsize 1, out_qsize 0\n",
      "2017-05-30 19:18:36,188 : INFO : PROGRESS: at 85.78% examples, 229627 words/s, in_qsize 1, out_qsize 0\n",
      "2017-05-30 19:18:37,202 : INFO : PROGRESS: at 86.00% examples, 229627 words/s, in_qsize 1, out_qsize 0\n",
      "2017-05-30 19:18:38,207 : INFO : PROGRESS: at 86.22% examples, 229629 words/s, in_qsize 1, out_qsize 0\n",
      "2017-05-30 19:18:39,222 : INFO : PROGRESS: at 86.43% examples, 229629 words/s, in_qsize 1, out_qsize 0\n",
      "2017-05-30 19:18:40,234 : INFO : PROGRESS: at 86.64% examples, 229625 words/s, in_qsize 1, out_qsize 0\n",
      "2017-05-30 19:18:41,257 : INFO : PROGRESS: at 86.86% examples, 229624 words/s, in_qsize 2, out_qsize 0\n",
      "2017-05-30 19:18:42,264 : INFO : PROGRESS: at 87.07% examples, 229626 words/s, in_qsize 1, out_qsize 0\n",
      "2017-05-30 19:18:43,291 : INFO : PROGRESS: at 87.30% examples, 229629 words/s, in_qsize 1, out_qsize 0\n",
      "2017-05-30 19:18:44,292 : INFO : PROGRESS: at 87.50% examples, 229631 words/s, in_qsize 1, out_qsize 0\n",
      "2017-05-30 19:18:45,295 : INFO : PROGRESS: at 87.72% examples, 229633 words/s, in_qsize 2, out_qsize 0\n",
      "2017-05-30 19:18:46,309 : INFO : PROGRESS: at 87.93% examples, 229631 words/s, in_qsize 1, out_qsize 0\n",
      "2017-05-30 19:18:47,322 : INFO : PROGRESS: at 88.14% examples, 229632 words/s, in_qsize 1, out_qsize 0\n",
      "2017-05-30 19:18:48,345 : INFO : PROGRESS: at 88.36% examples, 229634 words/s, in_qsize 1, out_qsize 0\n",
      "2017-05-30 19:18:49,375 : INFO : PROGRESS: at 88.57% examples, 229633 words/s, in_qsize 1, out_qsize 0\n",
      "2017-05-30 19:18:50,383 : INFO : PROGRESS: at 88.79% examples, 229633 words/s, in_qsize 1, out_qsize 0\n",
      "2017-05-30 19:18:51,397 : INFO : PROGRESS: at 89.00% examples, 229636 words/s, in_qsize 2, out_qsize 0\n",
      "2017-05-30 19:18:52,406 : INFO : PROGRESS: at 89.21% examples, 229635 words/s, in_qsize 1, out_qsize 0\n",
      "2017-05-30 19:18:53,424 : INFO : PROGRESS: at 89.43% examples, 229633 words/s, in_qsize 1, out_qsize 0\n",
      "2017-05-30 19:18:54,432 : INFO : PROGRESS: at 89.64% examples, 229633 words/s, in_qsize 2, out_qsize 0\n",
      "2017-05-30 19:18:55,454 : INFO : PROGRESS: at 89.85% examples, 229633 words/s, in_qsize 1, out_qsize 0\n",
      "2017-05-30 19:18:56,459 : INFO : PROGRESS: at 90.07% examples, 229631 words/s, in_qsize 1, out_qsize 0\n",
      "2017-05-30 19:18:57,471 : INFO : PROGRESS: at 90.28% examples, 229631 words/s, in_qsize 1, out_qsize 0\n",
      "2017-05-30 19:18:58,480 : INFO : PROGRESS: at 90.50% examples, 229631 words/s, in_qsize 1, out_qsize 0\n",
      "2017-05-30 19:18:59,502 : INFO : PROGRESS: at 90.71% examples, 229631 words/s, in_qsize 1, out_qsize 0\n",
      "2017-05-30 19:19:00,512 : INFO : PROGRESS: at 90.93% examples, 229631 words/s, in_qsize 1, out_qsize 0\n",
      "2017-05-30 19:19:01,530 : INFO : PROGRESS: at 91.15% examples, 229628 words/s, in_qsize 1, out_qsize 0\n",
      "2017-05-30 19:19:02,550 : INFO : PROGRESS: at 91.36% examples, 229623 words/s, in_qsize 1, out_qsize 0\n",
      "2017-05-30 19:19:03,562 : INFO : PROGRESS: at 91.57% examples, 229620 words/s, in_qsize 1, out_qsize 0\n",
      "2017-05-30 19:19:04,571 : INFO : PROGRESS: at 91.78% examples, 229622 words/s, in_qsize 1, out_qsize 0\n",
      "2017-05-30 19:19:05,577 : INFO : PROGRESS: at 91.99% examples, 229625 words/s, in_qsize 1, out_qsize 0\n",
      "2017-05-30 19:19:06,605 : INFO : PROGRESS: at 92.21% examples, 229629 words/s, in_qsize 1, out_qsize 0\n",
      "2017-05-30 19:19:07,613 : INFO : PROGRESS: at 92.44% examples, 229630 words/s, in_qsize 1, out_qsize 0\n",
      "2017-05-30 19:19:08,628 : INFO : PROGRESS: at 92.66% examples, 229631 words/s, in_qsize 1, out_qsize 0\n",
      "2017-05-30 19:19:09,635 : INFO : PROGRESS: at 92.87% examples, 229632 words/s, in_qsize 1, out_qsize 0\n",
      "2017-05-30 19:19:10,656 : INFO : PROGRESS: at 93.08% examples, 229629 words/s, in_qsize 1, out_qsize 0\n",
      "2017-05-30 19:19:11,671 : INFO : PROGRESS: at 93.30% examples, 229624 words/s, in_qsize 1, out_qsize 0\n",
      "2017-05-30 19:19:12,687 : INFO : PROGRESS: at 93.51% examples, 229626 words/s, in_qsize 1, out_qsize 0\n",
      "2017-05-30 19:19:13,702 : INFO : PROGRESS: at 93.72% examples, 229624 words/s, in_qsize 1, out_qsize 0\n",
      "2017-05-30 19:19:14,730 : INFO : PROGRESS: at 93.95% examples, 229625 words/s, in_qsize 1, out_qsize 0\n",
      "2017-05-30 19:19:15,730 : INFO : PROGRESS: at 94.16% examples, 229627 words/s, in_qsize 1, out_qsize 0\n",
      "2017-05-30 19:19:16,759 : INFO : PROGRESS: at 94.38% examples, 229630 words/s, in_qsize 1, out_qsize 0\n",
      "2017-05-30 19:19:17,765 : INFO : PROGRESS: at 94.59% examples, 229632 words/s, in_qsize 1, out_qsize 0\n",
      "2017-05-30 19:19:18,775 : INFO : PROGRESS: at 94.80% examples, 229636 words/s, in_qsize 1, out_qsize 0\n",
      "2017-05-30 19:19:19,793 : INFO : PROGRESS: at 95.02% examples, 229639 words/s, in_qsize 1, out_qsize 0\n",
      "2017-05-30 19:19:20,818 : INFO : PROGRESS: at 95.23% examples, 229641 words/s, in_qsize 1, out_qsize 0\n",
      "2017-05-30 19:19:21,825 : INFO : PROGRESS: at 95.45% examples, 229642 words/s, in_qsize 1, out_qsize 0\n",
      "2017-05-30 19:19:22,840 : INFO : PROGRESS: at 95.66% examples, 229644 words/s, in_qsize 1, out_qsize 0\n",
      "2017-05-30 19:19:23,869 : INFO : PROGRESS: at 95.88% examples, 229647 words/s, in_qsize 1, out_qsize 0\n",
      "2017-05-30 19:19:24,883 : INFO : PROGRESS: at 96.10% examples, 229647 words/s, in_qsize 1, out_qsize 0\n",
      "2017-05-30 19:19:25,886 : INFO : PROGRESS: at 96.30% examples, 229650 words/s, in_qsize 2, out_qsize 0\n",
      "2017-05-30 19:19:26,905 : INFO : PROGRESS: at 96.52% examples, 229651 words/s, in_qsize 1, out_qsize 0\n",
      "2017-05-30 19:19:27,933 : INFO : PROGRESS: at 96.74% examples, 229654 words/s, in_qsize 1, out_qsize 0\n",
      "2017-05-30 19:19:28,944 : INFO : PROGRESS: at 96.96% examples, 229654 words/s, in_qsize 1, out_qsize 0\n",
      "2017-05-30 19:19:29,954 : INFO : PROGRESS: at 97.17% examples, 229652 words/s, in_qsize 1, out_qsize 0\n",
      "2017-05-30 19:19:30,978 : INFO : PROGRESS: at 97.38% examples, 229653 words/s, in_qsize 1, out_qsize 0\n",
      "2017-05-30 19:19:31,985 : INFO : PROGRESS: at 97.61% examples, 229653 words/s, in_qsize 1, out_qsize 0\n",
      "2017-05-30 19:19:33,000 : INFO : PROGRESS: at 97.82% examples, 229652 words/s, in_qsize 1, out_qsize 0\n",
      "2017-05-30 19:19:34,009 : INFO : PROGRESS: at 98.03% examples, 229652 words/s, in_qsize 1, out_qsize 0\n",
      "2017-05-30 19:19:35,016 : INFO : PROGRESS: at 98.25% examples, 229652 words/s, in_qsize 1, out_qsize 0\n",
      "2017-05-30 19:19:36,026 : INFO : PROGRESS: at 98.46% examples, 229654 words/s, in_qsize 1, out_qsize 0\n",
      "2017-05-30 19:19:37,041 : INFO : PROGRESS: at 98.66% examples, 229652 words/s, in_qsize 1, out_qsize 0\n",
      "2017-05-30 19:19:38,050 : INFO : PROGRESS: at 98.88% examples, 229649 words/s, in_qsize 1, out_qsize 0\n",
      "2017-05-30 19:19:39,060 : INFO : PROGRESS: at 99.10% examples, 229650 words/s, in_qsize 1, out_qsize 0\n",
      "2017-05-30 19:19:40,066 : INFO : PROGRESS: at 99.32% examples, 229653 words/s, in_qsize 1, out_qsize 0\n",
      "2017-05-30 19:19:41,082 : INFO : PROGRESS: at 99.54% examples, 229650 words/s, in_qsize 1, out_qsize 0\n",
      "2017-05-30 19:19:42,092 : INFO : PROGRESS: at 99.75% examples, 229652 words/s, in_qsize 1, out_qsize 0\n",
      "2017-05-30 19:19:43,096 : INFO : PROGRESS: at 99.97% examples, 229653 words/s, in_qsize 1, out_qsize 0\n",
      "2017-05-30 19:19:43,249 : INFO : worker thread finished; awaiting finish of 0 more threads\n",
      "2017-05-30 19:19:43,249 : INFO : training on 156223845 raw words (108450525 effective words) took 472.2s, 229655 effective words/s\n",
      "2017-05-30 19:19:43,250 : INFO : training model with 1 workers on 31749 vocabulary and 15 features, using sg=0 hs=0 sample=0.0001 negative=20 window=3\n",
      "2017-05-30 19:19:43,250 : INFO : expecting 104967 sentences, matching count from corpus used for vocabulary survey\n",
      "2017-05-30 19:19:44,258 : INFO : PROGRESS: at 0.21% examples, 231962 words/s, in_qsize 1, out_qsize 0\n",
      "2017-05-30 19:19:45,259 : INFO : PROGRESS: at 0.42% examples, 231604 words/s, in_qsize 1, out_qsize 0\n",
      "2017-05-30 19:19:46,287 : INFO : PROGRESS: at 0.65% examples, 231444 words/s, in_qsize 2, out_qsize 0\n",
      "2017-05-30 19:19:47,316 : INFO : PROGRESS: at 0.86% examples, 231135 words/s, in_qsize 1, out_qsize 0\n",
      "2017-05-30 19:19:48,323 : INFO : PROGRESS: at 1.08% examples, 231265 words/s, in_qsize 1, out_qsize 0\n",
      "2017-05-30 19:19:49,344 : INFO : PROGRESS: at 1.30% examples, 231415 words/s, in_qsize 1, out_qsize 0\n",
      "2017-05-30 19:19:50,368 : INFO : PROGRESS: at 1.52% examples, 231573 words/s, in_qsize 1, out_qsize 0\n",
      "2017-05-30 19:19:51,384 : INFO : PROGRESS: at 1.73% examples, 231692 words/s, in_qsize 1, out_qsize 0\n",
      "2017-05-30 19:19:52,400 : INFO : PROGRESS: at 1.94% examples, 231755 words/s, in_qsize 1, out_qsize 0\n",
      "2017-05-30 19:19:53,403 : INFO : PROGRESS: at 2.16% examples, 231726 words/s, in_qsize 1, out_qsize 0\n",
      "2017-05-30 19:19:54,411 : INFO : PROGRESS: at 2.37% examples, 231759 words/s, in_qsize 1, out_qsize 0\n",
      "2017-05-30 19:19:55,432 : INFO : PROGRESS: at 2.59% examples, 231740 words/s, in_qsize 1, out_qsize 0\n",
      "2017-05-30 19:19:56,447 : INFO : PROGRESS: at 2.81% examples, 231668 words/s, in_qsize 1, out_qsize 0\n",
      "2017-05-30 19:19:57,455 : INFO : PROGRESS: at 3.02% examples, 231577 words/s, in_qsize 1, out_qsize 0\n",
      "2017-05-30 19:19:58,461 : INFO : PROGRESS: at 3.23% examples, 231599 words/s, in_qsize 1, out_qsize 0\n",
      "2017-05-30 19:19:59,489 : INFO : PROGRESS: at 3.45% examples, 231513 words/s, in_qsize 1, out_qsize 0\n",
      "2017-05-30 19:20:00,502 : INFO : PROGRESS: at 3.67% examples, 231435 words/s, in_qsize 1, out_qsize 0\n",
      "2017-05-30 19:20:01,518 : INFO : PROGRESS: at 3.89% examples, 231334 words/s, in_qsize 1, out_qsize 0\n",
      "2017-05-30 19:20:02,530 : INFO : PROGRESS: at 4.10% examples, 231217 words/s, in_qsize 1, out_qsize 0\n",
      "2017-05-30 19:20:03,548 : INFO : PROGRESS: at 4.31% examples, 231100 words/s, in_qsize 1, out_qsize 0\n",
      "2017-05-30 19:20:04,550 : INFO : PROGRESS: at 4.53% examples, 231134 words/s, in_qsize 1, out_qsize 0\n",
      "2017-05-30 19:20:05,578 : INFO : PROGRESS: at 4.75% examples, 231100 words/s, in_qsize 2, out_qsize 0\n",
      "2017-05-30 19:20:06,592 : INFO : PROGRESS: at 4.97% examples, 231076 words/s, in_qsize 1, out_qsize 0\n",
      "2017-05-30 19:20:07,596 : INFO : PROGRESS: at 5.17% examples, 231054 words/s, in_qsize 1, out_qsize 0\n",
      "2017-05-30 19:20:08,599 : INFO : PROGRESS: at 5.38% examples, 231053 words/s, in_qsize 1, out_qsize 0\n",
      "2017-05-30 19:20:09,601 : INFO : PROGRESS: at 5.60% examples, 231003 words/s, in_qsize 1, out_qsize 0\n",
      "2017-05-30 19:20:10,609 : INFO : PROGRESS: at 5.82% examples, 231025 words/s, in_qsize 1, out_qsize 0\n",
      "2017-05-30 19:20:11,615 : INFO : PROGRESS: at 6.04% examples, 230994 words/s, in_qsize 1, out_qsize 0\n",
      "2017-05-30 19:20:12,641 : INFO : PROGRESS: at 6.26% examples, 231055 words/s, in_qsize 1, out_qsize 0\n",
      "2017-05-30 19:20:13,656 : INFO : PROGRESS: at 6.48% examples, 231039 words/s, in_qsize 1, out_qsize 0\n",
      "2017-05-30 19:20:14,656 : INFO : PROGRESS: at 6.69% examples, 231063 words/s, in_qsize 1, out_qsize 0\n",
      "2017-05-30 19:20:15,666 : INFO : PROGRESS: at 6.90% examples, 231054 words/s, in_qsize 1, out_qsize 0\n",
      "2017-05-30 19:20:16,690 : INFO : PROGRESS: at 7.12% examples, 231087 words/s, in_qsize 1, out_qsize 0\n",
      "2017-05-30 19:20:17,692 : INFO : PROGRESS: at 7.34% examples, 231067 words/s, in_qsize 1, out_qsize 0\n",
      "2017-05-30 19:20:18,719 : INFO : PROGRESS: at 7.55% examples, 231082 words/s, in_qsize 1, out_qsize 0\n",
      "2017-05-30 19:20:19,745 : INFO : PROGRESS: at 7.77% examples, 231114 words/s, in_qsize 1, out_qsize 0\n",
      "2017-05-30 19:20:20,751 : INFO : PROGRESS: at 7.99% examples, 231129 words/s, in_qsize 1, out_qsize 0\n",
      "2017-05-30 19:20:21,753 : INFO : PROGRESS: at 8.20% examples, 231130 words/s, in_qsize 1, out_qsize 0\n",
      "2017-05-30 19:20:22,781 : INFO : PROGRESS: at 8.42% examples, 231094 words/s, in_qsize 1, out_qsize 0\n",
      "2017-05-30 19:20:23,807 : INFO : PROGRESS: at 8.63% examples, 231063 words/s, in_qsize 1, out_qsize 0\n",
      "2017-05-30 19:20:24,814 : INFO : PROGRESS: at 8.84% examples, 231062 words/s, in_qsize 1, out_qsize 0\n",
      "2017-05-30 19:20:25,823 : INFO : PROGRESS: at 9.05% examples, 231063 words/s, in_qsize 1, out_qsize 0\n",
      "2017-05-30 19:20:26,851 : INFO : PROGRESS: at 9.27% examples, 231085 words/s, in_qsize 1, out_qsize 0\n",
      "2017-05-30 19:20:27,855 : INFO : PROGRESS: at 9.49% examples, 231091 words/s, in_qsize 1, out_qsize 0\n",
      "2017-05-30 19:20:28,863 : INFO : PROGRESS: at 9.70% examples, 231109 words/s, in_qsize 1, out_qsize 0\n",
      "2017-05-30 19:20:29,866 : INFO : PROGRESS: at 9.92% examples, 231130 words/s, in_qsize 1, out_qsize 0\n",
      "2017-05-30 19:20:30,891 : INFO : PROGRESS: at 10.13% examples, 231137 words/s, in_qsize 1, out_qsize 0\n",
      "2017-05-30 19:20:31,901 : INFO : PROGRESS: at 10.36% examples, 231104 words/s, in_qsize 1, out_qsize 0\n",
      "2017-05-30 19:20:32,919 : INFO : PROGRESS: at 10.57% examples, 231103 words/s, in_qsize 1, out_qsize 0\n",
      "2017-05-30 19:20:33,926 : INFO : PROGRESS: at 10.78% examples, 231067 words/s, in_qsize 1, out_qsize 0\n",
      "2017-05-30 19:20:34,938 : INFO : PROGRESS: at 11.00% examples, 231049 words/s, in_qsize 1, out_qsize 0\n",
      "2017-05-30 19:20:35,948 : INFO : PROGRESS: at 11.22% examples, 231031 words/s, in_qsize 1, out_qsize 0\n",
      "2017-05-30 19:20:36,966 : INFO : PROGRESS: at 11.44% examples, 231065 words/s, in_qsize 1, out_qsize 0\n",
      "2017-05-30 19:20:37,967 : INFO : PROGRESS: at 11.65% examples, 231109 words/s, in_qsize 1, out_qsize 0\n",
      "2017-05-30 19:20:38,996 : INFO : PROGRESS: at 11.86% examples, 231131 words/s, in_qsize 1, out_qsize 0\n",
      "2017-05-30 19:20:40,022 : INFO : PROGRESS: at 12.08% examples, 231148 words/s, in_qsize 1, out_qsize 0\n",
      "2017-05-30 19:20:41,028 : INFO : PROGRESS: at 12.30% examples, 231133 words/s, in_qsize 1, out_qsize 0\n",
      "2017-05-30 19:20:42,039 : INFO : PROGRESS: at 12.52% examples, 231130 words/s, in_qsize 1, out_qsize 0\n",
      "2017-05-30 19:20:43,040 : INFO : PROGRESS: at 12.74% examples, 231125 words/s, in_qsize 1, out_qsize 0\n",
      "2017-05-30 19:20:44,063 : INFO : PROGRESS: at 12.96% examples, 231159 words/s, in_qsize 1, out_qsize 0\n",
      "2017-05-30 19:20:45,076 : INFO : PROGRESS: at 13.18% examples, 231161 words/s, in_qsize 1, out_qsize 0\n",
      "2017-05-30 19:20:46,076 : INFO : PROGRESS: at 13.38% examples, 231159 words/s, in_qsize 1, out_qsize 0\n",
      "2017-05-30 19:20:47,105 : INFO : PROGRESS: at 13.60% examples, 231186 words/s, in_qsize 1, out_qsize 0\n",
      "2017-05-30 19:20:48,129 : INFO : PROGRESS: at 13.83% examples, 231208 words/s, in_qsize 1, out_qsize 0\n",
      "2017-05-30 19:20:49,154 : INFO : PROGRESS: at 14.05% examples, 231222 words/s, in_qsize 1, out_qsize 0\n",
      "2017-05-30 19:20:50,178 : INFO : PROGRESS: at 14.27% examples, 231239 words/s, in_qsize 1, out_qsize 0\n",
      "2017-05-30 19:20:51,178 : INFO : PROGRESS: at 14.48% examples, 231242 words/s, in_qsize 1, out_qsize 0\n",
      "2017-05-30 19:20:52,190 : INFO : PROGRESS: at 14.70% examples, 231249 words/s, in_qsize 1, out_qsize 0\n",
      "2017-05-30 19:20:53,212 : INFO : PROGRESS: at 14.91% examples, 231234 words/s, in_qsize 1, out_qsize 0\n",
      "2017-05-30 19:20:54,237 : INFO : PROGRESS: at 15.13% examples, 231227 words/s, in_qsize 1, out_qsize 0\n",
      "2017-05-30 19:20:55,261 : INFO : PROGRESS: at 15.35% examples, 231218 words/s, in_qsize 1, out_qsize 0\n",
      "2017-05-30 19:20:56,269 : INFO : PROGRESS: at 15.55% examples, 231216 words/s, in_qsize 1, out_qsize 0\n",
      "2017-05-30 19:20:57,279 : INFO : PROGRESS: at 15.77% examples, 231200 words/s, in_qsize 2, out_qsize 0\n",
      "2017-05-30 19:20:58,289 : INFO : PROGRESS: at 15.98% examples, 231178 words/s, in_qsize 1, out_qsize 0\n",
      "2017-05-30 19:20:59,304 : INFO : PROGRESS: at 16.19% examples, 231144 words/s, in_qsize 1, out_qsize 0\n",
      "2017-05-30 19:21:00,319 : INFO : PROGRESS: at 16.41% examples, 231132 words/s, in_qsize 1, out_qsize 0\n",
      "2017-05-30 19:21:01,332 : INFO : PROGRESS: at 16.62% examples, 231112 words/s, in_qsize 1, out_qsize 0\n",
      "2017-05-30 19:21:02,349 : INFO : PROGRESS: at 16.83% examples, 231063 words/s, in_qsize 1, out_qsize 0\n",
      "2017-05-30 19:21:03,366 : INFO : PROGRESS: at 17.06% examples, 231024 words/s, in_qsize 1, out_qsize 0\n",
      "2017-05-30 19:21:04,384 : INFO : PROGRESS: at 17.27% examples, 231017 words/s, in_qsize 1, out_qsize 0\n",
      "2017-05-30 19:21:05,391 : INFO : PROGRESS: at 17.48% examples, 230991 words/s, in_qsize 1, out_qsize 0\n",
      "2017-05-30 19:21:06,407 : INFO : PROGRESS: at 17.70% examples, 230970 words/s, in_qsize 1, out_qsize 0\n",
      "2017-05-30 19:21:07,418 : INFO : PROGRESS: at 17.92% examples, 230950 words/s, in_qsize 2, out_qsize 0\n",
      "2017-05-30 19:21:08,422 : INFO : PROGRESS: at 18.13% examples, 230919 words/s, in_qsize 1, out_qsize 0\n",
      "2017-05-30 19:21:09,440 : INFO : PROGRESS: at 18.34% examples, 230908 words/s, in_qsize 1, out_qsize 0\n",
      "2017-05-30 19:21:10,464 : INFO : PROGRESS: at 18.54% examples, 230867 words/s, in_qsize 1, out_qsize 0\n",
      "2017-05-30 19:21:11,470 : INFO : PROGRESS: at 18.75% examples, 230849 words/s, in_qsize 1, out_qsize 0\n",
      "2017-05-30 19:21:12,483 : INFO : PROGRESS: at 18.98% examples, 230821 words/s, in_qsize 1, out_qsize 0\n",
      "2017-05-30 19:21:13,495 : INFO : PROGRESS: at 19.20% examples, 230824 words/s, in_qsize 1, out_qsize 0\n",
      "2017-05-30 19:21:14,499 : INFO : PROGRESS: at 19.42% examples, 230819 words/s, in_qsize 1, out_qsize 0\n",
      "2017-05-30 19:21:15,503 : INFO : PROGRESS: at 19.63% examples, 230814 words/s, in_qsize 1, out_qsize 0\n",
      "2017-05-30 19:21:16,524 : INFO : PROGRESS: at 19.85% examples, 230807 words/s, in_qsize 1, out_qsize 0\n",
      "2017-05-30 19:21:17,552 : INFO : PROGRESS: at 20.06% examples, 230810 words/s, in_qsize 1, out_qsize 0\n",
      "2017-05-30 19:21:18,558 : INFO : PROGRESS: at 20.27% examples, 230818 words/s, in_qsize 1, out_qsize 0\n",
      "2017-05-30 19:21:19,584 : INFO : PROGRESS: at 20.50% examples, 230834 words/s, in_qsize 1, out_qsize 0\n",
      "2017-05-30 19:21:20,586 : INFO : PROGRESS: at 20.71% examples, 230826 words/s, in_qsize 1, out_qsize 0\n",
      "2017-05-30 19:21:21,587 : INFO : PROGRESS: at 20.93% examples, 230832 words/s, in_qsize 1, out_qsize 0\n",
      "2017-05-30 19:21:22,595 : INFO : PROGRESS: at 21.14% examples, 230825 words/s, in_qsize 1, out_qsize 0\n",
      "2017-05-30 19:21:23,609 : INFO : PROGRESS: at 21.35% examples, 230828 words/s, in_qsize 1, out_qsize 0\n",
      "2017-05-30 19:21:24,634 : INFO : PROGRESS: at 21.57% examples, 230819 words/s, in_qsize 1, out_qsize 0\n",
      "2017-05-30 19:21:25,662 : INFO : PROGRESS: at 21.79% examples, 230814 words/s, in_qsize 1, out_qsize 0\n",
      "2017-05-30 19:21:26,666 : INFO : PROGRESS: at 22.00% examples, 230793 words/s, in_qsize 1, out_qsize 0\n",
      "2017-05-30 19:21:27,673 : INFO : PROGRESS: at 22.21% examples, 230794 words/s, in_qsize 1, out_qsize 0\n",
      "2017-05-30 19:21:28,684 : INFO : PROGRESS: at 22.42% examples, 230781 words/s, in_qsize 1, out_qsize 0\n",
      "2017-05-30 19:21:29,686 : INFO : PROGRESS: at 22.64% examples, 230792 words/s, in_qsize 1, out_qsize 0\n",
      "2017-05-30 19:21:30,693 : INFO : PROGRESS: at 22.85% examples, 230786 words/s, in_qsize 1, out_qsize 0\n",
      "2017-05-30 19:21:31,704 : INFO : PROGRESS: at 23.06% examples, 230795 words/s, in_qsize 1, out_qsize 0\n",
      "2017-05-30 19:21:32,712 : INFO : PROGRESS: at 23.28% examples, 230793 words/s, in_qsize 1, out_qsize 0\n",
      "2017-05-30 19:21:33,739 : INFO : PROGRESS: at 23.49% examples, 230794 words/s, in_qsize 1, out_qsize 0\n",
      "2017-05-30 19:21:34,759 : INFO : PROGRESS: at 23.72% examples, 230764 words/s, in_qsize 1, out_qsize 0\n",
      "2017-05-30 19:21:35,781 : INFO : PROGRESS: at 23.93% examples, 230753 words/s, in_qsize 1, out_qsize 0\n",
      "2017-05-30 19:21:36,789 : INFO : PROGRESS: at 24.14% examples, 230738 words/s, in_qsize 1, out_qsize 0\n",
      "2017-05-30 19:21:37,803 : INFO : PROGRESS: at 24.36% examples, 230728 words/s, in_qsize 1, out_qsize 0\n",
      "2017-05-30 19:21:38,818 : INFO : PROGRESS: at 24.57% examples, 230713 words/s, in_qsize 1, out_qsize 0\n",
      "2017-05-30 19:21:39,842 : INFO : PROGRESS: at 24.79% examples, 230712 words/s, in_qsize 1, out_qsize 0\n",
      "2017-05-30 19:21:40,857 : INFO : PROGRESS: at 25.01% examples, 230711 words/s, in_qsize 1, out_qsize 0\n",
      "2017-05-30 19:21:41,870 : INFO : PROGRESS: at 25.21% examples, 230706 words/s, in_qsize 1, out_qsize 0\n",
      "2017-05-30 19:21:42,879 : INFO : PROGRESS: at 25.42% examples, 230685 words/s, in_qsize 1, out_qsize 0\n",
      "2017-05-30 19:21:43,888 : INFO : PROGRESS: at 25.65% examples, 230674 words/s, in_qsize 1, out_qsize 0\n",
      "2017-05-30 19:21:44,903 : INFO : PROGRESS: at 25.87% examples, 230669 words/s, in_qsize 1, out_qsize 0\n",
      "2017-05-30 19:21:45,911 : INFO : PROGRESS: at 26.08% examples, 230658 words/s, in_qsize 1, out_qsize 0\n",
      "2017-05-30 19:21:46,923 : INFO : PROGRESS: at 26.30% examples, 230640 words/s, in_qsize 1, out_qsize 0\n",
      "2017-05-30 19:21:47,941 : INFO : PROGRESS: at 26.52% examples, 230637 words/s, in_qsize 1, out_qsize 0\n",
      "2017-05-30 19:21:48,944 : INFO : PROGRESS: at 26.72% examples, 230637 words/s, in_qsize 1, out_qsize 0\n",
      "2017-05-30 19:21:49,955 : INFO : PROGRESS: at 26.93% examples, 230632 words/s, in_qsize 1, out_qsize 0\n",
      "2017-05-30 19:21:50,982 : INFO : PROGRESS: at 27.16% examples, 230643 words/s, in_qsize 1, out_qsize 0\n",
      "2017-05-30 19:21:52,008 : INFO : PROGRESS: at 27.38% examples, 230650 words/s, in_qsize 1, out_qsize 0\n",
      "2017-05-30 19:21:53,014 : INFO : PROGRESS: at 27.59% examples, 230644 words/s, in_qsize 1, out_qsize 0\n",
      "2017-05-30 19:21:54,024 : INFO : PROGRESS: at 27.81% examples, 230633 words/s, in_qsize 1, out_qsize 0\n",
      "2017-05-30 19:21:55,048 : INFO : PROGRESS: at 28.02% examples, 230618 words/s, in_qsize 1, out_qsize 0\n",
      "2017-05-30 19:21:56,067 : INFO : PROGRESS: at 28.24% examples, 230620 words/s, in_qsize 1, out_qsize 0\n",
      "2017-05-30 19:21:57,095 : INFO : PROGRESS: at 28.46% examples, 230618 words/s, in_qsize 1, out_qsize 0\n",
      "2017-05-30 19:21:58,121 : INFO : PROGRESS: at 28.67% examples, 230615 words/s, in_qsize 1, out_qsize 0\n",
      "2017-05-30 19:21:59,130 : INFO : PROGRESS: at 28.88% examples, 230616 words/s, in_qsize 2, out_qsize 0\n",
      "2017-05-30 19:22:00,138 : INFO : PROGRESS: at 29.09% examples, 230610 words/s, in_qsize 1, out_qsize 0\n",
      "2017-05-30 19:22:01,151 : INFO : PROGRESS: at 29.31% examples, 230600 words/s, in_qsize 1, out_qsize 0\n",
      "2017-05-30 19:22:02,166 : INFO : PROGRESS: at 29.52% examples, 230584 words/s, in_qsize 1, out_qsize 0\n",
      "2017-05-30 19:22:03,186 : INFO : PROGRESS: at 29.73% examples, 230578 words/s, in_qsize 1, out_qsize 0\n",
      "2017-05-30 19:22:04,196 : INFO : PROGRESS: at 29.95% examples, 230577 words/s, in_qsize 1, out_qsize 0\n",
      "2017-05-30 19:22:05,199 : INFO : PROGRESS: at 30.16% examples, 230572 words/s, in_qsize 2, out_qsize 0\n",
      "2017-05-30 19:22:06,218 : INFO : PROGRESS: at 30.38% examples, 230553 words/s, in_qsize 1, out_qsize 0\n",
      "2017-05-30 19:22:07,237 : INFO : PROGRESS: at 30.60% examples, 230549 words/s, in_qsize 1, out_qsize 0\n",
      "2017-05-30 19:22:08,239 : INFO : PROGRESS: at 30.81% examples, 230548 words/s, in_qsize 1, out_qsize 0\n",
      "2017-05-30 19:22:09,246 : INFO : PROGRESS: at 31.03% examples, 230550 words/s, in_qsize 1, out_qsize 0\n",
      "2017-05-30 19:22:10,253 : INFO : PROGRESS: at 31.24% examples, 230549 words/s, in_qsize 1, out_qsize 0\n",
      "2017-05-30 19:22:11,260 : INFO : PROGRESS: at 31.46% examples, 230531 words/s, in_qsize 1, out_qsize 0\n",
      "2017-05-30 19:22:12,278 : INFO : PROGRESS: at 31.67% examples, 230528 words/s, in_qsize 1, out_qsize 0\n",
      "2017-05-30 19:22:13,283 : INFO : PROGRESS: at 31.87% examples, 230536 words/s, in_qsize 1, out_qsize 0\n",
      "2017-05-30 19:22:14,314 : INFO : PROGRESS: at 32.09% examples, 230533 words/s, in_qsize 1, out_qsize 0\n",
      "2017-05-30 19:22:15,320 : INFO : PROGRESS: at 32.32% examples, 230531 words/s, in_qsize 1, out_qsize 0\n",
      "2017-05-30 19:22:16,330 : INFO : PROGRESS: at 32.53% examples, 230534 words/s, in_qsize 1, out_qsize 0\n",
      "2017-05-30 19:22:17,331 : INFO : PROGRESS: at 32.75% examples, 230538 words/s, in_qsize 1, out_qsize 0\n",
      "2017-05-30 19:22:18,333 : INFO : PROGRESS: at 32.97% examples, 230540 words/s, in_qsize 1, out_qsize 0\n",
      "2017-05-30 19:22:19,352 : INFO : PROGRESS: at 33.18% examples, 230539 words/s, in_qsize 1, out_qsize 0\n",
      "2017-05-30 19:22:20,356 : INFO : PROGRESS: at 33.39% examples, 230537 words/s, in_qsize 1, out_qsize 0\n",
      "2017-05-30 19:22:21,363 : INFO : PROGRESS: at 33.60% examples, 230539 words/s, in_qsize 1, out_qsize 0\n",
      "2017-05-30 19:22:22,372 : INFO : PROGRESS: at 33.82% examples, 230532 words/s, in_qsize 1, out_qsize 0\n",
      "2017-05-30 19:22:23,385 : INFO : PROGRESS: at 34.03% examples, 230518 words/s, in_qsize 2, out_qsize 0\n",
      "2017-05-30 19:22:24,386 : INFO : PROGRESS: at 34.25% examples, 230520 words/s, in_qsize 1, out_qsize 0\n",
      "2017-05-30 19:22:25,413 : INFO : PROGRESS: at 34.47% examples, 230525 words/s, in_qsize 1, out_qsize 0\n",
      "2017-05-30 19:22:26,424 : INFO : PROGRESS: at 34.68% examples, 230535 words/s, in_qsize 1, out_qsize 0\n",
      "2017-05-30 19:22:27,447 : INFO : PROGRESS: at 34.90% examples, 230535 words/s, in_qsize 1, out_qsize 0\n",
      "2017-05-30 19:22:28,474 : INFO : PROGRESS: at 35.11% examples, 230533 words/s, in_qsize 1, out_qsize 0\n",
      "2017-05-30 19:22:29,480 : INFO : PROGRESS: at 35.33% examples, 230520 words/s, in_qsize 1, out_qsize 0\n",
      "2017-05-30 19:22:30,502 : INFO : PROGRESS: at 35.53% examples, 230502 words/s, in_qsize 1, out_qsize 0\n",
      "2017-05-30 19:22:31,515 : INFO : PROGRESS: at 35.75% examples, 230494 words/s, in_qsize 1, out_qsize 0\n",
      "2017-05-30 19:22:32,522 : INFO : PROGRESS: at 35.96% examples, 230499 words/s, in_qsize 1, out_qsize 0\n",
      "2017-05-30 19:22:33,536 : INFO : PROGRESS: at 36.17% examples, 230485 words/s, in_qsize 1, out_qsize 0\n",
      "2017-05-30 19:22:34,559 : INFO : PROGRESS: at 36.39% examples, 230473 words/s, in_qsize 2, out_qsize 0\n",
      "2017-05-30 19:22:35,569 : INFO : PROGRESS: at 36.61% examples, 230476 words/s, in_qsize 1, out_qsize 0\n",
      "2017-05-30 19:22:36,594 : INFO : PROGRESS: at 36.82% examples, 230482 words/s, in_qsize 2, out_qsize 0\n",
      "2017-05-30 19:22:37,602 : INFO : PROGRESS: at 37.04% examples, 230476 words/s, in_qsize 1, out_qsize 0\n",
      "2017-05-30 19:22:38,614 : INFO : PROGRESS: at 37.26% examples, 230486 words/s, in_qsize 1, out_qsize 0\n",
      "2017-05-30 19:22:39,620 : INFO : PROGRESS: at 37.47% examples, 230482 words/s, in_qsize 2, out_qsize 0\n",
      "2017-05-30 19:22:40,628 : INFO : PROGRESS: at 37.69% examples, 230482 words/s, in_qsize 1, out_qsize 0\n",
      "2017-05-30 19:22:41,638 : INFO : PROGRESS: at 37.90% examples, 230479 words/s, in_qsize 1, out_qsize 0\n",
      "2017-05-30 19:22:42,656 : INFO : PROGRESS: at 38.12% examples, 230487 words/s, in_qsize 1, out_qsize 0\n",
      "2017-05-30 19:22:43,665 : INFO : PROGRESS: at 38.33% examples, 230499 words/s, in_qsize 1, out_qsize 0\n",
      "2017-05-30 19:22:44,672 : INFO : PROGRESS: at 38.54% examples, 230504 words/s, in_qsize 1, out_qsize 0\n",
      "2017-05-30 19:22:45,673 : INFO : PROGRESS: at 38.75% examples, 230499 words/s, in_qsize 2, out_qsize 0\n",
      "2017-05-30 19:22:46,689 : INFO : PROGRESS: at 38.98% examples, 230486 words/s, in_qsize 1, out_qsize 0\n",
      "2017-05-30 19:22:47,702 : INFO : PROGRESS: at 39.19% examples, 230490 words/s, in_qsize 2, out_qsize 0\n",
      "2017-05-30 19:22:48,703 : INFO : PROGRESS: at 39.41% examples, 230490 words/s, in_qsize 2, out_qsize 0\n",
      "2017-05-30 19:22:49,704 : INFO : PROGRESS: at 39.63% examples, 230496 words/s, in_qsize 2, out_qsize 0\n",
      "2017-05-30 19:22:50,720 : INFO : PROGRESS: at 39.84% examples, 230496 words/s, in_qsize 2, out_qsize 0\n",
      "2017-05-30 19:22:51,749 : INFO : PROGRESS: at 40.06% examples, 230499 words/s, in_qsize 1, out_qsize 0\n",
      "2017-05-30 19:22:52,754 : INFO : PROGRESS: at 40.27% examples, 230504 words/s, in_qsize 1, out_qsize 0\n",
      "2017-05-30 19:22:53,782 : INFO : PROGRESS: at 40.49% examples, 230513 words/s, in_qsize 1, out_qsize 0\n",
      "2017-05-30 19:22:54,804 : INFO : PROGRESS: at 40.71% examples, 230522 words/s, in_qsize 1, out_qsize 0\n",
      "2017-05-30 19:22:55,811 : INFO : PROGRESS: at 40.93% examples, 230517 words/s, in_qsize 1, out_qsize 0\n",
      "2017-05-30 19:22:56,813 : INFO : PROGRESS: at 41.14% examples, 230521 words/s, in_qsize 1, out_qsize 0\n",
      "2017-05-30 19:22:57,826 : INFO : PROGRESS: at 41.35% examples, 230527 words/s, in_qsize 1, out_qsize 0\n",
      "2017-05-30 19:22:58,852 : INFO : PROGRESS: at 41.57% examples, 230522 words/s, in_qsize 1, out_qsize 0\n",
      "2017-05-30 19:22:59,873 : INFO : PROGRESS: at 41.79% examples, 230530 words/s, in_qsize 1, out_qsize 0\n",
      "2017-05-30 19:23:00,902 : INFO : PROGRESS: at 42.00% examples, 230526 words/s, in_qsize 1, out_qsize 0\n",
      "2017-05-30 19:23:01,911 : INFO : PROGRESS: at 42.21% examples, 230527 words/s, in_qsize 1, out_qsize 0\n",
      "2017-05-30 19:23:02,921 : INFO : PROGRESS: at 42.43% examples, 230524 words/s, in_qsize 1, out_qsize 0\n",
      "2017-05-30 19:23:03,925 : INFO : PROGRESS: at 42.64% examples, 230527 words/s, in_qsize 1, out_qsize 0\n",
      "2017-05-30 19:23:04,930 : INFO : PROGRESS: at 42.85% examples, 230529 words/s, in_qsize 1, out_qsize 0\n",
      "2017-05-30 19:23:05,942 : INFO : PROGRESS: at 43.07% examples, 230534 words/s, in_qsize 1, out_qsize 0\n",
      "2017-05-30 19:23:06,956 : INFO : PROGRESS: at 43.29% examples, 230530 words/s, in_qsize 1, out_qsize 0\n",
      "2017-05-30 19:23:07,961 : INFO : PROGRESS: at 43.49% examples, 230523 words/s, in_qsize 1, out_qsize 0\n",
      "2017-05-30 19:23:08,973 : INFO : PROGRESS: at 43.72% examples, 230519 words/s, in_qsize 1, out_qsize 0\n",
      "2017-05-30 19:23:09,985 : INFO : PROGRESS: at 43.93% examples, 230526 words/s, in_qsize 1, out_qsize 0\n",
      "2017-05-30 19:23:11,010 : INFO : PROGRESS: at 44.15% examples, 230531 words/s, in_qsize 1, out_qsize 0\n",
      "2017-05-30 19:23:12,013 : INFO : PROGRESS: at 44.37% examples, 230539 words/s, in_qsize 1, out_qsize 0\n",
      "2017-05-30 19:23:13,017 : INFO : PROGRESS: at 44.58% examples, 230542 words/s, in_qsize 1, out_qsize 0\n",
      "2017-05-30 19:23:14,041 : INFO : PROGRESS: at 44.80% examples, 230541 words/s, in_qsize 1, out_qsize 0\n",
      "2017-05-30 19:23:15,057 : INFO : PROGRESS: at 45.01% examples, 230540 words/s, in_qsize 1, out_qsize 0\n",
      "2017-05-30 19:23:16,065 : INFO : PROGRESS: at 45.22% examples, 230543 words/s, in_qsize 1, out_qsize 0\n",
      "2017-05-30 19:23:17,071 : INFO : PROGRESS: at 45.43% examples, 230539 words/s, in_qsize 1, out_qsize 0\n",
      "2017-05-30 19:23:18,079 : INFO : PROGRESS: at 45.66% examples, 230532 words/s, in_qsize 2, out_qsize 0\n",
      "2017-05-30 19:23:19,090 : INFO : PROGRESS: at 45.88% examples, 230535 words/s, in_qsize 1, out_qsize 0\n",
      "2017-05-30 19:23:20,091 : INFO : PROGRESS: at 46.09% examples, 230537 words/s, in_qsize 1, out_qsize 0\n",
      "2017-05-30 19:23:21,098 : INFO : PROGRESS: at 46.31% examples, 230533 words/s, in_qsize 2, out_qsize 0\n",
      "2017-05-30 19:23:22,118 : INFO : PROGRESS: at 46.52% examples, 230529 words/s, in_qsize 1, out_qsize 0\n",
      "2017-05-30 19:23:23,119 : INFO : PROGRESS: at 46.73% examples, 230531 words/s, in_qsize 1, out_qsize 0\n",
      "2017-05-30 19:23:24,127 : INFO : PROGRESS: at 46.94% examples, 230534 words/s, in_qsize 2, out_qsize 0\n",
      "2017-05-30 19:23:25,129 : INFO : PROGRESS: at 47.16% examples, 230537 words/s, in_qsize 1, out_qsize 0\n",
      "2017-05-30 19:23:26,153 : INFO : PROGRESS: at 47.38% examples, 230543 words/s, in_qsize 2, out_qsize 0\n",
      "2017-05-30 19:23:27,181 : INFO : PROGRESS: at 47.60% examples, 230549 words/s, in_qsize 1, out_qsize 0\n",
      "2017-05-30 19:23:28,185 : INFO : PROGRESS: at 47.81% examples, 230550 words/s, in_qsize 1, out_qsize 0\n",
      "2017-05-30 19:23:29,201 : INFO : PROGRESS: at 48.03% examples, 230550 words/s, in_qsize 1, out_qsize 0\n",
      "2017-05-30 19:23:30,222 : INFO : PROGRESS: at 48.24% examples, 230549 words/s, in_qsize 2, out_qsize 0\n",
      "2017-05-30 19:23:31,249 : INFO : PROGRESS: at 48.46% examples, 230550 words/s, in_qsize 1, out_qsize 0\n",
      "2017-05-30 19:23:32,277 : INFO : PROGRESS: at 48.68% examples, 230549 words/s, in_qsize 1, out_qsize 0\n",
      "2017-05-30 19:23:33,285 : INFO : PROGRESS: at 48.88% examples, 230552 words/s, in_qsize 1, out_qsize 0\n",
      "2017-05-30 19:23:34,290 : INFO : PROGRESS: at 49.10% examples, 230552 words/s, in_qsize 1, out_qsize 0\n",
      "2017-05-30 19:23:35,295 : INFO : PROGRESS: at 49.31% examples, 230555 words/s, in_qsize 1, out_qsize 0\n",
      "2017-05-30 19:23:36,296 : INFO : PROGRESS: at 49.53% examples, 230559 words/s, in_qsize 1, out_qsize 0\n",
      "2017-05-30 19:23:37,299 : INFO : PROGRESS: at 49.74% examples, 230568 words/s, in_qsize 1, out_qsize 0\n",
      "2017-05-30 19:23:38,304 : INFO : PROGRESS: at 49.96% examples, 230571 words/s, in_qsize 1, out_qsize 0\n",
      "2017-05-30 19:23:39,305 : INFO : PROGRESS: at 50.17% examples, 230574 words/s, in_qsize 1, out_qsize 0\n",
      "2017-05-30 19:23:40,317 : INFO : PROGRESS: at 50.39% examples, 230570 words/s, in_qsize 1, out_qsize 0\n",
      "2017-05-30 19:23:41,329 : INFO : PROGRESS: at 50.60% examples, 230575 words/s, in_qsize 1, out_qsize 0\n",
      "2017-05-30 19:23:42,357 : INFO : PROGRESS: at 50.82% examples, 230576 words/s, in_qsize 1, out_qsize 0\n",
      "2017-05-30 19:23:43,367 : INFO : PROGRESS: at 51.04% examples, 230578 words/s, in_qsize 1, out_qsize 0\n",
      "2017-05-30 19:23:44,372 : INFO : PROGRESS: at 51.26% examples, 230579 words/s, in_qsize 1, out_qsize 0\n",
      "2017-05-30 19:23:45,395 : INFO : PROGRESS: at 51.47% examples, 230581 words/s, in_qsize 1, out_qsize 0\n",
      "2017-05-30 19:23:46,404 : INFO : PROGRESS: at 51.69% examples, 230585 words/s, in_qsize 1, out_qsize 0\n",
      "2017-05-30 19:23:47,409 : INFO : PROGRESS: at 51.89% examples, 230591 words/s, in_qsize 1, out_qsize 0\n",
      "2017-05-30 19:23:48,412 : INFO : PROGRESS: at 52.10% examples, 230589 words/s, in_qsize 2, out_qsize 0\n",
      "2017-05-30 19:23:49,421 : INFO : PROGRESS: at 52.33% examples, 230583 words/s, in_qsize 2, out_qsize 0\n",
      "2017-05-30 19:23:50,436 : INFO : PROGRESS: at 52.55% examples, 230580 words/s, in_qsize 1, out_qsize 0\n",
      "2017-05-30 19:23:51,443 : INFO : PROGRESS: at 52.76% examples, 230576 words/s, in_qsize 1, out_qsize 0\n",
      "2017-05-30 19:23:52,448 : INFO : PROGRESS: at 52.98% examples, 230576 words/s, in_qsize 1, out_qsize 0\n",
      "2017-05-30 19:23:53,467 : INFO : PROGRESS: at 53.19% examples, 230573 words/s, in_qsize 1, out_qsize 0\n",
      "2017-05-30 19:23:54,471 : INFO : PROGRESS: at 53.40% examples, 230572 words/s, in_qsize 1, out_qsize 0\n",
      "2017-05-30 19:23:55,487 : INFO : PROGRESS: at 53.61% examples, 230566 words/s, in_qsize 1, out_qsize 0\n",
      "2017-05-30 19:23:56,491 : INFO : PROGRESS: at 53.84% examples, 230565 words/s, in_qsize 1, out_qsize 0\n",
      "2017-05-30 19:23:57,492 : INFO : PROGRESS: at 54.05% examples, 230563 words/s, in_qsize 1, out_qsize 0\n",
      "2017-05-30 19:23:58,497 : INFO : PROGRESS: at 54.26% examples, 230561 words/s, in_qsize 1, out_qsize 0\n",
      "2017-05-30 19:23:59,510 : INFO : PROGRESS: at 54.47% examples, 230553 words/s, in_qsize 1, out_qsize 0\n",
      "2017-05-30 19:24:00,530 : INFO : PROGRESS: at 54.69% examples, 230551 words/s, in_qsize 1, out_qsize 0\n",
      "2017-05-30 19:24:01,531 : INFO : PROGRESS: at 54.90% examples, 230544 words/s, in_qsize 1, out_qsize 0\n",
      "2017-05-30 19:24:02,537 : INFO : PROGRESS: at 55.11% examples, 230536 words/s, in_qsize 1, out_qsize 0\n",
      "2017-05-30 19:24:03,564 : INFO : PROGRESS: at 55.33% examples, 230535 words/s, in_qsize 1, out_qsize 0\n",
      "2017-05-30 19:24:04,572 : INFO : PROGRESS: at 55.53% examples, 230537 words/s, in_qsize 1, out_qsize 0\n",
      "2017-05-30 19:24:05,580 : INFO : PROGRESS: at 55.75% examples, 230537 words/s, in_qsize 1, out_qsize 0\n",
      "2017-05-30 19:24:06,593 : INFO : PROGRESS: at 55.96% examples, 230532 words/s, in_qsize 1, out_qsize 0\n",
      "2017-05-30 19:24:07,596 : INFO : PROGRESS: at 56.17% examples, 230533 words/s, in_qsize 1, out_qsize 0\n",
      "2017-05-30 19:24:08,615 : INFO : PROGRESS: at 56.39% examples, 230528 words/s, in_qsize 2, out_qsize 0\n",
      "2017-05-30 19:24:09,625 : INFO : PROGRESS: at 56.61% examples, 230530 words/s, in_qsize 1, out_qsize 0\n",
      "2017-05-30 19:24:10,631 : INFO : PROGRESS: at 56.81% examples, 230525 words/s, in_qsize 2, out_qsize 0\n",
      "2017-05-30 19:24:11,637 : INFO : PROGRESS: at 57.04% examples, 230524 words/s, in_qsize 1, out_qsize 0\n",
      "2017-05-30 19:24:12,657 : INFO : PROGRESS: at 57.25% examples, 230525 words/s, in_qsize 1, out_qsize 0\n",
      "2017-05-30 19:24:13,661 : INFO : PROGRESS: at 57.46% examples, 230521 words/s, in_qsize 2, out_qsize 0\n",
      "2017-05-30 19:24:14,671 : INFO : PROGRESS: at 57.68% examples, 230519 words/s, in_qsize 1, out_qsize 0\n",
      "2017-05-30 19:24:15,685 : INFO : PROGRESS: at 57.90% examples, 230515 words/s, in_qsize 1, out_qsize 0\n",
      "2017-05-30 19:24:16,692 : INFO : PROGRESS: at 58.11% examples, 230508 words/s, in_qsize 1, out_qsize 0\n",
      "2017-05-30 19:24:17,714 : INFO : PROGRESS: at 58.32% examples, 230504 words/s, in_qsize 1, out_qsize 0\n",
      "2017-05-30 19:24:18,722 : INFO : PROGRESS: at 58.52% examples, 230501 words/s, in_qsize 2, out_qsize 0\n",
      "2017-05-30 19:24:19,728 : INFO : PROGRESS: at 58.74% examples, 230498 words/s, in_qsize 1, out_qsize 0\n",
      "2017-05-30 19:24:20,739 : INFO : PROGRESS: at 58.96% examples, 230491 words/s, in_qsize 1, out_qsize 0\n",
      "2017-05-30 19:24:21,751 : INFO : PROGRESS: at 59.18% examples, 230492 words/s, in_qsize 1, out_qsize 0\n",
      "2017-05-30 19:24:22,760 : INFO : PROGRESS: at 59.40% examples, 230489 words/s, in_qsize 1, out_qsize 0\n",
      "2017-05-30 19:24:23,767 : INFO : PROGRESS: at 59.61% examples, 230485 words/s, in_qsize 1, out_qsize 0\n",
      "2017-05-30 19:24:24,783 : INFO : PROGRESS: at 59.83% examples, 230485 words/s, in_qsize 1, out_qsize 0\n",
      "2017-05-30 19:24:25,786 : INFO : PROGRESS: at 60.04% examples, 230486 words/s, in_qsize 1, out_qsize 0\n",
      "2017-05-30 19:24:26,793 : INFO : PROGRESS: at 60.25% examples, 230489 words/s, in_qsize 1, out_qsize 0\n",
      "2017-05-30 19:24:27,795 : INFO : PROGRESS: at 60.47% examples, 230490 words/s, in_qsize 1, out_qsize 0\n",
      "2017-05-30 19:24:28,823 : INFO : PROGRESS: at 60.69% examples, 230493 words/s, in_qsize 1, out_qsize 0\n",
      "2017-05-30 19:24:29,833 : INFO : PROGRESS: at 60.90% examples, 230488 words/s, in_qsize 1, out_qsize 0\n",
      "2017-05-30 19:24:30,838 : INFO : PROGRESS: at 61.11% examples, 230487 words/s, in_qsize 1, out_qsize 0\n",
      "2017-05-30 19:24:31,850 : INFO : PROGRESS: at 61.33% examples, 230486 words/s, in_qsize 1, out_qsize 0\n",
      "2017-05-30 19:24:32,858 : INFO : PROGRESS: at 61.54% examples, 230483 words/s, in_qsize 1, out_qsize 0\n",
      "2017-05-30 19:24:33,859 : INFO : PROGRESS: at 61.75% examples, 230479 words/s, in_qsize 1, out_qsize 0\n",
      "2017-05-30 19:24:34,860 : INFO : PROGRESS: at 61.96% examples, 230474 words/s, in_qsize 2, out_qsize 0\n",
      "2017-05-30 19:24:35,875 : INFO : PROGRESS: at 62.17% examples, 230469 words/s, in_qsize 1, out_qsize 0\n",
      "2017-05-30 19:24:36,888 : INFO : PROGRESS: at 62.38% examples, 230470 words/s, in_qsize 1, out_qsize 0\n",
      "2017-05-30 19:24:37,918 : INFO : PROGRESS: at 62.60% examples, 230471 words/s, in_qsize 2, out_qsize 0\n",
      "2017-05-30 19:24:38,935 : INFO : PROGRESS: at 62.82% examples, 230467 words/s, in_qsize 1, out_qsize 0\n",
      "2017-05-30 19:24:39,944 : INFO : PROGRESS: at 63.03% examples, 230468 words/s, in_qsize 1, out_qsize 0\n",
      "2017-05-30 19:24:40,963 : INFO : PROGRESS: at 63.25% examples, 230462 words/s, in_qsize 1, out_qsize 0\n",
      "2017-05-30 19:24:41,993 : INFO : PROGRESS: at 63.46% examples, 230463 words/s, in_qsize 1, out_qsize 0\n",
      "2017-05-30 19:24:43,003 : INFO : PROGRESS: at 63.68% examples, 230460 words/s, in_qsize 1, out_qsize 0\n",
      "2017-05-30 19:24:44,015 : INFO : PROGRESS: at 63.90% examples, 230464 words/s, in_qsize 1, out_qsize 0\n",
      "2017-05-30 19:24:45,024 : INFO : PROGRESS: at 64.11% examples, 230460 words/s, in_qsize 1, out_qsize 0\n",
      "2017-05-30 19:24:46,036 : INFO : PROGRESS: at 64.33% examples, 230458 words/s, in_qsize 1, out_qsize 0\n",
      "2017-05-30 19:24:47,054 : INFO : PROGRESS: at 64.55% examples, 230453 words/s, in_qsize 2, out_qsize 0\n",
      "2017-05-30 19:24:48,056 : INFO : PROGRESS: at 64.76% examples, 230451 words/s, in_qsize 1, out_qsize 0\n",
      "2017-05-30 19:24:49,073 : INFO : PROGRESS: at 64.97% examples, 230451 words/s, in_qsize 2, out_qsize 0\n",
      "2017-05-30 19:24:50,103 : INFO : PROGRESS: at 65.18% examples, 230453 words/s, in_qsize 1, out_qsize 0\n",
      "2017-05-30 19:24:51,110 : INFO : PROGRESS: at 65.39% examples, 230451 words/s, in_qsize 1, out_qsize 0\n",
      "2017-05-30 19:24:52,138 : INFO : PROGRESS: at 65.62% examples, 230452 words/s, in_qsize 1, out_qsize 0\n",
      "2017-05-30 19:24:53,147 : INFO : PROGRESS: at 65.84% examples, 230454 words/s, in_qsize 1, out_qsize 0\n",
      "2017-05-30 19:24:54,148 : INFO : PROGRESS: at 66.06% examples, 230456 words/s, in_qsize 1, out_qsize 0\n",
      "2017-05-30 19:24:55,150 : INFO : PROGRESS: at 66.27% examples, 230458 words/s, in_qsize 1, out_qsize 0\n",
      "2017-05-30 19:24:56,161 : INFO : PROGRESS: at 66.49% examples, 230462 words/s, in_qsize 1, out_qsize 0\n",
      "2017-05-30 19:24:57,171 : INFO : PROGRESS: at 66.70% examples, 230458 words/s, in_qsize 1, out_qsize 0\n",
      "2017-05-30 19:24:58,175 : INFO : PROGRESS: at 66.91% examples, 230461 words/s, in_qsize 1, out_qsize 0\n",
      "2017-05-30 19:24:59,184 : INFO : PROGRESS: at 67.13% examples, 230458 words/s, in_qsize 1, out_qsize 0\n",
      "2017-05-30 19:25:00,189 : INFO : PROGRESS: at 67.34% examples, 230454 words/s, in_qsize 1, out_qsize 0\n",
      "2017-05-30 19:25:01,200 : INFO : PROGRESS: at 67.55% examples, 230450 words/s, in_qsize 1, out_qsize 0\n",
      "2017-05-30 19:25:02,216 : INFO : PROGRESS: at 67.77% examples, 230442 words/s, in_qsize 1, out_qsize 0\n",
      "2017-05-30 19:25:03,232 : INFO : PROGRESS: at 67.99% examples, 230436 words/s, in_qsize 1, out_qsize 0\n",
      "2017-05-30 19:25:04,241 : INFO : PROGRESS: at 68.19% examples, 230433 words/s, in_qsize 1, out_qsize 0\n",
      "2017-05-30 19:25:05,270 : INFO : PROGRESS: at 68.41% examples, 230429 words/s, in_qsize 1, out_qsize 0\n",
      "2017-05-30 19:25:06,271 : INFO : PROGRESS: at 68.62% examples, 230425 words/s, in_qsize 2, out_qsize 0\n",
      "2017-05-30 19:25:07,274 : INFO : PROGRESS: at 68.83% examples, 230429 words/s, in_qsize 1, out_qsize 0\n",
      "2017-05-30 19:25:08,281 : INFO : PROGRESS: at 69.04% examples, 230434 words/s, in_qsize 1, out_qsize 0\n",
      "2017-05-30 19:25:09,306 : INFO : PROGRESS: at 69.26% examples, 230437 words/s, in_qsize 1, out_qsize 0\n",
      "2017-05-30 19:25:10,319 : INFO : PROGRESS: at 69.48% examples, 230438 words/s, in_qsize 1, out_qsize 0\n",
      "2017-05-30 19:25:11,329 : INFO : PROGRESS: at 69.69% examples, 230438 words/s, in_qsize 1, out_qsize 0\n",
      "2017-05-30 19:25:12,333 : INFO : PROGRESS: at 69.91% examples, 230442 words/s, in_qsize 1, out_qsize 0\n",
      "2017-05-30 19:25:13,358 : INFO : PROGRESS: at 70.12% examples, 230445 words/s, in_qsize 1, out_qsize 0\n",
      "2017-05-30 19:25:14,367 : INFO : PROGRESS: at 70.34% examples, 230444 words/s, in_qsize 1, out_qsize 0\n",
      "2017-05-30 19:25:15,385 : INFO : PROGRESS: at 70.56% examples, 230443 words/s, in_qsize 1, out_qsize 0\n",
      "2017-05-30 19:25:16,391 : INFO : PROGRESS: at 70.77% examples, 230442 words/s, in_qsize 1, out_qsize 0\n",
      "2017-05-30 19:25:17,403 : INFO : PROGRESS: at 70.99% examples, 230441 words/s, in_qsize 1, out_qsize 0\n",
      "2017-05-30 19:25:18,412 : INFO : PROGRESS: at 71.21% examples, 230443 words/s, in_qsize 1, out_qsize 0\n",
      "2017-05-30 19:25:19,414 : INFO : PROGRESS: at 71.42% examples, 230441 words/s, in_qsize 1, out_qsize 0\n",
      "2017-05-30 19:25:20,427 : INFO : PROGRESS: at 71.63% examples, 230442 words/s, in_qsize 1, out_qsize 0\n",
      "2017-05-30 19:25:21,437 : INFO : PROGRESS: at 71.83% examples, 230438 words/s, in_qsize 1, out_qsize 0\n",
      "2017-05-30 19:25:22,443 : INFO : PROGRESS: at 72.04% examples, 230437 words/s, in_qsize 2, out_qsize 0\n",
      "2017-05-30 19:25:23,443 : INFO : PROGRESS: at 72.27% examples, 230436 words/s, in_qsize 2, out_qsize 0\n",
      "2017-05-30 19:25:24,451 : INFO : PROGRESS: at 72.49% examples, 230441 words/s, in_qsize 1, out_qsize 0\n",
      "2017-05-30 19:25:25,458 : INFO : PROGRESS: at 72.71% examples, 230439 words/s, in_qsize 1, out_qsize 0\n",
      "2017-05-30 19:25:26,462 : INFO : PROGRESS: at 72.92% examples, 230441 words/s, in_qsize 2, out_qsize 0\n",
      "2017-05-30 19:25:27,482 : INFO : PROGRESS: at 73.14% examples, 230437 words/s, in_qsize 1, out_qsize 0\n",
      "2017-05-30 19:25:28,511 : INFO : PROGRESS: at 73.36% examples, 230441 words/s, in_qsize 1, out_qsize 0\n",
      "2017-05-30 19:25:29,523 : INFO : PROGRESS: at 73.57% examples, 230442 words/s, in_qsize 1, out_qsize 0\n",
      "2017-05-30 19:25:30,524 : INFO : PROGRESS: at 73.78% examples, 230443 words/s, in_qsize 1, out_qsize 0\n",
      "2017-05-30 19:25:31,532 : INFO : PROGRESS: at 74.00% examples, 230438 words/s, in_qsize 1, out_qsize 0\n",
      "2017-05-30 19:25:32,538 : INFO : PROGRESS: at 74.21% examples, 230438 words/s, in_qsize 1, out_qsize 0\n",
      "2017-05-30 19:25:33,547 : INFO : PROGRESS: at 74.42% examples, 230437 words/s, in_qsize 1, out_qsize 0\n",
      "2017-05-30 19:25:34,554 : INFO : PROGRESS: at 74.64% examples, 230437 words/s, in_qsize 2, out_qsize 0\n",
      "2017-05-30 19:25:35,562 : INFO : PROGRESS: at 74.85% examples, 230437 words/s, in_qsize 1, out_qsize 0\n",
      "2017-05-30 19:25:36,584 : INFO : PROGRESS: at 75.06% examples, 230438 words/s, in_qsize 1, out_qsize 0\n",
      "2017-05-30 19:25:37,608 : INFO : PROGRESS: at 75.28% examples, 230438 words/s, in_qsize 1, out_qsize 0\n",
      "2017-05-30 19:25:38,618 : INFO : PROGRESS: at 75.49% examples, 230437 words/s, in_qsize 1, out_qsize 0\n",
      "2017-05-30 19:25:39,636 : INFO : PROGRESS: at 75.70% examples, 230436 words/s, in_qsize 1, out_qsize 0\n",
      "2017-05-30 19:25:40,641 : INFO : PROGRESS: at 75.92% examples, 230431 words/s, in_qsize 1, out_qsize 0\n",
      "2017-05-30 19:25:41,663 : INFO : PROGRESS: at 76.13% examples, 230428 words/s, in_qsize 2, out_qsize 0\n",
      "2017-05-30 19:25:42,673 : INFO : PROGRESS: at 76.34% examples, 230424 words/s, in_qsize 1, out_qsize 0\n",
      "2017-05-30 19:25:43,686 : INFO : PROGRESS: at 76.56% examples, 230425 words/s, in_qsize 1, out_qsize 0\n",
      "2017-05-30 19:25:44,716 : INFO : PROGRESS: at 76.78% examples, 230423 words/s, in_qsize 2, out_qsize 0\n",
      "2017-05-30 19:25:45,727 : INFO : PROGRESS: at 77.00% examples, 230422 words/s, in_qsize 1, out_qsize 0\n",
      "2017-05-30 19:25:46,737 : INFO : PROGRESS: at 77.21% examples, 230424 words/s, in_qsize 1, out_qsize 0\n",
      "2017-05-30 19:25:47,746 : INFO : PROGRESS: at 77.42% examples, 230425 words/s, in_qsize 1, out_qsize 0\n",
      "2017-05-30 19:25:48,762 : INFO : PROGRESS: at 77.64% examples, 230424 words/s, in_qsize 1, out_qsize 0\n",
      "2017-05-30 19:25:49,772 : INFO : PROGRESS: at 77.86% examples, 230423 words/s, in_qsize 1, out_qsize 0\n",
      "2017-05-30 19:25:50,801 : INFO : PROGRESS: at 78.08% examples, 230423 words/s, in_qsize 1, out_qsize 0\n",
      "2017-05-30 19:25:51,822 : INFO : PROGRESS: at 78.29% examples, 230417 words/s, in_qsize 1, out_qsize 0\n",
      "2017-05-30 19:25:52,825 : INFO : PROGRESS: at 78.50% examples, 230418 words/s, in_qsize 1, out_qsize 0\n",
      "2017-05-30 19:25:53,841 : INFO : PROGRESS: at 78.71% examples, 230415 words/s, in_qsize 1, out_qsize 0\n",
      "2017-05-30 19:25:54,845 : INFO : PROGRESS: at 78.92% examples, 230412 words/s, in_qsize 1, out_qsize 0\n",
      "2017-05-30 19:25:55,864 : INFO : PROGRESS: at 79.15% examples, 230408 words/s, in_qsize 2, out_qsize 0\n",
      "2017-05-30 19:25:56,875 : INFO : PROGRESS: at 79.37% examples, 230403 words/s, in_qsize 1, out_qsize 0\n",
      "2017-05-30 19:25:57,885 : INFO : PROGRESS: at 79.58% examples, 230401 words/s, in_qsize 1, out_qsize 0\n",
      "2017-05-30 19:25:58,897 : INFO : PROGRESS: at 79.80% examples, 230402 words/s, in_qsize 1, out_qsize 0\n",
      "2017-05-30 19:25:59,904 : INFO : PROGRESS: at 80.01% examples, 230400 words/s, in_qsize 1, out_qsize 0\n",
      "2017-05-30 19:26:00,922 : INFO : PROGRESS: at 80.22% examples, 230398 words/s, in_qsize 1, out_qsize 0\n",
      "2017-05-30 19:26:01,933 : INFO : PROGRESS: at 80.44% examples, 230395 words/s, in_qsize 1, out_qsize 0\n",
      "2017-05-30 19:26:02,935 : INFO : PROGRESS: at 80.65% examples, 230392 words/s, in_qsize 1, out_qsize 0\n",
      "2017-05-30 19:26:03,940 : INFO : PROGRESS: at 80.86% examples, 230392 words/s, in_qsize 1, out_qsize 0\n",
      "2017-05-30 19:26:04,952 : INFO : PROGRESS: at 81.07% examples, 230388 words/s, in_qsize 1, out_qsize 0\n",
      "2017-05-30 19:26:05,962 : INFO : PROGRESS: at 81.29% examples, 230386 words/s, in_qsize 1, out_qsize 0\n",
      "2017-05-30 19:26:06,971 : INFO : PROGRESS: at 81.50% examples, 230384 words/s, in_qsize 1, out_qsize 0\n",
      "2017-05-30 19:26:07,972 : INFO : PROGRESS: at 81.71% examples, 230381 words/s, in_qsize 1, out_qsize 0\n",
      "2017-05-30 19:26:09,001 : INFO : PROGRESS: at 81.93% examples, 230376 words/s, in_qsize 1, out_qsize 0\n",
      "2017-05-30 19:26:10,012 : INFO : PROGRESS: at 82.14% examples, 230374 words/s, in_qsize 1, out_qsize 0\n",
      "2017-05-30 19:26:11,035 : INFO : PROGRESS: at 82.35% examples, 230371 words/s, in_qsize 1, out_qsize 0\n",
      "2017-05-30 19:26:12,062 : INFO : PROGRESS: at 82.57% examples, 230371 words/s, in_qsize 1, out_qsize 0\n",
      "2017-05-30 19:26:13,077 : INFO : PROGRESS: at 82.79% examples, 230371 words/s, in_qsize 1, out_qsize 0\n",
      "2017-05-30 19:26:14,083 : INFO : PROGRESS: at 83.00% examples, 230370 words/s, in_qsize 1, out_qsize 0\n",
      "2017-05-30 19:26:15,099 : INFO : PROGRESS: at 83.21% examples, 230370 words/s, in_qsize 1, out_qsize 0\n",
      "2017-05-30 19:26:16,103 : INFO : PROGRESS: at 83.43% examples, 230369 words/s, in_qsize 1, out_qsize 0\n",
      "2017-05-30 19:26:17,112 : INFO : PROGRESS: at 83.64% examples, 230368 words/s, in_qsize 1, out_qsize 0\n",
      "2017-05-30 19:26:18,131 : INFO : PROGRESS: at 83.86% examples, 230363 words/s, in_qsize 1, out_qsize 0\n",
      "2017-05-30 19:26:19,149 : INFO : PROGRESS: at 84.07% examples, 230360 words/s, in_qsize 1, out_qsize 0\n",
      "2017-05-30 19:26:20,161 : INFO : PROGRESS: at 84.29% examples, 230359 words/s, in_qsize 2, out_qsize 0\n",
      "2017-05-30 19:26:21,170 : INFO : PROGRESS: at 84.51% examples, 230358 words/s, in_qsize 1, out_qsize 0\n",
      "2017-05-30 19:26:22,171 : INFO : PROGRESS: at 84.72% examples, 230357 words/s, in_qsize 1, out_qsize 0\n",
      "2017-05-30 19:26:23,179 : INFO : PROGRESS: at 84.93% examples, 230357 words/s, in_qsize 1, out_qsize 0\n",
      "2017-05-30 19:26:24,187 : INFO : PROGRESS: at 85.14% examples, 230356 words/s, in_qsize 1, out_qsize 0\n",
      "2017-05-30 19:26:25,194 : INFO : PROGRESS: at 85.35% examples, 230357 words/s, in_qsize 1, out_qsize 0\n",
      "2017-05-30 19:26:26,196 : INFO : PROGRESS: at 85.57% examples, 230357 words/s, in_qsize 1, out_qsize 0\n",
      "2017-05-30 19:26:27,213 : INFO : PROGRESS: at 85.79% examples, 230353 words/s, in_qsize 1, out_qsize 0\n",
      "2017-05-30 19:26:28,218 : INFO : PROGRESS: at 86.01% examples, 230352 words/s, in_qsize 1, out_qsize 0\n",
      "2017-05-30 19:26:29,229 : INFO : PROGRESS: at 86.23% examples, 230349 words/s, in_qsize 1, out_qsize 0\n",
      "2017-05-30 19:26:30,242 : INFO : PROGRESS: at 86.44% examples, 230348 words/s, in_qsize 1, out_qsize 0\n",
      "2017-05-30 19:26:31,245 : INFO : PROGRESS: at 86.65% examples, 230348 words/s, in_qsize 1, out_qsize 0\n",
      "2017-05-30 19:26:32,251 : INFO : PROGRESS: at 86.86% examples, 230355 words/s, in_qsize 2, out_qsize 0\n",
      "2017-05-30 19:26:33,264 : INFO : PROGRESS: at 87.08% examples, 230350 words/s, in_qsize 1, out_qsize 0\n",
      "2017-05-30 19:26:34,268 : INFO : PROGRESS: at 87.30% examples, 230348 words/s, in_qsize 1, out_qsize 0\n",
      "2017-05-30 19:26:35,272 : INFO : PROGRESS: at 87.50% examples, 230347 words/s, in_qsize 1, out_qsize 0\n",
      "2017-05-30 19:26:36,280 : INFO : PROGRESS: at 87.72% examples, 230344 words/s, in_qsize 1, out_qsize 0\n",
      "2017-05-30 19:26:37,295 : INFO : PROGRESS: at 87.93% examples, 230341 words/s, in_qsize 1, out_qsize 0\n",
      "2017-05-30 19:26:38,308 : INFO : PROGRESS: at 88.14% examples, 230341 words/s, in_qsize 1, out_qsize 0\n",
      "2017-05-30 19:26:39,330 : INFO : PROGRESS: at 88.36% examples, 230342 words/s, in_qsize 1, out_qsize 0\n",
      "2017-05-30 19:26:40,352 : INFO : PROGRESS: at 88.57% examples, 230343 words/s, in_qsize 1, out_qsize 0\n",
      "2017-05-30 19:26:41,364 : INFO : PROGRESS: at 88.79% examples, 230340 words/s, in_qsize 1, out_qsize 0\n",
      "2017-05-30 19:26:42,387 : INFO : PROGRESS: at 89.00% examples, 230336 words/s, in_qsize 1, out_qsize 0\n",
      "2017-05-30 19:26:43,391 : INFO : PROGRESS: at 89.21% examples, 230335 words/s, in_qsize 2, out_qsize 0\n",
      "2017-05-30 19:26:44,407 : INFO : PROGRESS: at 89.43% examples, 230333 words/s, in_qsize 1, out_qsize 0\n",
      "2017-05-30 19:26:45,417 : INFO : PROGRESS: at 89.64% examples, 230331 words/s, in_qsize 1, out_qsize 0\n",
      "2017-05-30 19:26:46,433 : INFO : PROGRESS: at 89.85% examples, 230333 words/s, in_qsize 1, out_qsize 0\n",
      "2017-05-30 19:26:47,433 : INFO : PROGRESS: at 90.07% examples, 230333 words/s, in_qsize 1, out_qsize 0\n",
      "2017-05-30 19:26:48,448 : INFO : PROGRESS: at 90.28% examples, 230331 words/s, in_qsize 2, out_qsize 0\n",
      "2017-05-30 19:26:49,455 : INFO : PROGRESS: at 90.50% examples, 230330 words/s, in_qsize 1, out_qsize 0\n",
      "2017-05-30 19:26:50,474 : INFO : PROGRESS: at 90.71% examples, 230329 words/s, in_qsize 1, out_qsize 0\n",
      "2017-05-30 19:26:51,484 : INFO : PROGRESS: at 90.93% examples, 230326 words/s, in_qsize 1, out_qsize 0\n",
      "2017-05-30 19:26:52,491 : INFO : PROGRESS: at 91.15% examples, 230328 words/s, in_qsize 1, out_qsize 0\n",
      "2017-05-30 19:26:53,492 : INFO : PROGRESS: at 91.36% examples, 230330 words/s, in_qsize 1, out_qsize 0\n",
      "2017-05-30 19:26:54,503 : INFO : PROGRESS: at 91.57% examples, 230326 words/s, in_qsize 1, out_qsize 0\n",
      "2017-05-30 19:26:55,513 : INFO : PROGRESS: at 91.78% examples, 230325 words/s, in_qsize 1, out_qsize 0\n",
      "2017-05-30 19:26:56,524 : INFO : PROGRESS: at 91.99% examples, 230325 words/s, in_qsize 1, out_qsize 0\n",
      "2017-05-30 19:26:57,538 : INFO : PROGRESS: at 92.21% examples, 230317 words/s, in_qsize 1, out_qsize 0\n",
      "2017-05-30 19:26:58,549 : INFO : PROGRESS: at 92.43% examples, 230317 words/s, in_qsize 1, out_qsize 0\n",
      "2017-05-30 19:26:59,562 : INFO : PROGRESS: at 92.65% examples, 230315 words/s, in_qsize 1, out_qsize 0\n",
      "2017-05-30 19:27:00,577 : INFO : PROGRESS: at 92.87% examples, 230311 words/s, in_qsize 2, out_qsize 0\n",
      "2017-05-30 19:27:01,597 : INFO : PROGRESS: at 93.08% examples, 230305 words/s, in_qsize 1, out_qsize 0\n",
      "2017-05-30 19:27:02,608 : INFO : PROGRESS: at 93.30% examples, 230302 words/s, in_qsize 2, out_qsize 0\n",
      "2017-05-30 19:27:03,626 : INFO : PROGRESS: at 93.51% examples, 230302 words/s, in_qsize 1, out_qsize 0\n",
      "2017-05-30 19:27:04,635 : INFO : PROGRESS: at 93.72% examples, 230299 words/s, in_qsize 1, out_qsize 0\n",
      "2017-05-30 19:27:05,644 : INFO : PROGRESS: at 93.94% examples, 230294 words/s, in_qsize 1, out_qsize 0\n",
      "2017-05-30 19:27:06,646 : INFO : PROGRESS: at 94.14% examples, 230293 words/s, in_qsize 2, out_qsize 0\n",
      "2017-05-30 19:27:07,662 : INFO : PROGRESS: at 94.36% examples, 230288 words/s, in_qsize 1, out_qsize 0\n",
      "2017-05-30 19:27:08,671 : INFO : PROGRESS: at 94.58% examples, 230285 words/s, in_qsize 1, out_qsize 0\n",
      "2017-05-30 19:27:09,686 : INFO : PROGRESS: at 94.79% examples, 230285 words/s, in_qsize 1, out_qsize 0\n",
      "2017-05-30 19:27:10,715 : INFO : PROGRESS: at 95.00% examples, 230282 words/s, in_qsize 1, out_qsize 0\n",
      "2017-05-30 19:27:11,732 : INFO : PROGRESS: at 95.22% examples, 230283 words/s, in_qsize 1, out_qsize 0\n",
      "2017-05-30 19:27:12,745 : INFO : PROGRESS: at 95.43% examples, 230280 words/s, in_qsize 1, out_qsize 0\n",
      "2017-05-30 19:27:13,764 : INFO : PROGRESS: at 95.64% examples, 230278 words/s, in_qsize 1, out_qsize 0\n",
      "2017-05-30 19:27:14,766 : INFO : PROGRESS: at 95.85% examples, 230279 words/s, in_qsize 2, out_qsize 0\n",
      "2017-05-30 19:27:15,788 : INFO : PROGRESS: at 96.07% examples, 230274 words/s, in_qsize 2, out_qsize 0\n",
      "2017-05-30 19:27:16,797 : INFO : PROGRESS: at 96.28% examples, 230273 words/s, in_qsize 1, out_qsize 0\n",
      "2017-05-30 19:27:17,817 : INFO : PROGRESS: at 96.49% examples, 230271 words/s, in_qsize 1, out_qsize 0\n",
      "2017-05-30 19:27:18,829 : INFO : PROGRESS: at 96.71% examples, 230268 words/s, in_qsize 2, out_qsize 0\n",
      "2017-05-30 19:27:19,840 : INFO : PROGRESS: at 96.92% examples, 230266 words/s, in_qsize 1, out_qsize 0\n",
      "2017-05-30 19:27:20,849 : INFO : PROGRESS: at 97.14% examples, 230264 words/s, in_qsize 1, out_qsize 0\n",
      "2017-05-30 19:27:21,866 : INFO : PROGRESS: at 97.35% examples, 230265 words/s, in_qsize 1, out_qsize 0\n",
      "2017-05-30 19:27:22,870 : INFO : PROGRESS: at 97.57% examples, 230264 words/s, in_qsize 1, out_qsize 0\n",
      "2017-05-30 19:27:23,882 : INFO : PROGRESS: at 97.79% examples, 230262 words/s, in_qsize 1, out_qsize 0\n",
      "2017-05-30 19:27:24,898 : INFO : PROGRESS: at 98.00% examples, 230260 words/s, in_qsize 1, out_qsize 0\n",
      "2017-05-30 19:27:25,900 : INFO : PROGRESS: at 98.22% examples, 230259 words/s, in_qsize 1, out_qsize 0\n",
      "2017-05-30 19:27:26,906 : INFO : PROGRESS: at 98.43% examples, 230262 words/s, in_qsize 2, out_qsize 0\n",
      "2017-05-30 19:27:27,911 : INFO : PROGRESS: at 98.63% examples, 230263 words/s, in_qsize 1, out_qsize 0\n",
      "2017-05-30 19:27:28,925 : INFO : PROGRESS: at 98.85% examples, 230259 words/s, in_qsize 1, out_qsize 0\n",
      "2017-05-30 19:27:29,934 : INFO : PROGRESS: at 99.07% examples, 230258 words/s, in_qsize 1, out_qsize 0\n",
      "2017-05-30 19:27:30,950 : INFO : PROGRESS: at 99.29% examples, 230256 words/s, in_qsize 2, out_qsize 0\n",
      "2017-05-30 19:27:31,963 : INFO : PROGRESS: at 99.51% examples, 230252 words/s, in_qsize 1, out_qsize 0\n",
      "2017-05-30 19:27:32,983 : INFO : PROGRESS: at 99.72% examples, 230248 words/s, in_qsize 1, out_qsize 0\n",
      "2017-05-30 19:27:33,992 : INFO : PROGRESS: at 99.94% examples, 230247 words/s, in_qsize 1, out_qsize 0\n",
      "2017-05-30 19:27:34,291 : INFO : worker thread finished; awaiting finish of 0 more threads\n",
      "2017-05-30 19:27:34,292 : INFO : training on 156223845 raw words (108455618 effective words) took 471.0s, 230247 effective words/s\n"
     ]
    },
    {
     "data": {
      "text/plain": [
       "108455618"
      ]
     },
     "execution_count": 12,
     "metadata": {},
     "output_type": "execute_result"
    }
   ],
   "source": [
    "model = word2vec.Word2Vec(sentences_train, size=15, window=3, min_count=5, workers=1, iter=15, sample=1e-4, negative=20)\n",
    "model.train(sentences_train)"
   ]
  },
  {
   "cell_type": "code",
   "execution_count": 13,
   "metadata": {
    "collapsed": false
   },
   "outputs": [
    {
     "name": "stdout",
     "output_type": "stream",
     "text": [
      "['17706', '3896', '17725', '36165', '19660', '27122', '7175', '17706', '33572', '43394', '3896', '79', '29311', '10949', '43394', '3896', '17706', '17725', '10949', '35198', '19660', '33572', '5994', '24188', '29311', '7175', '42445', '17706', '3896', '17725', '33572', '5994', '35198', '19660', '18224', '36165', '27122', '33640', '5603', '44075', '17706', '43394', '3896', '5994', '17725', '33640', '8575', '79', '5603', '24188', '43394', '3896', '33572', '17706', '5994', '17725', '19660', '35198', '27122', '7175', '5214', '3896', '17706', '17725', '33572', '5994', '35198', '10949', '33640', '8575', '43394', '17706', '3896', '33572', '5994', '18224', '10949', '33640', '44075', '35198', '19660', '17725', '17706', '43394', '18224', '5994', '17725', '15712', '5077', '36165', '24188', '3896', '43394', '17706', '3896', '33572', '5994', '17725', '10949', '18224', '35198', '8575', '15712', '36165', '42445', '24188', '17706', '19660', '33640', '3896', '17725', '5994', '17706', '43394', '33572', '18224', '5994', '3896', '17725', '15712', '10949', '43394', '17706', '3896', '33572', '5994', '17725', '10949', '18224', '35198', '19660', '44075', '5603', '5994', '17706', '19660', '3896', '17725', '3896', '33572', '17706', '17725', '5994', '10949', '35198', '19660', '36165', '79', '42105', '42445', '18224', '17706', '3896', '17725', '43394', '18224', '10949', '8575', '42445', '5603', '33640', '24188', '3480', '35198', '17706', '43394', '33572', '18224', '3896', '5994', '17725', '15712', '10949', '36165', '33640', '44075', '8575', '24188', '5603', '16599', '27122', '17706', '19660', '5994', '3896', '43394', '17725', '33640', '10949', '79', '8575', '16599', '5603', '36165', '43394', '17706', '33572', '3896', '17725', '5994', '18224', '10949', '79', '15712', '35198', '36165', '27122', '8575', '17706', '19660', '3896', '18224', '42445', '43394', '5077', '12090']\n",
      "[['3896', '17706', '33572', '17725', '10949', '5994', '35198', '18224', '24188', '29311', '19660', '44075']]\n"
     ]
    }
   ],
   "source": [
    "print(sentences_test[0])\n",
    "print(label_test[0])"
   ]
  },
  {
   "cell_type": "code",
   "execution_count": 63,
   "metadata": {
    "collapsed": false
   },
   "outputs": [],
   "source": [
    "#order_products__train[order_products__train[\"order_id\"]==2739430]\n",
    "#Les sequences correspondent bien pour le user_id 182207\n",
    "#avec index 0 sur le label et le test"
   ]
  },
  {
   "cell_type": "code",
   "execution_count": 46,
   "metadata": {
    "collapsed": false
   },
   "outputs": [
    {
     "name": "stdout",
     "output_type": "stream",
     "text": [
      "216\n",
      "197\n",
      "12\n"
     ]
    }
   ],
   "source": [
    "item_list = [item for item in sentences_test[0] if item in model.wv.vocab.keys()]\n",
    "print(len(sentences_test[0]))\n",
    "print(len(item_list))\n",
    "print(len(label_test[0][0]))\n",
    "pred = model.most_similar(item_list, topn=12)"
   ]
  },
  {
   "cell_type": "code",
   "execution_count": 48,
   "metadata": {
    "collapsed": false,
    "scrolled": true
   },
   "outputs": [
    {
     "name": "stdout",
     "output_type": "stream",
     "text": [
      "0\n"
     ]
    }
   ],
   "source": [
    "score = 0\n",
    "for el in pred :\n",
    "    if el in label_test[0][0]:\n",
    "        score+=1\n",
    "print(score)"
   ]
  },
  {
   "cell_type": "code",
   "execution_count": null,
   "metadata": {
    "collapsed": true
   },
   "outputs": [],
   "source": [
    "self.dim = len(list(word2vec.values())[0])"
   ]
  },
  {
   "cell_type": "code",
   "execution_count": 134,
   "metadata": {
    "collapsed": false
   },
   "outputs": [],
   "source": [
    "X = sentences_test[:2]\n",
    "dim = 0"
   ]
  },
  {
   "cell_type": "code",
   "execution_count": 135,
   "metadata": {
    "collapsed": false
   },
   "outputs": [
    {
     "name": "stdout",
     "output_type": "stream",
     "text": [
      "[[-1.23692513  0.92866641 -0.98926228 -1.68428206 -0.90331542  0.27899718\n",
      "   3.05939436 -1.98185766 -0.15492675  1.84062648 -0.9378832  -0.5750314\n",
      "  -0.4804633   1.14455807 -2.15078354]\n",
      " [-1.81573009 -0.48479724  1.78857648 -0.41809234 -0.11221666 -1.33888042\n",
      "  -0.38724107 -1.31217372  1.73063505 -1.22298348 -1.39055538  0.9368965\n",
      "   2.25080848  2.32698727 -0.95440215]]\n"
     ]
    }
   ],
   "source": [
    "X = np.array([\n",
    "            np.mean([model[w] for w in words if w in  model.wv.vocab.keys()]\n",
    "                    or [np.zeros(dim)], axis=0)\n",
    "            for words in X])\n",
    "print(X)"
   ]
  },
  {
   "cell_type": "code",
   "execution_count": 165,
   "metadata": {
    "collapsed": false
   },
   "outputs": [],
   "source": [
    "label_test[:2]\n",
    "y = [\n",
    "    ['3896',\n",
    "   '17706',\n",
    "   '33572',\n",
    "   '17725',\n",
    "   '10949',\n",
    "   '5994',\n",
    "   '35198',\n",
    "   '18224',\n",
    "   '24188',\n",
    "   '29311',\n",
    "   '19660',\n",
    "   '44075'],\n",
    "    ['17957']\n",
    "]"
   ]
  },
  {
   "cell_type": "code",
   "execution_count": 170,
   "metadata": {
    "collapsed": false
   },
   "outputs": [
    {
     "data": {
      "text/plain": [
       "array(['10949', '17706', '17725', '17957', '18224', '19660', '24188',\n",
       "       '29311', '33572', '35198', '3896', '44075', '5994'], dtype=object)"
      ]
     },
     "execution_count": 170,
     "metadata": {},
     "output_type": "execute_result"
    }
   ],
   "source": [
    "from sklearn.preprocessing import MultiLabelBinarizer\n",
    "mlb = MultiLabelBinarizer()\n",
    "y = mlb.fit_transform(y)\n",
    "mlb.classes_"
   ]
  },
  {
   "cell_type": "code",
   "execution_count": 171,
   "metadata": {
    "collapsed": false
   },
   "outputs": [
    {
     "data": {
      "text/plain": [
       "ExtraTreesClassifier(bootstrap=False, class_weight=None, criterion='gini',\n",
       "           max_depth=None, max_features='auto', max_leaf_nodes=None,\n",
       "           min_samples_leaf=1, min_samples_split=2,\n",
       "           min_weight_fraction_leaf=0.0, n_estimators=10, n_jobs=1,\n",
       "           oob_score=False, random_state=None, verbose=0, warm_start=False)"
      ]
     },
     "execution_count": 171,
     "metadata": {},
     "output_type": "execute_result"
    }
   ],
   "source": [
    "clf = ExtraTreesClassifier()\n",
    "clf.fit(X, y)"
   ]
  },
  {
   "cell_type": "code",
   "execution_count": 173,
   "metadata": {
    "collapsed": false
   },
   "outputs": [
    {
     "data": {
      "text/plain": [
       "[('10949',\n",
       "  '17706',\n",
       "  '17725',\n",
       "  '18224',\n",
       "  '19660',\n",
       "  '24188',\n",
       "  '29311',\n",
       "  '33572',\n",
       "  '35198',\n",
       "  '3896',\n",
       "  '44075',\n",
       "  '5994'),\n",
       " ('17957',)]"
      ]
     },
     "execution_count": 173,
     "metadata": {},
     "output_type": "execute_result"
    }
   ],
   "source": [
    "mlb.inverse_transform(clf.predict(X))"
   ]
  },
  {
   "cell_type": "code",
   "execution_count": 129,
   "metadata": {
    "collapsed": true
   },
   "outputs": [],
   "source": [
    "# Créer le X du train"
   ]
  },
  {
   "cell_type": "code",
   "execution_count": 132,
   "metadata": {
    "collapsed": false,
    "scrolled": true
   },
   "outputs": [
    {
     "data": {
      "text/html": [
       "<div>\n",
       "<table border=\"1\" class=\"dataframe\">\n",
       "  <thead>\n",
       "    <tr style=\"text-align: right;\">\n",
       "      <th></th>\n",
       "      <th>order_id</th>\n",
       "      <th>product_id</th>\n",
       "      <th>add_to_cart_order</th>\n",
       "      <th>reordered</th>\n",
       "      <th>user_id</th>\n",
       "    </tr>\n",
       "  </thead>\n",
       "  <tbody>\n",
       "    <tr>\n",
       "      <th>0</th>\n",
       "      <td>1</td>\n",
       "      <td>49302</td>\n",
       "      <td>1</td>\n",
       "      <td>1</td>\n",
       "      <td>112108</td>\n",
       "    </tr>\n",
       "    <tr>\n",
       "      <th>1</th>\n",
       "      <td>1</td>\n",
       "      <td>11109</td>\n",
       "      <td>2</td>\n",
       "      <td>1</td>\n",
       "      <td>112108</td>\n",
       "    </tr>\n",
       "    <tr>\n",
       "      <th>4</th>\n",
       "      <td>1</td>\n",
       "      <td>43633</td>\n",
       "      <td>5</td>\n",
       "      <td>1</td>\n",
       "      <td>112108</td>\n",
       "    </tr>\n",
       "    <tr>\n",
       "      <th>7</th>\n",
       "      <td>1</td>\n",
       "      <td>22035</td>\n",
       "      <td>8</td>\n",
       "      <td>1</td>\n",
       "      <td>112108</td>\n",
       "    </tr>\n",
       "    <tr>\n",
       "      <th>9</th>\n",
       "      <td>36</td>\n",
       "      <td>19660</td>\n",
       "      <td>2</td>\n",
       "      <td>1</td>\n",
       "      <td>79431</td>\n",
       "    </tr>\n",
       "  </tbody>\n",
       "</table>\n",
       "</div>"
      ],
      "text/plain": [
       "   order_id product_id  add_to_cart_order  reordered  user_id\n",
       "0         1      49302                  1          1   112108\n",
       "1         1      11109                  2          1   112108\n",
       "4         1      43633                  5          1   112108\n",
       "7         1      22035                  8          1   112108\n",
       "9        36      19660                  2          1    79431"
      ]
     },
     "execution_count": 132,
     "metadata": {},
     "output_type": "execute_result"
    }
   ],
   "source": [
    "order_products__train.head()"
   ]
  },
  {
   "cell_type": "code",
   "execution_count": 133,
   "metadata": {
    "collapsed": false
   },
   "outputs": [
    {
     "data": {
      "text/plain": [
       "30176"
      ]
     },
     "execution_count": 133,
     "metadata": {},
     "output_type": "execute_result"
    }
   ],
   "source": [
    "len(order_products__train[\"product_id\"].unique())"
   ]
  },
  {
   "cell_type": "markdown",
   "metadata": {},
   "source": [
    "**Performance catastrophique**  \n",
    "Cross-validé apportera t-il quelque chose?"
   ]
  },
  {
   "cell_type": "code",
   "execution_count": 19,
   "metadata": {
    "collapsed": false,
    "scrolled": true
   },
   "outputs": [],
   "source": [
    "#outfile = \"test1\"\n",
    "#model.save(outfile + '.model')\n",
    "#model.wv.save_word2vec_format(outfile + '.model.bin', binary=True)\n",
    "#model.wv.save_word2vec_format(outfile + '.model.txt', binary=False)\n",
    "# load model \n",
    "#model = word2vec.Word2Vec.load(\"test1.model\")"
   ]
  },
  {
   "cell_type": "markdown",
   "metadata": {},
   "source": [
    "### DOc2Vec"
   ]
  },
  {
   "cell_type": "code",
   "execution_count": 16,
   "metadata": {
    "collapsed": true
   },
   "outputs": [],
   "source": [
    "#def append_to_sequences(i):\n",
    "#    global merge_order_product, liste_unique_user, len_liste_unique_user\n",
    "#    user_id = liste_unique_user.pop(0)\n",
    "#    if (i/ len_liste_unique_user)%0.1==0 :\n",
    "#        print(\"% avancement : \", i/len_liste_unique_user)\n",
    "#    prd_user_list = merge_order_product.ix[merge_order_product[\"user_id\"]==user_id, \"product_id\"].astype(str).tolist()\n",
    "#    return doc2vec.LabeledSentence(words=prd_user_list, tags=user_id )\n",
    "# Pour l'instant dans la sentence on mets les mots en dupkey\n",
    "#liste_unique_user = list(np.unique(merge_order_product[\"user_id\"]))\n",
    "#len_liste_unique_user = len(liste_unique_user)\n",
    "#print(\"nb user :\", len_liste_unique_user)\n",
    "#pool = multiprocessing.Pool(processes=3)\n",
    "#result = pool.map_async(append_to_sequences, np.arange(len_liste_unique_user))\n",
    "#pool.close()\n",
    "#pool.join()\n",
    "#sentences = result.get()"
   ]
  },
  {
   "cell_type": "code",
   "execution_count": 41,
   "metadata": {
    "collapsed": false
   },
   "outputs": [],
   "source": [
    "#merge_order_product = pd.merge(order_products__prior[[\"order_id\", \"product_id\"]], \n",
    "                               #order[[\"order_id\", \"user_id\"]], on=\"order_id\")\n",
    "#merge_order_product[\"product_id\"] = merge_order_product[\"product_id\"].astype(\"unicode\")"
   ]
  },
  {
   "cell_type": "code",
   "execution_count": 4,
   "metadata": {
    "collapsed": false
   },
   "outputs": [],
   "source": [
    "#def words_for_user(uid):\n",
    "#    return merge_order_product.ix[merge_order_product[\"user_id\"]==uid, \"product_id\"].tolist()\n",
    "\n",
    "#liste_unique_user = list(np.unique(merge_order_product[\"user_id\"]))\n",
    "#print(\"nb unique user :\", len(liste_unique_user))"
   ]
  },
  {
   "cell_type": "code",
   "execution_count": 5,
   "metadata": {
    "collapsed": false
   },
   "outputs": [],
   "source": [
    "#start_time = time.time()\n",
    "#sentences = [doc2vec.TaggedDocument(words=words_for_user(uid), tags=[uid]) for uid in liste_unique_user]\n",
    "#print(\"--- %s seconds ---\" % (time.time() - start_time))\n",
    "\n",
    "#with open('TaggedDocument', 'wb') as fp:\n",
    "#    pickle.dump(sentences, fp)\n",
    "    \n",
    "#print(\"List saved\")"
   ]
  },
  {
   "cell_type": "code",
   "execution_count": 64,
   "metadata": {
    "collapsed": false
   },
   "outputs": [],
   "source": [
    "with open('D2v_test','rb') as f:\n",
    "    sentences_test = pickle.load(f)\n",
    "with open('D2v_train','rb') as f:\n",
    "    sentences_train = pickle.load(f)   \n",
    "with open('D2v_label_test','rb') as f:\n",
    "    label_test = pickle.load(f) "
   ]
  },
  {
   "cell_type": "code",
   "execution_count": 68,
   "metadata": {
    "collapsed": false
   },
   "outputs": [
    {
     "data": {
      "text/plain": [
       "TaggedDocument(words=['21137', '39275', '27966', '46676', '30169', '16995', '5876', '26604', '5876', '44632', '5876', '26209', '44632', '5876', '30391', '5876', '43192', '22827', '44632'], tags=[191237])"
      ]
     },
     "execution_count": 68,
     "metadata": {},
     "output_type": "execute_result"
    }
   ],
   "source": [
    "sentences_test[0]"
   ]
  },
  {
   "cell_type": "code",
   "execution_count": 69,
   "metadata": {
    "collapsed": false
   },
   "outputs": [
    {
     "data": {
      "text/html": [
       "<div>\n",
       "<table border=\"1\" class=\"dataframe\">\n",
       "  <thead>\n",
       "    <tr style=\"text-align: right;\">\n",
       "      <th></th>\n",
       "      <th>order_id</th>\n",
       "      <th>product_id</th>\n",
       "      <th>add_to_cart_order</th>\n",
       "      <th>reordered</th>\n",
       "      <th>user_id</th>\n",
       "    </tr>\n",
       "  </thead>\n",
       "  <tbody>\n",
       "    <tr>\n",
       "      <th>425944</th>\n",
       "      <td>1042107</td>\n",
       "      <td>6981</td>\n",
       "      <td>1</td>\n",
       "      <td>1</td>\n",
       "      <td>191237</td>\n",
       "    </tr>\n",
       "    <tr>\n",
       "      <th>425945</th>\n",
       "      <td>1042107</td>\n",
       "      <td>5876</td>\n",
       "      <td>2</td>\n",
       "      <td>1</td>\n",
       "      <td>191237</td>\n",
       "    </tr>\n",
       "    <tr>\n",
       "      <th>425946</th>\n",
       "      <td>1042107</td>\n",
       "      <td>43192</td>\n",
       "      <td>3</td>\n",
       "      <td>1</td>\n",
       "      <td>191237</td>\n",
       "    </tr>\n",
       "    <tr>\n",
       "      <th>425959</th>\n",
       "      <td>1042107</td>\n",
       "      <td>44359</td>\n",
       "      <td>16</td>\n",
       "      <td>1</td>\n",
       "      <td>191237</td>\n",
       "    </tr>\n",
       "  </tbody>\n",
       "</table>\n",
       "</div>"
      ],
      "text/plain": [
       "        order_id product_id  add_to_cart_order  reordered  user_id\n",
       "425944   1042107       6981                  1          1   191237\n",
       "425945   1042107       5876                  2          1   191237\n",
       "425946   1042107      43192                  3          1   191237\n",
       "425959   1042107      44359                 16          1   191237"
      ]
     },
     "execution_count": 69,
     "metadata": {},
     "output_type": "execute_result"
    }
   ],
   "source": [
    "order_products__train[order_products__train[\"user_id\"]==191237]"
   ]
  },
  {
   "cell_type": "code",
   "execution_count": 70,
   "metadata": {
    "collapsed": false
   },
   "outputs": [
    {
     "data": {
      "text/plain": [
       "[['6981', '5876', '43192', '44359']]"
      ]
     },
     "execution_count": 70,
     "metadata": {},
     "output_type": "execute_result"
    }
   ],
   "source": [
    "label_test[0]"
   ]
  },
  {
   "cell_type": "markdown",
   "metadata": {},
   "source": [
    "** vérification des sentences : OK **\n"
   ]
  },
  {
   "cell_type": "code",
   "execution_count": 72,
   "metadata": {
    "collapsed": false,
    "scrolled": true
   },
   "outputs": [
    {
     "name": "stderr",
     "output_type": "stream",
     "text": [
      "2017-05-30 20:24:00,576 : WARNING : consider setting layer size to a multiple of 4 for greater performance\n",
      "2017-05-30 20:24:00,577 : INFO : collecting all words and their counts\n",
      "2017-05-30 20:24:00,577 : INFO : PROGRESS: at example #0, processed 0 words (0/s), 0 word types, 0 tags\n",
      "2017-05-30 20:24:00,851 : INFO : PROGRESS: at example #10000, processed 978158 words (3587308/s), 23606 word types, 10000 tags\n",
      "2017-05-30 20:24:01,128 : INFO : PROGRESS: at example #20000, processed 1966299 words (3567909/s), 29093 word types, 20000 tags\n",
      "2017-05-30 20:24:01,411 : INFO : PROGRESS: at example #30000, processed 2950930 words (3498932/s), 32475 word types, 30000 tags\n",
      "2017-05-30 20:24:01,692 : INFO : PROGRESS: at example #40000, processed 3935235 words (3511941/s), 34850 word types, 40000 tags\n",
      "2017-05-30 20:24:01,974 : INFO : PROGRESS: at example #50000, processed 4932164 words (3542487/s), 36632 word types, 50000 tags\n",
      "2017-05-30 20:24:02,253 : INFO : PROGRESS: at example #60000, processed 5916113 words (3532951/s), 37945 word types, 60000 tags\n",
      "2017-05-30 20:24:02,540 : INFO : PROGRESS: at example #70000, processed 6915115 words (3483144/s), 39091 word types, 70000 tags\n",
      "2017-05-30 20:24:02,830 : INFO : PROGRESS: at example #80000, processed 7912886 words (3449643/s), 40048 word types, 80000 tags\n",
      "2017-05-30 20:24:03,116 : INFO : PROGRESS: at example #90000, processed 8898710 words (3456972/s), 40912 word types, 90000 tags\n",
      "2017-05-30 20:24:03,403 : INFO : PROGRESS: at example #100000, processed 9894177 words (3477949/s), 41623 word types, 100000 tags\n",
      "2017-05-30 20:24:03,548 : INFO : collected 41936 word types and 104967 unique tags from a corpus of 104967 examples and 10389900 words\n",
      "2017-05-30 20:24:03,549 : INFO : Loading a fresh vocabulary\n",
      "2017-05-30 20:24:03,635 : INFO : min_count=5 retains 31780 unique words (75% of original 41936, drops 10156)\n",
      "2017-05-30 20:24:03,635 : INFO : min_count=5 leaves 10368011 word corpus (99% of original 10389900, drops 21889)\n",
      "2017-05-30 20:24:03,735 : INFO : deleting the raw counts dictionary of 41936 items\n",
      "2017-05-30 20:24:03,738 : INFO : sample=0.001 downsamples 30 most-common words\n",
      "2017-05-30 20:24:03,738 : INFO : downsampling leaves estimated 9690940 word corpus (93.5% of prior 10368011)\n",
      "2017-05-30 20:24:03,739 : INFO : estimated required memory for 31780 words and 15 dimensions: 46995020 bytes\n",
      "2017-05-30 20:24:03,854 : INFO : resetting layer weights\n"
     ]
    }
   ],
   "source": [
    "# Dbow\n",
    "Docmodel = Doc2Vec(dm=0, dbow_words=1, window=3 ,alpha=.025, min_alpha=.025, size=15, min_count=5, iter=15)\n",
    "Docmodel.build_vocab(sentences_train)"
   ]
  },
  {
   "cell_type": "code",
   "execution_count": 73,
   "metadata": {
    "collapsed": false
   },
   "outputs": [
    {
     "data": {
      "text/plain": [
       "array([-0.01991664,  0.01437289,  0.00689117, -0.01150386, -0.00194959,\n",
       "        0.03265082, -0.00711236, -0.01461535, -0.01424437,  0.01952713,\n",
       "        0.00958221, -0.0047131 , -0.01101042, -0.02611257,  0.02850584], dtype=float32)"
      ]
     },
     "execution_count": 73,
     "metadata": {},
     "output_type": "execute_result"
    }
   ],
   "source": [
    "Docmodel[\"2\"]"
   ]
  },
  {
   "cell_type": "code",
   "execution_count": 74,
   "metadata": {
    "collapsed": false
   },
   "outputs": [
    {
     "data": {
      "text/plain": [
       "array([-0.03249609, -0.02872319,  0.01274895, -0.0230511 , -0.01140764,\n",
       "       -0.02095319, -0.02295452, -0.01100804, -0.01503314, -0.02179699,\n",
       "        0.01136314, -0.03179441, -0.02529065, -0.00643426,  0.02766933], dtype=float32)"
      ]
     },
     "execution_count": 74,
     "metadata": {},
     "output_type": "execute_result"
    }
   ],
   "source": [
    "Docmodel.docvecs[2]"
   ]
  },
  {
   "cell_type": "code",
   "execution_count": 75,
   "metadata": {
    "collapsed": false,
    "scrolled": true
   },
   "outputs": [
    {
     "name": "stderr",
     "output_type": "stream",
     "text": [
      "2017-05-30 20:24:56,442 : INFO : training model with 3 workers on 31780 vocabulary and 15 features, using sg=1 hs=0 sample=0.001 negative=5 window=3\n",
      "2017-05-30 20:24:56,443 : INFO : expecting 104967 sentences, matching count from corpus used for vocabulary survey\n",
      "2017-05-30 20:24:57,465 : INFO : PROGRESS: at 0.33% examples, 472504 words/s, in_qsize 5, out_qsize 0\n",
      "2017-05-30 20:24:58,491 : INFO : PROGRESS: at 0.67% examples, 479665 words/s, in_qsize 5, out_qsize 0\n",
      "2017-05-30 20:24:59,522 : INFO : PROGRESS: at 1.01% examples, 481310 words/s, in_qsize 5, out_qsize 0\n",
      "2017-05-30 20:25:00,530 : INFO : PROGRESS: at 1.35% examples, 483135 words/s, in_qsize 5, out_qsize 0\n",
      "2017-05-30 20:25:01,534 : INFO : PROGRESS: at 1.69% examples, 482464 words/s, in_qsize 5, out_qsize 0\n",
      "2017-05-30 20:25:02,546 : INFO : PROGRESS: at 2.02% examples, 482929 words/s, in_qsize 5, out_qsize 0\n",
      "2017-05-30 20:25:03,579 : INFO : PROGRESS: at 2.36% examples, 483225 words/s, in_qsize 5, out_qsize 0\n",
      "2017-05-30 20:25:04,594 : INFO : PROGRESS: at 2.70% examples, 484052 words/s, in_qsize 6, out_qsize 0\n",
      "2017-05-30 20:25:05,606 : INFO : PROGRESS: at 3.03% examples, 484808 words/s, in_qsize 5, out_qsize 0\n",
      "2017-05-30 20:25:06,619 : INFO : PROGRESS: at 3.37% examples, 483824 words/s, in_qsize 5, out_qsize 0\n",
      "2017-05-30 20:25:07,645 : INFO : PROGRESS: at 3.70% examples, 484221 words/s, in_qsize 6, out_qsize 0\n",
      "2017-05-30 20:25:08,658 : INFO : PROGRESS: at 4.04% examples, 484842 words/s, in_qsize 5, out_qsize 0\n",
      "2017-05-30 20:25:09,687 : INFO : PROGRESS: at 4.38% examples, 484926 words/s, in_qsize 6, out_qsize 0\n",
      "2017-05-30 20:25:10,716 : INFO : PROGRESS: at 4.72% examples, 484968 words/s, in_qsize 5, out_qsize 0\n",
      "2017-05-30 20:25:11,727 : INFO : PROGRESS: at 5.05% examples, 485468 words/s, in_qsize 5, out_qsize 0\n",
      "2017-05-30 20:25:12,729 : INFO : PROGRESS: at 5.39% examples, 485841 words/s, in_qsize 6, out_qsize 0\n",
      "2017-05-30 20:25:13,744 : INFO : PROGRESS: at 5.73% examples, 486196 words/s, in_qsize 6, out_qsize 0\n",
      "2017-05-30 20:25:14,757 : INFO : PROGRESS: at 6.06% examples, 486157 words/s, in_qsize 5, out_qsize 0\n",
      "2017-05-30 20:25:15,765 : INFO : PROGRESS: at 6.40% examples, 486291 words/s, in_qsize 5, out_qsize 0\n",
      "2017-05-30 20:25:16,783 : INFO : PROGRESS: at 6.74% examples, 486579 words/s, in_qsize 5, out_qsize 0\n",
      "2017-05-30 20:25:17,787 : INFO : PROGRESS: at 7.08% examples, 487060 words/s, in_qsize 5, out_qsize 0\n",
      "2017-05-30 20:25:18,789 : INFO : PROGRESS: at 7.41% examples, 487096 words/s, in_qsize 6, out_qsize 0\n",
      "2017-05-30 20:25:19,802 : INFO : PROGRESS: at 7.75% examples, 487008 words/s, in_qsize 6, out_qsize 0\n",
      "2017-05-30 20:25:20,840 : INFO : PROGRESS: at 8.09% examples, 486847 words/s, in_qsize 5, out_qsize 0\n",
      "2017-05-30 20:25:21,860 : INFO : PROGRESS: at 8.44% examples, 486914 words/s, in_qsize 5, out_qsize 0\n",
      "2017-05-30 20:25:22,869 : INFO : PROGRESS: at 8.78% examples, 487112 words/s, in_qsize 6, out_qsize 0\n",
      "2017-05-30 20:25:23,885 : INFO : PROGRESS: at 9.13% examples, 487352 words/s, in_qsize 5, out_qsize 0\n",
      "2017-05-30 20:25:24,898 : INFO : PROGRESS: at 9.45% examples, 487407 words/s, in_qsize 6, out_qsize 0\n",
      "2017-05-30 20:25:25,911 : INFO : PROGRESS: at 9.79% examples, 487550 words/s, in_qsize 5, out_qsize 0\n",
      "2017-05-30 20:25:26,926 : INFO : PROGRESS: at 10.12% examples, 487415 words/s, in_qsize 5, out_qsize 0\n",
      "2017-05-30 20:25:27,949 : INFO : PROGRESS: at 10.46% examples, 487470 words/s, in_qsize 5, out_qsize 0\n",
      "2017-05-30 20:25:28,949 : INFO : PROGRESS: at 10.80% examples, 487555 words/s, in_qsize 5, out_qsize 0\n",
      "2017-05-30 20:25:29,959 : INFO : PROGRESS: at 11.13% examples, 487753 words/s, in_qsize 5, out_qsize 0\n",
      "2017-05-30 20:25:30,965 : INFO : PROGRESS: at 11.47% examples, 487762 words/s, in_qsize 6, out_qsize 0\n",
      "2017-05-30 20:25:31,977 : INFO : PROGRESS: at 11.80% examples, 487635 words/s, in_qsize 6, out_qsize 0\n",
      "2017-05-30 20:25:32,999 : INFO : PROGRESS: at 12.14% examples, 487703 words/s, in_qsize 6, out_qsize 0\n",
      "2017-05-30 20:25:34,024 : INFO : PROGRESS: at 12.48% examples, 487722 words/s, in_qsize 5, out_qsize 0\n",
      "2017-05-30 20:25:35,024 : INFO : PROGRESS: at 12.81% examples, 487785 words/s, in_qsize 6, out_qsize 0\n",
      "2017-05-30 20:25:36,028 : INFO : PROGRESS: at 13.14% examples, 487887 words/s, in_qsize 6, out_qsize 0\n",
      "2017-05-30 20:25:37,050 : INFO : PROGRESS: at 13.49% examples, 487936 words/s, in_qsize 5, out_qsize 0\n",
      "2017-05-30 20:25:38,061 : INFO : PROGRESS: at 13.83% examples, 488041 words/s, in_qsize 6, out_qsize 0\n",
      "2017-05-30 20:25:39,080 : INFO : PROGRESS: at 14.16% examples, 488081 words/s, in_qsize 6, out_qsize 0\n",
      "2017-05-30 20:25:40,106 : INFO : PROGRESS: at 14.51% examples, 488109 words/s, in_qsize 6, out_qsize 0\n",
      "2017-05-30 20:25:41,120 : INFO : PROGRESS: at 14.86% examples, 488233 words/s, in_qsize 5, out_qsize 0\n",
      "2017-05-30 20:25:42,126 : INFO : PROGRESS: at 15.19% examples, 488354 words/s, in_qsize 6, out_qsize 0\n",
      "2017-05-30 20:25:43,147 : INFO : PROGRESS: at 15.54% examples, 488347 words/s, in_qsize 5, out_qsize 0\n",
      "2017-05-30 20:25:44,157 : INFO : PROGRESS: at 15.88% examples, 488484 words/s, in_qsize 6, out_qsize 0\n",
      "2017-05-30 20:25:45,171 : INFO : PROGRESS: at 16.21% examples, 488505 words/s, in_qsize 5, out_qsize 0\n",
      "2017-05-30 20:25:46,172 : INFO : PROGRESS: at 16.54% examples, 488501 words/s, in_qsize 5, out_qsize 0\n",
      "2017-05-30 20:25:47,192 : INFO : PROGRESS: at 16.88% examples, 488549 words/s, in_qsize 6, out_qsize 0\n",
      "2017-05-30 20:25:48,199 : INFO : PROGRESS: at 17.23% examples, 488681 words/s, in_qsize 5, out_qsize 0\n",
      "2017-05-30 20:25:49,219 : INFO : PROGRESS: at 17.56% examples, 488719 words/s, in_qsize 5, out_qsize 0\n",
      "2017-05-30 20:25:50,229 : INFO : PROGRESS: at 17.90% examples, 488792 words/s, in_qsize 5, out_qsize 0\n",
      "2017-05-30 20:25:51,244 : INFO : PROGRESS: at 18.24% examples, 488865 words/s, in_qsize 5, out_qsize 0\n",
      "2017-05-30 20:25:52,250 : INFO : PROGRESS: at 18.57% examples, 488839 words/s, in_qsize 5, out_qsize 0\n",
      "2017-05-30 20:25:53,269 : INFO : PROGRESS: at 18.91% examples, 488887 words/s, in_qsize 5, out_qsize 0\n",
      "2017-05-30 20:25:54,288 : INFO : PROGRESS: at 19.26% examples, 488916 words/s, in_qsize 5, out_qsize 0\n",
      "2017-05-30 20:25:55,301 : INFO : PROGRESS: at 19.59% examples, 489011 words/s, in_qsize 5, out_qsize 0\n",
      "2017-05-30 20:25:56,304 : INFO : PROGRESS: at 19.92% examples, 489044 words/s, in_qsize 5, out_qsize 0\n",
      "2017-05-30 20:25:57,323 : INFO : PROGRESS: at 20.26% examples, 489065 words/s, in_qsize 6, out_qsize 0\n",
      "2017-05-30 20:25:58,335 : INFO : PROGRESS: at 20.61% examples, 489113 words/s, in_qsize 5, out_qsize 0\n",
      "2017-05-30 20:25:59,344 : INFO : PROGRESS: at 20.95% examples, 489210 words/s, in_qsize 6, out_qsize 0\n",
      "2017-05-30 20:26:00,379 : INFO : PROGRESS: at 21.29% examples, 489149 words/s, in_qsize 6, out_qsize 0\n",
      "2017-05-30 20:26:01,394 : INFO : PROGRESS: at 21.64% examples, 489187 words/s, in_qsize 5, out_qsize 0\n",
      "2017-05-30 20:26:02,408 : INFO : PROGRESS: at 21.97% examples, 489194 words/s, in_qsize 6, out_qsize 0\n",
      "2017-05-30 20:26:03,419 : INFO : PROGRESS: at 22.32% examples, 489280 words/s, in_qsize 6, out_qsize 0\n",
      "2017-05-30 20:26:04,425 : INFO : PROGRESS: at 22.65% examples, 489361 words/s, in_qsize 6, out_qsize 0\n",
      "2017-05-30 20:26:05,429 : INFO : PROGRESS: at 22.99% examples, 489442 words/s, in_qsize 6, out_qsize 0\n",
      "2017-05-30 20:26:06,435 : INFO : PROGRESS: at 23.33% examples, 489416 words/s, in_qsize 5, out_qsize 0\n",
      "2017-05-30 20:26:07,462 : INFO : PROGRESS: at 23.66% examples, 489384 words/s, in_qsize 6, out_qsize 0\n",
      "2017-05-30 20:26:08,476 : INFO : PROGRESS: at 24.01% examples, 489420 words/s, in_qsize 5, out_qsize 0\n",
      "2017-05-30 20:26:09,498 : INFO : PROGRESS: at 24.34% examples, 489431 words/s, in_qsize 5, out_qsize 0\n",
      "2017-05-30 20:26:10,508 : INFO : PROGRESS: at 24.68% examples, 489484 words/s, in_qsize 5, out_qsize 0\n",
      "2017-05-30 20:26:11,519 : INFO : PROGRESS: at 25.01% examples, 489418 words/s, in_qsize 5, out_qsize 0\n",
      "2017-05-30 20:26:12,539 : INFO : PROGRESS: at 25.35% examples, 489432 words/s, in_qsize 5, out_qsize 0\n",
      "2017-05-30 20:26:13,545 : INFO : PROGRESS: at 25.69% examples, 489532 words/s, in_qsize 6, out_qsize 0\n",
      "2017-05-30 20:26:14,559 : INFO : PROGRESS: at 26.03% examples, 489586 words/s, in_qsize 5, out_qsize 0\n",
      "2017-05-30 20:26:15,588 : INFO : PROGRESS: at 26.37% examples, 489569 words/s, in_qsize 6, out_qsize 0\n",
      "2017-05-30 20:26:16,601 : INFO : PROGRESS: at 26.71% examples, 489629 words/s, in_qsize 5, out_qsize 0\n",
      "2017-05-30 20:26:17,610 : INFO : PROGRESS: at 27.05% examples, 489687 words/s, in_qsize 5, out_qsize 0\n",
      "2017-05-30 20:26:18,615 : INFO : PROGRESS: at 27.39% examples, 489762 words/s, in_qsize 6, out_qsize 0\n",
      "2017-05-30 20:26:19,643 : INFO : PROGRESS: at 27.74% examples, 489725 words/s, in_qsize 5, out_qsize 0\n",
      "2017-05-30 20:26:20,659 : INFO : PROGRESS: at 28.08% examples, 489782 words/s, in_qsize 6, out_qsize 0\n",
      "2017-05-30 20:26:21,679 : INFO : PROGRESS: at 28.43% examples, 489758 words/s, in_qsize 6, out_qsize 0\n",
      "2017-05-30 20:26:22,688 : INFO : PROGRESS: at 28.77% examples, 489798 words/s, in_qsize 5, out_qsize 0\n",
      "2017-05-30 20:26:23,703 : INFO : PROGRESS: at 29.11% examples, 489837 words/s, in_qsize 6, out_qsize 0\n",
      "2017-05-30 20:26:24,717 : INFO : PROGRESS: at 29.44% examples, 489827 words/s, in_qsize 5, out_qsize 0\n",
      "2017-05-30 20:26:25,754 : INFO : PROGRESS: at 29.78% examples, 489813 words/s, in_qsize 5, out_qsize 0\n",
      "2017-05-30 20:26:26,770 : INFO : PROGRESS: at 30.12% examples, 489842 words/s, in_qsize 5, out_qsize 0\n",
      "2017-05-30 20:26:27,784 : INFO : PROGRESS: at 30.46% examples, 489878 words/s, in_qsize 5, out_qsize 0\n",
      "2017-05-30 20:26:28,797 : INFO : PROGRESS: at 30.80% examples, 489907 words/s, in_qsize 6, out_qsize 0\n",
      "2017-05-30 20:26:29,805 : INFO : PROGRESS: at 31.14% examples, 489967 words/s, in_qsize 5, out_qsize 0\n",
      "2017-05-30 20:26:30,821 : INFO : PROGRESS: at 31.48% examples, 489988 words/s, in_qsize 5, out_qsize 0\n",
      "2017-05-30 20:26:31,827 : INFO : PROGRESS: at 31.82% examples, 490059 words/s, in_qsize 5, out_qsize 0\n",
      "2017-05-30 20:26:32,844 : INFO : PROGRESS: at 32.16% examples, 490081 words/s, in_qsize 6, out_qsize 0\n",
      "2017-05-30 20:26:33,861 : INFO : PROGRESS: at 32.50% examples, 490103 words/s, in_qsize 5, out_qsize 0\n",
      "2017-05-30 20:26:34,865 : INFO : PROGRESS: at 32.83% examples, 490184 words/s, in_qsize 6, out_qsize 0\n",
      "2017-05-30 20:26:35,887 : INFO : PROGRESS: at 33.18% examples, 490197 words/s, in_qsize 5, out_qsize 0\n",
      "2017-05-30 20:26:36,892 : INFO : PROGRESS: at 33.52% examples, 490267 words/s, in_qsize 5, out_qsize 0\n",
      "2017-05-30 20:26:37,893 : INFO : PROGRESS: at 33.86% examples, 490251 words/s, in_qsize 5, out_qsize 0\n",
      "2017-05-30 20:26:38,908 : INFO : PROGRESS: at 34.18% examples, 490180 words/s, in_qsize 6, out_qsize 0\n",
      "2017-05-30 20:26:39,923 : INFO : PROGRESS: at 34.53% examples, 490219 words/s, in_qsize 5, out_qsize 0\n",
      "2017-05-30 20:26:40,940 : INFO : PROGRESS: at 34.88% examples, 490237 words/s, in_qsize 5, out_qsize 0\n",
      "2017-05-30 20:26:41,943 : INFO : PROGRESS: at 35.21% examples, 490286 words/s, in_qsize 5, out_qsize 0\n",
      "2017-05-30 20:26:42,956 : INFO : PROGRESS: at 35.56% examples, 490302 words/s, in_qsize 5, out_qsize 0\n",
      "2017-05-30 20:26:43,957 : INFO : PROGRESS: at 35.89% examples, 490296 words/s, in_qsize 5, out_qsize 0\n",
      "2017-05-30 20:26:44,978 : INFO : PROGRESS: at 36.22% examples, 490267 words/s, in_qsize 5, out_qsize 0\n",
      "2017-05-30 20:26:45,995 : INFO : PROGRESS: at 36.56% examples, 490261 words/s, in_qsize 6, out_qsize 0\n",
      "2017-05-30 20:26:47,014 : INFO : PROGRESS: at 36.90% examples, 490269 words/s, in_qsize 5, out_qsize 0\n",
      "2017-05-30 20:26:48,026 : INFO : PROGRESS: at 37.25% examples, 490291 words/s, in_qsize 5, out_qsize 0\n",
      "2017-05-30 20:26:49,028 : INFO : PROGRESS: at 37.58% examples, 490288 words/s, in_qsize 5, out_qsize 0\n",
      "2017-05-30 20:26:50,037 : INFO : PROGRESS: at 37.91% examples, 490314 words/s, in_qsize 6, out_qsize 0\n",
      "2017-05-30 20:26:51,057 : INFO : PROGRESS: at 38.25% examples, 490314 words/s, in_qsize 5, out_qsize 0\n",
      "2017-05-30 20:26:52,069 : INFO : PROGRESS: at 38.59% examples, 490343 words/s, in_qsize 5, out_qsize 0\n",
      "2017-05-30 20:26:53,082 : INFO : PROGRESS: at 38.93% examples, 490380 words/s, in_qsize 6, out_qsize 0\n",
      "2017-05-30 20:26:54,091 : INFO : PROGRESS: at 39.28% examples, 490426 words/s, in_qsize 6, out_qsize 0\n",
      "2017-05-30 20:26:55,094 : INFO : PROGRESS: at 39.60% examples, 490422 words/s, in_qsize 5, out_qsize 0\n",
      "2017-05-30 20:26:56,112 : INFO : PROGRESS: at 39.94% examples, 490446 words/s, in_qsize 5, out_qsize 0\n",
      "2017-05-30 20:26:57,121 : INFO : PROGRESS: at 40.28% examples, 490489 words/s, in_qsize 5, out_qsize 0\n",
      "2017-05-30 20:26:58,127 : INFO : PROGRESS: at 40.63% examples, 490516 words/s, in_qsize 5, out_qsize 0\n",
      "2017-05-30 20:26:59,146 : INFO : PROGRESS: at 40.96% examples, 490524 words/s, in_qsize 5, out_qsize 0\n",
      "2017-05-30 20:27:00,175 : INFO : PROGRESS: at 41.31% examples, 490501 words/s, in_qsize 6, out_qsize 0\n",
      "2017-05-30 20:27:01,186 : INFO : PROGRESS: at 41.66% examples, 490522 words/s, in_qsize 5, out_qsize 0\n",
      "2017-05-30 20:27:02,204 : INFO : PROGRESS: at 41.99% examples, 490507 words/s, in_qsize 5, out_qsize 0\n",
      "2017-05-30 20:27:03,214 : INFO : PROGRESS: at 42.34% examples, 490545 words/s, in_qsize 6, out_qsize 0\n",
      "2017-05-30 20:27:04,216 : INFO : PROGRESS: at 42.68% examples, 490596 words/s, in_qsize 6, out_qsize 0\n",
      "2017-05-30 20:27:05,217 : INFO : PROGRESS: at 43.00% examples, 490569 words/s, in_qsize 5, out_qsize 0\n",
      "2017-05-30 20:27:06,237 : INFO : PROGRESS: at 43.35% examples, 490566 words/s, in_qsize 5, out_qsize 0\n",
      "2017-05-30 20:27:07,249 : INFO : PROGRESS: at 43.68% examples, 490595 words/s, in_qsize 6, out_qsize 0\n",
      "2017-05-30 20:27:08,251 : INFO : PROGRESS: at 44.02% examples, 490642 words/s, in_qsize 6, out_qsize 0\n",
      "2017-05-30 20:27:09,252 : INFO : PROGRESS: at 44.36% examples, 490642 words/s, in_qsize 5, out_qsize 0\n",
      "2017-05-30 20:27:10,268 : INFO : PROGRESS: at 44.70% examples, 490649 words/s, in_qsize 5, out_qsize 0\n",
      "2017-05-30 20:27:11,283 : INFO : PROGRESS: at 45.03% examples, 490658 words/s, in_qsize 5, out_qsize 0\n",
      "2017-05-30 20:27:12,305 : INFO : PROGRESS: at 45.37% examples, 490653 words/s, in_qsize 5, out_qsize 0\n",
      "2017-05-30 20:27:13,312 : INFO : PROGRESS: at 45.71% examples, 490694 words/s, in_qsize 5, out_qsize 0\n",
      "2017-05-30 20:27:14,319 : INFO : PROGRESS: at 46.05% examples, 490741 words/s, in_qsize 5, out_qsize 0\n",
      "2017-05-30 20:27:15,331 : INFO : PROGRESS: at 46.39% examples, 490715 words/s, in_qsize 5, out_qsize 0\n",
      "2017-05-30 20:27:16,346 : INFO : PROGRESS: at 46.72% examples, 490733 words/s, in_qsize 6, out_qsize 0\n",
      "2017-05-30 20:27:17,362 : INFO : PROGRESS: at 47.06% examples, 490736 words/s, in_qsize 5, out_qsize 0\n",
      "2017-05-30 20:27:18,370 : INFO : PROGRESS: at 47.40% examples, 490758 words/s, in_qsize 5, out_qsize 0\n",
      "2017-05-30 20:27:19,378 : INFO : PROGRESS: at 47.75% examples, 490799 words/s, in_qsize 6, out_qsize 0\n",
      "2017-05-30 20:27:20,394 : INFO : PROGRESS: at 48.09% examples, 490818 words/s, in_qsize 5, out_qsize 0\n",
      "2017-05-30 20:27:21,401 : INFO : PROGRESS: at 48.44% examples, 490843 words/s, in_qsize 5, out_qsize 0\n",
      "2017-05-30 20:27:22,408 : INFO : PROGRESS: at 48.78% examples, 490861 words/s, in_qsize 6, out_qsize 0\n",
      "2017-05-30 20:27:23,412 : INFO : PROGRESS: at 49.12% examples, 490855 words/s, in_qsize 5, out_qsize 0\n",
      "2017-05-30 20:27:24,414 : INFO : PROGRESS: at 49.44% examples, 490882 words/s, in_qsize 5, out_qsize 0\n",
      "2017-05-30 20:27:25,434 : INFO : PROGRESS: at 49.78% examples, 490860 words/s, in_qsize 5, out_qsize 0\n",
      "2017-05-30 20:27:26,446 : INFO : PROGRESS: at 50.12% examples, 490881 words/s, in_qsize 5, out_qsize 0\n",
      "2017-05-30 20:27:27,463 : INFO : PROGRESS: at 50.46% examples, 490887 words/s, in_qsize 5, out_qsize 0\n",
      "2017-05-30 20:27:28,474 : INFO : PROGRESS: at 50.80% examples, 490909 words/s, in_qsize 6, out_qsize 0\n",
      "2017-05-30 20:27:29,480 : INFO : PROGRESS: at 51.14% examples, 490942 words/s, in_qsize 5, out_qsize 0\n",
      "2017-05-30 20:27:30,481 : INFO : PROGRESS: at 51.48% examples, 490939 words/s, in_qsize 5, out_qsize 0\n",
      "2017-05-30 20:27:31,502 : INFO : PROGRESS: at 51.81% examples, 490926 words/s, in_qsize 5, out_qsize 0\n",
      "2017-05-30 20:27:32,531 : INFO : PROGRESS: at 52.15% examples, 490896 words/s, in_qsize 5, out_qsize 0\n",
      "2017-05-30 20:27:33,543 : INFO : PROGRESS: at 52.49% examples, 490919 words/s, in_qsize 5, out_qsize 0\n",
      "2017-05-30 20:27:34,548 : INFO : PROGRESS: at 52.83% examples, 490963 words/s, in_qsize 6, out_qsize 0\n",
      "2017-05-30 20:27:35,559 : INFO : PROGRESS: at 53.17% examples, 491002 words/s, in_qsize 5, out_qsize 0\n",
      "2017-05-30 20:27:36,570 : INFO : PROGRESS: at 53.51% examples, 490971 words/s, in_qsize 5, out_qsize 0\n",
      "2017-05-30 20:27:37,576 : INFO : PROGRESS: at 53.85% examples, 490994 words/s, in_qsize 6, out_qsize 0\n",
      "2017-05-30 20:27:38,580 : INFO : PROGRESS: at 54.18% examples, 491032 words/s, in_qsize 6, out_qsize 0\n",
      "2017-05-30 20:27:39,593 : INFO : PROGRESS: at 54.53% examples, 491058 words/s, in_qsize 5, out_qsize 0\n",
      "2017-05-30 20:27:40,612 : INFO : PROGRESS: at 54.88% examples, 491060 words/s, in_qsize 5, out_qsize 0\n",
      "2017-05-30 20:27:41,614 : INFO : PROGRESS: at 55.21% examples, 491090 words/s, in_qsize 5, out_qsize 0\n",
      "2017-05-30 20:27:42,627 : INFO : PROGRESS: at 55.56% examples, 491094 words/s, in_qsize 5, out_qsize 0\n",
      "2017-05-30 20:27:43,633 : INFO : PROGRESS: at 55.89% examples, 491122 words/s, in_qsize 5, out_qsize 0\n",
      "2017-05-30 20:27:44,642 : INFO : PROGRESS: at 56.23% examples, 491134 words/s, in_qsize 6, out_qsize 0\n",
      "2017-05-30 20:27:45,645 : INFO : PROGRESS: at 56.56% examples, 491111 words/s, in_qsize 6, out_qsize 0\n",
      "2017-05-30 20:27:46,664 : INFO : PROGRESS: at 56.90% examples, 491113 words/s, in_qsize 6, out_qsize 0\n",
      "2017-05-30 20:27:47,669 : INFO : PROGRESS: at 57.25% examples, 491143 words/s, in_qsize 5, out_qsize 0\n",
      "2017-05-30 20:27:48,685 : INFO : PROGRESS: at 57.58% examples, 491150 words/s, in_qsize 6, out_qsize 0\n",
      "2017-05-30 20:27:49,696 : INFO : PROGRESS: at 57.92% examples, 491160 words/s, in_qsize 5, out_qsize 0\n",
      "2017-05-30 20:27:50,707 : INFO : PROGRESS: at 58.26% examples, 491180 words/s, in_qsize 6, out_qsize 0\n",
      "2017-05-30 20:27:51,712 : INFO : PROGRESS: at 58.59% examples, 491212 words/s, in_qsize 5, out_qsize 0\n",
      "2017-05-30 20:27:52,723 : INFO : PROGRESS: at 58.93% examples, 491183 words/s, in_qsize 6, out_qsize 0\n",
      "2017-05-30 20:27:53,726 : INFO : PROGRESS: at 59.28% examples, 491226 words/s, in_qsize 5, out_qsize 0\n",
      "2017-05-30 20:27:54,741 : INFO : PROGRESS: at 59.60% examples, 491241 words/s, in_qsize 5, out_qsize 0\n",
      "2017-05-30 20:27:55,749 : INFO : PROGRESS: at 59.94% examples, 491226 words/s, in_qsize 6, out_qsize 0\n",
      "2017-05-30 20:27:56,768 : INFO : PROGRESS: at 60.28% examples, 491221 words/s, in_qsize 5, out_qsize 0\n",
      "2017-05-30 20:27:57,772 : INFO : PROGRESS: at 60.63% examples, 491241 words/s, in_qsize 6, out_qsize 0\n",
      "2017-05-30 20:27:58,780 : INFO : PROGRESS: at 60.96% examples, 491270 words/s, in_qsize 6, out_qsize 0\n",
      "2017-05-30 20:27:59,813 : INFO : PROGRESS: at 61.31% examples, 491240 words/s, in_qsize 6, out_qsize 0\n",
      "2017-05-30 20:28:00,819 : INFO : PROGRESS: at 61.66% examples, 491263 words/s, in_qsize 6, out_qsize 0\n",
      "2017-05-30 20:28:01,826 : INFO : PROGRESS: at 61.99% examples, 491277 words/s, in_qsize 5, out_qsize 0\n",
      "2017-05-30 20:28:02,847 : INFO : PROGRESS: at 62.34% examples, 491271 words/s, in_qsize 6, out_qsize 0\n",
      "2017-05-30 20:28:03,849 : INFO : PROGRESS: at 62.68% examples, 491300 words/s, in_qsize 5, out_qsize 0\n",
      "2017-05-30 20:28:04,850 : INFO : PROGRESS: at 63.01% examples, 491326 words/s, in_qsize 6, out_qsize 0\n",
      "2017-05-30 20:28:05,861 : INFO : PROGRESS: at 63.35% examples, 491344 words/s, in_qsize 6, out_qsize 0\n",
      "2017-05-30 20:28:06,866 : INFO : PROGRESS: at 63.68% examples, 491329 words/s, in_qsize 5, out_qsize 0\n",
      "2017-05-30 20:28:07,876 : INFO : PROGRESS: at 64.02% examples, 491340 words/s, in_qsize 6, out_qsize 0\n",
      "2017-05-30 20:28:08,890 : INFO : PROGRESS: at 64.36% examples, 491352 words/s, in_qsize 5, out_qsize 0\n",
      "2017-05-30 20:28:09,906 : INFO : PROGRESS: at 64.70% examples, 491353 words/s, in_qsize 5, out_qsize 0\n",
      "2017-05-30 20:28:10,909 : INFO : PROGRESS: at 65.03% examples, 491381 words/s, in_qsize 5, out_qsize 0\n",
      "2017-05-30 20:28:11,914 : INFO : PROGRESS: at 65.37% examples, 491373 words/s, in_qsize 6, out_qsize 0\n",
      "2017-05-30 20:28:12,921 : INFO : PROGRESS: at 65.71% examples, 491397 words/s, in_qsize 5, out_qsize 0\n",
      "2017-05-30 20:28:13,938 : INFO : PROGRESS: at 66.05% examples, 491401 words/s, in_qsize 5, out_qsize 0\n",
      "2017-05-30 20:28:14,950 : INFO : PROGRESS: at 66.39% examples, 491427 words/s, in_qsize 6, out_qsize 0\n",
      "2017-05-30 20:28:15,956 : INFO : PROGRESS: at 66.72% examples, 491413 words/s, in_qsize 5, out_qsize 0\n",
      "2017-05-30 20:28:16,971 : INFO : PROGRESS: at 67.06% examples, 491412 words/s, in_qsize 6, out_qsize 0\n",
      "2017-05-30 20:28:17,981 : INFO : PROGRESS: at 67.40% examples, 491421 words/s, in_qsize 5, out_qsize 0\n",
      "2017-05-30 20:28:18,990 : INFO : PROGRESS: at 67.75% examples, 491442 words/s, in_qsize 5, out_qsize 0\n",
      "2017-05-30 20:28:20,018 : INFO : PROGRESS: at 68.09% examples, 491425 words/s, in_qsize 6, out_qsize 0\n",
      "2017-05-30 20:28:21,024 : INFO : PROGRESS: at 68.44% examples, 491444 words/s, in_qsize 5, out_qsize 0\n",
      "2017-05-30 20:28:22,034 : INFO : PROGRESS: at 68.78% examples, 491446 words/s, in_qsize 6, out_qsize 0\n",
      "2017-05-30 20:28:23,039 : INFO : PROGRESS: at 69.13% examples, 491482 words/s, in_qsize 6, out_qsize 0\n",
      "2017-05-30 20:28:24,066 : INFO : PROGRESS: at 69.46% examples, 491480 words/s, in_qsize 6, out_qsize 0\n",
      "2017-05-30 20:28:25,085 : INFO : PROGRESS: at 69.80% examples, 491512 words/s, in_qsize 5, out_qsize 0\n",
      "2017-05-30 20:28:26,103 : INFO : PROGRESS: at 70.14% examples, 491509 words/s, in_qsize 5, out_qsize 0\n",
      "2017-05-30 20:28:27,118 : INFO : PROGRESS: at 70.48% examples, 491518 words/s, in_qsize 5, out_qsize 0\n",
      "2017-05-30 20:28:28,122 : INFO : PROGRESS: at 70.82% examples, 491543 words/s, in_qsize 5, out_qsize 0\n",
      "2017-05-30 20:28:29,130 : INFO : PROGRESS: at 71.16% examples, 491559 words/s, in_qsize 5, out_qsize 0\n",
      "2017-05-30 20:28:30,138 : INFO : PROGRESS: at 71.49% examples, 491537 words/s, in_qsize 6, out_qsize 0\n",
      "2017-05-30 20:28:31,152 : INFO : PROGRESS: at 71.83% examples, 491539 words/s, in_qsize 6, out_qsize 0\n",
      "2017-05-30 20:28:32,177 : INFO : PROGRESS: at 72.17% examples, 491528 words/s, in_qsize 5, out_qsize 0\n",
      "2017-05-30 20:28:33,188 : INFO : PROGRESS: at 72.51% examples, 491540 words/s, in_qsize 5, out_qsize 0\n",
      "2017-05-30 20:28:34,199 : INFO : PROGRESS: at 72.84% examples, 491556 words/s, in_qsize 5, out_qsize 0\n",
      "2017-05-30 20:28:35,206 : INFO : PROGRESS: at 73.19% examples, 491589 words/s, in_qsize 6, out_qsize 0\n",
      "2017-05-30 20:28:36,217 : INFO : PROGRESS: at 73.53% examples, 491603 words/s, in_qsize 5, out_qsize 0\n",
      "2017-05-30 20:28:37,222 : INFO : PROGRESS: at 73.87% examples, 491626 words/s, in_qsize 5, out_qsize 0\n",
      "2017-05-30 20:28:38,223 : INFO : PROGRESS: at 74.20% examples, 491614 words/s, in_qsize 5, out_qsize 0\n",
      "2017-05-30 20:28:39,239 : INFO : PROGRESS: at 74.55% examples, 491624 words/s, in_qsize 6, out_qsize 0\n",
      "2017-05-30 20:28:40,254 : INFO : PROGRESS: at 74.90% examples, 491632 words/s, in_qsize 5, out_qsize 0\n",
      "2017-05-30 20:28:41,258 : INFO : PROGRESS: at 75.23% examples, 491643 words/s, in_qsize 5, out_qsize 0\n",
      "2017-05-30 20:28:42,270 : INFO : PROGRESS: at 75.58% examples, 491651 words/s, in_qsize 5, out_qsize 0\n",
      "2017-05-30 20:28:43,271 : INFO : PROGRESS: at 75.91% examples, 491674 words/s, in_qsize 5, out_qsize 0\n",
      "2017-05-30 20:28:44,272 : INFO : PROGRESS: at 76.25% examples, 491702 words/s, in_qsize 5, out_qsize 0\n",
      "2017-05-30 20:28:45,294 : INFO : PROGRESS: at 76.59% examples, 491684 words/s, in_qsize 5, out_qsize 0\n",
      "2017-05-30 20:28:46,302 : INFO : PROGRESS: at 76.92% examples, 491704 words/s, in_qsize 5, out_qsize 0\n",
      "2017-05-30 20:28:47,309 : INFO : PROGRESS: at 77.27% examples, 491717 words/s, in_qsize 6, out_qsize 0\n",
      "2017-05-30 20:28:48,315 : INFO : PROGRESS: at 77.60% examples, 491702 words/s, in_qsize 5, out_qsize 0\n",
      "2017-05-30 20:28:49,328 : INFO : PROGRESS: at 77.94% examples, 491704 words/s, in_qsize 5, out_qsize 0\n",
      "2017-05-30 20:28:50,339 : INFO : PROGRESS: at 78.28% examples, 491719 words/s, in_qsize 5, out_qsize 0\n",
      "2017-05-30 20:28:51,342 : INFO : PROGRESS: at 78.61% examples, 491707 words/s, in_qsize 6, out_qsize 0\n",
      "2017-05-30 20:28:52,347 : INFO : PROGRESS: at 78.95% examples, 491733 words/s, in_qsize 5, out_qsize 0\n",
      "2017-05-30 20:28:53,359 : INFO : PROGRESS: at 79.29% examples, 491744 words/s, in_qsize 6, out_qsize 0\n",
      "2017-05-30 20:28:54,371 : INFO : PROGRESS: at 79.62% examples, 491759 words/s, in_qsize 6, out_qsize 0\n",
      "2017-05-30 20:28:55,389 : INFO : PROGRESS: at 79.97% examples, 491765 words/s, in_qsize 6, out_qsize 0\n",
      "2017-05-30 20:28:56,401 : INFO : PROGRESS: at 80.31% examples, 491771 words/s, in_qsize 5, out_qsize 0\n",
      "2017-05-30 20:28:57,421 : INFO : PROGRESS: at 80.66% examples, 491790 words/s, in_qsize 5, out_qsize 0\n",
      "2017-05-30 20:28:58,431 : INFO : PROGRESS: at 81.00% examples, 491808 words/s, in_qsize 6, out_qsize 0\n",
      "2017-05-30 20:28:59,449 : INFO : PROGRESS: at 81.34% examples, 491812 words/s, in_qsize 5, out_qsize 0\n",
      "2017-05-30 20:29:00,460 : INFO : PROGRESS: at 81.69% examples, 491818 words/s, in_qsize 5, out_qsize 0\n",
      "2017-05-30 20:29:01,462 : INFO : PROGRESS: at 82.02% examples, 491794 words/s, in_qsize 6, out_qsize 0\n",
      "2017-05-30 20:29:02,472 : INFO : PROGRESS: at 82.36% examples, 491772 words/s, in_qsize 6, out_qsize 0\n",
      "2017-05-30 20:29:03,476 : INFO : PROGRESS: at 82.70% examples, 491788 words/s, in_qsize 5, out_qsize 0\n",
      "2017-05-30 20:29:04,477 : INFO : PROGRESS: at 83.02% examples, 491806 words/s, in_qsize 6, out_qsize 0\n",
      "2017-05-30 20:29:05,485 : INFO : PROGRESS: at 83.37% examples, 491785 words/s, in_qsize 6, out_qsize 0\n",
      "2017-05-30 20:29:06,496 : INFO : PROGRESS: at 83.70% examples, 491799 words/s, in_qsize 6, out_qsize 0\n",
      "2017-05-30 20:29:07,501 : INFO : PROGRESS: at 84.04% examples, 491814 words/s, in_qsize 6, out_qsize 0\n",
      "2017-05-30 20:29:08,517 : INFO : PROGRESS: at 84.38% examples, 491816 words/s, in_qsize 5, out_qsize 0\n",
      "2017-05-30 20:29:09,533 : INFO : PROGRESS: at 84.72% examples, 491815 words/s, in_qsize 5, out_qsize 0\n",
      "2017-05-30 20:29:10,537 : INFO : PROGRESS: at 85.05% examples, 491833 words/s, in_qsize 5, out_qsize 0\n",
      "2017-05-30 20:29:11,557 : INFO : PROGRESS: at 85.40% examples, 491832 words/s, in_qsize 5, out_qsize 0\n",
      "2017-05-30 20:29:12,573 : INFO : PROGRESS: at 85.74% examples, 491834 words/s, in_qsize 6, out_qsize 0\n",
      "2017-05-30 20:29:13,589 : INFO : PROGRESS: at 86.08% examples, 491836 words/s, in_qsize 5, out_qsize 0\n",
      "2017-05-30 20:29:14,590 : INFO : PROGRESS: at 86.41% examples, 491839 words/s, in_qsize 5, out_qsize 0\n",
      "2017-05-30 20:29:15,593 : INFO : PROGRESS: at 86.74% examples, 491833 words/s, in_qsize 6, out_qsize 0\n",
      "2017-05-30 20:29:16,602 : INFO : PROGRESS: at 87.08% examples, 491843 words/s, in_qsize 6, out_qsize 0\n",
      "2017-05-30 20:29:17,610 : INFO : PROGRESS: at 87.42% examples, 491850 words/s, in_qsize 6, out_qsize 0\n",
      "2017-05-30 20:29:18,623 : INFO : PROGRESS: at 87.77% examples, 491862 words/s, in_qsize 6, out_qsize 0\n",
      "2017-05-30 20:29:19,645 : INFO : PROGRESS: at 88.11% examples, 491856 words/s, in_qsize 6, out_qsize 0\n",
      "2017-05-30 20:29:20,651 : INFO : PROGRESS: at 88.45% examples, 491867 words/s, in_qsize 6, out_qsize 0\n",
      "2017-05-30 20:29:21,663 : INFO : PROGRESS: at 88.80% examples, 491867 words/s, in_qsize 5, out_qsize 0\n",
      "2017-05-30 20:29:22,671 : INFO : PROGRESS: at 89.14% examples, 491883 words/s, in_qsize 5, out_qsize 0\n",
      "2017-05-30 20:29:23,679 : INFO : PROGRESS: at 89.48% examples, 491918 words/s, in_qsize 5, out_qsize 0\n",
      "2017-05-30 20:29:24,718 : INFO : PROGRESS: at 89.82% examples, 491907 words/s, in_qsize 5, out_qsize 0\n",
      "2017-05-30 20:29:25,734 : INFO : PROGRESS: at 90.16% examples, 491905 words/s, in_qsize 6, out_qsize 0\n",
      "2017-05-30 20:29:26,748 : INFO : PROGRESS: at 90.50% examples, 491911 words/s, in_qsize 5, out_qsize 0\n",
      "2017-05-30 20:29:27,752 : INFO : PROGRESS: at 90.84% examples, 491932 words/s, in_qsize 5, out_qsize 0\n",
      "2017-05-30 20:29:28,757 : INFO : PROGRESS: at 91.18% examples, 491948 words/s, in_qsize 6, out_qsize 0\n",
      "2017-05-30 20:29:29,772 : INFO : PROGRESS: at 91.52% examples, 491951 words/s, in_qsize 6, out_qsize 0\n",
      "2017-05-30 20:29:30,787 : INFO : PROGRESS: at 91.86% examples, 491950 words/s, in_qsize 5, out_qsize 0\n",
      "2017-05-30 20:29:31,798 : INFO : PROGRESS: at 92.19% examples, 491965 words/s, in_qsize 5, out_qsize 0\n",
      "2017-05-30 20:29:32,812 : INFO : PROGRESS: at 92.54% examples, 491967 words/s, in_qsize 6, out_qsize 0\n",
      "2017-05-30 20:29:33,814 : INFO : PROGRESS: at 92.87% examples, 491994 words/s, in_qsize 6, out_qsize 0\n",
      "2017-05-30 20:29:34,833 : INFO : PROGRESS: at 93.21% examples, 491998 words/s, in_qsize 5, out_qsize 0\n",
      "2017-05-30 20:29:35,837 : INFO : PROGRESS: at 93.56% examples, 492018 words/s, in_qsize 5, out_qsize 0\n",
      "2017-05-30 20:29:36,845 : INFO : PROGRESS: at 93.90% examples, 492027 words/s, in_qsize 5, out_qsize 0\n",
      "2017-05-30 20:29:37,847 : INFO : PROGRESS: at 94.23% examples, 492014 words/s, in_qsize 5, out_qsize 0\n",
      "2017-05-30 20:29:38,856 : INFO : PROGRESS: at 94.57% examples, 492037 words/s, in_qsize 5, out_qsize 0\n",
      "2017-05-30 20:29:39,866 : INFO : PROGRESS: at 94.92% examples, 492014 words/s, in_qsize 6, out_qsize 0\n",
      "2017-05-30 20:29:40,868 : INFO : PROGRESS: at 95.25% examples, 492024 words/s, in_qsize 5, out_qsize 0\n",
      "2017-05-30 20:29:41,880 : INFO : PROGRESS: at 95.60% examples, 492031 words/s, in_qsize 5, out_qsize 0\n",
      "2017-05-30 20:29:42,888 : INFO : PROGRESS: at 95.93% examples, 492067 words/s, in_qsize 5, out_qsize 0\n",
      "2017-05-30 20:29:43,920 : INFO : PROGRESS: at 96.27% examples, 492062 words/s, in_qsize 5, out_qsize 0\n",
      "2017-05-30 20:29:44,939 : INFO : PROGRESS: at 96.62% examples, 492057 words/s, in_qsize 5, out_qsize 0\n",
      "2017-05-30 20:29:45,956 : INFO : PROGRESS: at 96.96% examples, 492056 words/s, in_qsize 6, out_qsize 0\n",
      "2017-05-30 20:29:46,967 : INFO : PROGRESS: at 97.30% examples, 492062 words/s, in_qsize 6, out_qsize 0\n",
      "2017-05-30 20:29:47,967 : INFO : PROGRESS: at 97.63% examples, 492059 words/s, in_qsize 6, out_qsize 0\n",
      "2017-05-30 20:29:48,968 : INFO : PROGRESS: at 97.97% examples, 492081 words/s, in_qsize 6, out_qsize 0\n",
      "2017-05-30 20:29:49,996 : INFO : PROGRESS: at 98.31% examples, 492063 words/s, in_qsize 5, out_qsize 0\n",
      "2017-05-30 20:29:51,006 : INFO : PROGRESS: at 98.65% examples, 492069 words/s, in_qsize 6, out_qsize 0\n",
      "2017-05-30 20:29:52,015 : INFO : PROGRESS: at 98.99% examples, 492082 words/s, in_qsize 6, out_qsize 0\n",
      "2017-05-30 20:29:53,022 : INFO : PROGRESS: at 99.33% examples, 492101 words/s, in_qsize 5, out_qsize 0\n",
      "2017-05-30 20:29:54,026 : INFO : PROGRESS: at 99.66% examples, 492094 words/s, in_qsize 5, out_qsize 0\n",
      "2017-05-30 20:29:54,998 : INFO : worker thread finished; awaiting finish of 2 more threads\n",
      "2017-05-30 20:29:55,012 : INFO : worker thread finished; awaiting finish of 1 more threads\n",
      "2017-05-30 20:29:55,040 : INFO : PROGRESS: at 100.00% examples, 492108 words/s, in_qsize 0, out_qsize 1\n",
      "2017-05-30 20:29:55,040 : INFO : worker thread finished; awaiting finish of 0 more threads\n",
      "2017-05-30 20:29:55,041 : INFO : training on 155848500 raw words (146940662 effective words) took 298.6s, 492107 effective words/s\n"
     ]
    },
    {
     "data": {
      "text/plain": [
       "146940662"
      ]
     },
     "execution_count": 75,
     "metadata": {},
     "output_type": "execute_result"
    }
   ],
   "source": [
    "Docmodel.train(sentences_train)"
   ]
  },
  {
   "cell_type": "code",
   "execution_count": 76,
   "metadata": {
    "collapsed": false
   },
   "outputs": [
    {
     "name": "stdout",
     "output_type": "stream",
     "text": [
      "[-0.52829468  0.02943603  0.67989868 -0.15820351  0.45804468 -1.15997458\n",
      " -0.39999959 -0.33819249 -0.84436744 -0.22547051  0.7920599   0.1291595\n",
      "  0.71300733  1.3107127  -0.35138035]\n",
      "[-1.45599699 -0.20788448  0.55490178  1.27264464  0.11675761 -1.06397367\n",
      " -1.46987057 -0.9815762  -1.08066583  1.73923814  0.21560593 -0.2747981\n",
      "  0.03738201  2.21951413 -0.51351619]\n"
     ]
    }
   ],
   "source": [
    "print(Docmodel[\"2\"])\n",
    "print(Docmodel.docvecs[2])"
   ]
  },
  {
   "cell_type": "code",
   "execution_count": 77,
   "metadata": {
    "collapsed": true
   },
   "outputs": [],
   "source": [
    "#outfile = \"test2\"\n",
    "#Docmodel.save(outfile + '.model')\n",
    "#Docmodel.wv.save_word2vec_format(outfile + '.model.bin', binary=True)\n",
    "#Docmodel.wv.save_word2vec_format(outfile + '.model.txt', binary=False)\n",
    "#Docmodel = Doc2Vec.load(\"test2.model\")"
   ]
  },
  {
   "cell_type": "code",
   "execution_count": 84,
   "metadata": {
    "collapsed": false
   },
   "outputs": [
    {
     "data": {
      "text/plain": [
       "[['6981', '5876', '43192', '44359']]"
      ]
     },
     "execution_count": 84,
     "metadata": {},
     "output_type": "execute_result"
    }
   ],
   "source": [
    "label_test[0]"
   ]
  },
  {
   "cell_type": "code",
   "execution_count": 83,
   "metadata": {
    "collapsed": false
   },
   "outputs": [
    {
     "name": "stderr",
     "output_type": "stream",
     "text": [
      "2017-05-30 20:44:47,611 : INFO : precomputing L2-norms of word weight vectors\n"
     ]
    },
    {
     "data": {
      "text/plain": [
       "[('26736', 0.9246345162391663),\n",
       " ('8197', 0.9187383055686951),\n",
       " ('11520', 0.9079647064208984),\n",
       " ('44910', 0.9034799933433533),\n",
       " ('31932', 0.9024574756622314),\n",
       " ('12456', 0.9023153781890869),\n",
       " ('38777', 0.8982640504837036),\n",
       " ('43086', 0.897864043712616),\n",
       " ('19706', 0.8975662589073181),\n",
       " ('13176', 0.8898524045944214)]"
      ]
     },
     "execution_count": 83,
     "metadata": {},
     "output_type": "execute_result"
    }
   ],
   "source": [
    "Docmodel.most_similar(sentences_test[0].words)"
   ]
  },
  {
   "cell_type": "code",
   "execution_count": 9,
   "metadata": {
    "collapsed": false
   },
   "outputs": [
    {
     "name": "stdout",
     "output_type": "stream",
     "text": [
      "Nombre de user :  206209\n"
     ]
    }
   ],
   "source": [
    "print(\"Nombre de user : \", len(sentences))"
   ]
  },
  {
   "cell_type": "code",
   "execution_count": 72,
   "metadata": {
    "collapsed": false
   },
   "outputs": [
    {
     "name": "stdout",
     "output_type": "stream",
     "text": [
      "Nb tag(user) :  206209\n"
     ]
    }
   ],
   "source": [
    "print(\"Nb tag(user) : \", len(Docmodel.docvecs))"
   ]
  },
  {
   "cell_type": "markdown",
   "metadata": {},
   "source": [
    "* Obtenir les similarité sans indexer "
   ]
  },
  {
   "cell_type": "code",
   "execution_count": 20,
   "metadata": {
    "collapsed": false
   },
   "outputs": [
    {
     "data": {
      "text/plain": [
       "[(31, 1.0),\n",
       " (177743, 0.9242640137672424),\n",
       " (97983, 0.920072078704834),\n",
       " (37825, 0.9199916124343872),\n",
       " (86277, 0.9153571128845215)]"
      ]
     },
     "execution_count": 20,
     "metadata": {},
     "output_type": "execute_result"
    }
   ],
   "source": [
    "# Similarité user\n",
    "vector = Docmodel.docvecs[30]\n",
    "Docmodel.docvecs.most_similar([vector], topn=5)"
   ]
  },
  {
   "cell_type": "code",
   "execution_count": 22,
   "metadata": {
    "collapsed": false
   },
   "outputs": [
    {
     "data": {
      "text/plain": [
       "[('2', 1.0),\n",
       " ('12864', 0.9421048760414124),\n",
       " ('39973', 0.9287629127502441),\n",
       " ('24506', 0.9186358451843262),\n",
       " ('10993', 0.9180311560630798),\n",
       " ('29323', 0.914823055267334)]"
      ]
     },
     "execution_count": 22,
     "metadata": {},
     "output_type": "execute_result"
    }
   ],
   "source": [
    "vector = Docmodel[\"2\"]\n",
    "Docmodel.most_similar([vector], topn=6)"
   ]
  },
  {
   "cell_type": "code",
   "execution_count": 25,
   "metadata": {
    "collapsed": false
   },
   "outputs": [],
   "source": [
    "def similarity_user(model, uid, n=5):\n",
    "    \"\"\"\n",
    "    we take a user_id and we return the best n-user\n",
    "    return a list of similiarity user\n",
    "    \"\"\"\n",
    "    vector_user = model.docvecs[uid]\n",
    "    user_similarity_list = model.docvecs.most_similar([vector], topn=n+1)[1:]\n",
    "    return list(map(lambda x: x[0], user_similarity_list))\n",
    "\n",
    "def similarity_product(model, product_id, n=5):\n",
    "    \"\"\"\n",
    "    We take product_id\n",
    "    we return a list of similarity product\n",
    "    \"\"\"\n",
    "    vector_product = model[product_id]\n",
    "    product_similarity_list = model.most_similar([vector], topn=n+1)[1:]\n",
    "    return list(map(lambda x: x[0], product_similarity_list))\n",
    "\n",
    "def similarity_user_product(model, nid,n=5):\n",
    "    \"\"\"\n",
    "    We gie an user_id (or product id)\n",
    "    and we return the n similarity product_id (user_id)\n",
    "    If mode ⁼ 1 : product_id -> user_id\n",
    "    If mode = 0 : user_id -> product_id\n",
    "    \"\"\"   \n",
    "    if isinstance(nid, str):\n",
    "        vector = model[nid]\n",
    "        similarity_list = model.docvecs.most_similar([vector], topn=n) \n",
    "    else :\n",
    "        vector = model.docvecs[int(nid)]\n",
    "        similarity_list = model.most_similar([vector], topn=n)\n",
    "    return list(map(lambda x: x[0], similarity_list)) "
   ]
  },
  {
   "cell_type": "code",
   "execution_count": 51,
   "metadata": {
    "collapsed": false
   },
   "outputs": [],
   "source": [
    "# tags 21\n",
    "dict_item = Counter(sentences[20].words)"
   ]
  },
  {
   "cell_type": "code",
   "execution_count": 45,
   "metadata": {
    "collapsed": false
   },
   "outputs": [],
   "source": [
    "vector = Docmodel.docvecs[20]\n",
    "#Docmodel.docvecs.most_similar([vector], topn=5)"
   ]
  },
  {
   "cell_type": "code",
   "execution_count": 12,
   "metadata": {
    "collapsed": false
   },
   "outputs": [
    {
     "data": {
      "text/html": [
       "<div>\n",
       "<table border=\"1\" class=\"dataframe\">\n",
       "  <thead>\n",
       "    <tr style=\"text-align: right;\">\n",
       "      <th></th>\n",
       "      <th>order_id</th>\n",
       "      <th>product_id</th>\n",
       "      <th>add_to_cart_order</th>\n",
       "      <th>reordered</th>\n",
       "      <th>user_id</th>\n",
       "    </tr>\n",
       "  </thead>\n",
       "  <tbody>\n",
       "    <tr>\n",
       "      <th>753553</th>\n",
       "      <td>1854765</td>\n",
       "      <td>25740</td>\n",
       "      <td>1</td>\n",
       "      <td>1</td>\n",
       "      <td>21</td>\n",
       "    </tr>\n",
       "    <tr>\n",
       "      <th>753554</th>\n",
       "      <td>1854765</td>\n",
       "      <td>12683</td>\n",
       "      <td>2</td>\n",
       "      <td>1</td>\n",
       "      <td>21</td>\n",
       "    </tr>\n",
       "    <tr>\n",
       "      <th>753555</th>\n",
       "      <td>1854765</td>\n",
       "      <td>44632</td>\n",
       "      <td>3</td>\n",
       "      <td>1</td>\n",
       "      <td>21</td>\n",
       "    </tr>\n",
       "    <tr>\n",
       "      <th>753556</th>\n",
       "      <td>1854765</td>\n",
       "      <td>10957</td>\n",
       "      <td>4</td>\n",
       "      <td>1</td>\n",
       "      <td>21</td>\n",
       "    </tr>\n",
       "    <tr>\n",
       "      <th>753557</th>\n",
       "      <td>1854765</td>\n",
       "      <td>32645</td>\n",
       "      <td>5</td>\n",
       "      <td>1</td>\n",
       "      <td>21</td>\n",
       "    </tr>\n",
       "    <tr>\n",
       "      <th>753558</th>\n",
       "      <td>1854765</td>\n",
       "      <td>16615</td>\n",
       "      <td>6</td>\n",
       "      <td>0</td>\n",
       "      <td>21</td>\n",
       "    </tr>\n",
       "  </tbody>\n",
       "</table>\n",
       "</div>"
      ],
      "text/plain": [
       "        order_id product_id  add_to_cart_order  reordered  user_id\n",
       "753553   1854765      25740                  1          1       21\n",
       "753554   1854765      12683                  2          1       21\n",
       "753555   1854765      44632                  3          1       21\n",
       "753556   1854765      10957                  4          1       21\n",
       "753557   1854765      32645                  5          1       21\n",
       "753558   1854765      16615                  6          0       21"
      ]
     },
     "execution_count": 12,
     "metadata": {},
     "output_type": "execute_result"
    }
   ],
   "source": [
    "order_products__train[order_products__train[\"user_id\"]==21]"
   ]
  },
  {
   "cell_type": "markdown",
   "metadata": {},
   "source": [
    "### Apply Annoy Indexer"
   ]
  },
  {
   "cell_type": "code",
   "execution_count": 32,
   "metadata": {
    "collapsed": true
   },
   "outputs": [],
   "source": [
    "# Si le nom de modèle exist on le load sinon on train puis save\n",
    "fname = \"test_annoy\"\n",
    "if os.path.exists(fname):\n",
    "    annoy_index2 = AnnoyIndexer()\n",
    "    annoy_index2.load(fname)\n",
    "    annoy_index2.model = model\n",
    "else :\n",
    "    annoy_index = AnnoyIndexer(model,100)\n",
    "    annoy_index.save(fname)"
   ]
  },
  {
   "cell_type": "code",
   "execution_count": 33,
   "metadata": {
    "collapsed": false
   },
   "outputs": [
    {
     "name": "stdout",
     "output_type": "stream",
     "text": [
      "('u28985', 1.0)\n",
      "('u135911', 0.8248109370470047)\n",
      "('u39223', 0.8218446522951126)\n",
      "('u89559', 0.8161105960607529)\n",
      "('u78040', 0.8141410201787949)\n"
     ]
    }
   ],
   "source": [
    "vector = model[\"u28985\"]\n",
    "approximate_neighbors = model.most_similar([vector], topn=5, indexer=annoy_index2)\n",
    "for neighbor in approximate_neighbors:\n",
    "    print(neighbor)"
   ]
  },
  {
   "cell_type": "markdown",
   "metadata": {},
   "source": [
    "### Train table"
   ]
  },
  {
   "cell_type": "code",
   "execution_count": 7,
   "metadata": {
    "collapsed": false
   },
   "outputs": [
    {
     "data": {
      "text/html": [
       "<div>\n",
       "<table border=\"1\" class=\"dataframe\">\n",
       "  <thead>\n",
       "    <tr style=\"text-align: right;\">\n",
       "      <th></th>\n",
       "      <th>order_id</th>\n",
       "      <th>product_id</th>\n",
       "      <th>add_to_cart_order</th>\n",
       "      <th>reordered</th>\n",
       "      <th>user_id</th>\n",
       "    </tr>\n",
       "  </thead>\n",
       "  <tbody>\n",
       "    <tr>\n",
       "      <th>0</th>\n",
       "      <td>1</td>\n",
       "      <td>49302</td>\n",
       "      <td>1</td>\n",
       "      <td>1</td>\n",
       "      <td>112108</td>\n",
       "    </tr>\n",
       "    <tr>\n",
       "      <th>1</th>\n",
       "      <td>1</td>\n",
       "      <td>11109</td>\n",
       "      <td>2</td>\n",
       "      <td>1</td>\n",
       "      <td>112108</td>\n",
       "    </tr>\n",
       "    <tr>\n",
       "      <th>2</th>\n",
       "      <td>1</td>\n",
       "      <td>10246</td>\n",
       "      <td>3</td>\n",
       "      <td>0</td>\n",
       "      <td>112108</td>\n",
       "    </tr>\n",
       "    <tr>\n",
       "      <th>3</th>\n",
       "      <td>1</td>\n",
       "      <td>49683</td>\n",
       "      <td>4</td>\n",
       "      <td>0</td>\n",
       "      <td>112108</td>\n",
       "    </tr>\n",
       "    <tr>\n",
       "      <th>4</th>\n",
       "      <td>1</td>\n",
       "      <td>43633</td>\n",
       "      <td>5</td>\n",
       "      <td>1</td>\n",
       "      <td>112108</td>\n",
       "    </tr>\n",
       "  </tbody>\n",
       "</table>\n",
       "</div>"
      ],
      "text/plain": [
       "   order_id product_id  add_to_cart_order  reordered  user_id\n",
       "0         1      49302                  1          1   112108\n",
       "1         1      11109                  2          1   112108\n",
       "2         1      10246                  3          0   112108\n",
       "3         1      49683                  4          0   112108\n",
       "4         1      43633                  5          1   112108"
      ]
     },
     "execution_count": 7,
     "metadata": {},
     "output_type": "execute_result"
    }
   ],
   "source": [
    "order_products__train = pd.merge(order_products__train, order[[\"order_id\", \"user_id\"]],how=\"left\", on=\"order_id\")\n",
    "order_products__train[\"product_id\"] = order_products__train[\"product_id\"].astype(\"unicode\")\n",
    "order_products__train.head()"
   ]
  },
  {
   "cell_type": "code",
   "execution_count": 12,
   "metadata": {
    "collapsed": true
   },
   "outputs": [],
   "source": [
    "# On veut prédire les items que l'on RE commande donc on peut trier la table sur les reordered\n",
    "order_products__train = order_products__train[order_products__train[\"reordered\"]==1]"
   ]
  },
  {
   "cell_type": "code",
   "execution_count": 31,
   "metadata": {
    "collapsed": false
   },
   "outputs": [
    {
     "data": {
      "text/html": [
       "<div>\n",
       "<table border=\"1\" class=\"dataframe\">\n",
       "  <thead>\n",
       "    <tr style=\"text-align: right;\">\n",
       "      <th></th>\n",
       "      <th>order_id</th>\n",
       "      <th>product_id</th>\n",
       "      <th>add_to_cart_order</th>\n",
       "      <th>reordered</th>\n",
       "      <th>user_id</th>\n",
       "    </tr>\n",
       "  </thead>\n",
       "  <tbody>\n",
       "    <tr>\n",
       "      <th>0</th>\n",
       "      <td>1</td>\n",
       "      <td>49302</td>\n",
       "      <td>1</td>\n",
       "      <td>1</td>\n",
       "      <td>112108</td>\n",
       "    </tr>\n",
       "    <tr>\n",
       "      <th>1</th>\n",
       "      <td>1</td>\n",
       "      <td>11109</td>\n",
       "      <td>2</td>\n",
       "      <td>1</td>\n",
       "      <td>112108</td>\n",
       "    </tr>\n",
       "    <tr>\n",
       "      <th>2</th>\n",
       "      <td>1</td>\n",
       "      <td>10246</td>\n",
       "      <td>3</td>\n",
       "      <td>0</td>\n",
       "      <td>112108</td>\n",
       "    </tr>\n",
       "    <tr>\n",
       "      <th>3</th>\n",
       "      <td>1</td>\n",
       "      <td>49683</td>\n",
       "      <td>4</td>\n",
       "      <td>0</td>\n",
       "      <td>112108</td>\n",
       "    </tr>\n",
       "    <tr>\n",
       "      <th>4</th>\n",
       "      <td>1</td>\n",
       "      <td>43633</td>\n",
       "      <td>5</td>\n",
       "      <td>1</td>\n",
       "      <td>112108</td>\n",
       "    </tr>\n",
       "    <tr>\n",
       "      <th>5</th>\n",
       "      <td>1</td>\n",
       "      <td>13176</td>\n",
       "      <td>6</td>\n",
       "      <td>0</td>\n",
       "      <td>112108</td>\n",
       "    </tr>\n",
       "    <tr>\n",
       "      <th>6</th>\n",
       "      <td>1</td>\n",
       "      <td>47209</td>\n",
       "      <td>7</td>\n",
       "      <td>0</td>\n",
       "      <td>112108</td>\n",
       "    </tr>\n",
       "  </tbody>\n",
       "</table>\n",
       "</div>"
      ],
      "text/plain": [
       "   order_id product_id  add_to_cart_order  reordered  user_id\n",
       "0         1      49302                  1          1   112108\n",
       "1         1      11109                  2          1   112108\n",
       "2         1      10246                  3          0   112108\n",
       "3         1      49683                  4          0   112108\n",
       "4         1      43633                  5          1   112108\n",
       "5         1      13176                  6          0   112108\n",
       "6         1      47209                  7          0   112108"
      ]
     },
     "execution_count": 31,
     "metadata": {},
     "output_type": "execute_result"
    }
   ],
   "source": [
    "order_products__train.head(7)"
   ]
  },
  {
   "cell_type": "markdown",
   "metadata": {},
   "source": [
    "### Recommandation by k-nearest items \n",
    "\n",
    "For this purpose, the cosine similarity between the target user and item vectors are calculated and the most similar k items to the target user are found. The collected top-k items are recommended to the target use."
   ]
  },
  {
   "cell_type": "code",
   "execution_count": 90,
   "metadata": {
    "collapsed": false
   },
   "outputs": [
    {
     "data": {
      "text/plain": [
       "[(4, 1.0),\n",
       " (28518, 0.7082605957984924),\n",
       " (142572, 0.7053355574607849),\n",
       " (51889, 0.688294529914856),\n",
       " (75372, 0.6846442818641663),\n",
       " (160372, 0.6779074668884277),\n",
       " (160298, 0.6697469353675842),\n",
       " (102073, 0.6665793061256409),\n",
       " (25601, 0.6630001068115234),\n",
       " (7094, 0.6625559329986572)]"
      ]
     },
     "execution_count": 90,
     "metadata": {},
     "output_type": "execute_result"
    }
   ],
   "source": [
    "Docmodel.docvecs.most_similar([Docmodel.docvecs[3]])"
   ]
  },
  {
   "cell_type": "code",
   "execution_count": 91,
   "metadata": {
    "collapsed": false
   },
   "outputs": [
    {
     "data": {
      "text/plain": [
       "[('33899', 0.6927183866500854),\n",
       " ('46238', 0.648114800453186),\n",
       " ('46985', 0.6439578533172607),\n",
       " ('11955', 0.6421973705291748),\n",
       " ('28440', 0.6227453351020813),\n",
       " ('5660', 0.6222561597824097),\n",
       " ('46186', 0.6201191544532776),\n",
       " ('2066', 0.6197457313537598),\n",
       " ('10576', 0.615534782409668),\n",
       " ('47768', 0.6154682636260986)]"
      ]
     },
     "execution_count": 91,
     "metadata": {},
     "output_type": "execute_result"
    }
   ],
   "source": [
    "Docmodel.most_similar([Docmodel.docvecs[3]], topn=10)"
   ]
  },
  {
   "cell_type": "code",
   "execution_count": 94,
   "metadata": {
    "collapsed": false
   },
   "outputs": [
    {
     "data": {
      "text/plain": [
       "['22199',\n",
       " '25146',\n",
       " '1200',\n",
       " '17769',\n",
       " '43704',\n",
       " '37646',\n",
       " '11865',\n",
       " '35469',\n",
       " '19057',\n",
       " '42329',\n",
       " '7160',\n",
       " '26576',\n",
       " '25623',\n",
       " '21573',\n",
       " '36606',\n",
       " '7350',\n",
       " '35469',\n",
       " '2707']"
      ]
     },
     "execution_count": 94,
     "metadata": {},
     "output_type": "execute_result"
    }
   ],
   "source": [
    "sentences[3][0]"
   ]
  },
  {
   "cell_type": "markdown",
   "metadata": {
    "collapsed": true
   },
   "source": [
    "### Recommendation by N-nearest users "
   ]
  },
  {
   "cell_type": "markdown",
   "metadata": {},
   "source": [
    "Similar to the traditional\n",
    "approach,  in  NN  approach,  first  the  top-N  neighbors  are\n",
    "decided  using  the  similarity  among  the  user  vector  represen-\n",
    "tations.  Then  the  items  that  are  previously  used/preferred  by\n",
    "the  top-N  neighbors  are  collected.  Summing  up  the  votes  of\n",
    "neighbors,  the  top-k  items  to  recommend  are  decided"
   ]
  },
  {
   "cell_type": "code",
   "execution_count": 32,
   "metadata": {
    "collapsed": true
   },
   "outputs": [],
   "source": [
    "# test su un user_id 112108\n",
    "uid_test = 112108"
   ]
  },
  {
   "cell_type": "code",
   "execution_count": 34,
   "metadata": {
    "collapsed": false
   },
   "outputs": [],
   "source": [
    "id_similarity = similarity_user(Docmodel, uid_test, 5)"
   ]
  },
  {
   "cell_type": "code",
   "execution_count": 39,
   "metadata": {
    "collapsed": false
   },
   "outputs": [
    {
     "name": "stdout",
     "output_type": "stream",
     "text": [
      "206107\n",
      "73268\n",
      "119338\n",
      "52286\n",
      "71345\n"
     ]
    }
   ],
   "source": [
    "dico = []\n",
    "for uid in id_similarity:\n",
    "    print(uid)\n",
    "    product = similarity_user_product(Docmodel, uid, 5)\n",
    "    dico.extend(product)"
   ]
  },
  {
   "cell_type": "code",
   "execution_count": 31,
   "metadata": {
    "collapsed": false
   },
   "outputs": [
    {
     "data": {
      "text/plain": [
       "int"
      ]
     },
     "execution_count": 31,
     "metadata": {},
     "output_type": "execute_result"
    }
   ],
   "source": [
    "def N_nearest_users(user_id, n_user, n_product):\n",
    "    id_similarity = similarity_user(Docmodel, user_id, n_product)\n",
    "    return pass\n"
   ]
  },
  {
   "cell_type": "code",
   "execution_count": null,
   "metadata": {
    "collapsed": true
   },
   "outputs": [],
   "source": []
  }
 ],
 "metadata": {
  "anaconda-cloud": {},
  "kernelspec": {
   "display_name": "Python [conda root]",
   "language": "python",
   "name": "conda-root-py"
  },
  "language_info": {
   "codemirror_mode": {
    "name": "ipython",
    "version": 3
   },
   "file_extension": ".py",
   "mimetype": "text/x-python",
   "name": "python",
   "nbconvert_exporter": "python",
   "pygments_lexer": "ipython3",
   "version": "3.5.2"
  }
 },
 "nbformat": 4,
 "nbformat_minor": 2
}
