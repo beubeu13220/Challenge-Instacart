{
 "cells": [
  {
   "cell_type": "code",
   "execution_count": 1,
   "metadata": {
    "collapsed": true
   },
   "outputs": [],
   "source": [
    "import os\n",
    "import pandas as pd \n",
    "import numpy as np\n",
    "from gensim.models import word2vec\n",
    "from gensim.models import Doc2Vec, doc2vec\n",
    "import matplotlib.pyplot as plt\n",
    "import seaborn as sns\n",
    "import logging\n",
    "from gensim.similarities.index import AnnoyIndexer\n",
    "import utils\n",
    "import time \n",
    "from itertools import chain\n",
    "from collections import Counter\n",
    "from sklearn.multiclass import OneVsRestClassifier\n",
    "import multiprocessing\n",
    "from sklearn.cross_validation import train_test_split\n",
    "import operator\n",
    "import pickle\n",
    "import xgboost as xgb\n",
    "from sklearn.preprocessing import LabelEncoder\n",
    "from sklearn.preprocessing import MultiLabelBinarizer\n",
    "import random\n",
    "from sklearn.ensemble import ExtraTreesClassifier\n",
    "%matplotlib inline"
   ]
  },
  {
   "cell_type": "code",
   "execution_count": 2,
   "metadata": {
    "collapsed": true
   },
   "outputs": [],
   "source": [
    "logging.basicConfig(format='%(asctime)s : %(levelname)s : %(message)s', level=logging.INFO)"
   ]
  },
  {
   "cell_type": "code",
   "execution_count": 3,
   "metadata": {
    "collapsed": false
   },
   "outputs": [
    {
     "name": "stdout",
     "output_type": "stream",
     "text": [
      "On AWS instance\n",
      "/home/ec2-user/data\n"
     ]
    }
   ],
   "source": [
    "utils.data_directory()"
   ]
  },
  {
   "cell_type": "code",
   "execution_count": 4,
   "metadata": {
    "collapsed": true
   },
   "outputs": [],
   "source": [
    "aisles = pd.read_csv(\"aisles.csv\")\n",
    "departements = pd.read_csv(\"departments.csv\")\n",
    "order_products__prior = pd.read_csv(\"order_products__prior.csv\")\n",
    "order_products__train = pd.read_csv(\"order_products__train.csv\")\n",
    "order = pd.read_csv(\"orders.csv\")\n",
    "products = pd.read_csv(\"products.csv\")\n",
    "sample_submission = pd.read_csv(\"sample_submission.csv\")"
   ]
  },
  {
   "cell_type": "code",
   "execution_count": 5,
   "metadata": {
    "collapsed": false
   },
   "outputs": [
    {
     "data": {
      "text/html": [
       "<div>\n",
       "<table border=\"1\" class=\"dataframe\">\n",
       "  <thead>\n",
       "    <tr style=\"text-align: right;\">\n",
       "      <th></th>\n",
       "      <th>order_id</th>\n",
       "      <th>user_id</th>\n",
       "      <th>eval_set</th>\n",
       "      <th>order_number</th>\n",
       "      <th>order_dow</th>\n",
       "      <th>order_hour_of_day</th>\n",
       "      <th>days_since_prior_order</th>\n",
       "    </tr>\n",
       "  </thead>\n",
       "  <tbody>\n",
       "    <tr>\n",
       "      <th>0</th>\n",
       "      <td>2539329</td>\n",
       "      <td>1</td>\n",
       "      <td>prior</td>\n",
       "      <td>1</td>\n",
       "      <td>2</td>\n",
       "      <td>8</td>\n",
       "      <td>NaN</td>\n",
       "    </tr>\n",
       "    <tr>\n",
       "      <th>1</th>\n",
       "      <td>2398795</td>\n",
       "      <td>1</td>\n",
       "      <td>prior</td>\n",
       "      <td>2</td>\n",
       "      <td>3</td>\n",
       "      <td>7</td>\n",
       "      <td>15.0</td>\n",
       "    </tr>\n",
       "    <tr>\n",
       "      <th>2</th>\n",
       "      <td>473747</td>\n",
       "      <td>1</td>\n",
       "      <td>prior</td>\n",
       "      <td>3</td>\n",
       "      <td>3</td>\n",
       "      <td>12</td>\n",
       "      <td>21.0</td>\n",
       "    </tr>\n",
       "    <tr>\n",
       "      <th>3</th>\n",
       "      <td>2254736</td>\n",
       "      <td>1</td>\n",
       "      <td>prior</td>\n",
       "      <td>4</td>\n",
       "      <td>4</td>\n",
       "      <td>7</td>\n",
       "      <td>29.0</td>\n",
       "    </tr>\n",
       "    <tr>\n",
       "      <th>4</th>\n",
       "      <td>431534</td>\n",
       "      <td>1</td>\n",
       "      <td>prior</td>\n",
       "      <td>5</td>\n",
       "      <td>4</td>\n",
       "      <td>15</td>\n",
       "      <td>28.0</td>\n",
       "    </tr>\n",
       "  </tbody>\n",
       "</table>\n",
       "</div>"
      ],
      "text/plain": [
       "   order_id  user_id eval_set  order_number  order_dow  order_hour_of_day  \\\n",
       "0   2539329        1    prior             1          2                  8   \n",
       "1   2398795        1    prior             2          3                  7   \n",
       "2    473747        1    prior             3          3                 12   \n",
       "3   2254736        1    prior             4          4                  7   \n",
       "4    431534        1    prior             5          4                 15   \n",
       "\n",
       "   days_since_prior_order  \n",
       "0                     NaN  \n",
       "1                    15.0  \n",
       "2                    21.0  \n",
       "3                    29.0  \n",
       "4                    28.0  "
      ]
     },
     "execution_count": 5,
     "metadata": {},
     "output_type": "execute_result"
    }
   ],
   "source": [
    "order.head()"
   ]
  },
  {
   "cell_type": "code",
   "execution_count": 6,
   "metadata": {
    "collapsed": true
   },
   "outputs": [],
   "source": [
    "liste_user = np.unique(order.ix[order[\"eval_set\"]==\"train\", \"user_id\"])"
   ]
  },
  {
   "cell_type": "code",
   "execution_count": 17,
   "metadata": {
    "collapsed": true
   },
   "outputs": [],
   "source": [
    "merge_order_product = pd.merge(order_products__prior[[\"order_id\", \"product_id\", \"reordered\"]], \n",
    "                               order[[\"order_id\", \"user_id\"]], on=\"order_id\")\n",
    "merge_order_product = merge_order_product[merge_order_product[\"reordered\"]==1]"
   ]
  },
  {
   "cell_type": "code",
   "execution_count": 22,
   "metadata": {
    "collapsed": true
   },
   "outputs": [],
   "source": [
    "order_products__train = pd.merge(order_products__train, order[[\"order_id\", \"user_id\"]],how=\"left\", on=\"order_id\")\n",
    "order_products__train[\"product_id\"] = order_products__train[\"product_id\"].astype(\"unicode\")\n",
    "order_products__train = order_products__train[order_products__train[\"reordered\"]==1]"
   ]
  },
  {
   "cell_type": "code",
   "execution_count": 18,
   "metadata": {
    "collapsed": false
   },
   "outputs": [
    {
     "data": {
      "text/plain": [
       "(19126536, 4)"
      ]
     },
     "execution_count": 18,
     "metadata": {},
     "output_type": "execute_result"
    }
   ],
   "source": [
    "merge_order_product.shape"
   ]
  },
  {
   "cell_type": "code",
   "execution_count": 19,
   "metadata": {
    "collapsed": false
   },
   "outputs": [
    {
     "data": {
      "text/plain": [
       "user_id  order_id\n",
       "1        431534                      [196, 12427, 10258, 25133, 13176]\n",
       "         473747                                    [196, 12427, 10258]\n",
       "         550135                      [196, 10258, 12427, 25133, 13032]\n",
       "         2254736                     [196, 12427, 10258, 25133, 26405]\n",
       "         2295261              [49235, 46149, 25133, 196, 10258, 12427]\n",
       "         2398795                                   [196, 12427, 26088]\n",
       "         2550362              [196, 46149, 25133, 10258, 13032, 12427]\n",
       "         3108588                            [12427, 196, 10258, 25133]\n",
       "         3367565                            [196, 12427, 10258, 25133]\n",
       "2        738281                                                [32792]\n",
       "         788338      [32792, 24852, 34688, 48110, 47209, 32052, 177...\n",
       "         839880      [24852, 16589, 1559, 19156, 18523, 33754, 2170...\n",
       "         1199898     [32792, 12000, 9681, 32139, 27344, 24852, 4506...\n",
       "         1402090     [32792, 19051, 19156, 18523, 1559, 22124, 3375...\n",
       "         1447487     [24852, 12000, 47209, 17872, 18523, 1559, 1915...\n",
       "         1501582                                               [47766]\n",
       "         1673511                                               [47766]\n",
       "         1718559     [32792, 24852, 12000, 21376, 2002, 7781, 33754...\n",
       "         1901567                                 [47766, 32792, 20574]\n",
       "         3186735     [32792, 47209, 22124, 19156, 1559, 13351, 1852...\n",
       "         3194192     [32792, 12000, 16589, 32052, 19051, 32139, 472...\n",
       "3        444309                                  [21903, 17668, 32402]\n",
       "         521107                    [39190, 47766, 21903, 43961, 17668]\n",
       "         676467                    [18599, 17668, 47766, 39190, 32402]\n",
       "         1402502            [39190, 18599, 23650, 21903, 47766, 24810]\n",
       "         1839752       [39190, 1819, 21903, 16797, 24010, 14992, 9387]\n",
       "         1972919       [22035, 39190, 9387, 47766, 1819, 24810, 44683]\n",
       "         2037211                                                [9387]\n",
       "         2710558      [39190, 9387, 17668, 47766, 16965, 28373, 21903]\n",
       "         3002854                                 [39190, 47766, 21903]\n",
       "                                           ...                        \n",
       "206208   2573371     [36550, 27845, 40706, 43961, 18531, 22935, 144...\n",
       "         2675140     [34213, 12674, 33000, 31404, 23644, 44359, 18770]\n",
       "         2789700     [25659, 1463, 34213, 33000, 31404, 1804, 23644...\n",
       "         2804556     [39475, 27966, 34213, 27845, 13176, 33000, 430...\n",
       "         2808240     [23579, 890, 27845, 43999, 34213, 14467, 18770...\n",
       "         2922221            [27845, 21846, 38419, 34126, 36550, 19816]\n",
       "         2936891     [43086, 27845, 24838, 40706, 36550, 23579, 342...\n",
       "         2995770     [34213, 27966, 27845, 46069, 13176, 14778, 407...\n",
       "         3027766            [24838, 11520, 23579, 18770, 34213, 14467]\n",
       "         3038194     [38419, 22935, 34213, 33000, 27966, 43086, 187...\n",
       "         3049681     [34213, 33000, 18770, 13176, 46069, 20995, 147...\n",
       "         3059777      [21137, 33000, 37208, 35688, 46069, 47626, 1463]\n",
       "         3097121     [34213, 33000, 27966, 23579, 13176, 43295, 187...\n",
       "         3128968     [34213, 13176, 43295, 14778, 27966, 33000, 394...\n",
       "         3292671     [34213, 27845, 18770, 33000, 31404, 13176, 317...\n",
       "         3356245     [34213, 11520, 27845, 23579, 18770, 33000, 279...\n",
       "         3392839                          [34213, 23579, 18770, 33000]\n",
       "         3412250     [34213, 27966, 11520, 1804, 4960, 42768, 14467...\n",
       "206209   550836                                    [6846, 9405, 40992]\n",
       "         626363      [6846, 24852, 9405, 19348, 41213, 15700, 38167...\n",
       "         688306                           [41213, 13176, 23594, 23892]\n",
       "         1542354     [6846, 41213, 9405, 40534, 40396, 13176, 25837...\n",
       "         1854736              [6846, 9405, 41213, 24852, 19348, 15700]\n",
       "         1889163              [41213, 9405, 20073, 25837, 13176, 6846]\n",
       "         2129269             [38167, 43961, 19348, 13176, 6846, 40992]\n",
       "         2266710                                   [9405, 6846, 41213]\n",
       "         2307371                                   [9405, 6846, 13176]\n",
       "         2558525                                  [38167, 23892, 6846]\n",
       "         2977660                           [24852, 9405, 16168, 14197]\n",
       "         3186442                                                [6187]\n",
       "Name: product_id, dtype: object"
      ]
     },
     "execution_count": 19,
     "metadata": {},
     "output_type": "execute_result"
    }
   ],
   "source": [
    "merge_order_product.groupby([\"user_id\",\"order_id\"])[\"product_id\"].apply(list)"
   ]
  },
  {
   "cell_type": "code",
   "execution_count": 24,
   "metadata": {
    "collapsed": false
   },
   "outputs": [
    {
     "data": {
      "text/html": [
       "<div>\n",
       "<table border=\"1\" class=\"dataframe\">\n",
       "  <thead>\n",
       "    <tr style=\"text-align: right;\">\n",
       "      <th></th>\n",
       "      <th>order_id</th>\n",
       "      <th>product_id</th>\n",
       "      <th>add_to_cart_order</th>\n",
       "      <th>reordered</th>\n",
       "      <th>user_id</th>\n",
       "    </tr>\n",
       "  </thead>\n",
       "  <tbody>\n",
       "    <tr>\n",
       "      <th>484420</th>\n",
       "      <td>1187899</td>\n",
       "      <td>196</td>\n",
       "      <td>1</td>\n",
       "      <td>1</td>\n",
       "      <td>1</td>\n",
       "    </tr>\n",
       "    <tr>\n",
       "      <th>484421</th>\n",
       "      <td>1187899</td>\n",
       "      <td>25133</td>\n",
       "      <td>2</td>\n",
       "      <td>1</td>\n",
       "      <td>1</td>\n",
       "    </tr>\n",
       "    <tr>\n",
       "      <th>484422</th>\n",
       "      <td>1187899</td>\n",
       "      <td>38928</td>\n",
       "      <td>3</td>\n",
       "      <td>1</td>\n",
       "      <td>1</td>\n",
       "    </tr>\n",
       "    <tr>\n",
       "      <th>484423</th>\n",
       "      <td>1187899</td>\n",
       "      <td>26405</td>\n",
       "      <td>4</td>\n",
       "      <td>1</td>\n",
       "      <td>1</td>\n",
       "    </tr>\n",
       "    <tr>\n",
       "      <th>484424</th>\n",
       "      <td>1187899</td>\n",
       "      <td>39657</td>\n",
       "      <td>5</td>\n",
       "      <td>1</td>\n",
       "      <td>1</td>\n",
       "    </tr>\n",
       "    <tr>\n",
       "      <th>484425</th>\n",
       "      <td>1187899</td>\n",
       "      <td>10258</td>\n",
       "      <td>6</td>\n",
       "      <td>1</td>\n",
       "      <td>1</td>\n",
       "    </tr>\n",
       "    <tr>\n",
       "      <th>484426</th>\n",
       "      <td>1187899</td>\n",
       "      <td>13032</td>\n",
       "      <td>7</td>\n",
       "      <td>1</td>\n",
       "      <td>1</td>\n",
       "    </tr>\n",
       "    <tr>\n",
       "      <th>484427</th>\n",
       "      <td>1187899</td>\n",
       "      <td>26088</td>\n",
       "      <td>8</td>\n",
       "      <td>1</td>\n",
       "      <td>1</td>\n",
       "    </tr>\n",
       "    <tr>\n",
       "      <th>484429</th>\n",
       "      <td>1187899</td>\n",
       "      <td>49235</td>\n",
       "      <td>10</td>\n",
       "      <td>1</td>\n",
       "      <td>1</td>\n",
       "    </tr>\n",
       "    <tr>\n",
       "      <th>484430</th>\n",
       "      <td>1187899</td>\n",
       "      <td>46149</td>\n",
       "      <td>11</td>\n",
       "      <td>1</td>\n",
       "      <td>1</td>\n",
       "    </tr>\n",
       "  </tbody>\n",
       "</table>\n",
       "</div>"
      ],
      "text/plain": [
       "        order_id product_id  add_to_cart_order  reordered  user_id\n",
       "484420   1187899        196                  1          1        1\n",
       "484421   1187899      25133                  2          1        1\n",
       "484422   1187899      38928                  3          1        1\n",
       "484423   1187899      26405                  4          1        1\n",
       "484424   1187899      39657                  5          1        1\n",
       "484425   1187899      10258                  6          1        1\n",
       "484426   1187899      13032                  7          1        1\n",
       "484427   1187899      26088                  8          1        1\n",
       "484429   1187899      49235                 10          1        1\n",
       "484430   1187899      46149                 11          1        1"
      ]
     },
     "execution_count": 24,
     "metadata": {},
     "output_type": "execute_result"
    }
   ],
   "source": [
    "order_products__train[order_products__train[\"user_id\"]==1]"
   ]
  },
  {
   "cell_type": "code",
   "execution_count": null,
   "metadata": {
    "collapsed": true
   },
   "outputs": [],
   "source": []
  }
 ],
 "metadata": {
  "anaconda-cloud": {},
  "kernelspec": {
   "display_name": "Python [default]",
   "language": "python",
   "name": "python3"
  },
  "language_info": {
   "codemirror_mode": {
    "name": "ipython",
    "version": 3
   },
   "file_extension": ".py",
   "mimetype": "text/x-python",
   "name": "python",
   "nbconvert_exporter": "python",
   "pygments_lexer": "ipython3",
   "version": "3.5.2"
  }
 },
 "nbformat": 4,
 "nbformat_minor": 1
}
