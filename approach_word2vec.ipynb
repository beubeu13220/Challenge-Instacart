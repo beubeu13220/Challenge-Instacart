{
 "cells": [
  {
   "cell_type": "code",
   "execution_count": 11,
   "metadata": {
    "collapsed": true
   },
   "outputs": [],
   "source": [
    "import os\n",
    "import pandas as pd \n",
    "import numpy as np\n",
    "from gensim.models import word2vec\n",
    "import matplotlib.pyplot as plt\n",
    "import seaborn as sns\n",
    "import logging\n",
    "%matplotlib inline"
   ]
  },
  {
   "cell_type": "code",
   "execution_count": null,
   "metadata": {
    "collapsed": true
   },
   "outputs": [],
   "source": [
    "os.chdir(\"/media/brehelin/0FECCBDE10E4BE99/Kaggle/Data\")"
   ]
  },
  {
   "cell_type": "code",
   "execution_count": 26,
   "metadata": {
    "collapsed": true
   },
   "outputs": [],
   "source": [
    "aisles = pd.read_csv(\"aisles.csv\")\n",
    "departements = pd.read_csv(\"departments.csv\")\n",
    "order_products__prior = pd.read_csv(\"order_products__prior.csv\")\n",
    "#order_products__train = pd.read_csv(\"order_products__train.csv\")\n",
    "#order = pd.read_csv(\"orders.csv\")\n",
    "products = pd.read_csv(\"products.csv\")\n",
    "#sample_submission = pd.read_csv(\"sample_submission.csv\")"
   ]
  },
  {
   "cell_type": "code",
   "execution_count": 6,
   "metadata": {
    "collapsed": false
   },
   "outputs": [
    {
     "data": {
      "text/html": [
       "<div>\n",
       "<table border=\"1\" class=\"dataframe\">\n",
       "  <thead>\n",
       "    <tr style=\"text-align: right;\">\n",
       "      <th></th>\n",
       "      <th>aisle_id</th>\n",
       "      <th>aisle</th>\n",
       "    </tr>\n",
       "  </thead>\n",
       "  <tbody>\n",
       "    <tr>\n",
       "      <th>0</th>\n",
       "      <td>1</td>\n",
       "      <td>prepared soups salads</td>\n",
       "    </tr>\n",
       "    <tr>\n",
       "      <th>1</th>\n",
       "      <td>2</td>\n",
       "      <td>specialty cheeses</td>\n",
       "    </tr>\n",
       "    <tr>\n",
       "      <th>2</th>\n",
       "      <td>3</td>\n",
       "      <td>energy granola bars</td>\n",
       "    </tr>\n",
       "    <tr>\n",
       "      <th>3</th>\n",
       "      <td>4</td>\n",
       "      <td>instant foods</td>\n",
       "    </tr>\n",
       "    <tr>\n",
       "      <th>4</th>\n",
       "      <td>5</td>\n",
       "      <td>marinades meat preparation</td>\n",
       "    </tr>\n",
       "  </tbody>\n",
       "</table>\n",
       "</div>"
      ],
      "text/plain": [
       "   aisle_id                       aisle\n",
       "0         1       prepared soups salads\n",
       "1         2           specialty cheeses\n",
       "2         3         energy granola bars\n",
       "3         4               instant foods\n",
       "4         5  marinades meat preparation"
      ]
     },
     "execution_count": 6,
     "metadata": {},
     "output_type": "execute_result"
    }
   ],
   "source": [
    "aisles.head()"
   ]
  },
  {
   "cell_type": "code",
   "execution_count": 9,
   "metadata": {
    "collapsed": false
   },
   "outputs": [
    {
     "data": {
      "text/html": [
       "<div>\n",
       "<table border=\"1\" class=\"dataframe\">\n",
       "  <thead>\n",
       "    <tr style=\"text-align: right;\">\n",
       "      <th></th>\n",
       "      <th>department_id</th>\n",
       "      <th>department</th>\n",
       "    </tr>\n",
       "  </thead>\n",
       "  <tbody>\n",
       "    <tr>\n",
       "      <th>0</th>\n",
       "      <td>1</td>\n",
       "      <td>frozen</td>\n",
       "    </tr>\n",
       "    <tr>\n",
       "      <th>1</th>\n",
       "      <td>2</td>\n",
       "      <td>other</td>\n",
       "    </tr>\n",
       "    <tr>\n",
       "      <th>2</th>\n",
       "      <td>3</td>\n",
       "      <td>bakery</td>\n",
       "    </tr>\n",
       "    <tr>\n",
       "      <th>3</th>\n",
       "      <td>4</td>\n",
       "      <td>produce</td>\n",
       "    </tr>\n",
       "    <tr>\n",
       "      <th>4</th>\n",
       "      <td>5</td>\n",
       "      <td>alcohol</td>\n",
       "    </tr>\n",
       "  </tbody>\n",
       "</table>\n",
       "</div>"
      ],
      "text/plain": [
       "   department_id department\n",
       "0              1     frozen\n",
       "1              2      other\n",
       "2              3     bakery\n",
       "3              4    produce\n",
       "4              5    alcohol"
      ]
     },
     "execution_count": 9,
     "metadata": {},
     "output_type": "execute_result"
    }
   ],
   "source": [
    "departements.head()"
   ]
  },
  {
   "cell_type": "code",
   "execution_count": 10,
   "metadata": {
    "collapsed": false
   },
   "outputs": [
    {
     "data": {
      "text/html": [
       "<div>\n",
       "<table border=\"1\" class=\"dataframe\">\n",
       "  <thead>\n",
       "    <tr style=\"text-align: right;\">\n",
       "      <th></th>\n",
       "      <th>product_id</th>\n",
       "      <th>product_name</th>\n",
       "      <th>aisle_id</th>\n",
       "      <th>department_id</th>\n",
       "    </tr>\n",
       "  </thead>\n",
       "  <tbody>\n",
       "    <tr>\n",
       "      <th>0</th>\n",
       "      <td>1</td>\n",
       "      <td>Chocolate Sandwich Cookies</td>\n",
       "      <td>61</td>\n",
       "      <td>19</td>\n",
       "    </tr>\n",
       "    <tr>\n",
       "      <th>1</th>\n",
       "      <td>2</td>\n",
       "      <td>All-Seasons Salt</td>\n",
       "      <td>104</td>\n",
       "      <td>13</td>\n",
       "    </tr>\n",
       "    <tr>\n",
       "      <th>2</th>\n",
       "      <td>3</td>\n",
       "      <td>Robust Golden Unsweetened Oolong Tea</td>\n",
       "      <td>94</td>\n",
       "      <td>7</td>\n",
       "    </tr>\n",
       "    <tr>\n",
       "      <th>3</th>\n",
       "      <td>4</td>\n",
       "      <td>Smart Ones Classic Favorites Mini Rigatoni Wit...</td>\n",
       "      <td>38</td>\n",
       "      <td>1</td>\n",
       "    </tr>\n",
       "    <tr>\n",
       "      <th>4</th>\n",
       "      <td>5</td>\n",
       "      <td>Green Chile Anytime Sauce</td>\n",
       "      <td>5</td>\n",
       "      <td>13</td>\n",
       "    </tr>\n",
       "  </tbody>\n",
       "</table>\n",
       "</div>"
      ],
      "text/plain": [
       "   product_id                                       product_name  aisle_id  \\\n",
       "0           1                         Chocolate Sandwich Cookies        61   \n",
       "1           2                                   All-Seasons Salt       104   \n",
       "2           3               Robust Golden Unsweetened Oolong Tea        94   \n",
       "3           4  Smart Ones Classic Favorites Mini Rigatoni Wit...        38   \n",
       "4           5                          Green Chile Anytime Sauce         5   \n",
       "\n",
       "   department_id  \n",
       "0             19  \n",
       "1             13  \n",
       "2              7  \n",
       "3              1  \n",
       "4             13  "
      ]
     },
     "execution_count": 10,
     "metadata": {},
     "output_type": "execute_result"
    }
   ],
   "source": [
    "products.head()"
   ]
  },
  {
   "cell_type": "code",
   "execution_count": 12,
   "metadata": {
    "collapsed": true
   },
   "outputs": [],
   "source": [
    "logging.basicConfig(format='%(asctime)s : %(levelname)s : %(message)s', level=logging.INFO)"
   ]
  },
  {
   "cell_type": "code",
   "execution_count": 14,
   "metadata": {
    "collapsed": false,
    "scrolled": true
   },
   "outputs": [
    {
     "name": "stderr",
     "output_type": "stream",
     "text": [
      "2017-05-22 20:49:08,245 : INFO : collecting all words and their counts\n",
      "2017-05-22 20:49:08,248 : INFO : PROGRESS: at sentence #0, processed 0 words, keeping 0 word types\n",
      "2017-05-22 20:49:16,119 : INFO : collected 253854 word types from a corpus of 17005207 raw words and 1701 sentences\n",
      "2017-05-22 20:49:16,120 : INFO : Loading a fresh vocabulary\n",
      "2017-05-22 20:49:16,494 : INFO : min_count=5 retains 71290 unique words (28% of original 253854, drops 182564)\n",
      "2017-05-22 20:49:16,496 : INFO : min_count=5 leaves 16718844 word corpus (98% of original 17005207, drops 286363)\n",
      "2017-05-22 20:49:16,711 : INFO : deleting the raw counts dictionary of 253854 items\n",
      "2017-05-22 20:49:16,732 : INFO : sample=0.001 downsamples 38 most-common words\n",
      "2017-05-22 20:49:16,734 : INFO : downsampling leaves estimated 12506280 word corpus (74.8% of prior 16718844)\n",
      "2017-05-22 20:49:16,735 : INFO : estimated required memory for 71290 words and 200 dimensions: 149709000 bytes\n",
      "2017-05-22 20:49:17,040 : INFO : resetting layer weights\n",
      "2017-05-22 20:49:18,218 : INFO : training model with 3 workers on 71290 vocabulary and 200 features, using sg=0 hs=0 sample=0.001 negative=5 window=5\n",
      "2017-05-22 20:49:19,246 : INFO : PROGRESS: at 0.67% examples, 409797 words/s, in_qsize 5, out_qsize 0\n",
      "2017-05-22 20:49:20,251 : INFO : PROGRESS: at 1.40% examples, 427190 words/s, in_qsize 4, out_qsize 1\n",
      "2017-05-22 20:49:21,266 : INFO : PROGRESS: at 2.08% examples, 424023 words/s, in_qsize 5, out_qsize 0\n",
      "2017-05-22 20:49:22,283 : INFO : PROGRESS: at 2.76% examples, 422661 words/s, in_qsize 5, out_qsize 0\n",
      "2017-05-22 20:49:23,292 : INFO : PROGRESS: at 3.41% examples, 417943 words/s, in_qsize 5, out_qsize 0\n",
      "2017-05-22 20:49:24,302 : INFO : PROGRESS: at 4.12% examples, 421038 words/s, in_qsize 5, out_qsize 0\n",
      "2017-05-22 20:49:25,313 : INFO : PROGRESS: at 4.87% examples, 427967 words/s, in_qsize 5, out_qsize 0\n",
      "2017-05-22 20:49:26,324 : INFO : PROGRESS: at 5.64% examples, 435050 words/s, in_qsize 5, out_qsize 0\n",
      "2017-05-22 20:49:27,337 : INFO : PROGRESS: at 6.44% examples, 442279 words/s, in_qsize 4, out_qsize 0\n",
      "2017-05-22 20:49:28,346 : INFO : PROGRESS: at 7.22% examples, 446756 words/s, in_qsize 5, out_qsize 0\n",
      "2017-05-22 20:49:29,355 : INFO : PROGRESS: at 7.98% examples, 449214 words/s, in_qsize 5, out_qsize 0\n",
      "2017-05-22 20:49:30,367 : INFO : PROGRESS: at 8.63% examples, 445287 words/s, in_qsize 5, out_qsize 1\n",
      "2017-05-22 20:49:31,368 : INFO : PROGRESS: at 9.25% examples, 441084 words/s, in_qsize 5, out_qsize 0\n",
      "2017-05-22 20:49:32,381 : INFO : PROGRESS: at 10.02% examples, 443481 words/s, in_qsize 5, out_qsize 0\n",
      "2017-05-22 20:49:33,389 : INFO : PROGRESS: at 10.71% examples, 442726 words/s, in_qsize 4, out_qsize 1\n",
      "2017-05-22 20:49:34,412 : INFO : PROGRESS: at 11.49% examples, 444825 words/s, in_qsize 5, out_qsize 0\n",
      "2017-05-22 20:49:35,424 : INFO : PROGRESS: at 12.25% examples, 446631 words/s, in_qsize 5, out_qsize 0\n",
      "2017-05-22 20:49:36,432 : INFO : PROGRESS: at 13.04% examples, 448961 words/s, in_qsize 5, out_qsize 0\n",
      "2017-05-22 20:49:37,458 : INFO : PROGRESS: at 13.85% examples, 451512 words/s, in_qsize 5, out_qsize 0\n",
      "2017-05-22 20:49:38,478 : INFO : PROGRESS: at 14.64% examples, 453236 words/s, in_qsize 5, out_qsize 0\n",
      "2017-05-22 20:49:39,486 : INFO : PROGRESS: at 15.45% examples, 454843 words/s, in_qsize 5, out_qsize 0\n",
      "2017-05-22 20:49:40,492 : INFO : PROGRESS: at 16.19% examples, 454981 words/s, in_qsize 4, out_qsize 1\n",
      "2017-05-22 20:49:41,520 : INFO : PROGRESS: at 16.91% examples, 454109 words/s, in_qsize 5, out_qsize 0\n",
      "2017-05-22 20:49:42,527 : INFO : PROGRESS: at 17.55% examples, 451892 words/s, in_qsize 5, out_qsize 0\n",
      "2017-05-22 20:49:43,528 : INFO : PROGRESS: at 18.34% examples, 453480 words/s, in_qsize 5, out_qsize 0\n",
      "2017-05-22 20:49:44,556 : INFO : PROGRESS: at 19.14% examples, 454686 words/s, in_qsize 5, out_qsize 0\n",
      "2017-05-22 20:49:45,570 : INFO : PROGRESS: at 19.93% examples, 455741 words/s, in_qsize 5, out_qsize 0\n",
      "2017-05-22 20:49:46,578 : INFO : PROGRESS: at 20.72% examples, 456870 words/s, in_qsize 6, out_qsize 0\n",
      "2017-05-22 20:49:47,599 : INFO : PROGRESS: at 21.46% examples, 456477 words/s, in_qsize 6, out_qsize 0\n",
      "2017-05-22 20:49:48,601 : INFO : PROGRESS: at 22.25% examples, 457476 words/s, in_qsize 5, out_qsize 0\n",
      "2017-05-22 20:49:49,611 : INFO : PROGRESS: at 23.00% examples, 457751 words/s, in_qsize 5, out_qsize 0\n",
      "2017-05-22 20:49:50,623 : INFO : PROGRESS: at 23.76% examples, 458217 words/s, in_qsize 5, out_qsize 0\n",
      "2017-05-22 20:49:51,636 : INFO : PROGRESS: at 24.55% examples, 459093 words/s, in_qsize 4, out_qsize 1\n",
      "2017-05-22 20:49:52,641 : INFO : PROGRESS: at 25.33% examples, 459936 words/s, in_qsize 5, out_qsize 0\n",
      "2017-05-22 20:49:53,658 : INFO : PROGRESS: at 26.11% examples, 460823 words/s, in_qsize 5, out_qsize 0\n",
      "2017-05-22 20:49:54,671 : INFO : PROGRESS: at 26.91% examples, 461914 words/s, in_qsize 5, out_qsize 0\n",
      "2017-05-22 20:49:55,680 : INFO : PROGRESS: at 27.71% examples, 462874 words/s, in_qsize 4, out_qsize 1\n",
      "2017-05-22 20:49:56,687 : INFO : PROGRESS: at 28.51% examples, 463822 words/s, in_qsize 5, out_qsize 0\n",
      "2017-05-22 20:49:57,710 : INFO : PROGRESS: at 29.31% examples, 464522 words/s, in_qsize 5, out_qsize 0\n",
      "2017-05-22 20:49:58,738 : INFO : PROGRESS: at 30.10% examples, 464960 words/s, in_qsize 5, out_qsize 0\n",
      "2017-05-22 20:49:59,740 : INFO : PROGRESS: at 30.88% examples, 465496 words/s, in_qsize 6, out_qsize 0\n",
      "2017-05-22 20:50:00,765 : INFO : PROGRESS: at 31.65% examples, 465697 words/s, in_qsize 4, out_qsize 1\n",
      "2017-05-22 20:50:01,783 : INFO : PROGRESS: at 32.42% examples, 465820 words/s, in_qsize 5, out_qsize 0\n",
      "2017-05-22 20:50:02,795 : INFO : PROGRESS: at 33.19% examples, 466136 words/s, in_qsize 5, out_qsize 0\n",
      "2017-05-22 20:50:03,802 : INFO : PROGRESS: at 33.91% examples, 465725 words/s, in_qsize 5, out_qsize 0\n",
      "2017-05-22 20:50:04,835 : INFO : PROGRESS: at 34.71% examples, 466218 words/s, in_qsize 5, out_qsize 0\n",
      "2017-05-22 20:50:05,855 : INFO : PROGRESS: at 35.53% examples, 466685 words/s, in_qsize 6, out_qsize 0\n",
      "2017-05-22 20:50:06,870 : INFO : PROGRESS: at 36.34% examples, 467324 words/s, in_qsize 4, out_qsize 0\n",
      "2017-05-22 20:50:07,871 : INFO : PROGRESS: at 37.14% examples, 467978 words/s, in_qsize 5, out_qsize 0\n",
      "2017-05-22 20:50:08,892 : INFO : PROGRESS: at 37.94% examples, 468444 words/s, in_qsize 5, out_qsize 0\n",
      "2017-05-22 20:50:09,901 : INFO : PROGRESS: at 38.75% examples, 468982 words/s, in_qsize 5, out_qsize 0\n",
      "2017-05-22 20:50:10,920 : INFO : PROGRESS: at 39.56% examples, 469491 words/s, in_qsize 4, out_qsize 0\n",
      "2017-05-22 20:50:11,937 : INFO : PROGRESS: at 40.36% examples, 469910 words/s, in_qsize 5, out_qsize 0\n",
      "2017-05-22 20:50:12,954 : INFO : PROGRESS: at 41.18% examples, 470365 words/s, in_qsize 5, out_qsize 0\n",
      "2017-05-22 20:50:13,967 : INFO : PROGRESS: at 41.95% examples, 470417 words/s, in_qsize 4, out_qsize 1\n",
      "2017-05-22 20:50:14,975 : INFO : PROGRESS: at 42.73% examples, 470596 words/s, in_qsize 4, out_qsize 1\n",
      "2017-05-22 20:50:15,995 : INFO : PROGRESS: at 43.54% examples, 471055 words/s, in_qsize 5, out_qsize 0\n",
      "2017-05-22 20:50:16,998 : INFO : PROGRESS: at 44.34% examples, 471519 words/s, in_qsize 4, out_qsize 1\n",
      "2017-05-22 20:50:18,007 : INFO : PROGRESS: at 45.14% examples, 472003 words/s, in_qsize 4, out_qsize 1\n",
      "2017-05-22 20:50:19,009 : INFO : PROGRESS: at 45.93% examples, 472439 words/s, in_qsize 5, out_qsize 1\n",
      "2017-05-22 20:50:20,010 : INFO : PROGRESS: at 46.71% examples, 472843 words/s, in_qsize 5, out_qsize 0\n",
      "2017-05-22 20:50:21,026 : INFO : PROGRESS: at 47.44% examples, 472519 words/s, in_qsize 5, out_qsize 0\n",
      "2017-05-22 20:50:22,029 : INFO : PROGRESS: at 48.20% examples, 472463 words/s, in_qsize 5, out_qsize 0\n",
      "2017-05-22 20:50:23,045 : INFO : PROGRESS: at 48.99% examples, 472823 words/s, in_qsize 5, out_qsize 0\n",
      "2017-05-22 20:50:24,050 : INFO : PROGRESS: at 49.78% examples, 473123 words/s, in_qsize 4, out_qsize 1\n",
      "2017-05-22 20:50:25,057 : INFO : PROGRESS: at 50.59% examples, 473636 words/s, in_qsize 5, out_qsize 0\n",
      "2017-05-22 20:50:26,083 : INFO : PROGRESS: at 51.39% examples, 473857 words/s, in_qsize 5, out_qsize 0\n",
      "2017-05-22 20:50:27,085 : INFO : PROGRESS: at 52.19% examples, 474263 words/s, in_qsize 5, out_qsize 0\n",
      "2017-05-22 20:50:28,112 : INFO : PROGRESS: at 53.00% examples, 474533 words/s, in_qsize 5, out_qsize 0\n",
      "2017-05-22 20:50:29,120 : INFO : PROGRESS: at 53.76% examples, 474467 words/s, in_qsize 4, out_qsize 0\n",
      "2017-05-22 20:50:30,123 : INFO : PROGRESS: at 54.52% examples, 474515 words/s, in_qsize 5, out_qsize 0\n",
      "2017-05-22 20:50:31,131 : INFO : PROGRESS: at 55.29% examples, 474361 words/s, in_qsize 5, out_qsize 1\n",
      "2017-05-22 20:50:32,141 : INFO : PROGRESS: at 56.03% examples, 474061 words/s, in_qsize 5, out_qsize 0\n",
      "2017-05-22 20:50:33,147 : INFO : PROGRESS: at 56.75% examples, 473776 words/s, in_qsize 5, out_qsize 0\n",
      "2017-05-22 20:50:34,151 : INFO : PROGRESS: at 57.48% examples, 473495 words/s, in_qsize 5, out_qsize 0\n",
      "2017-05-22 20:50:35,153 : INFO : PROGRESS: at 58.26% examples, 473641 words/s, in_qsize 5, out_qsize 0\n",
      "2017-05-22 20:50:36,165 : INFO : PROGRESS: at 59.05% examples, 473780 words/s, in_qsize 5, out_qsize 0\n",
      "2017-05-22 20:50:37,170 : INFO : PROGRESS: at 59.84% examples, 473945 words/s, in_qsize 5, out_qsize 0\n",
      "2017-05-22 20:50:38,190 : INFO : PROGRESS: at 60.63% examples, 474168 words/s, in_qsize 4, out_qsize 1\n",
      "2017-05-22 20:50:39,198 : INFO : PROGRESS: at 61.45% examples, 474414 words/s, in_qsize 5, out_qsize 0\n",
      "2017-05-22 20:50:40,209 : INFO : PROGRESS: at 62.22% examples, 474424 words/s, in_qsize 4, out_qsize 1\n",
      "2017-05-22 20:50:41,218 : INFO : PROGRESS: at 62.99% examples, 474422 words/s, in_qsize 5, out_qsize 0\n",
      "2017-05-22 20:50:42,228 : INFO : PROGRESS: at 63.73% examples, 474238 words/s, in_qsize 6, out_qsize 0\n",
      "2017-05-22 20:50:43,263 : INFO : PROGRESS: at 64.49% examples, 474080 words/s, in_qsize 5, out_qsize 0\n",
      "2017-05-22 20:50:44,275 : INFO : PROGRESS: at 65.26% examples, 474129 words/s, in_qsize 5, out_qsize 0\n",
      "2017-05-22 20:50:45,288 : INFO : PROGRESS: at 65.98% examples, 473923 words/s, in_qsize 5, out_qsize 0\n",
      "2017-05-22 20:50:46,315 : INFO : PROGRESS: at 66.70% examples, 473554 words/s, in_qsize 5, out_qsize 0\n",
      "2017-05-22 20:50:47,316 : INFO : PROGRESS: at 67.48% examples, 473726 words/s, in_qsize 5, out_qsize 0\n",
      "2017-05-22 20:50:48,334 : INFO : PROGRESS: at 68.29% examples, 474010 words/s, in_qsize 5, out_qsize 0\n",
      "2017-05-22 20:50:49,339 : INFO : PROGRESS: at 69.07% examples, 474132 words/s, in_qsize 4, out_qsize 1\n",
      "2017-05-22 20:50:50,363 : INFO : PROGRESS: at 69.88% examples, 474400 words/s, in_qsize 4, out_qsize 1\n",
      "2017-05-22 20:50:51,365 : INFO : PROGRESS: at 70.64% examples, 474448 words/s, in_qsize 6, out_qsize 0\n",
      "2017-05-22 20:50:52,381 : INFO : PROGRESS: at 71.42% examples, 474512 words/s, in_qsize 5, out_qsize 0\n",
      "2017-05-22 20:50:53,396 : INFO : PROGRESS: at 72.15% examples, 474267 words/s, in_qsize 5, out_qsize 0\n",
      "2017-05-22 20:50:54,434 : INFO : PROGRESS: at 72.87% examples, 473894 words/s, in_qsize 5, out_qsize 0\n",
      "2017-05-22 20:50:55,445 : INFO : PROGRESS: at 73.58% examples, 473505 words/s, in_qsize 5, out_qsize 0\n",
      "2017-05-22 20:50:56,472 : INFO : PROGRESS: at 74.37% examples, 473592 words/s, in_qsize 6, out_qsize 1\n",
      "2017-05-22 20:50:57,492 : INFO : PROGRESS: at 75.14% examples, 473539 words/s, in_qsize 3, out_qsize 2\n",
      "2017-05-22 20:50:58,518 : INFO : PROGRESS: at 75.94% examples, 473598 words/s, in_qsize 5, out_qsize 0\n",
      "2017-05-22 20:50:59,526 : INFO : PROGRESS: at 76.73% examples, 473740 words/s, in_qsize 5, out_qsize 0\n",
      "2017-05-22 20:51:00,552 : INFO : PROGRESS: at 77.54% examples, 473931 words/s, in_qsize 5, out_qsize 1\n",
      "2017-05-22 20:51:01,555 : INFO : PROGRESS: at 78.33% examples, 474100 words/s, in_qsize 5, out_qsize 0\n",
      "2017-05-22 20:51:02,572 : INFO : PROGRESS: at 79.12% examples, 474182 words/s, in_qsize 5, out_qsize 0\n",
      "2017-05-22 20:51:03,580 : INFO : PROGRESS: at 79.88% examples, 474144 words/s, in_qsize 5, out_qsize 0\n",
      "2017-05-22 20:51:04,587 : INFO : PROGRESS: at 80.63% examples, 474084 words/s, in_qsize 5, out_qsize 0\n",
      "2017-05-22 20:51:05,606 : INFO : PROGRESS: at 81.36% examples, 473737 words/s, in_qsize 6, out_qsize 1\n",
      "2017-05-22 20:51:06,608 : INFO : PROGRESS: at 82.12% examples, 473673 words/s, in_qsize 5, out_qsize 0\n",
      "2017-05-22 20:51:07,616 : INFO : PROGRESS: at 82.92% examples, 473862 words/s, in_qsize 5, out_qsize 0\n",
      "2017-05-22 20:51:08,617 : INFO : PROGRESS: at 83.67% examples, 473839 words/s, in_qsize 6, out_qsize 0\n",
      "2017-05-22 20:51:09,623 : INFO : PROGRESS: at 84.46% examples, 473981 words/s, in_qsize 5, out_qsize 0\n",
      "2017-05-22 20:51:10,628 : INFO : PROGRESS: at 85.24% examples, 474176 words/s, in_qsize 6, out_qsize 0\n",
      "2017-05-22 20:51:11,635 : INFO : PROGRESS: at 86.04% examples, 474435 words/s, in_qsize 4, out_qsize 1\n",
      "2017-05-22 20:51:12,639 : INFO : PROGRESS: at 86.84% examples, 474700 words/s, in_qsize 5, out_qsize 0\n",
      "2017-05-22 20:51:13,650 : INFO : PROGRESS: at 87.64% examples, 474897 words/s, in_qsize 4, out_qsize 1\n",
      "2017-05-22 20:51:14,670 : INFO : PROGRESS: at 88.45% examples, 475104 words/s, in_qsize 5, out_qsize 1\n",
      "2017-05-22 20:51:15,677 : INFO : PROGRESS: at 89.25% examples, 475308 words/s, in_qsize 5, out_qsize 0\n",
      "2017-05-22 20:51:16,682 : INFO : PROGRESS: at 90.05% examples, 475521 words/s, in_qsize 4, out_qsize 1\n",
      "2017-05-22 20:51:17,691 : INFO : PROGRESS: at 90.85% examples, 475716 words/s, in_qsize 5, out_qsize 0\n",
      "2017-05-22 20:51:18,702 : INFO : PROGRESS: at 91.65% examples, 475883 words/s, in_qsize 5, out_qsize 0\n",
      "2017-05-22 20:51:19,716 : INFO : PROGRESS: at 92.44% examples, 475977 words/s, in_qsize 4, out_qsize 1\n",
      "2017-05-22 20:51:20,746 : INFO : PROGRESS: at 93.25% examples, 476125 words/s, in_qsize 4, out_qsize 1\n",
      "2017-05-22 20:51:21,757 : INFO : PROGRESS: at 94.04% examples, 476228 words/s, in_qsize 6, out_qsize 1\n",
      "2017-05-22 20:51:22,780 : INFO : PROGRESS: at 94.87% examples, 476540 words/s, in_qsize 5, out_qsize 0\n",
      "2017-05-22 20:51:23,795 : INFO : PROGRESS: at 95.67% examples, 476527 words/s, in_qsize 5, out_qsize 0\n",
      "2017-05-22 20:51:24,817 : INFO : PROGRESS: at 96.45% examples, 476496 words/s, in_qsize 5, out_qsize 0\n",
      "2017-05-22 20:51:25,820 : INFO : PROGRESS: at 97.15% examples, 476211 words/s, in_qsize 6, out_qsize 0\n",
      "2017-05-22 20:51:26,830 : INFO : PROGRESS: at 97.87% examples, 475966 words/s, in_qsize 5, out_qsize 0\n",
      "2017-05-22 20:51:27,830 : INFO : PROGRESS: at 98.65% examples, 476014 words/s, in_qsize 5, out_qsize 0\n",
      "2017-05-22 20:51:28,833 : INFO : PROGRESS: at 99.42% examples, 476050 words/s, in_qsize 5, out_qsize 0\n",
      "2017-05-22 20:51:29,506 : INFO : worker thread finished; awaiting finish of 2 more threads\n",
      "2017-05-22 20:51:29,516 : INFO : worker thread finished; awaiting finish of 1 more threads\n",
      "2017-05-22 20:51:29,518 : INFO : worker thread finished; awaiting finish of 0 more threads\n",
      "2017-05-22 20:51:29,519 : INFO : training on 85026035 raw words (62535343 effective words) took 131.3s, 476285 effective words/s\n"
     ]
    }
   ],
   "source": [
    "sentences = word2vec.Text8Corpus('text8')\n",
    "model = word2vec.Word2Vec(sentences, size=200)"
   ]
  },
  {
   "cell_type": "code",
   "execution_count": 20,
   "metadata": {
    "collapsed": false
   },
   "outputs": [
    {
     "data": {
      "text/plain": [
       "[('challenge', 0.4059874415397644),\n",
       " ('resolve', 0.38260188698768616),\n",
       " ('convened', 0.3719813823699951),\n",
       " ('leadership', 0.3647509813308716),\n",
       " ('reaffirmed', 0.36376965045928955),\n",
       " ('lifton', 0.35925307869911194),\n",
       " ('renewed', 0.35855692625045776),\n",
       " ('mandate', 0.35820356011390686),\n",
       " ('palestine', 0.35683608055114746),\n",
       " ('reconciliation', 0.35452914237976074)]"
      ]
     },
     "execution_count": 20,
     "metadata": {},
     "output_type": "execute_result"
    }
   ],
   "source": [
    "model.most_similar(negative=[\"chocolate\"])"
   ]
  },
  {
   "cell_type": "code",
   "execution_count": 23,
   "metadata": {
    "collapsed": false
   },
   "outputs": [
    {
     "data": {
      "text/plain": [
       "(200,)"
      ]
     },
     "execution_count": 23,
     "metadata": {},
     "output_type": "execute_result"
    }
   ],
   "source": [
    "model.wv[\"chocolate\"].shape"
   ]
  },
  {
   "cell_type": "code",
   "execution_count": 24,
   "metadata": {
    "collapsed": false
   },
   "outputs": [
    {
     "data": {
      "text/plain": [
       "0.65140228984685122"
      ]
     },
     "execution_count": 24,
     "metadata": {},
     "output_type": "execute_result"
    }
   ],
   "source": [
    "model.similarity(\"chocolate\", \"salt\")"
   ]
  },
  {
   "cell_type": "code",
   "execution_count": 25,
   "metadata": {
    "collapsed": true
   },
   "outputs": [],
   "source": [
    "# Créer un corpus à partir de order_prior"
   ]
  },
  {
   "cell_type": "markdown",
   "metadata": {},
   "source": [
    "** From Word Embeddings to Item Recommendation ** (Makbule Gulcin Ozso)  \n",
    "*Extrait 1*  \n",
    "In  other  words,  the  sentences  used  in  Word2Vec  can\n",
    "be  mapped  into  past  preferences  of  users  in  recommenda-\n",
    "tion  process  and  the  words  in  Word2Vec  to  individual  items\n",
    "used  in  recommendation  process.  Second,  the  purpose  of  the\n",
    "Word2Vec  techniques  and  the  recommendation  process  are\n",
    "similar.  Word2Vec  model  aims  to  predict  the  words  based\n",
    "on  the  observed  words,  which  can  be  mapped  to  predicting\n",
    "the items to be recommended based on already preferred/used\n",
    "items.  \n",
    "*Extrait 2*  \n",
    "In  this  work,  inspiring  from  [10],  the  item  lists  are  used\n",
    "together with the users as the input to Word2Vec techniques,\n",
    "i.e. not only list of items, but list of user and the items preferred\n",
    "by this user is given as input to the Word2Vec techniques."
   ]
  },
  {
   "cell_type": "code",
   "execution_count": 28,
   "metadata": {
    "collapsed": false
   },
   "outputs": [
    {
     "data": {
      "text/html": [
       "<div>\n",
       "<table border=\"1\" class=\"dataframe\">\n",
       "  <thead>\n",
       "    <tr style=\"text-align: right;\">\n",
       "      <th></th>\n",
       "      <th>order_id</th>\n",
       "      <th>product_id</th>\n",
       "      <th>add_to_cart_order</th>\n",
       "      <th>reordered</th>\n",
       "    </tr>\n",
       "  </thead>\n",
       "  <tbody>\n",
       "    <tr>\n",
       "      <th>0</th>\n",
       "      <td>2</td>\n",
       "      <td>33120</td>\n",
       "      <td>1</td>\n",
       "      <td>1</td>\n",
       "    </tr>\n",
       "    <tr>\n",
       "      <th>1</th>\n",
       "      <td>2</td>\n",
       "      <td>28985</td>\n",
       "      <td>2</td>\n",
       "      <td>1</td>\n",
       "    </tr>\n",
       "    <tr>\n",
       "      <th>2</th>\n",
       "      <td>2</td>\n",
       "      <td>9327</td>\n",
       "      <td>3</td>\n",
       "      <td>0</td>\n",
       "    </tr>\n",
       "    <tr>\n",
       "      <th>3</th>\n",
       "      <td>2</td>\n",
       "      <td>45918</td>\n",
       "      <td>4</td>\n",
       "      <td>1</td>\n",
       "    </tr>\n",
       "    <tr>\n",
       "      <th>4</th>\n",
       "      <td>2</td>\n",
       "      <td>30035</td>\n",
       "      <td>5</td>\n",
       "      <td>0</td>\n",
       "    </tr>\n",
       "    <tr>\n",
       "      <th>5</th>\n",
       "      <td>2</td>\n",
       "      <td>17794</td>\n",
       "      <td>6</td>\n",
       "      <td>1</td>\n",
       "    </tr>\n",
       "    <tr>\n",
       "      <th>6</th>\n",
       "      <td>2</td>\n",
       "      <td>40141</td>\n",
       "      <td>7</td>\n",
       "      <td>1</td>\n",
       "    </tr>\n",
       "    <tr>\n",
       "      <th>7</th>\n",
       "      <td>2</td>\n",
       "      <td>1819</td>\n",
       "      <td>8</td>\n",
       "      <td>1</td>\n",
       "    </tr>\n",
       "    <tr>\n",
       "      <th>8</th>\n",
       "      <td>2</td>\n",
       "      <td>43668</td>\n",
       "      <td>9</td>\n",
       "      <td>0</td>\n",
       "    </tr>\n",
       "    <tr>\n",
       "      <th>9</th>\n",
       "      <td>3</td>\n",
       "      <td>33754</td>\n",
       "      <td>1</td>\n",
       "      <td>1</td>\n",
       "    </tr>\n",
       "    <tr>\n",
       "      <th>10</th>\n",
       "      <td>3</td>\n",
       "      <td>24838</td>\n",
       "      <td>2</td>\n",
       "      <td>1</td>\n",
       "    </tr>\n",
       "    <tr>\n",
       "      <th>11</th>\n",
       "      <td>3</td>\n",
       "      <td>17704</td>\n",
       "      <td>3</td>\n",
       "      <td>1</td>\n",
       "    </tr>\n",
       "    <tr>\n",
       "      <th>12</th>\n",
       "      <td>3</td>\n",
       "      <td>21903</td>\n",
       "      <td>4</td>\n",
       "      <td>1</td>\n",
       "    </tr>\n",
       "    <tr>\n",
       "      <th>13</th>\n",
       "      <td>3</td>\n",
       "      <td>17668</td>\n",
       "      <td>5</td>\n",
       "      <td>1</td>\n",
       "    </tr>\n",
       "    <tr>\n",
       "      <th>14</th>\n",
       "      <td>3</td>\n",
       "      <td>46667</td>\n",
       "      <td>6</td>\n",
       "      <td>1</td>\n",
       "    </tr>\n",
       "    <tr>\n",
       "      <th>15</th>\n",
       "      <td>3</td>\n",
       "      <td>17461</td>\n",
       "      <td>7</td>\n",
       "      <td>1</td>\n",
       "    </tr>\n",
       "    <tr>\n",
       "      <th>16</th>\n",
       "      <td>3</td>\n",
       "      <td>32665</td>\n",
       "      <td>8</td>\n",
       "      <td>1</td>\n",
       "    </tr>\n",
       "    <tr>\n",
       "      <th>17</th>\n",
       "      <td>4</td>\n",
       "      <td>46842</td>\n",
       "      <td>1</td>\n",
       "      <td>0</td>\n",
       "    </tr>\n",
       "    <tr>\n",
       "      <th>18</th>\n",
       "      <td>4</td>\n",
       "      <td>26434</td>\n",
       "      <td>2</td>\n",
       "      <td>1</td>\n",
       "    </tr>\n",
       "    <tr>\n",
       "      <th>19</th>\n",
       "      <td>4</td>\n",
       "      <td>39758</td>\n",
       "      <td>3</td>\n",
       "      <td>1</td>\n",
       "    </tr>\n",
       "  </tbody>\n",
       "</table>\n",
       "</div>"
      ],
      "text/plain": [
       "    order_id  product_id  add_to_cart_order  reordered\n",
       "0          2       33120                  1          1\n",
       "1          2       28985                  2          1\n",
       "2          2        9327                  3          0\n",
       "3          2       45918                  4          1\n",
       "4          2       30035                  5          0\n",
       "5          2       17794                  6          1\n",
       "6          2       40141                  7          1\n",
       "7          2        1819                  8          1\n",
       "8          2       43668                  9          0\n",
       "9          3       33754                  1          1\n",
       "10         3       24838                  2          1\n",
       "11         3       17704                  3          1\n",
       "12         3       21903                  4          1\n",
       "13         3       17668                  5          1\n",
       "14         3       46667                  6          1\n",
       "15         3       17461                  7          1\n",
       "16         3       32665                  8          1\n",
       "17         4       46842                  1          0\n",
       "18         4       26434                  2          1\n",
       "19         4       39758                  3          1"
      ]
     },
     "execution_count": 28,
     "metadata": {},
     "output_type": "execute_result"
    }
   ],
   "source": [
    "order_products__prior.head(20)"
   ]
  },
  {
   "cell_type": "code",
   "execution_count": 58,
   "metadata": {
    "collapsed": false
   },
   "outputs": [
    {
     "data": {
      "text/plain": [
       "2"
      ]
     },
     "execution_count": 58,
     "metadata": {},
     "output_type": "execute_result"
    }
   ],
   "source": [
    "sentences = [['first', 'sentence'], ['second', 'sentence']]\n",
    "len(sentences)"
   ]
  },
  {
   "cell_type": "code",
   "execution_count": 53,
   "metadata": {
    "collapsed": false
   },
   "outputs": [],
   "source": [
    "# try to create my sentence, like as said in the article we try to create sentence with user_id and product_id\n",
    "class MySentences(object):\n",
    "    def __init__(self, name):\n",
    "        self.name = name\n",
    "        \n",
    "    def run(self):\n",
    "        sentence = []\n",
    "        for i in range(self.name.shape[0]):\n",
    "            sentence.append(self.name.ix[i, [\"order_id\", \"product_id\"]].tolist())\n",
    "        return sentence"
   ]
  },
  {
   "cell_type": "code",
   "execution_count": 61,
   "metadata": {
    "collapsed": false
   },
   "outputs": [
    {
     "name": "stdout",
     "output_type": "stream",
     "text": [
      "[(1, 3), (2, 4), (3, 5)]\n"
     ]
    }
   ],
   "source": [
    "listA = [1,2,3]\n",
    "listB = [3,4,5] \n",
    "listC = list(zip(listA.str, listB))\n",
    "print(list(listC))"
   ]
  },
  {
   "cell_type": "code",
   "execution_count": 66,
   "metadata": {
    "collapsed": false
   },
   "outputs": [
    {
     "data": {
      "text/plain": [
       "['2', '2', '2', '2']"
      ]
     },
     "execution_count": 66,
     "metadata": {},
     "output_type": "execute_result"
    }
   ],
   "source": [
    "order_products__prior.ix[1:4, \"order_id\"].astype(str).tolist()"
   ]
  },
  {
   "cell_type": "code",
   "execution_count": null,
   "metadata": {
    "collapsed": true
   },
   "outputs": [],
   "source": [
    "liste_order = order_products__prior[\"order_id\"].tolist()\n",
    "liste_product = order_products__prior[\"product_id\"].tolist()\n",
    "corpus = list(zip(liste_order, liste_product))"
   ]
  }
 ],
 "metadata": {
  "kernelspec": {
   "display_name": "Python [Root]",
   "language": "python",
   "name": "Python [Root]"
  },
  "language_info": {
   "codemirror_mode": {
    "name": "ipython",
    "version": 3
   },
   "file_extension": ".py",
   "mimetype": "text/x-python",
   "name": "python",
   "nbconvert_exporter": "python",
   "pygments_lexer": "ipython3",
   "version": "3.5.2"
  }
 },
 "nbformat": 4,
 "nbformat_minor": 2
}
